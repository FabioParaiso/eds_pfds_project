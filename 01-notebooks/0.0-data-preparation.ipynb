{
 "cells": [
  {
   "cell_type": "markdown",
   "id": "coastal-columbus",
   "metadata": {},
   "source": [
    "## 0. Overview\n",
    "\n",
    "In this notebook, we focus on evaluating the following files_\n",
    "1. Accidents from the \"Autoridade Nacional de Segurança Rodóviaria\" (ANSR);\n",
    "     * Accident sheet;\n",
    "     * Vehicle and driver sheet;\n",
    "     * Passengers sheet;\n",
    "     * Pedestrian sheets;\n",
    "2. Accidents from the \"Regime de Sapadores Bombeiros\" (RSB);\n",
    "3. Precipitation in Portugal from IPMA;"
   ]
  },
  {
   "cell_type": "markdown",
   "id": "formed-bicycle",
   "metadata": {},
   "source": [
    "## 1. Import the required modules\n",
    "\n",
    "First we need to import the necessary modules."
   ]
  },
  {
   "cell_type": "code",
   "execution_count": 1,
   "id": "useful-warning",
   "metadata": {},
   "outputs": [],
   "source": [
    "import pandas as pd\n",
    "import numpy as np\n",
    "import json\n",
    "from haversine import haversine_vector, Unit\n",
    "import ast\n",
    "import seaborn as sns\n",
    "import matplotlib.pyplot as plt"
   ]
  },
  {
   "cell_type": "markdown",
   "id": "found-louisiana",
   "metadata": {},
   "source": [
    "## 2. Load accident data"
   ]
  },
  {
   "cell_type": "markdown",
   "id": "architectural-costume",
   "metadata": {},
   "source": [
    "**`First file`**\n",
    "\n",
    "1. This file has multiple sheets, so we will import each of the sheets to a different data frame."
   ]
  },
  {
   "cell_type": "code",
   "execution_count": 2,
   "id": "committed-satisfaction",
   "metadata": {},
   "outputs": [],
   "source": [
    "ansr_file_path = '../00-data/raw/Acidentes_ANSR_2019_desafio_lxdatalab_2020_21.xlsx'\n",
    "\n",
    "ansr_accidents = pd.read_excel(ansr_file_path, sheet_name='acidentes')\n",
    "ansr_vehicle_driver = pd.read_excel(ansr_file_path, sheet_name='veíc-cond')\n",
    "ansr_passengers = pd.read_excel(ansr_file_path, sheet_name='passageiros')\n",
    "ansr_pedestrians = pd.read_excel(ansr_file_path, sheet_name='peões')"
   ]
  },
  {
   "cell_type": "markdown",
   "id": "polished-skating",
   "metadata": {},
   "source": [
    "**`Second file`**\n",
    "1. The second file has a single sheet with information."
   ]
  },
  {
   "cell_type": "code",
   "execution_count": 3,
   "id": "employed-spice",
   "metadata": {},
   "outputs": [],
   "source": [
    "rsb_file_path = '../00-data/raw/RSB_AcidentesRodoviarios2019.csv'\n",
    "\n",
    "rsb_accidents = pd.read_csv(rsb_file_path, sep=';', encoding='cp1252')"
   ]
  },
  {
   "cell_type": "markdown",
   "id": "major-daughter",
   "metadata": {},
   "source": [
    "## 3. Data exploration\n",
    "\n",
    "In this chapter we explore the different data sets, to evaluate data quality and possible errors. This exploration will serve as a base for the cleaning phase in the next chapter."
   ]
  },
  {
   "cell_type": "markdown",
   "id": "cleared-fiber",
   "metadata": {},
   "source": [
    "### 3.1. ANSR accidents\n",
    "\n",
    "We first evaluate the ANSR accidents sheet."
   ]
  },
  {
   "cell_type": "markdown",
   "id": "otherwise-amount",
   "metadata": {},
   "source": [
    "**`Data shape`**"
   ]
  },
  {
   "cell_type": "code",
   "execution_count": 4,
   "id": "tribal-north",
   "metadata": {},
   "outputs": [
    {
     "data": {
      "text/plain": [
       "(2768, 37)"
      ]
     },
     "execution_count": 4,
     "metadata": {},
     "output_type": "execute_result"
    }
   ],
   "source": [
    "ansr_accidents.shape"
   ]
  },
  {
   "cell_type": "markdown",
   "id": "amber-upper",
   "metadata": {},
   "source": [
    "We have information of almost 3000 accidents."
   ]
  },
  {
   "cell_type": "markdown",
   "id": "arctic-objective",
   "metadata": {},
   "source": [
    "**`Data overview`**"
   ]
  },
  {
   "cell_type": "code",
   "execution_count": 5,
   "id": "several-angola",
   "metadata": {
    "tags": []
   },
   "outputs": [
    {
     "data": {
      "text/html": [
       "<div>\n",
       "<style scoped>\n",
       "    .dataframe tbody tr th:only-of-type {\n",
       "        vertical-align: middle;\n",
       "    }\n",
       "\n",
       "    .dataframe tbody tr th {\n",
       "        vertical-align: top;\n",
       "    }\n",
       "\n",
       "    .dataframe thead th {\n",
       "        text-align: right;\n",
       "    }\n",
       "</style>\n",
       "<table border=\"1\" class=\"dataframe\">\n",
       "  <thead>\n",
       "    <tr style=\"text-align: right;\">\n",
       "      <th></th>\n",
       "      <th>0</th>\n",
       "      <th>1</th>\n",
       "      <th>2</th>\n",
       "    </tr>\n",
       "  </thead>\n",
       "  <tbody>\n",
       "    <tr>\n",
       "      <th>IdAcidente</th>\n",
       "      <td>20191648491</td>\n",
       "      <td>20191648498</td>\n",
       "      <td>20191648520</td>\n",
       "    </tr>\n",
       "    <tr>\n",
       "      <th>Datahora</th>\n",
       "      <td>2019:01:02 15:10:00</td>\n",
       "      <td>2019:01:02 16:45:00</td>\n",
       "      <td>2019:01:02 13:05:00</td>\n",
       "    </tr>\n",
       "    <tr>\n",
       "      <th>Dia da Semana</th>\n",
       "      <td>Quarta-Feira</td>\n",
       "      <td>Quarta-Feira</td>\n",
       "      <td>Quarta-Feira</td>\n",
       "    </tr>\n",
       "    <tr>\n",
       "      <th>Sentidos</th>\n",
       "      <td>NÃO DEFINIDO</td>\n",
       "      <td>NÃO DEFINIDO</td>\n",
       "      <td>NÃO DEFINIDO</td>\n",
       "    </tr>\n",
       "    <tr>\n",
       "      <th>Latitude GPS</th>\n",
       "      <td>38.768367</td>\n",
       "      <td>38.719096</td>\n",
       "      <td>38.728779</td>\n",
       "    </tr>\n",
       "    <tr>\n",
       "      <th>Longitude GPS</th>\n",
       "      <td>-9.172899</td>\n",
       "      <td>-9.15613</td>\n",
       "      <td>-9.147518</td>\n",
       "    </tr>\n",
       "    <tr>\n",
       "      <th>Via Trânsito</th>\n",
       "      <td>Direita</td>\n",
       "      <td>Esquerda</td>\n",
       "      <td>Central</td>\n",
       "    </tr>\n",
       "    <tr>\n",
       "      <th>Localizações</th>\n",
       "      <td>Dentro das localidades</td>\n",
       "      <td>Dentro das localidades</td>\n",
       "      <td>Dentro das localidades</td>\n",
       "    </tr>\n",
       "    <tr>\n",
       "      <th>Freguesia</th>\n",
       "      <td>Lumiar</td>\n",
       "      <td>Campo de Ourique</td>\n",
       "      <td>Avenidas Novas</td>\n",
       "    </tr>\n",
       "    <tr>\n",
       "      <th>Pov. Proxima</th>\n",
       "      <td>Lisboa</td>\n",
       "      <td>Lisboa</td>\n",
       "      <td>Lisboa</td>\n",
       "    </tr>\n",
       "    <tr>\n",
       "      <th>Tipo Natureza</th>\n",
       "      <td>Atropelamento</td>\n",
       "      <td>Atropelamento</td>\n",
       "      <td>Colisão</td>\n",
       "    </tr>\n",
       "    <tr>\n",
       "      <th>Natureza</th>\n",
       "      <td>Atropelamento de peões</td>\n",
       "      <td>Atropelamento de peões</td>\n",
       "      <td>Colisão lateral com outro veículo em movimento</td>\n",
       "    </tr>\n",
       "    <tr>\n",
       "      <th>Traçado 1</th>\n",
       "      <td>Recta</td>\n",
       "      <td>Recta</td>\n",
       "      <td>Recta</td>\n",
       "    </tr>\n",
       "    <tr>\n",
       "      <th>Traçado 2</th>\n",
       "      <td>Em patamar</td>\n",
       "      <td>Em patamar</td>\n",
       "      <td>Com inclinação</td>\n",
       "    </tr>\n",
       "    <tr>\n",
       "      <th>Traçado 3</th>\n",
       "      <td>Sem berma ou impraticável</td>\n",
       "      <td>Sem berma ou impraticável</td>\n",
       "      <td>Sem berma ou impraticável</td>\n",
       "    </tr>\n",
       "    <tr>\n",
       "      <th>Traçado 4</th>\n",
       "      <td>Em parque de estacionamento</td>\n",
       "      <td>Em plena via</td>\n",
       "      <td>Em plena via</td>\n",
       "    </tr>\n",
       "    <tr>\n",
       "      <th>Estado Conservação</th>\n",
       "      <td>Em bom estado</td>\n",
       "      <td>Em bom estado</td>\n",
       "      <td>Em bom estado</td>\n",
       "    </tr>\n",
       "    <tr>\n",
       "      <th>Características Tecnicas</th>\n",
       "      <td>Estrada sem separador</td>\n",
       "      <td>Estrada sem separador</td>\n",
       "      <td>Outra via</td>\n",
       "    </tr>\n",
       "    <tr>\n",
       "      <th>Reg Circulação</th>\n",
       "      <td>Sentido único</td>\n",
       "      <td>Dois sentidos</td>\n",
       "      <td>Sentido único</td>\n",
       "    </tr>\n",
       "    <tr>\n",
       "      <th>Marca Via</th>\n",
       "      <td>NÃO DEFINIDO</td>\n",
       "      <td>Com marcas - separadoras de sentido e de vias ...</td>\n",
       "      <td>Com marcas - separadoras de sentido e de vias ...</td>\n",
       "    </tr>\n",
       "    <tr>\n",
       "      <th>Obstáculos</th>\n",
       "      <td>Inexistentes</td>\n",
       "      <td>Inexistentes</td>\n",
       "      <td>Inexistentes</td>\n",
       "    </tr>\n",
       "    <tr>\n",
       "      <th>Sinais</th>\n",
       "      <td>NÃO DEFINIDO</td>\n",
       "      <td>Outros</td>\n",
       "      <td>Passagem de peões</td>\n",
       "    </tr>\n",
       "    <tr>\n",
       "      <th>Sinais Luminosos</th>\n",
       "      <td>NÃO DEFINIDO</td>\n",
       "      <td>A funcionar normalmente</td>\n",
       "      <td>A funcionar normalmente</td>\n",
       "    </tr>\n",
       "    <tr>\n",
       "      <th>Tipo Piso</th>\n",
       "      <td>Betão de cimento</td>\n",
       "      <td>Betuminoso</td>\n",
       "      <td>Betuminoso</td>\n",
       "    </tr>\n",
       "    <tr>\n",
       "      <th>Intersecção Vias</th>\n",
       "      <td>NÃO DEFINIDO</td>\n",
       "      <td>Fora da intersecção</td>\n",
       "      <td>Em entroncamento</td>\n",
       "    </tr>\n",
       "    <tr>\n",
       "      <th>Factores Atmosféricos</th>\n",
       "      <td>NÃO DEFINIDO</td>\n",
       "      <td>Bom tempo</td>\n",
       "      <td>Bom tempo</td>\n",
       "    </tr>\n",
       "    <tr>\n",
       "      <th>Luminosidade</th>\n",
       "      <td>Em pleno dia</td>\n",
       "      <td>Em pleno dia</td>\n",
       "      <td>Em pleno dia</td>\n",
       "    </tr>\n",
       "    <tr>\n",
       "      <th>Cond Aderência</th>\n",
       "      <td>Seco e limpo</td>\n",
       "      <td>Seco e limpo</td>\n",
       "      <td>Seco e limpo</td>\n",
       "    </tr>\n",
       "    <tr>\n",
       "      <th>VM</th>\n",
       "      <td>0</td>\n",
       "      <td>0</td>\n",
       "      <td>0</td>\n",
       "    </tr>\n",
       "    <tr>\n",
       "      <th>FG</th>\n",
       "      <td>0</td>\n",
       "      <td>0</td>\n",
       "      <td>0</td>\n",
       "    </tr>\n",
       "    <tr>\n",
       "      <th>FL</th>\n",
       "      <td>1</td>\n",
       "      <td>3</td>\n",
       "      <td>1</td>\n",
       "    </tr>\n",
       "    <tr>\n",
       "      <th>Tipos Vias</th>\n",
       "      <td>Arruamento</td>\n",
       "      <td>Arruamento</td>\n",
       "      <td>Arruamento</td>\n",
       "    </tr>\n",
       "    <tr>\n",
       "      <th>Via</th>\n",
       "      <td>0</td>\n",
       "      <td>0</td>\n",
       "      <td>0</td>\n",
       "    </tr>\n",
       "    <tr>\n",
       "      <th>Num arruamento</th>\n",
       "      <td>0</td>\n",
       "      <td>9</td>\n",
       "      <td>16</td>\n",
       "    </tr>\n",
       "    <tr>\n",
       "      <th>Km</th>\n",
       "      <td>NaN</td>\n",
       "      <td>NaN</td>\n",
       "      <td>NaN</td>\n",
       "    </tr>\n",
       "    <tr>\n",
       "      <th>Nome arruamento</th>\n",
       "      <td>Azinhaga Ulmeiros</td>\n",
       "      <td>Avenida Álvares Cabral</td>\n",
       "      <td>Avenida Fontes Pereira de Melo</td>\n",
       "    </tr>\n",
       "    <tr>\n",
       "      <th>Localização 2</th>\n",
       "      <td>Sem GPS - estimado</td>\n",
       "      <td>Sem GPS - estimado</td>\n",
       "      <td>Sem GPS - estimado</td>\n",
       "    </tr>\n",
       "  </tbody>\n",
       "</table>\n",
       "</div>"
      ],
      "text/plain": [
       "                                                    0  \\\n",
       "IdAcidente                                20191648491   \n",
       "Datahora                          2019:01:02 15:10:00   \n",
       "Dia da Semana                           Quarta-Feira    \n",
       "Sentidos                                 NÃO DEFINIDO   \n",
       "Latitude GPS                                38.768367   \n",
       "Longitude GPS                               -9.172899   \n",
       "Via Trânsito                                  Direita   \n",
       "Localizações                   Dentro das localidades   \n",
       "Freguesia                                      Lumiar   \n",
       "Pov. Proxima                                   Lisboa   \n",
       "Tipo Natureza                           Atropelamento   \n",
       "Natureza                       Atropelamento de peões   \n",
       "Traçado 1                                       Recta   \n",
       "Traçado 2                                  Em patamar   \n",
       "Traçado 3                   Sem berma ou impraticável   \n",
       "Traçado 4                 Em parque de estacionamento   \n",
       "Estado Conservação                      Em bom estado   \n",
       "Características Tecnicas        Estrada sem separador   \n",
       "Reg Circulação                          Sentido único   \n",
       "Marca Via                                NÃO DEFINIDO   \n",
       "Obstáculos                               Inexistentes   \n",
       "Sinais                                   NÃO DEFINIDO   \n",
       "Sinais Luminosos                         NÃO DEFINIDO   \n",
       "Tipo Piso                            Betão de cimento   \n",
       "Intersecção Vias                         NÃO DEFINIDO   \n",
       "Factores Atmosféricos                    NÃO DEFINIDO   \n",
       "Luminosidade                             Em pleno dia   \n",
       "Cond Aderência                           Seco e limpo   \n",
       "VM                                                  0   \n",
       "FG                                                  0   \n",
       "FL                                                  1   \n",
       "Tipos Vias                                 Arruamento   \n",
       "Via                                                 0   \n",
       "Num arruamento                                      0   \n",
       "Km                                                NaN   \n",
       "Nome arruamento                     Azinhaga Ulmeiros   \n",
       "Localização 2                      Sem GPS - estimado   \n",
       "\n",
       "                                                                          1  \\\n",
       "IdAcidente                                                      20191648498   \n",
       "Datahora                                                2019:01:02 16:45:00   \n",
       "Dia da Semana                                                 Quarta-Feira    \n",
       "Sentidos                                                       NÃO DEFINIDO   \n",
       "Latitude GPS                                                      38.719096   \n",
       "Longitude GPS                                                      -9.15613   \n",
       "Via Trânsito                                                       Esquerda   \n",
       "Localizações                                         Dentro das localidades   \n",
       "Freguesia                                                  Campo de Ourique   \n",
       "Pov. Proxima                                                         Lisboa   \n",
       "Tipo Natureza                                                 Atropelamento   \n",
       "Natureza                                             Atropelamento de peões   \n",
       "Traçado 1                                                             Recta   \n",
       "Traçado 2                                                        Em patamar   \n",
       "Traçado 3                                         Sem berma ou impraticável   \n",
       "Traçado 4                                                      Em plena via   \n",
       "Estado Conservação                                            Em bom estado   \n",
       "Características Tecnicas                              Estrada sem separador   \n",
       "Reg Circulação                                                Dois sentidos   \n",
       "Marca Via                 Com marcas - separadoras de sentido e de vias ...   \n",
       "Obstáculos                                                     Inexistentes   \n",
       "Sinais                                                               Outros   \n",
       "Sinais Luminosos                                    A funcionar normalmente   \n",
       "Tipo Piso                                                        Betuminoso   \n",
       "Intersecção Vias                                        Fora da intersecção   \n",
       "Factores Atmosféricos                                             Bom tempo   \n",
       "Luminosidade                                                   Em pleno dia   \n",
       "Cond Aderência                                                 Seco e limpo   \n",
       "VM                                                                        0   \n",
       "FG                                                                        0   \n",
       "FL                                                                        3   \n",
       "Tipos Vias                                                       Arruamento   \n",
       "Via                                                                       0   \n",
       "Num arruamento                                                            9   \n",
       "Km                                                                      NaN   \n",
       "Nome arruamento                                      Avenida Álvares Cabral   \n",
       "Localização 2                                            Sem GPS - estimado   \n",
       "\n",
       "                                                                          2  \n",
       "IdAcidente                                                      20191648520  \n",
       "Datahora                                                2019:01:02 13:05:00  \n",
       "Dia da Semana                                                 Quarta-Feira   \n",
       "Sentidos                                                       NÃO DEFINIDO  \n",
       "Latitude GPS                                                      38.728779  \n",
       "Longitude GPS                                                     -9.147518  \n",
       "Via Trânsito                                                        Central  \n",
       "Localizações                                         Dentro das localidades  \n",
       "Freguesia                                                    Avenidas Novas  \n",
       "Pov. Proxima                                                         Lisboa  \n",
       "Tipo Natureza                                                       Colisão  \n",
       "Natureza                     Colisão lateral com outro veículo em movimento  \n",
       "Traçado 1                                                             Recta  \n",
       "Traçado 2                                                    Com inclinação  \n",
       "Traçado 3                                         Sem berma ou impraticável  \n",
       "Traçado 4                                                      Em plena via  \n",
       "Estado Conservação                                            Em bom estado  \n",
       "Características Tecnicas                                          Outra via  \n",
       "Reg Circulação                                                Sentido único  \n",
       "Marca Via                 Com marcas - separadoras de sentido e de vias ...  \n",
       "Obstáculos                                                     Inexistentes  \n",
       "Sinais                                                    Passagem de peões  \n",
       "Sinais Luminosos                                    A funcionar normalmente  \n",
       "Tipo Piso                                                        Betuminoso  \n",
       "Intersecção Vias                                           Em entroncamento  \n",
       "Factores Atmosféricos                                             Bom tempo  \n",
       "Luminosidade                                                   Em pleno dia  \n",
       "Cond Aderência                                                 Seco e limpo  \n",
       "VM                                                                        0  \n",
       "FG                                                                        0  \n",
       "FL                                                                        1  \n",
       "Tipos Vias                                                       Arruamento  \n",
       "Via                                                                       0  \n",
       "Num arruamento                                                           16  \n",
       "Km                                                                      NaN  \n",
       "Nome arruamento                              Avenida Fontes Pereira de Melo  \n",
       "Localização 2                                            Sem GPS - estimado  "
      ]
     },
     "execution_count": 5,
     "metadata": {},
     "output_type": "execute_result"
    }
   ],
   "source": [
    "ansr_accidents.head(3).T"
   ]
  },
  {
   "cell_type": "markdown",
   "id": "intended-paris",
   "metadata": {},
   "source": [
    "Main points:\n",
    "* We have a lot of descriptive variables, regarding the accident;\n",
    "* It's not clear which some of the variables represent (VM, FG, and FL for example);\n",
    "* We have information on the type of accidents that may help identification of different root causes for different types of accidents."
   ]
  },
  {
   "cell_type": "markdown",
   "id": "infrared-instrument",
   "metadata": {},
   "source": [
    "**`Missing values`**"
   ]
  },
  {
   "cell_type": "code",
   "execution_count": 6,
   "id": "hourly-tragedy",
   "metadata": {},
   "outputs": [
    {
     "data": {
      "text/plain": [
       "Km                 2519\n",
       "Pov. Proxima       1322\n",
       "Latitude GPS        945\n",
       "Longitude GPS       945\n",
       "Num arruamento      259\n",
       "Nome arruamento     253\n",
       "IdAcidente            0\n",
       "dtype: int64"
      ]
     },
     "execution_count": 6,
     "metadata": {},
     "output_type": "execute_result"
    }
   ],
   "source": [
    "ansr_accidents.isna().sum().sort_values(ascending=False).head(7)"
   ]
  },
  {
   "cell_type": "markdown",
   "id": "favorite-interference",
   "metadata": {},
   "source": [
    "Main points:\n",
    "* We have some features with missing values;\n",
    "* However, the missing values of latitude and longitude may represent a major problem when performing geolocation evaluations. This missing value represents 30% of the data."
   ]
  },
  {
   "cell_type": "markdown",
   "id": "flying-reminder",
   "metadata": {},
   "source": [
    "**`Statistical evaluation`**"
   ]
  },
  {
   "cell_type": "code",
   "execution_count": 7,
   "id": "wired-premiere",
   "metadata": {},
   "outputs": [
    {
     "data": {
      "text/html": [
       "<div>\n",
       "<style scoped>\n",
       "    .dataframe tbody tr th:only-of-type {\n",
       "        vertical-align: middle;\n",
       "    }\n",
       "\n",
       "    .dataframe tbody tr th {\n",
       "        vertical-align: top;\n",
       "    }\n",
       "\n",
       "    .dataframe thead th {\n",
       "        text-align: right;\n",
       "    }\n",
       "</style>\n",
       "<table border=\"1\" class=\"dataframe\">\n",
       "  <thead>\n",
       "    <tr style=\"text-align: right;\">\n",
       "      <th></th>\n",
       "      <th>IdAcidente</th>\n",
       "      <th>Latitude GPS</th>\n",
       "      <th>Longitude GPS</th>\n",
       "      <th>VM</th>\n",
       "      <th>FG</th>\n",
       "      <th>FL</th>\n",
       "      <th>Km</th>\n",
       "    </tr>\n",
       "  </thead>\n",
       "  <tbody>\n",
       "    <tr>\n",
       "      <th>count</th>\n",
       "      <td>2.768000e+03</td>\n",
       "      <td>1823.000000</td>\n",
       "      <td>1823.000000</td>\n",
       "      <td>2768.000000</td>\n",
       "      <td>2768.000000</td>\n",
       "      <td>2768.000000</td>\n",
       "      <td>249.000000</td>\n",
       "    </tr>\n",
       "    <tr>\n",
       "      <th>mean</th>\n",
       "      <td>2.019191e+10</td>\n",
       "      <td>38.733288</td>\n",
       "      <td>-9.150429</td>\n",
       "      <td>0.002890</td>\n",
       "      <td>0.024205</td>\n",
       "      <td>1.177384</td>\n",
       "      <td>4.058783</td>\n",
       "    </tr>\n",
       "    <tr>\n",
       "      <th>std</th>\n",
       "      <td>1.372972e+06</td>\n",
       "      <td>0.063683</td>\n",
       "      <td>0.062830</td>\n",
       "      <td>0.053692</td>\n",
       "      <td>0.160612</td>\n",
       "      <td>0.607121</td>\n",
       "      <td>3.264365</td>\n",
       "    </tr>\n",
       "    <tr>\n",
       "      <th>min</th>\n",
       "      <td>2.019165e+10</td>\n",
       "      <td>37.017289</td>\n",
       "      <td>-9.413910</td>\n",
       "      <td>0.000000</td>\n",
       "      <td>0.000000</td>\n",
       "      <td>0.000000</td>\n",
       "      <td>0.000000</td>\n",
       "    </tr>\n",
       "    <tr>\n",
       "      <th>25%</th>\n",
       "      <td>2.019167e+10</td>\n",
       "      <td>38.718220</td>\n",
       "      <td>-9.170539</td>\n",
       "      <td>0.000000</td>\n",
       "      <td>0.000000</td>\n",
       "      <td>1.000000</td>\n",
       "      <td>1.500000</td>\n",
       "    </tr>\n",
       "    <tr>\n",
       "      <th>50%</th>\n",
       "      <td>2.019172e+10</td>\n",
       "      <td>38.734634</td>\n",
       "      <td>-9.150388</td>\n",
       "      <td>0.000000</td>\n",
       "      <td>0.000000</td>\n",
       "      <td>1.000000</td>\n",
       "      <td>3.135000</td>\n",
       "    </tr>\n",
       "    <tr>\n",
       "      <th>75%</th>\n",
       "      <td>2.019177e+10</td>\n",
       "      <td>38.751966</td>\n",
       "      <td>-9.135339</td>\n",
       "      <td>0.000000</td>\n",
       "      <td>0.000000</td>\n",
       "      <td>1.000000</td>\n",
       "      <td>6.200000</td>\n",
       "    </tr>\n",
       "    <tr>\n",
       "      <th>max</th>\n",
       "      <td>2.020187e+10</td>\n",
       "      <td>38.918566</td>\n",
       "      <td>-7.413290</td>\n",
       "      <td>1.000000</td>\n",
       "      <td>2.000000</td>\n",
       "      <td>9.000000</td>\n",
       "      <td>18.000000</td>\n",
       "    </tr>\n",
       "  </tbody>\n",
       "</table>\n",
       "</div>"
      ],
      "text/plain": [
       "         IdAcidente  Latitude GPS  Longitude GPS           VM           FG  \\\n",
       "count  2.768000e+03   1823.000000    1823.000000  2768.000000  2768.000000   \n",
       "mean   2.019191e+10     38.733288      -9.150429     0.002890     0.024205   \n",
       "std    1.372972e+06      0.063683       0.062830     0.053692     0.160612   \n",
       "min    2.019165e+10     37.017289      -9.413910     0.000000     0.000000   \n",
       "25%    2.019167e+10     38.718220      -9.170539     0.000000     0.000000   \n",
       "50%    2.019172e+10     38.734634      -9.150388     0.000000     0.000000   \n",
       "75%    2.019177e+10     38.751966      -9.135339     0.000000     0.000000   \n",
       "max    2.020187e+10     38.918566      -7.413290     1.000000     2.000000   \n",
       "\n",
       "                FL          Km  \n",
       "count  2768.000000  249.000000  \n",
       "mean      1.177384    4.058783  \n",
       "std       0.607121    3.264365  \n",
       "min       0.000000    0.000000  \n",
       "25%       1.000000    1.500000  \n",
       "50%       1.000000    3.135000  \n",
       "75%       1.000000    6.200000  \n",
       "max       9.000000   18.000000  "
      ]
     },
     "execution_count": 7,
     "metadata": {},
     "output_type": "execute_result"
    }
   ],
   "source": [
    "ansr_accidents.describe()"
   ]
  },
  {
   "cell_type": "markdown",
   "id": "better-connectivity",
   "metadata": {},
   "source": [
    "Main points:\n",
    "* IdAccidente should be converted to index;\n",
    "* Latitude seems to present some outliers. A value with a latitude of 37 seems a bit off and needs to be evaluated;\n",
    "* Same with longitude which presents a value of -7.4 that seems to be far away from Lisbon."
   ]
  },
  {
   "cell_type": "code",
   "execution_count": 8,
   "id": "manual-advancement",
   "metadata": {},
   "outputs": [
    {
     "data": {
      "text/html": [
       "<div>\n",
       "<style scoped>\n",
       "    .dataframe tbody tr th:only-of-type {\n",
       "        vertical-align: middle;\n",
       "    }\n",
       "\n",
       "    .dataframe tbody tr th {\n",
       "        vertical-align: top;\n",
       "    }\n",
       "\n",
       "    .dataframe thead th {\n",
       "        text-align: right;\n",
       "    }\n",
       "</style>\n",
       "<table border=\"1\" class=\"dataframe\">\n",
       "  <thead>\n",
       "    <tr style=\"text-align: right;\">\n",
       "      <th></th>\n",
       "      <th>count</th>\n",
       "      <th>unique</th>\n",
       "      <th>top</th>\n",
       "      <th>freq</th>\n",
       "    </tr>\n",
       "  </thead>\n",
       "  <tbody>\n",
       "    <tr>\n",
       "      <th>Datahora</th>\n",
       "      <td>2768</td>\n",
       "      <td>2708</td>\n",
       "      <td>2019:02:01 22:00:00</td>\n",
       "      <td>3</td>\n",
       "    </tr>\n",
       "    <tr>\n",
       "      <th>Dia da Semana</th>\n",
       "      <td>2768</td>\n",
       "      <td>7</td>\n",
       "      <td>Sexta-Feira</td>\n",
       "      <td>478</td>\n",
       "    </tr>\n",
       "    <tr>\n",
       "      <th>Sentidos</th>\n",
       "      <td>2768</td>\n",
       "      <td>3</td>\n",
       "      <td>NÃO DEFINIDO</td>\n",
       "      <td>1852</td>\n",
       "    </tr>\n",
       "    <tr>\n",
       "      <th>Via Trânsito</th>\n",
       "      <td>2768</td>\n",
       "      <td>3</td>\n",
       "      <td>Direita</td>\n",
       "      <td>2025</td>\n",
       "    </tr>\n",
       "    <tr>\n",
       "      <th>Localizações</th>\n",
       "      <td>2768</td>\n",
       "      <td>2</td>\n",
       "      <td>Dentro das localidades</td>\n",
       "      <td>2596</td>\n",
       "    </tr>\n",
       "    <tr>\n",
       "      <th>Freguesia</th>\n",
       "      <td>2768</td>\n",
       "      <td>24</td>\n",
       "      <td>Avenidas Novas</td>\n",
       "      <td>244</td>\n",
       "    </tr>\n",
       "    <tr>\n",
       "      <th>Pov. Proxima</th>\n",
       "      <td>1446</td>\n",
       "      <td>16</td>\n",
       "      <td>Lisboa</td>\n",
       "      <td>1390</td>\n",
       "    </tr>\n",
       "    <tr>\n",
       "      <th>Tipo Natureza</th>\n",
       "      <td>2768</td>\n",
       "      <td>3</td>\n",
       "      <td>Colisão</td>\n",
       "      <td>1573</td>\n",
       "    </tr>\n",
       "    <tr>\n",
       "      <th>Natureza</th>\n",
       "      <td>2768</td>\n",
       "      <td>17</td>\n",
       "      <td>Atropelamento de peões</td>\n",
       "      <td>640</td>\n",
       "    </tr>\n",
       "    <tr>\n",
       "      <th>Traçado 1</th>\n",
       "      <td>2768</td>\n",
       "      <td>3</td>\n",
       "      <td>Recta</td>\n",
       "      <td>2327</td>\n",
       "    </tr>\n",
       "    <tr>\n",
       "      <th>Traçado 2</th>\n",
       "      <td>2768</td>\n",
       "      <td>4</td>\n",
       "      <td>Em patamar</td>\n",
       "      <td>1777</td>\n",
       "    </tr>\n",
       "    <tr>\n",
       "      <th>Traçado 3</th>\n",
       "      <td>2768</td>\n",
       "      <td>4</td>\n",
       "      <td>Berma pavimentada</td>\n",
       "      <td>1702</td>\n",
       "    </tr>\n",
       "    <tr>\n",
       "      <th>Traçado 4</th>\n",
       "      <td>2768</td>\n",
       "      <td>6</td>\n",
       "      <td>Em plena via</td>\n",
       "      <td>2631</td>\n",
       "    </tr>\n",
       "    <tr>\n",
       "      <th>Estado Conservação</th>\n",
       "      <td>2768</td>\n",
       "      <td>4</td>\n",
       "      <td>Em estado regular</td>\n",
       "      <td>1684</td>\n",
       "    </tr>\n",
       "    <tr>\n",
       "      <th>Características Tecnicas</th>\n",
       "      <td>2768</td>\n",
       "      <td>3</td>\n",
       "      <td>Estrada sem separador</td>\n",
       "      <td>1552</td>\n",
       "    </tr>\n",
       "    <tr>\n",
       "      <th>Reg Circulação</th>\n",
       "      <td>2768</td>\n",
       "      <td>3</td>\n",
       "      <td>Sentido único</td>\n",
       "      <td>1622</td>\n",
       "    </tr>\n",
       "    <tr>\n",
       "      <th>Marca Via</th>\n",
       "      <td>2768</td>\n",
       "      <td>4</td>\n",
       "      <td>Com marcas - separadoras de sentido e de vias ...</td>\n",
       "      <td>1785</td>\n",
       "    </tr>\n",
       "    <tr>\n",
       "      <th>Obstáculos</th>\n",
       "      <td>2768</td>\n",
       "      <td>5</td>\n",
       "      <td>Inexistentes</td>\n",
       "      <td>2677</td>\n",
       "    </tr>\n",
       "    <tr>\n",
       "      <th>Sinais</th>\n",
       "      <td>2768</td>\n",
       "      <td>6</td>\n",
       "      <td>Outros</td>\n",
       "      <td>1815</td>\n",
       "    </tr>\n",
       "    <tr>\n",
       "      <th>Sinais Luminosos</th>\n",
       "      <td>2768</td>\n",
       "      <td>5</td>\n",
       "      <td>Inexistentes</td>\n",
       "      <td>1883</td>\n",
       "    </tr>\n",
       "    <tr>\n",
       "      <th>Tipo Piso</th>\n",
       "      <td>2768</td>\n",
       "      <td>5</td>\n",
       "      <td>Betuminoso</td>\n",
       "      <td>2510</td>\n",
       "    </tr>\n",
       "    <tr>\n",
       "      <th>Intersecção Vias</th>\n",
       "      <td>2768</td>\n",
       "      <td>8</td>\n",
       "      <td>Fora da intersecção</td>\n",
       "      <td>1688</td>\n",
       "    </tr>\n",
       "    <tr>\n",
       "      <th>Factores Atmosféricos</th>\n",
       "      <td>2768</td>\n",
       "      <td>3</td>\n",
       "      <td>Bom tempo</td>\n",
       "      <td>2323</td>\n",
       "    </tr>\n",
       "    <tr>\n",
       "      <th>Luminosidade</th>\n",
       "      <td>2768</td>\n",
       "      <td>6</td>\n",
       "      <td>Em pleno dia</td>\n",
       "      <td>1830</td>\n",
       "    </tr>\n",
       "    <tr>\n",
       "      <th>Cond Aderência</th>\n",
       "      <td>2768</td>\n",
       "      <td>8</td>\n",
       "      <td>Seco e limpo</td>\n",
       "      <td>2246</td>\n",
       "    </tr>\n",
       "    <tr>\n",
       "      <th>Tipos Vias</th>\n",
       "      <td>2768</td>\n",
       "      <td>6</td>\n",
       "      <td>Arruamento</td>\n",
       "      <td>2515</td>\n",
       "    </tr>\n",
       "    <tr>\n",
       "      <th>Via</th>\n",
       "      <td>2768</td>\n",
       "      <td>8</td>\n",
       "      <td>0</td>\n",
       "      <td>2525</td>\n",
       "    </tr>\n",
       "    <tr>\n",
       "      <th>Num arruamento</th>\n",
       "      <td>2509</td>\n",
       "      <td>256</td>\n",
       "      <td>0</td>\n",
       "      <td>1277</td>\n",
       "    </tr>\n",
       "    <tr>\n",
       "      <th>Nome arruamento</th>\n",
       "      <td>2515</td>\n",
       "      <td>771</td>\n",
       "      <td>Avenida Infante Dom Henrique</td>\n",
       "      <td>59</td>\n",
       "    </tr>\n",
       "    <tr>\n",
       "      <th>Localização 2</th>\n",
       "      <td>2768</td>\n",
       "      <td>3</td>\n",
       "      <td>Sem GPS - não estimado</td>\n",
       "      <td>944</td>\n",
       "    </tr>\n",
       "  </tbody>\n",
       "</table>\n",
       "</div>"
      ],
      "text/plain": [
       "                         count unique  \\\n",
       "Datahora                  2768   2708   \n",
       "Dia da Semana             2768      7   \n",
       "Sentidos                  2768      3   \n",
       "Via Trânsito              2768      3   \n",
       "Localizações              2768      2   \n",
       "Freguesia                 2768     24   \n",
       "Pov. Proxima              1446     16   \n",
       "Tipo Natureza             2768      3   \n",
       "Natureza                  2768     17   \n",
       "Traçado 1                 2768      3   \n",
       "Traçado 2                 2768      4   \n",
       "Traçado 3                 2768      4   \n",
       "Traçado 4                 2768      6   \n",
       "Estado Conservação        2768      4   \n",
       "Características Tecnicas  2768      3   \n",
       "Reg Circulação            2768      3   \n",
       "Marca Via                 2768      4   \n",
       "Obstáculos                2768      5   \n",
       "Sinais                    2768      6   \n",
       "Sinais Luminosos          2768      5   \n",
       "Tipo Piso                 2768      5   \n",
       "Intersecção Vias          2768      8   \n",
       "Factores Atmosféricos     2768      3   \n",
       "Luminosidade              2768      6   \n",
       "Cond Aderência            2768      8   \n",
       "Tipos Vias                2768      6   \n",
       "Via                       2768      8   \n",
       "Num arruamento            2509    256   \n",
       "Nome arruamento           2515    771   \n",
       "Localização 2             2768      3   \n",
       "\n",
       "                                                                        top  \\\n",
       "Datahora                                                2019:02:01 22:00:00   \n",
       "Dia da Semana                                                 Sexta-Feira     \n",
       "Sentidos                                                       NÃO DEFINIDO   \n",
       "Via Trânsito                                                        Direita   \n",
       "Localizações                                         Dentro das localidades   \n",
       "Freguesia                                                    Avenidas Novas   \n",
       "Pov. Proxima                                                         Lisboa   \n",
       "Tipo Natureza                                                       Colisão   \n",
       "Natureza                                             Atropelamento de peões   \n",
       "Traçado 1                                                             Recta   \n",
       "Traçado 2                                                        Em patamar   \n",
       "Traçado 3                                                 Berma pavimentada   \n",
       "Traçado 4                                                      Em plena via   \n",
       "Estado Conservação                                        Em estado regular   \n",
       "Características Tecnicas                              Estrada sem separador   \n",
       "Reg Circulação                                                Sentido único   \n",
       "Marca Via                 Com marcas - separadoras de sentido e de vias ...   \n",
       "Obstáculos                                                     Inexistentes   \n",
       "Sinais                                                               Outros   \n",
       "Sinais Luminosos                                               Inexistentes   \n",
       "Tipo Piso                                                        Betuminoso   \n",
       "Intersecção Vias                                        Fora da intersecção   \n",
       "Factores Atmosféricos                                             Bom tempo   \n",
       "Luminosidade                                                   Em pleno dia   \n",
       "Cond Aderência                                                 Seco e limpo   \n",
       "Tipos Vias                                                       Arruamento   \n",
       "Via                                                                       0   \n",
       "Num arruamento                                                            0   \n",
       "Nome arruamento                                Avenida Infante Dom Henrique   \n",
       "Localização 2                                        Sem GPS - não estimado   \n",
       "\n",
       "                          freq  \n",
       "Datahora                     3  \n",
       "Dia da Semana              478  \n",
       "Sentidos                  1852  \n",
       "Via Trânsito              2025  \n",
       "Localizações              2596  \n",
       "Freguesia                  244  \n",
       "Pov. Proxima              1390  \n",
       "Tipo Natureza             1573  \n",
       "Natureza                   640  \n",
       "Traçado 1                 2327  \n",
       "Traçado 2                 1777  \n",
       "Traçado 3                 1702  \n",
       "Traçado 4                 2631  \n",
       "Estado Conservação        1684  \n",
       "Características Tecnicas  1552  \n",
       "Reg Circulação            1622  \n",
       "Marca Via                 1785  \n",
       "Obstáculos                2677  \n",
       "Sinais                    1815  \n",
       "Sinais Luminosos          1883  \n",
       "Tipo Piso                 2510  \n",
       "Intersecção Vias          1688  \n",
       "Factores Atmosféricos     2323  \n",
       "Luminosidade              1830  \n",
       "Cond Aderência            2246  \n",
       "Tipos Vias                2515  \n",
       "Via                       2525  \n",
       "Num arruamento            1277  \n",
       "Nome arruamento             59  \n",
       "Localização 2              944  "
      ]
     },
     "execution_count": 8,
     "metadata": {},
     "output_type": "execute_result"
    }
   ],
   "source": [
    "ansr_accidents.describe(include='O').T"
   ]
  },
  {
   "cell_type": "markdown",
   "id": "political-cycling",
   "metadata": {},
   "source": [
    "Main points:\n",
    "* Most of these features have a lot of values and need to be further evaluated;\n",
    "* Some of the variables present a high cardinality and probably need to be cleaned."
   ]
  },
  {
   "cell_type": "markdown",
   "id": "preliminary-finance",
   "metadata": {},
   "source": [
    "**`Outliers evaluation`**"
   ]
  },
  {
   "cell_type": "code",
   "execution_count": 9,
   "id": "trying-sally",
   "metadata": {},
   "outputs": [
    {
     "data": {
      "text/plain": [
       "IdAcidente        48.198142\n",
       "Latitude GPS     514.899085\n",
       "Longitude GPS    444.147973\n",
       "VM               341.621845\n",
       "FG                51.981671\n",
       "FL                27.308069\n",
       "Km                 0.230193\n",
       "dtype: float64"
      ]
     },
     "execution_count": 9,
     "metadata": {},
     "output_type": "execute_result"
    }
   ],
   "source": [
    "ansr_accidents.kurtosis()"
   ]
  },
  {
   "cell_type": "markdown",
   "id": "revised-favorite",
   "metadata": {},
   "source": [
    "Main points:\n",
    "* As we saw previoulsy latitude and longitude present a high kurtosis and so probably present some outliers; \n",
    "* Regarding VM, FG and FL we don't know what they represent and so we will remove them in the future."
   ]
  },
  {
   "cell_type": "markdown",
   "id": "purple-navigation",
   "metadata": {},
   "source": [
    "**`Outliers visualization`**\n",
    "\n",
    "We focus now on the latitude and longitude."
   ]
  },
  {
   "cell_type": "code",
   "execution_count": 10,
   "id": "polish-enhancement",
   "metadata": {},
   "outputs": [
    {
     "data": {
      "text/plain": [
       "<AxesSubplot:xlabel='Longitude GPS'>"
      ]
     },
     "execution_count": 10,
     "metadata": {},
     "output_type": "execute_result"
    },
    {
     "data": {
      "image/png": "[encoded data removed]",
      "text/plain": [
       "<Figure size 1728x360 with 2 Axes>"
      ]
     },
     "metadata": {
      "needs_background": "light"
     },
     "output_type": "display_data"
    }
   ],
   "source": [
    "fig, axes = plt.subplots(1, 2, figsize=(24, 5))\n",
    "sns.boxplot(data = ansr_accidents, x = 'Latitude GPS', ax = axes[0])\n",
    "sns.boxplot(data = ansr_accidents, x = 'Longitude GPS', ax = axes[1])"
   ]
  },
  {
   "cell_type": "code",
   "execution_count": 11,
   "id": "italian-denver",
   "metadata": {},
   "outputs": [
    {
     "data": {
      "text/plain": [
       "<AxesSubplot:xlabel='Longitude GPS', ylabel='Latitude GPS'>"
      ]
     },
     "execution_count": 11,
     "metadata": {},
     "output_type": "execute_result"
    },
    {
     "data": {
      "image/png": "[encoded data removed]",
      "text/plain": [
       "<Figure size 720x720 with 1 Axes>"
      ]
     },
     "metadata": {
      "needs_background": "light"
     },
     "output_type": "display_data"
    }
   ],
   "source": [
    "plt.figure(figsize = (10, 10))\n",
    "sns.scatterplot(data = ansr_accidents, y = 'Latitude GPS', x = 'Longitude GPS', alpha = 0.5)"
   ]
  },
  {
   "cell_type": "markdown",
   "id": "northern-amsterdam",
   "metadata": {},
   "source": [
    "Main points:\n",
    "* Has expected we have some really large outliers;\n",
    "* When ploting the latitude and longitude we can't see the city of Lisbon meaning that the outliers are really big;\n",
    "* Lets try to remove some and reavaluate;"
   ]
  },
  {
   "cell_type": "markdown",
   "id": "twelve-formula",
   "metadata": {},
   "source": [
    "**`Removing outliers evaluation`**"
   ]
  },
  {
   "cell_type": "code",
   "execution_count": 12,
   "id": "solid-thing",
   "metadata": {},
   "outputs": [],
   "source": [
    "ansr_accidents_no_outliers = (\n",
    "    ansr_accidents\n",
    "    .loc[lambda x: x['Latitude GPS'] > 38.55]\n",
    "    .loc[lambda x: x['Latitude GPS'] < 38.80]\n",
    "    .loc[lambda x: x['Longitude GPS'] > -9.30]\n",
    "    .loc[lambda x: x['Longitude GPS'] < -9.00]\n",
    ")"
   ]
  },
  {
   "cell_type": "code",
   "execution_count": 13,
   "id": "demonstrated-updating",
   "metadata": {},
   "outputs": [
    {
     "data": {
      "text/plain": [
       "<AxesSubplot:xlabel='Longitude GPS'>"
      ]
     },
     "execution_count": 13,
     "metadata": {},
     "output_type": "execute_result"
    },
    {
     "data": {
      "image/png": "[encoded data removed]",
      "text/plain": [
       "<Figure size 1728x360 with 2 Axes>"
      ]
     },
     "metadata": {
      "needs_background": "light"
     },
     "output_type": "display_data"
    }
   ],
   "source": [
    "fig, axes = plt.subplots(1, 2, figsize=(24, 5))\n",
    "sns.boxplot(data = ansr_accidents_no_outliers, x = 'Latitude GPS', ax = axes[0])\n",
    "sns.boxplot(data = ansr_accidents_no_outliers, x = 'Longitude GPS', ax = axes[1])"
   ]
  },
  {
   "cell_type": "code",
   "execution_count": 14,
   "id": "insured-publisher",
   "metadata": {},
   "outputs": [
    {
     "data": {
      "text/plain": [
       "<AxesSubplot:xlabel='Longitude GPS', ylabel='Latitude GPS'>"
      ]
     },
     "execution_count": 14,
     "metadata": {},
     "output_type": "execute_result"
    },
    {
     "data": {
      "image/png": "[encoded data removed]",
      "text/plain": [
       "<Figure size 720x720 with 1 Axes>"
      ]
     },
     "metadata": {
      "needs_background": "light"
     },
     "output_type": "display_data"
    }
   ],
   "source": [
    "plt.figure(figsize = (10, 10))\n",
    "sns.scatterplot(data = ansr_accidents_no_outliers, y = 'Latitude GPS', x = 'Longitude GPS', alpha = 0.5)"
   ]
  },
  {
   "cell_type": "markdown",
   "id": "lucky-trailer",
   "metadata": {},
   "source": [
    "Main points:\n",
    "* In the boxplot we can now see that we don't have any more extreme outliers;\n",
    "* When ploting the latitude and longitude we can now see the city of Lisbon."
   ]
  },
  {
   "cell_type": "markdown",
   "id": "irish-apartment",
   "metadata": {},
   "source": [
    "**`Accident type evaluation`**"
   ]
  },
  {
   "cell_type": "code",
   "execution_count": 15,
   "id": "heated-bangkok",
   "metadata": {},
   "outputs": [
    {
     "data": {
      "text/plain": [
       "Colisão          0.57\n",
       "Atropelamento    0.24\n",
       "Despiste         0.19\n",
       "Name: Tipo Natureza, dtype: float64"
      ]
     },
     "execution_count": 15,
     "metadata": {},
     "output_type": "execute_result"
    }
   ],
   "source": [
    "ansr_accidents['Tipo Natureza'].value_counts(normalize=True).round(2)"
   ]
  },
  {
   "cell_type": "code",
   "execution_count": 16,
   "id": "fluid-kelly",
   "metadata": {},
   "outputs": [
    {
     "data": {
      "text/plain": [
       "Atropelamento de peões                                          640\n",
       "Colisão lateral com outro veículo em movimento                  560\n",
       "Colisão traseira com outro veículo em movimento                 363\n",
       "Colisão com outras situações                                    355\n",
       "Despiste sem dispositivo de retenção                            329\n",
       "Despiste com dispositivo de retenção                            109\n",
       "Colisão choque em cadeia                                         97\n",
       "Colisão com veiculo ou obstáculo na faixa de rodagem             74\n",
       "Colisão frontal                                                  72\n",
       "Colisão com fuga                                                 52\n",
       "Despiste com colisão com veículo imobil. ou obstáculo            48\n",
       "Atropelamento com fuga                                           33\n",
       "Despiste com capotamento                                         20\n",
       "Despiste simples                                                 11\n",
       "Despiste com transposição do dispositivo de retenção lateral      2\n",
       "Despiste com fuga                                                 2\n",
       "Atropelamento de animais                                          1\n",
       "Name: Natureza, dtype: int64"
      ]
     },
     "execution_count": 16,
     "metadata": {},
     "output_type": "execute_result"
    }
   ],
   "source": [
    "column = 'Natureza'\n",
    "ansr_accidents[column].value_counts()"
   ]
  },
  {
   "cell_type": "markdown",
   "id": "latest-transformation",
   "metadata": {},
   "source": [
    "Main points:\n",
    "* Most of the accidents are colision accidents;\n",
    "* However, run over accidents also have a high incident rate and probably have different caracteristics that should be evaluated."
   ]
  },
  {
   "cell_type": "markdown",
   "id": "grave-popularity",
   "metadata": {},
   "source": [
    "**`Duplicated accidents`**"
   ]
  },
  {
   "cell_type": "code",
   "execution_count": 17,
   "id": "celtic-islam",
   "metadata": {},
   "outputs": [
    {
     "data": {
      "text/plain": [
       "0"
      ]
     },
     "execution_count": 17,
     "metadata": {},
     "output_type": "execute_result"
    }
   ],
   "source": [
    "ansr_accidents.drop(['IdAcidente'], axis = 1).duplicated().sum()"
   ]
  },
  {
   "cell_type": "markdown",
   "id": "armed-aircraft",
   "metadata": {},
   "source": [
    "Main points:\n",
    "* We have no duplicated values;"
   ]
  },
  {
   "cell_type": "markdown",
   "id": "obvious-blond",
   "metadata": {},
   "source": [
    "**`Categorical variables`**\n",
    "\n",
    "In this phase we focus in evaluating the categorical variables and evalaute possible corrections."
   ]
  },
  {
   "cell_type": "code",
   "execution_count": 18,
   "id": "involved-diabetes",
   "metadata": {},
   "outputs": [
    {
     "data": {
      "text/plain": [
       "NÃO DEFINIDO                               1852\n",
       "No sentido crescente da quilometragem       477\n",
       "No sentido decrescente da quilometragem     439\n",
       "Name: Sentidos, dtype: int64"
      ]
     },
     "execution_count": 18,
     "metadata": {},
     "output_type": "execute_result"
    }
   ],
   "source": [
    "column = 'Sentidos'\n",
    "ansr_accidents[column].value_counts()"
   ]
  },
  {
   "cell_type": "markdown",
   "id": "electoral-diabetes",
   "metadata": {},
   "source": [
    "* There are a lot of undefined values so this feature should probably be removed, and furter evaluated in the future."
   ]
  },
  {
   "cell_type": "code",
   "execution_count": 19,
   "id": "perfect-extra",
   "metadata": {},
   "outputs": [
    {
     "data": {
      "text/plain": [
       "Direita     2025\n",
       "Esquerda     492\n",
       "Central      251\n",
       "Name: Via Trânsito, dtype: int64"
      ]
     },
     "execution_count": 19,
     "metadata": {},
     "output_type": "execute_result"
    }
   ],
   "source": [
    "column = 'Via Trânsito'\n",
    "ansr_accidents[column].value_counts()"
   ]
  },
  {
   "cell_type": "markdown",
   "id": "subtle-toyota",
   "metadata": {},
   "source": [
    "* No need to corrections on this feature;"
   ]
  },
  {
   "cell_type": "code",
   "execution_count": 20,
   "id": "medieval-jersey",
   "metadata": {},
   "outputs": [
    {
     "data": {
      "text/plain": [
       "Dentro das localidades    2596\n",
       "Fora das localidades       172\n",
       "Name: Localizações, dtype: int64"
      ]
     },
     "execution_count": 20,
     "metadata": {},
     "output_type": "execute_result"
    }
   ],
   "source": [
    "column = 'Localizações'\n",
    "ansr_accidents[column].value_counts()"
   ]
  },
  {
   "cell_type": "markdown",
   "id": "published-blank",
   "metadata": {},
   "source": [
    "* No need to corrections on this feature;"
   ]
  },
  {
   "cell_type": "code",
   "execution_count": 21,
   "id": "collect-washer",
   "metadata": {},
   "outputs": [
    {
     "data": {
      "text/plain": [
       "Avenidas Novas             244\n",
       "Alvalade                   227\n",
       "Lumiar                     203\n",
       "São Domingos de Benfica    178\n",
       "Santa Maria dos Olivais    170\n",
       "Alcântara                  162\n",
       "Arroios                    138\n",
       "Campolide                  126\n",
       "Estrela                    125\n",
       "Marvila                    113\n",
       "Belém                      111\n",
       "Benfica                    107\n",
       "Parque das Nações          103\n",
       "Santo António              102\n",
       "Santa Maria Maior           99\n",
       "Areeiro                     85\n",
       "Campo de Ourique            84\n",
       "Misericórdia                83\n",
       "Ajuda                       73\n",
       "Carnide                     72\n",
       "Penha de França             66\n",
       "Santa Clara                 42\n",
       "São Vicente                 31\n",
       "Beato                       24\n",
       "Name: Freguesia, dtype: int64"
      ]
     },
     "execution_count": 21,
     "metadata": {},
     "output_type": "execute_result"
    }
   ],
   "source": [
    "column = 'Freguesia'\n",
    "ansr_accidents[column].value_counts()"
   ]
  },
  {
   "cell_type": "markdown",
   "id": "deluxe-ready",
   "metadata": {},
   "source": [
    "* No need to corrections on this feature;"
   ]
  },
  {
   "cell_type": "code",
   "execution_count": 22,
   "id": "caroline-probe",
   "metadata": {},
   "outputs": [
    {
     "data": {
      "text/plain": [
       "Lisboa                                                      1390\n",
       "Ajuda                                                         29\n",
       "MONSANTO                                                       6\n",
       "Alcântara                                                      3\n",
       "Lisboa.                                                        3\n",
       "ALCANTARA                                                      3\n",
       "Alfragide                                                      2\n",
       "AJUDA.                                                         2\n",
       "Monsanto.                                                      1\n",
       "Alges                                                          1\n",
       "Ajuda/Belém                                                    1\n",
       "Belém                                                          1\n",
       "Acesso do IP 7 à Rotunda Estr. São Bartolomeu                  1\n",
       "Carnaxide                                                      1\n",
       "Ajuda/Monsanto                                                 1\n",
       "Acesso da rotunda da Expo Ford (Av. Dom João II) ao IC 2       1\n",
       "Name: Pov. Proxima, dtype: int64"
      ]
     },
     "execution_count": 22,
     "metadata": {},
     "output_type": "execute_result"
    }
   ],
   "source": [
    "column = 'Pov. Proxima'\n",
    "ansr_accidents[column].value_counts()"
   ]
  },
  {
   "cell_type": "markdown",
   "id": "plastic-classics",
   "metadata": {},
   "source": [
    "* Most of the accidents happened in Lisbon. This feature is not very informative and should probably be removed."
   ]
  },
  {
   "cell_type": "code",
   "execution_count": 23,
   "id": "psychological-accent",
   "metadata": {},
   "outputs": [
    {
     "data": {
      "text/plain": [
       "Recta           2327\n",
       "Curva            422\n",
       "NÃO DEFINIDO      19\n",
       "Name: Traçado 1, dtype: int64"
      ]
     },
     "execution_count": 23,
     "metadata": {},
     "output_type": "execute_result"
    }
   ],
   "source": [
    "column = 'Traçado 1'\n",
    "ansr_accidents[column].value_counts()"
   ]
  },
  {
   "cell_type": "markdown",
   "id": "magnetic-velvet",
   "metadata": {},
   "source": [
    "* There are some values that are not defined. However, due to the low number we will probably use the mode to correct this values."
   ]
  },
  {
   "cell_type": "code",
   "execution_count": 24,
   "id": "front-export",
   "metadata": {},
   "outputs": [
    {
     "data": {
      "text/plain": [
       "Em patamar        1777\n",
       "Com inclinação     958\n",
       "NÃO DEFINIDO        24\n",
       "Em Lomba             9\n",
       "Name: Traçado 2, dtype: int64"
      ]
     },
     "execution_count": 24,
     "metadata": {},
     "output_type": "execute_result"
    }
   ],
   "source": [
    "column = 'Traçado 2'\n",
    "ansr_accidents[column].value_counts()"
   ]
  },
  {
   "cell_type": "markdown",
   "id": "lasting-parade",
   "metadata": {},
   "source": [
    "* There are some values that are not defined. However, due to the low number we will probably use the mode to correct this values."
   ]
  },
  {
   "cell_type": "code",
   "execution_count": 25,
   "id": "rental-mistake",
   "metadata": {},
   "outputs": [
    {
     "data": {
      "text/plain": [
       "Berma pavimentada            1702\n",
       "Sem berma ou impraticável     996\n",
       "Berma não pavimentada          36\n",
       "NÃO DEFINIDO                   34\n",
       "Name: Traçado 3, dtype: int64"
      ]
     },
     "execution_count": 25,
     "metadata": {},
     "output_type": "execute_result"
    }
   ],
   "source": [
    "column = 'Traçado 3'\n",
    "ansr_accidents[column].value_counts()"
   ]
  },
  {
   "cell_type": "markdown",
   "id": "phantom-coalition",
   "metadata": {},
   "source": [
    "* There are some values that are not defined. However, due to the low number we will probably use the mode to correct this values."
   ]
  },
  {
   "cell_type": "code",
   "execution_count": 26,
   "id": "relevant-links",
   "metadata": {},
   "outputs": [
    {
     "data": {
      "text/plain": [
       "Em plena via                   2631\n",
       "No passeio                       41\n",
       "NÃO DEFINIDO                     30\n",
       "Em parque de estacionamento      26\n",
       "Em via ou pista reservada        25\n",
       "Na berma                         15\n",
       "Name: Traçado 4, dtype: int64"
      ]
     },
     "execution_count": 26,
     "metadata": {},
     "output_type": "execute_result"
    }
   ],
   "source": [
    "column = 'Traçado 4'\n",
    "ansr_accidents[column].value_counts()"
   ]
  },
  {
   "cell_type": "markdown",
   "id": "encouraging-command",
   "metadata": {},
   "source": [
    "* There are some values that are not defined. However, due to the low number we will probably use the mode to correct this values."
   ]
  },
  {
   "cell_type": "code",
   "execution_count": 27,
   "id": "aggregate-corpus",
   "metadata": {},
   "outputs": [
    {
     "data": {
      "text/plain": [
       "Em estado regular    1684\n",
       "Em bom estado        1011\n",
       "Em mau estado          45\n",
       "NÃO DEFINIDO           28\n",
       "Name: Estado Conservação, dtype: int64"
      ]
     },
     "execution_count": 27,
     "metadata": {},
     "output_type": "execute_result"
    }
   ],
   "source": [
    "column = 'Estado Conservação'\n",
    "ansr_accidents[column].value_counts()"
   ]
  },
  {
   "cell_type": "markdown",
   "id": "tight-vault",
   "metadata": {},
   "source": [
    "* There are some values that are not defined. However, due to the low number we will probably use the mode to correct this values;\n",
    "* also in this case it seems that the good state and regular state represent the same, so we will also uniformize this feature."
   ]
  },
  {
   "cell_type": "code",
   "execution_count": 28,
   "id": "moral-maximum",
   "metadata": {},
   "outputs": [
    {
     "data": {
      "text/plain": [
       "Estrada sem separador    1552\n",
       "Outra via                1115\n",
       "Auto-estrada              101\n",
       "Name: Características Tecnicas, dtype: int64"
      ]
     },
     "execution_count": 28,
     "metadata": {},
     "output_type": "execute_result"
    }
   ],
   "source": [
    "column = 'Características Tecnicas'\n",
    "ansr_accidents[column].value_counts()"
   ]
  },
  {
   "cell_type": "markdown",
   "id": "reduced-complexity",
   "metadata": {},
   "source": [
    "* No need to corrections on this feature;"
   ]
  },
  {
   "cell_type": "code",
   "execution_count": 29,
   "id": "cellular-practice",
   "metadata": {},
   "outputs": [
    {
     "data": {
      "text/plain": [
       "Sentido único    1622\n",
       "Dois sentidos    1142\n",
       "Reversível          4\n",
       "Name: Reg Circulação, dtype: int64"
      ]
     },
     "execution_count": 29,
     "metadata": {},
     "output_type": "execute_result"
    }
   ],
   "source": [
    "column = 'Reg Circulação'\n",
    "ansr_accidents[column].value_counts()"
   ]
  },
  {
   "cell_type": "markdown",
   "id": "becoming-mechanics",
   "metadata": {},
   "source": [
    "* No need to corrections on this feature;"
   ]
  },
  {
   "cell_type": "code",
   "execution_count": 30,
   "id": "requested-trunk",
   "metadata": {},
   "outputs": [
    {
     "data": {
      "text/plain": [
       "Com marcas - separadoras de sentido e de vias de trânsito    1785\n",
       "Sem marcas rodoviárias ou pouco visíveis                      705\n",
       "Com marcas - separadoras de sentido de trânsito               255\n",
       "NÃO DEFINIDO                                                   23\n",
       "Name: Marca Via, dtype: int64"
      ]
     },
     "execution_count": 30,
     "metadata": {},
     "output_type": "execute_result"
    }
   ],
   "source": [
    "column = 'Marca Via'\n",
    "ansr_accidents[column].value_counts()"
   ]
  },
  {
   "cell_type": "markdown",
   "id": "straight-arkansas",
   "metadata": {},
   "source": [
    "* Some values are not defined, and we will use the mode to correct them.\n",
    "* We will also simplify the fetature and only consider the first part: \"with markings\" and \"without markings\""
   ]
  },
  {
   "cell_type": "code",
   "execution_count": 31,
   "id": "casual-makeup",
   "metadata": {},
   "outputs": [
    {
     "data": {
      "text/plain": [
       "Inexistentes                    2677\n",
       "NÃO DEFINIDO                      40\n",
       "Correctamente sinalizados         36\n",
       "Não sinalizados                    9\n",
       "Insuficentemente sinalizados       6\n",
       "Name: Obstáculos, dtype: int64"
      ]
     },
     "execution_count": 31,
     "metadata": {},
     "output_type": "execute_result"
    }
   ],
   "source": [
    "column = 'Obstáculos'\n",
    "ansr_accidents[column].value_counts()"
   ]
  },
  {
   "cell_type": "markdown",
   "id": "desperate-extra",
   "metadata": {},
   "source": [
    "* Some values are not defined, and we will use the mode to correct them.\n",
    "* We will also simplify the feature to only consider the existence of obstacales and the non existence."
   ]
  },
  {
   "cell_type": "code",
   "execution_count": 32,
   "id": "western-middle",
   "metadata": {},
   "outputs": [
    {
     "data": {
      "text/plain": [
       "Outros                        1815\n",
       "NÃO DEFINIDO                   531\n",
       "Passagem de peões              300\n",
       "Cedência de passagem           100\n",
       "Stop                            20\n",
       "Proibição de ultrapassagem       2\n",
       "Name: Sinais, dtype: int64"
      ]
     },
     "execution_count": 32,
     "metadata": {},
     "output_type": "execute_result"
    }
   ],
   "source": [
    "column = 'Sinais'\n",
    "ansr_accidents[column].value_counts()"
   ]
  },
  {
   "cell_type": "markdown",
   "id": "synthetic-scheme",
   "metadata": {},
   "source": [
    "* Here we will make some corrections. The non-deined values will go to the other catagory.\n",
    "* The pedestrian, crossing will continue to have as a solo level;\n",
    "* The other ones seem very similar so they will be converted to pass-through;"
   ]
  },
  {
   "cell_type": "code",
   "execution_count": 33,
   "id": "decimal-standing",
   "metadata": {},
   "outputs": [
    {
     "data": {
      "text/plain": [
       "Inexistentes               1883\n",
       "A funcionar normalmente     798\n",
       "NÃO DEFINIDO                 38\n",
       "Desligada                    29\n",
       "Intermitente                 20\n",
       "Name: Sinais Luminosos, dtype: int64"
      ]
     },
     "execution_count": 33,
     "metadata": {},
     "output_type": "execute_result"
    }
   ],
   "source": [
    "column = 'Sinais Luminosos'\n",
    "ansr_accidents[column].value_counts()"
   ]
  },
  {
   "cell_type": "markdown",
   "id": "several-spank",
   "metadata": {},
   "source": [
    "* Here we will also make some corrections;\n",
    "* Turn off will be converted to inexistentes;\n",
    "* The ones that are not defined will be converted to the mode;\n",
    "* the other two will be kept;"
   ]
  },
  {
   "cell_type": "code",
   "execution_count": 34,
   "id": "interpreted-spray",
   "metadata": {},
   "outputs": [
    {
     "data": {
      "text/plain": [
       "Betuminoso          2510\n",
       "Calçada              202\n",
       "Betão de cimento      30\n",
       "NÃO DEFINIDO          22\n",
       "Terra batida           4\n",
       "Name: Tipo Piso, dtype: int64"
      ]
     },
     "execution_count": 34,
     "metadata": {},
     "output_type": "execute_result"
    }
   ],
   "source": [
    "column = 'Tipo Piso'\n",
    "ansr_accidents[column].value_counts()"
   ]
  },
  {
   "cell_type": "markdown",
   "id": "nuclear-administrator",
   "metadata": {},
   "source": [
    "* The ones that are not defined will be converted to the mode;\n",
    "* The ones that represent lower groups will be converted to \"outros pisos\""
   ]
  },
  {
   "cell_type": "code",
   "execution_count": 35,
   "id": "medieval-supervisor",
   "metadata": {},
   "outputs": [
    {
     "data": {
      "text/plain": [
       "Fora da intersecção             1688\n",
       "Em entroncamento                 452\n",
       "Em cruzamento                    387\n",
       "NÃO DEFINIDO                     104\n",
       "Em rotunda                        57\n",
       "Em via de aceleração              51\n",
       "Em ramo de ligação - entrada      18\n",
       "Em via de desaceleração           11\n",
       "Name: Intersecção Vias, dtype: int64"
      ]
     },
     "execution_count": 35,
     "metadata": {},
     "output_type": "execute_result"
    }
   ],
   "source": [
    "column = 'Intersecção Vias'\n",
    "ansr_accidents[column].value_counts()"
   ]
  },
  {
   "cell_type": "markdown",
   "id": "intended-assets",
   "metadata": {},
   "source": [
    "* The ones that are not defined will be converted to the mode;\n",
    "* The \"cruzamentos\" and \"entroncametnos\" will be converter to a group;\n",
    "* \"Rotundas\" willbe kept as a group;\n",
    "* The last three groups will be converted to other;"
   ]
  },
  {
   "cell_type": "code",
   "execution_count": 36,
   "id": "statistical-inclusion",
   "metadata": {},
   "outputs": [
    {
     "data": {
      "text/plain": [
       "Bom tempo       2323\n",
       "Chuva            418\n",
       "NÃO DEFINIDO      27\n",
       "Name: Factores Atmosféricos, dtype: int64"
      ]
     },
     "execution_count": 36,
     "metadata": {},
     "output_type": "execute_result"
    }
   ],
   "source": [
    "column = 'Factores Atmosféricos'\n",
    "ansr_accidents[column].value_counts()"
   ]
  },
  {
   "cell_type": "markdown",
   "id": "united-voltage",
   "metadata": {},
   "source": [
    "* The ones that are not defined will be converted to the mode;"
   ]
  },
  {
   "cell_type": "code",
   "execution_count": 37,
   "id": "monthly-botswana",
   "metadata": {},
   "outputs": [
    {
     "data": {
      "text/plain": [
       "Em pleno dia             1830\n",
       "Noite, com iluminação     778\n",
       "Aurora ou crepúsculo      128\n",
       "Noite, sem iluminação      16\n",
       "NÃO DEFINIDO               10\n",
       "Sol escandeante             6\n",
       "Name: Luminosidade, dtype: int64"
      ]
     },
     "execution_count": 37,
     "metadata": {},
     "output_type": "execute_result"
    }
   ],
   "source": [
    "column = 'Luminosidade'\n",
    "ansr_accidents[column].value_counts()"
   ]
  },
  {
   "cell_type": "markdown",
   "id": "absent-budapest",
   "metadata": {},
   "source": [
    "* The ones that are not defined will be converted to the mode;"
   ]
  },
  {
   "cell_type": "code",
   "execution_count": 38,
   "id": "otherwise-colombia",
   "metadata": {},
   "outputs": [
    {
     "data": {
      "text/plain": [
       "Seco e limpo                              2246\n",
       "Molhado                                    427\n",
       "Húmido                                      44\n",
       "NÃO DEFINIDO                                34\n",
       "Com óleo                                     9\n",
       "Com água acumulada na faixa de rodagem       4\n",
       "Com gravilha ou areia                        3\n",
       "Com lama                                     1\n",
       "Name: Cond Aderência, dtype: int64"
      ]
     },
     "execution_count": 38,
     "metadata": {},
     "output_type": "execute_result"
    }
   ],
   "source": [
    "column = 'Cond Aderência'\n",
    "ansr_accidents[column].value_counts()"
   ]
  },
  {
   "cell_type": "markdown",
   "id": "forty-night",
   "metadata": {},
   "source": [
    "* The ones that are not defined will be converted to the mode;\n",
    "* \"Húmido\" and \"Com água acumulada na faixa de rodagem\" will be converted to \"Molhado\"\n",
    "* The smaller groups will be converted to other;"
   ]
  },
  {
   "cell_type": "code",
   "execution_count": 39,
   "id": "included-tiger",
   "metadata": {},
   "outputs": [
    {
     "data": {
      "text/plain": [
       "Arruamento                      2515\n",
       "IP- Itinerário Principal         103\n",
       "A  - Auto-Estrada                101\n",
       "IC - Itinerário Complementar      36\n",
       "Outra Via                         10\n",
       "PNT - Ponte                        3\n",
       "Name: Tipos Vias, dtype: int64"
      ]
     },
     "execution_count": 39,
     "metadata": {},
     "output_type": "execute_result"
    }
   ],
   "source": [
    "column = 'Tipos Vias'\n",
    "ansr_accidents[column].value_counts()"
   ]
  },
  {
   "cell_type": "markdown",
   "id": "superb-nursing",
   "metadata": {},
   "source": [
    "* No need to corrections on this feature;"
   ]
  },
  {
   "cell_type": "code",
   "execution_count": 40,
   "id": "clean-notion",
   "metadata": {},
   "outputs": [
    {
     "data": {
      "text/plain": [
       "0             2525\n",
       "IP7            103\n",
       "A5              56\n",
       "A2              44\n",
       "IC17            22\n",
       "IC19            14\n",
       "PNT25ABRIL       3\n",
       "A1               1\n",
       "Name: Via, dtype: int64"
      ]
     },
     "execution_count": 40,
     "metadata": {},
     "output_type": "execute_result"
    }
   ],
   "source": [
    "column = 'Via'\n",
    "ansr_accidents[column].value_counts()"
   ]
  },
  {
   "cell_type": "markdown",
   "id": "mathematical-delay",
   "metadata": {},
   "source": [
    "* Most of the streets are not defined, so this feature will be removed;"
   ]
  },
  {
   "cell_type": "code",
   "execution_count": 41,
   "id": "communist-walker",
   "metadata": {},
   "outputs": [
    {
     "data": {
      "text/plain": [
       "Sem GPS - não estimado    944\n",
       "Localização GPS           924\n",
       "Sem GPS - estimado        900\n",
       "Name: Localização 2, dtype: int64"
      ]
     },
     "execution_count": 41,
     "metadata": {},
     "output_type": "execute_result"
    }
   ],
   "source": [
    "column = 'Localização 2'\n",
    "ansr_accidents[column].value_counts()"
   ]
  },
  {
   "cell_type": "markdown",
   "id": "arctic-heating",
   "metadata": {},
   "source": [
    "* This feature is non informative for thsstudy so it will be removed;"
   ]
  },
  {
   "cell_type": "markdown",
   "id": "spare-drain",
   "metadata": {},
   "source": [
    "### 3.2. ANSR veichle and drivers\n",
    "\n",
    "We next evaluate the ANSR veichle and drivers sheet."
   ]
  },
  {
   "cell_type": "markdown",
   "id": "creative-adult",
   "metadata": {},
   "source": [
    "**`Data shape`**"
   ]
  },
  {
   "cell_type": "code",
   "execution_count": 42,
   "id": "alternative-actress",
   "metadata": {},
   "outputs": [
    {
     "data": {
      "text/plain": [
       "(4834, 18)"
      ]
     },
     "execution_count": 42,
     "metadata": {},
     "output_type": "execute_result"
    }
   ],
   "source": [
    "ansr_vehicle_driver.shape"
   ]
  },
  {
   "cell_type": "markdown",
   "id": "composite-activity",
   "metadata": {},
   "source": [
    "We have information of almost 5000 drivers and veichles information."
   ]
  },
  {
   "cell_type": "markdown",
   "id": "naked-liechtenstein",
   "metadata": {},
   "source": [
    "**`Data overview`**"
   ]
  },
  {
   "cell_type": "code",
   "execution_count": 43,
   "id": "bright-samba",
   "metadata": {
    "tags": []
   },
   "outputs": [
    {
     "data": {
      "text/html": [
       "<div>\n",
       "<style scoped>\n",
       "    .dataframe tbody tr th:only-of-type {\n",
       "        vertical-align: middle;\n",
       "    }\n",
       "\n",
       "    .dataframe tbody tr th {\n",
       "        vertical-align: top;\n",
       "    }\n",
       "\n",
       "    .dataframe thead th {\n",
       "        text-align: right;\n",
       "    }\n",
       "</style>\n",
       "<table border=\"1\" class=\"dataframe\">\n",
       "  <thead>\n",
       "    <tr style=\"text-align: right;\">\n",
       "      <th></th>\n",
       "      <th>0</th>\n",
       "      <th>1</th>\n",
       "      <th>2</th>\n",
       "    </tr>\n",
       "  </thead>\n",
       "  <tbody>\n",
       "    <tr>\n",
       "      <th>IdAcidente</th>\n",
       "      <td>20191725599</td>\n",
       "      <td>20191794772</td>\n",
       "      <td>20191677921</td>\n",
       "    </tr>\n",
       "    <tr>\n",
       "      <th>Datahora</th>\n",
       "      <td>2019:06:10 11:30:00</td>\n",
       "      <td>2019:10:07 09:50:00</td>\n",
       "      <td>2019:05:17 08:40:00</td>\n",
       "    </tr>\n",
       "    <tr>\n",
       "      <th>Id. Veiculo</th>\n",
       "      <td>2</td>\n",
       "      <td>2</td>\n",
       "      <td>3</td>\n",
       "    </tr>\n",
       "    <tr>\n",
       "      <th>Categoria Veículos</th>\n",
       "      <td>Automóvel ligeiro</td>\n",
       "      <td>Automóvel ligeiro</td>\n",
       "      <td>Automóvel ligeiro</td>\n",
       "    </tr>\n",
       "    <tr>\n",
       "      <th>Tipo Veiculo</th>\n",
       "      <td>Passageiros</td>\n",
       "      <td>Mercadorias</td>\n",
       "      <td>Mercadorias</td>\n",
       "    </tr>\n",
       "    <tr>\n",
       "      <th>Idade</th>\n",
       "      <td>32.0</td>\n",
       "      <td>51.0</td>\n",
       "      <td>26.0</td>\n",
       "    </tr>\n",
       "    <tr>\n",
       "      <th>Sexo</th>\n",
       "      <td>Feminino</td>\n",
       "      <td>Masculino</td>\n",
       "      <td>Masculino</td>\n",
       "    </tr>\n",
       "    <tr>\n",
       "      <th>Lesões a 30 dias</th>\n",
       "      <td>Ileso</td>\n",
       "      <td>Ileso</td>\n",
       "      <td>Ileso</td>\n",
       "    </tr>\n",
       "    <tr>\n",
       "      <th>Acessórios Condutores</th>\n",
       "      <td>Cinto de segurança</td>\n",
       "      <td>Cinto de segurança</td>\n",
       "      <td>NÃO DEFINIDO</td>\n",
       "    </tr>\n",
       "    <tr>\n",
       "      <th>Acções Condutores</th>\n",
       "      <td>Travagem brusca</td>\n",
       "      <td>Travagem brusca</td>\n",
       "      <td>Travagem brusca</td>\n",
       "    </tr>\n",
       "    <tr>\n",
       "      <th>Inf. Comp. a Acções e Manobras</th>\n",
       "      <td>Velocidade excessiva para as condições existentes</td>\n",
       "      <td>Não identificada</td>\n",
       "      <td>Não identificada</td>\n",
       "    </tr>\n",
       "    <tr>\n",
       "      <th>Licença Condução</th>\n",
       "      <td>Com licença/ carta adequada ao veiculo</td>\n",
       "      <td>Com licença/ carta adequada ao veiculo</td>\n",
       "      <td>Com licença/ carta adequada ao veiculo</td>\n",
       "    </tr>\n",
       "    <tr>\n",
       "      <th>Tempo Condução Continuada</th>\n",
       "      <td>Menos de 1 hora</td>\n",
       "      <td>Menos de 1 hora</td>\n",
       "      <td>Ignorada</td>\n",
       "    </tr>\n",
       "    <tr>\n",
       "      <th>Teste Alcool</th>\n",
       "      <td>Não submetido outra</td>\n",
       "      <td>Submetido ao teste do álcoolemia</td>\n",
       "      <td>Submetido ao teste do álcoolemia</td>\n",
       "    </tr>\n",
       "    <tr>\n",
       "      <th>Carga Lotação</th>\n",
       "      <td>Sem carga</td>\n",
       "      <td>Carga bem acondicionada</td>\n",
       "      <td>Carga bem acondicionada</td>\n",
       "    </tr>\n",
       "    <tr>\n",
       "      <th>Certificado Adr</th>\n",
       "      <td>NÃO DEFINIDO</td>\n",
       "      <td>NÃO DEFINIDO</td>\n",
       "      <td>NÃO DEFINIDO</td>\n",
       "    </tr>\n",
       "    <tr>\n",
       "      <th>Inspecção Periódica</th>\n",
       "      <td>Válida</td>\n",
       "      <td>Válida</td>\n",
       "      <td>Válida</td>\n",
       "    </tr>\n",
       "    <tr>\n",
       "      <th>Seguros</th>\n",
       "      <td>Com seguro</td>\n",
       "      <td>Com seguro</td>\n",
       "      <td>Com seguro</td>\n",
       "    </tr>\n",
       "  </tbody>\n",
       "</table>\n",
       "</div>"
      ],
      "text/plain": [
       "                                                                                0  \\\n",
       "IdAcidente                                                            20191725599   \n",
       "Datahora                                                      2019:06:10 11:30:00   \n",
       "Id. Veiculo                                                                     2   \n",
       "Categoria Veículos                                              Automóvel ligeiro   \n",
       "Tipo Veiculo                                                          Passageiros   \n",
       "Idade                                                                        32.0   \n",
       "Sexo                                                                     Feminino   \n",
       "Lesões a 30 dias                                                            Ileso   \n",
       "Acessórios Condutores                                          Cinto de segurança   \n",
       "Acções Condutores                                                 Travagem brusca   \n",
       "Inf. Comp. a Acções e Manobras  Velocidade excessiva para as condições existentes   \n",
       "Licença Condução                           Com licença/ carta adequada ao veiculo   \n",
       "Tempo Condução Continuada                                         Menos de 1 hora   \n",
       "Teste Alcool                                                  Não submetido outra   \n",
       "Carga Lotação                                                           Sem carga   \n",
       "Certificado Adr                                                      NÃO DEFINIDO   \n",
       "Inspecção Periódica                                                        Válida   \n",
       "Seguros                                                                Com seguro   \n",
       "\n",
       "                                                                     1  \\\n",
       "IdAcidente                                                 20191794772   \n",
       "Datahora                                           2019:10:07 09:50:00   \n",
       "Id. Veiculo                                                          2   \n",
       "Categoria Veículos                                   Automóvel ligeiro   \n",
       "Tipo Veiculo                                               Mercadorias   \n",
       "Idade                                                             51.0   \n",
       "Sexo                                                         Masculino   \n",
       "Lesões a 30 dias                                                 Ileso   \n",
       "Acessórios Condutores                               Cinto de segurança   \n",
       "Acções Condutores                                      Travagem brusca   \n",
       "Inf. Comp. a Acções e Manobras                        Não identificada   \n",
       "Licença Condução                Com licença/ carta adequada ao veiculo   \n",
       "Tempo Condução Continuada                              Menos de 1 hora   \n",
       "Teste Alcool                          Submetido ao teste do álcoolemia   \n",
       "Carga Lotação                                  Carga bem acondicionada   \n",
       "Certificado Adr                                           NÃO DEFINIDO   \n",
       "Inspecção Periódica                                             Válida   \n",
       "Seguros                                                     Com seguro   \n",
       "\n",
       "                                                                     2  \n",
       "IdAcidente                                                 20191677921  \n",
       "Datahora                                           2019:05:17 08:40:00  \n",
       "Id. Veiculo                                                          3  \n",
       "Categoria Veículos                                   Automóvel ligeiro  \n",
       "Tipo Veiculo                                               Mercadorias  \n",
       "Idade                                                             26.0  \n",
       "Sexo                                                         Masculino  \n",
       "Lesões a 30 dias                                                 Ileso  \n",
       "Acessórios Condutores                                     NÃO DEFINIDO  \n",
       "Acções Condutores                                      Travagem brusca  \n",
       "Inf. Comp. a Acções e Manobras                        Não identificada  \n",
       "Licença Condução                Com licença/ carta adequada ao veiculo  \n",
       "Tempo Condução Continuada                                     Ignorada  \n",
       "Teste Alcool                          Submetido ao teste do álcoolemia  \n",
       "Carga Lotação                                  Carga bem acondicionada  \n",
       "Certificado Adr                                           NÃO DEFINIDO  \n",
       "Inspecção Periódica                                             Válida  \n",
       "Seguros                                                     Com seguro  "
      ]
     },
     "execution_count": 43,
     "metadata": {},
     "output_type": "execute_result"
    }
   ],
   "source": [
    "ansr_vehicle_driver.head(3).T"
   ]
  },
  {
   "cell_type": "markdown",
   "id": "loved-realtor",
   "metadata": {},
   "source": [
    "Main points:\n",
    "* We have a lot of descriptive variables, regarding the veichles and drivers;\n",
    "* We continue to have an Id of the accident and now we have also an Id of the veichle."
   ]
  },
  {
   "cell_type": "markdown",
   "id": "peaceful-salvation",
   "metadata": {},
   "source": [
    "**`Missing values`**"
   ]
  },
  {
   "cell_type": "code",
   "execution_count": 44,
   "id": "joined-table",
   "metadata": {},
   "outputs": [
    {
     "data": {
      "text/plain": [
       "Idade         204\n",
       "IdAcidente      0\n",
       "dtype: int64"
      ]
     },
     "execution_count": 44,
     "metadata": {},
     "output_type": "execute_result"
    }
   ],
   "source": [
    "ansr_vehicle_driver.isna().sum().sort_values(ascending=False).head(2)"
   ]
  },
  {
   "cell_type": "markdown",
   "id": "daily-peninsula",
   "metadata": {},
   "source": [
    "Main points:\n",
    "* Only the age has missing values, that have to be treated in the next steps."
   ]
  },
  {
   "cell_type": "markdown",
   "id": "conscious-progress",
   "metadata": {},
   "source": [
    "**`Statistical evaluation`**"
   ]
  },
  {
   "cell_type": "code",
   "execution_count": 45,
   "id": "indirect-linux",
   "metadata": {},
   "outputs": [
    {
     "data": {
      "text/html": [
       "<div>\n",
       "<style scoped>\n",
       "    .dataframe tbody tr th:only-of-type {\n",
       "        vertical-align: middle;\n",
       "    }\n",
       "\n",
       "    .dataframe tbody tr th {\n",
       "        vertical-align: top;\n",
       "    }\n",
       "\n",
       "    .dataframe thead th {\n",
       "        text-align: right;\n",
       "    }\n",
       "</style>\n",
       "<table border=\"1\" class=\"dataframe\">\n",
       "  <thead>\n",
       "    <tr style=\"text-align: right;\">\n",
       "      <th></th>\n",
       "      <th>IdAcidente</th>\n",
       "      <th>Id. Veiculo</th>\n",
       "      <th>Idade</th>\n",
       "    </tr>\n",
       "  </thead>\n",
       "  <tbody>\n",
       "    <tr>\n",
       "      <th>count</th>\n",
       "      <td>4.834000e+03</td>\n",
       "      <td>4834.000000</td>\n",
       "      <td>4630.000000</td>\n",
       "    </tr>\n",
       "    <tr>\n",
       "      <th>mean</th>\n",
       "      <td>2.019193e+10</td>\n",
       "      <td>1.564750</td>\n",
       "      <td>41.275162</td>\n",
       "    </tr>\n",
       "    <tr>\n",
       "      <th>std</th>\n",
       "      <td>1.453167e+06</td>\n",
       "      <td>0.820318</td>\n",
       "      <td>15.259174</td>\n",
       "    </tr>\n",
       "    <tr>\n",
       "      <th>min</th>\n",
       "      <td>2.019165e+10</td>\n",
       "      <td>1.000000</td>\n",
       "      <td>9.000000</td>\n",
       "    </tr>\n",
       "    <tr>\n",
       "      <th>25%</th>\n",
       "      <td>2.019167e+10</td>\n",
       "      <td>1.000000</td>\n",
       "      <td>29.000000</td>\n",
       "    </tr>\n",
       "    <tr>\n",
       "      <th>50%</th>\n",
       "      <td>2.019172e+10</td>\n",
       "      <td>1.000000</td>\n",
       "      <td>39.000000</td>\n",
       "    </tr>\n",
       "    <tr>\n",
       "      <th>75%</th>\n",
       "      <td>2.019177e+10</td>\n",
       "      <td>2.000000</td>\n",
       "      <td>51.000000</td>\n",
       "    </tr>\n",
       "    <tr>\n",
       "      <th>max</th>\n",
       "      <td>2.020187e+10</td>\n",
       "      <td>11.000000</td>\n",
       "      <td>93.000000</td>\n",
       "    </tr>\n",
       "  </tbody>\n",
       "</table>\n",
       "</div>"
      ],
      "text/plain": [
       "         IdAcidente  Id. Veiculo        Idade\n",
       "count  4.834000e+03  4834.000000  4630.000000\n",
       "mean   2.019193e+10     1.564750    41.275162\n",
       "std    1.453167e+06     0.820318    15.259174\n",
       "min    2.019165e+10     1.000000     9.000000\n",
       "25%    2.019167e+10     1.000000    29.000000\n",
       "50%    2.019172e+10     1.000000    39.000000\n",
       "75%    2.019177e+10     2.000000    51.000000\n",
       "max    2.020187e+10    11.000000    93.000000"
      ]
     },
     "execution_count": 45,
     "metadata": {},
     "output_type": "execute_result"
    }
   ],
   "source": [
    "ansr_vehicle_driver.describe()"
   ]
  },
  {
   "cell_type": "markdown",
   "id": "planned-bottom",
   "metadata": {},
   "source": [
    "Main points:\n",
    "* We have a driver with 9 year? Will have to evaluate if it is an error;"
   ]
  },
  {
   "cell_type": "code",
   "execution_count": 46,
   "id": "alert-decade",
   "metadata": {},
   "outputs": [
    {
     "data": {
      "text/html": [
       "<div>\n",
       "<style scoped>\n",
       "    .dataframe tbody tr th:only-of-type {\n",
       "        vertical-align: middle;\n",
       "    }\n",
       "\n",
       "    .dataframe tbody tr th {\n",
       "        vertical-align: top;\n",
       "    }\n",
       "\n",
       "    .dataframe thead th {\n",
       "        text-align: right;\n",
       "    }\n",
       "</style>\n",
       "<table border=\"1\" class=\"dataframe\">\n",
       "  <thead>\n",
       "    <tr style=\"text-align: right;\">\n",
       "      <th></th>\n",
       "      <th>count</th>\n",
       "      <th>unique</th>\n",
       "      <th>top</th>\n",
       "      <th>freq</th>\n",
       "    </tr>\n",
       "  </thead>\n",
       "  <tbody>\n",
       "    <tr>\n",
       "      <th>Datahora</th>\n",
       "      <td>4834</td>\n",
       "      <td>2708</td>\n",
       "      <td>2019:08:02 12:09:00</td>\n",
       "      <td>11</td>\n",
       "    </tr>\n",
       "    <tr>\n",
       "      <th>Categoria Veículos</th>\n",
       "      <td>4834</td>\n",
       "      <td>13</td>\n",
       "      <td>Automóvel ligeiro</td>\n",
       "      <td>3349</td>\n",
       "    </tr>\n",
       "    <tr>\n",
       "      <th>Tipo Veiculo</th>\n",
       "      <td>4834</td>\n",
       "      <td>6</td>\n",
       "      <td>Passageiros</td>\n",
       "      <td>3054</td>\n",
       "    </tr>\n",
       "    <tr>\n",
       "      <th>Sexo</th>\n",
       "      <td>4834</td>\n",
       "      <td>3</td>\n",
       "      <td>Masculino</td>\n",
       "      <td>3486</td>\n",
       "    </tr>\n",
       "    <tr>\n",
       "      <th>Lesões a 30 dias</th>\n",
       "      <td>4834</td>\n",
       "      <td>4</td>\n",
       "      <td>Ileso</td>\n",
       "      <td>2828</td>\n",
       "    </tr>\n",
       "    <tr>\n",
       "      <th>Acessórios Condutores</th>\n",
       "      <td>4834</td>\n",
       "      <td>5</td>\n",
       "      <td>Cinto de segurança</td>\n",
       "      <td>3047</td>\n",
       "    </tr>\n",
       "    <tr>\n",
       "      <th>Acções Condutores</th>\n",
       "      <td>4834</td>\n",
       "      <td>18</td>\n",
       "      <td>Em marcha normal</td>\n",
       "      <td>3625</td>\n",
       "    </tr>\n",
       "    <tr>\n",
       "      <th>Inf. Comp. a Acções e Manobras</th>\n",
       "      <td>4834</td>\n",
       "      <td>13</td>\n",
       "      <td>Não identificada</td>\n",
       "      <td>3727</td>\n",
       "    </tr>\n",
       "    <tr>\n",
       "      <th>Licença Condução</th>\n",
       "      <td>4834</td>\n",
       "      <td>7</td>\n",
       "      <td>Com licença/ carta adequada ao veiculo</td>\n",
       "      <td>4245</td>\n",
       "    </tr>\n",
       "    <tr>\n",
       "      <th>Tempo Condução Continuada</th>\n",
       "      <td>4834</td>\n",
       "      <td>6</td>\n",
       "      <td>Ignorada</td>\n",
       "      <td>3888</td>\n",
       "    </tr>\n",
       "    <tr>\n",
       "      <th>Teste Alcool</th>\n",
       "      <td>4834</td>\n",
       "      <td>9</td>\n",
       "      <td>Submetido ao teste do álcoolemia</td>\n",
       "      <td>4252</td>\n",
       "    </tr>\n",
       "    <tr>\n",
       "      <th>Carga Lotação</th>\n",
       "      <td>4834</td>\n",
       "      <td>4</td>\n",
       "      <td>Sem carga</td>\n",
       "      <td>4375</td>\n",
       "    </tr>\n",
       "    <tr>\n",
       "      <th>Certificado Adr</th>\n",
       "      <td>4834</td>\n",
       "      <td>2</td>\n",
       "      <td>NÃO DEFINIDO</td>\n",
       "      <td>4832</td>\n",
       "    </tr>\n",
       "    <tr>\n",
       "      <th>Inspecção Periódica</th>\n",
       "      <td>4834</td>\n",
       "      <td>4</td>\n",
       "      <td>Válida</td>\n",
       "      <td>2655</td>\n",
       "    </tr>\n",
       "    <tr>\n",
       "      <th>Seguros</th>\n",
       "      <td>4834</td>\n",
       "      <td>4</td>\n",
       "      <td>Com seguro</td>\n",
       "      <td>4522</td>\n",
       "    </tr>\n",
       "  </tbody>\n",
       "</table>\n",
       "</div>"
      ],
      "text/plain": [
       "                               count unique  \\\n",
       "Datahora                        4834   2708   \n",
       "Categoria Veículos              4834     13   \n",
       "Tipo Veiculo                    4834      6   \n",
       "Sexo                            4834      3   \n",
       "Lesões a 30 dias                4834      4   \n",
       "Acessórios Condutores           4834      5   \n",
       "Acções Condutores               4834     18   \n",
       "Inf. Comp. a Acções e Manobras  4834     13   \n",
       "Licença Condução                4834      7   \n",
       "Tempo Condução Continuada       4834      6   \n",
       "Teste Alcool                    4834      9   \n",
       "Carga Lotação                   4834      4   \n",
       "Certificado Adr                 4834      2   \n",
       "Inspecção Periódica             4834      4   \n",
       "Seguros                         4834      4   \n",
       "\n",
       "                                                                   top  freq  \n",
       "Datahora                                           2019:08:02 12:09:00    11  \n",
       "Categoria Veículos                                   Automóvel ligeiro  3349  \n",
       "Tipo Veiculo                                               Passageiros  3054  \n",
       "Sexo                                                         Masculino  3486  \n",
       "Lesões a 30 dias                                                 Ileso  2828  \n",
       "Acessórios Condutores                               Cinto de segurança  3047  \n",
       "Acções Condutores                                     Em marcha normal  3625  \n",
       "Inf. Comp. a Acções e Manobras                        Não identificada  3727  \n",
       "Licença Condução                Com licença/ carta adequada ao veiculo  4245  \n",
       "Tempo Condução Continuada                                     Ignorada  3888  \n",
       "Teste Alcool                          Submetido ao teste do álcoolemia  4252  \n",
       "Carga Lotação                                                Sem carga  4375  \n",
       "Certificado Adr                                           NÃO DEFINIDO  4832  \n",
       "Inspecção Periódica                                             Válida  2655  \n",
       "Seguros                                                     Com seguro  4522  "
      ]
     },
     "execution_count": 46,
     "metadata": {},
     "output_type": "execute_result"
    }
   ],
   "source": [
    "ansr_vehicle_driver.describe(include='O').T"
   ]
  },
  {
   "cell_type": "markdown",
   "id": "amended-transportation",
   "metadata": {},
   "source": [
    "Main points:\n",
    "* Most of these features have a lot of values and need to be further evaluated;\n",
    "* Some of the variables present a high cardinality and probably need to be cleaned."
   ]
  },
  {
   "cell_type": "markdown",
   "id": "concerned-wallace",
   "metadata": {},
   "source": [
    "**`Age evaluation`**"
   ]
  },
  {
   "cell_type": "code",
   "execution_count": 47,
   "id": "surface-silicon",
   "metadata": {},
   "outputs": [
    {
     "data": {
      "text/plain": [
       "9.0      1\n",
       "11.0     1\n",
       "12.0     1\n",
       "13.0     1\n",
       "14.0     8\n",
       "15.0     7\n",
       "16.0     9\n",
       "17.0    14\n",
       "18.0    28\n",
       "19.0    55\n",
       "Name: Idade, dtype: int64"
      ]
     },
     "execution_count": 47,
     "metadata": {},
     "output_type": "execute_result"
    }
   ],
   "source": [
    "ansr_vehicle_driver['Idade'].sort_values().value_counts().sort_index().head(10)"
   ]
  },
  {
   "cell_type": "markdown",
   "id": "legal-standard",
   "metadata": {},
   "source": [
    "* Ok it seems that thera are really a lot of drivers that are still under are. \n",
    "* Althoug, this could happen for some motorcicles 9 year for example isalway sillegal."
   ]
  },
  {
   "cell_type": "markdown",
   "id": "noticed-magazine",
   "metadata": {},
   "source": [
    "**`Duplicated accidents`**"
   ]
  },
  {
   "cell_type": "code",
   "execution_count": 48,
   "id": "excited-louisiana",
   "metadata": {},
   "outputs": [
    {
     "data": {
      "text/plain": [
       "14"
      ]
     },
     "execution_count": 48,
     "metadata": {},
     "output_type": "execute_result"
    }
   ],
   "source": [
    "ansr_vehicle_driver.drop(['IdAcidente', 'Id. Veiculo'], axis = 1).duplicated().sum()"
   ]
  },
  {
   "cell_type": "markdown",
   "id": "heated-asbestos",
   "metadata": {},
   "source": [
    "Main points:\n",
    "* We have some duplicated values that have to be evaluated."
   ]
  },
  {
   "cell_type": "code",
   "execution_count": 49,
   "id": "amber-omaha",
   "metadata": {},
   "outputs": [
    {
     "data": {
      "text/html": [
       "<div>\n",
       "<style scoped>\n",
       "    .dataframe tbody tr th:only-of-type {\n",
       "        vertical-align: middle;\n",
       "    }\n",
       "\n",
       "    .dataframe tbody tr th {\n",
       "        vertical-align: top;\n",
       "    }\n",
       "\n",
       "    .dataframe thead th {\n",
       "        text-align: right;\n",
       "    }\n",
       "</style>\n",
       "<table border=\"1\" class=\"dataframe\">\n",
       "  <thead>\n",
       "    <tr style=\"text-align: right;\">\n",
       "      <th></th>\n",
       "      <th>IdAcidente</th>\n",
       "      <th>Datahora</th>\n",
       "      <th>Id. Veiculo</th>\n",
       "      <th>Categoria Veículos</th>\n",
       "      <th>Tipo Veiculo</th>\n",
       "      <th>Idade</th>\n",
       "      <th>Sexo</th>\n",
       "      <th>Lesões a 30 dias</th>\n",
       "      <th>Acessórios Condutores</th>\n",
       "      <th>Acções Condutores</th>\n",
       "      <th>Inf. Comp. a Acções e Manobras</th>\n",
       "      <th>Licença Condução</th>\n",
       "      <th>Tempo Condução Continuada</th>\n",
       "      <th>Teste Alcool</th>\n",
       "      <th>Carga Lotação</th>\n",
       "      <th>Certificado Adr</th>\n",
       "      <th>Inspecção Periódica</th>\n",
       "      <th>Seguros</th>\n",
       "    </tr>\n",
       "  </thead>\n",
       "  <tbody>\n",
       "    <tr>\n",
       "      <th>714</th>\n",
       "      <td>20191660827</td>\n",
       "      <td>2019:02:07 17:30:00</td>\n",
       "      <td>1</td>\n",
       "      <td>Automóvel ligeiro</td>\n",
       "      <td>Passageiros</td>\n",
       "      <td>NaN</td>\n",
       "      <td>NÃO DEFINIDO</td>\n",
       "      <td>Ileso</td>\n",
       "      <td>NÃO DEFINIDO</td>\n",
       "      <td>NÃO DEFINIDO</td>\n",
       "      <td>NÃO DEFINIDO</td>\n",
       "      <td>NÃO DEFINIDO</td>\n",
       "      <td>NÃO DEFINIDO</td>\n",
       "      <td>NÃO DEFINIDO</td>\n",
       "      <td>Sem carga</td>\n",
       "      <td>NÃO DEFINIDO</td>\n",
       "      <td>Válida</td>\n",
       "      <td>Com seguro</td>\n",
       "    </tr>\n",
       "    <tr>\n",
       "      <th>715</th>\n",
       "      <td>20191660827</td>\n",
       "      <td>2019:02:07 17:30:00</td>\n",
       "      <td>3</td>\n",
       "      <td>Automóvel ligeiro</td>\n",
       "      <td>Passageiros</td>\n",
       "      <td>NaN</td>\n",
       "      <td>NÃO DEFINIDO</td>\n",
       "      <td>Ileso</td>\n",
       "      <td>NÃO DEFINIDO</td>\n",
       "      <td>NÃO DEFINIDO</td>\n",
       "      <td>NÃO DEFINIDO</td>\n",
       "      <td>NÃO DEFINIDO</td>\n",
       "      <td>NÃO DEFINIDO</td>\n",
       "      <td>NÃO DEFINIDO</td>\n",
       "      <td>Sem carga</td>\n",
       "      <td>NÃO DEFINIDO</td>\n",
       "      <td>Válida</td>\n",
       "      <td>Com seguro</td>\n",
       "    </tr>\n",
       "    <tr>\n",
       "      <th>772</th>\n",
       "      <td>20191661253</td>\n",
       "      <td>2019:02:09 22:45:00</td>\n",
       "      <td>3</td>\n",
       "      <td>Automóvel ligeiro</td>\n",
       "      <td>Passageiros</td>\n",
       "      <td>NaN</td>\n",
       "      <td>NÃO DEFINIDO</td>\n",
       "      <td>Ileso</td>\n",
       "      <td>NÃO DEFINIDO</td>\n",
       "      <td>NÃO DEFINIDO</td>\n",
       "      <td>NÃO DEFINIDO</td>\n",
       "      <td>NÃO DEFINIDO</td>\n",
       "      <td>NÃO DEFINIDO</td>\n",
       "      <td>NÃO DEFINIDO</td>\n",
       "      <td>Sem carga</td>\n",
       "      <td>NÃO DEFINIDO</td>\n",
       "      <td>Válida</td>\n",
       "      <td>Com seguro</td>\n",
       "    </tr>\n",
       "    <tr>\n",
       "      <th>773</th>\n",
       "      <td>20191661253</td>\n",
       "      <td>2019:02:09 22:45:00</td>\n",
       "      <td>4</td>\n",
       "      <td>Automóvel ligeiro</td>\n",
       "      <td>Passageiros</td>\n",
       "      <td>NaN</td>\n",
       "      <td>NÃO DEFINIDO</td>\n",
       "      <td>Ileso</td>\n",
       "      <td>NÃO DEFINIDO</td>\n",
       "      <td>NÃO DEFINIDO</td>\n",
       "      <td>NÃO DEFINIDO</td>\n",
       "      <td>NÃO DEFINIDO</td>\n",
       "      <td>NÃO DEFINIDO</td>\n",
       "      <td>NÃO DEFINIDO</td>\n",
       "      <td>Sem carga</td>\n",
       "      <td>NÃO DEFINIDO</td>\n",
       "      <td>Válida</td>\n",
       "      <td>Com seguro</td>\n",
       "    </tr>\n",
       "    <tr>\n",
       "      <th>539</th>\n",
       "      <td>20191667000</td>\n",
       "      <td>2019:03:15 19:00:00</td>\n",
       "      <td>2</td>\n",
       "      <td>Motociclo cilindrada &lt;= 125cc</td>\n",
       "      <td>NÃO DEFINIDO</td>\n",
       "      <td>NaN</td>\n",
       "      <td>NÃO DEFINIDO</td>\n",
       "      <td>Ileso</td>\n",
       "      <td>NÃO DEFINIDO</td>\n",
       "      <td>NÃO DEFINIDO</td>\n",
       "      <td>NÃO DEFINIDO</td>\n",
       "      <td>NÃO DEFINIDO</td>\n",
       "      <td>NÃO DEFINIDO</td>\n",
       "      <td>Não submetido condutor não contactado na altur...</td>\n",
       "      <td>Sem carga</td>\n",
       "      <td>NÃO DEFINIDO</td>\n",
       "      <td>Não obrigatória</td>\n",
       "      <td>Com seguro</td>\n",
       "    </tr>\n",
       "    <tr>\n",
       "      <th>549</th>\n",
       "      <td>20191667000</td>\n",
       "      <td>2019:03:15 19:00:00</td>\n",
       "      <td>3</td>\n",
       "      <td>Motociclo cilindrada &lt;= 125cc</td>\n",
       "      <td>NÃO DEFINIDO</td>\n",
       "      <td>NaN</td>\n",
       "      <td>NÃO DEFINIDO</td>\n",
       "      <td>Ileso</td>\n",
       "      <td>NÃO DEFINIDO</td>\n",
       "      <td>NÃO DEFINIDO</td>\n",
       "      <td>NÃO DEFINIDO</td>\n",
       "      <td>NÃO DEFINIDO</td>\n",
       "      <td>NÃO DEFINIDO</td>\n",
       "      <td>Não submetido condutor não contactado na altur...</td>\n",
       "      <td>Sem carga</td>\n",
       "      <td>NÃO DEFINIDO</td>\n",
       "      <td>Não obrigatória</td>\n",
       "      <td>Com seguro</td>\n",
       "    </tr>\n",
       "    <tr>\n",
       "      <th>550</th>\n",
       "      <td>20191667000</td>\n",
       "      <td>2019:03:15 19:00:00</td>\n",
       "      <td>5</td>\n",
       "      <td>Motociclo cilindrada &lt;= 125cc</td>\n",
       "      <td>NÃO DEFINIDO</td>\n",
       "      <td>NaN</td>\n",
       "      <td>NÃO DEFINIDO</td>\n",
       "      <td>Ileso</td>\n",
       "      <td>NÃO DEFINIDO</td>\n",
       "      <td>NÃO DEFINIDO</td>\n",
       "      <td>NÃO DEFINIDO</td>\n",
       "      <td>NÃO DEFINIDO</td>\n",
       "      <td>NÃO DEFINIDO</td>\n",
       "      <td>Não submetido condutor não contactado na altur...</td>\n",
       "      <td>Sem carga</td>\n",
       "      <td>NÃO DEFINIDO</td>\n",
       "      <td>Não obrigatória</td>\n",
       "      <td>Com seguro</td>\n",
       "    </tr>\n",
       "    <tr>\n",
       "      <th>551</th>\n",
       "      <td>20191667000</td>\n",
       "      <td>2019:03:15 19:00:00</td>\n",
       "      <td>6</td>\n",
       "      <td>Motociclo cilindrada &lt;= 125cc</td>\n",
       "      <td>NÃO DEFINIDO</td>\n",
       "      <td>NaN</td>\n",
       "      <td>NÃO DEFINIDO</td>\n",
       "      <td>Ileso</td>\n",
       "      <td>NÃO DEFINIDO</td>\n",
       "      <td>NÃO DEFINIDO</td>\n",
       "      <td>NÃO DEFINIDO</td>\n",
       "      <td>NÃO DEFINIDO</td>\n",
       "      <td>NÃO DEFINIDO</td>\n",
       "      <td>Não submetido condutor não contactado na altur...</td>\n",
       "      <td>Sem carga</td>\n",
       "      <td>NÃO DEFINIDO</td>\n",
       "      <td>Não obrigatória</td>\n",
       "      <td>Com seguro</td>\n",
       "    </tr>\n",
       "    <tr>\n",
       "      <th>552</th>\n",
       "      <td>20191667000</td>\n",
       "      <td>2019:03:15 19:00:00</td>\n",
       "      <td>7</td>\n",
       "      <td>Motociclo cilindrada &lt;= 125cc</td>\n",
       "      <td>NÃO DEFINIDO</td>\n",
       "      <td>NaN</td>\n",
       "      <td>NÃO DEFINIDO</td>\n",
       "      <td>Ileso</td>\n",
       "      <td>NÃO DEFINIDO</td>\n",
       "      <td>NÃO DEFINIDO</td>\n",
       "      <td>NÃO DEFINIDO</td>\n",
       "      <td>NÃO DEFINIDO</td>\n",
       "      <td>NÃO DEFINIDO</td>\n",
       "      <td>Não submetido condutor não contactado na altur...</td>\n",
       "      <td>Sem carga</td>\n",
       "      <td>NÃO DEFINIDO</td>\n",
       "      <td>Não obrigatória</td>\n",
       "      <td>Com seguro</td>\n",
       "    </tr>\n",
       "    <tr>\n",
       "      <th>1805</th>\n",
       "      <td>20191695073</td>\n",
       "      <td>2019:03:30 19:33:00</td>\n",
       "      <td>4</td>\n",
       "      <td>Automóvel ligeiro</td>\n",
       "      <td>Passageiros</td>\n",
       "      <td>51.0</td>\n",
       "      <td>Masculino</td>\n",
       "      <td>Ileso</td>\n",
       "      <td>Cinto de segurança</td>\n",
       "      <td>Em marcha normal</td>\n",
       "      <td>Obstáculo imprevisto na faixa de rodagem</td>\n",
       "      <td>Com licença/ carta adequada ao veiculo</td>\n",
       "      <td>Menos de 1 hora</td>\n",
       "      <td>Submetido ao teste do álcoolemia</td>\n",
       "      <td>Sem carga</td>\n",
       "      <td>NÃO DEFINIDO</td>\n",
       "      <td>Válida</td>\n",
       "      <td>Com seguro</td>\n",
       "    </tr>\n",
       "    <tr>\n",
       "      <th>1804</th>\n",
       "      <td>20191695073</td>\n",
       "      <td>2019:03:30 19:33:00</td>\n",
       "      <td>3</td>\n",
       "      <td>Automóvel ligeiro</td>\n",
       "      <td>Passageiros</td>\n",
       "      <td>51.0</td>\n",
       "      <td>Masculino</td>\n",
       "      <td>Ileso</td>\n",
       "      <td>Cinto de segurança</td>\n",
       "      <td>Em marcha normal</td>\n",
       "      <td>Obstáculo imprevisto na faixa de rodagem</td>\n",
       "      <td>Com licença/ carta adequada ao veiculo</td>\n",
       "      <td>Menos de 1 hora</td>\n",
       "      <td>Submetido ao teste do álcoolemia</td>\n",
       "      <td>Sem carga</td>\n",
       "      <td>NÃO DEFINIDO</td>\n",
       "      <td>Válida</td>\n",
       "      <td>Com seguro</td>\n",
       "    </tr>\n",
       "    <tr>\n",
       "      <th>1067</th>\n",
       "      <td>20191686752</td>\n",
       "      <td>2019:05:16 02:30:00</td>\n",
       "      <td>7</td>\n",
       "      <td>Velocípede com motor</td>\n",
       "      <td>NÃO DEFINIDO</td>\n",
       "      <td>NaN</td>\n",
       "      <td>NÃO DEFINIDO</td>\n",
       "      <td>Ileso</td>\n",
       "      <td>NÃO DEFINIDO</td>\n",
       "      <td>NÃO DEFINIDO</td>\n",
       "      <td>NÃO DEFINIDO</td>\n",
       "      <td>NÃO DEFINIDO</td>\n",
       "      <td>NÃO DEFINIDO</td>\n",
       "      <td>NÃO DEFINIDO</td>\n",
       "      <td>Sem carga</td>\n",
       "      <td>NÃO DEFINIDO</td>\n",
       "      <td>Não obrigatória</td>\n",
       "      <td>NÃO DEFINIDO</td>\n",
       "    </tr>\n",
       "    <tr>\n",
       "      <th>1066</th>\n",
       "      <td>20191686752</td>\n",
       "      <td>2019:05:16 02:30:00</td>\n",
       "      <td>6</td>\n",
       "      <td>Velocípede com motor</td>\n",
       "      <td>NÃO DEFINIDO</td>\n",
       "      <td>NaN</td>\n",
       "      <td>NÃO DEFINIDO</td>\n",
       "      <td>Ileso</td>\n",
       "      <td>NÃO DEFINIDO</td>\n",
       "      <td>NÃO DEFINIDO</td>\n",
       "      <td>NÃO DEFINIDO</td>\n",
       "      <td>NÃO DEFINIDO</td>\n",
       "      <td>NÃO DEFINIDO</td>\n",
       "      <td>NÃO DEFINIDO</td>\n",
       "      <td>Sem carga</td>\n",
       "      <td>NÃO DEFINIDO</td>\n",
       "      <td>Não obrigatória</td>\n",
       "      <td>NÃO DEFINIDO</td>\n",
       "    </tr>\n",
       "    <tr>\n",
       "      <th>3407</th>\n",
       "      <td>20191715396</td>\n",
       "      <td>2019:06:28 16:00:00</td>\n",
       "      <td>2</td>\n",
       "      <td>Automóvel ligeiro</td>\n",
       "      <td>Passageiros</td>\n",
       "      <td>53.0</td>\n",
       "      <td>Masculino</td>\n",
       "      <td>Ileso</td>\n",
       "      <td>Cinto de segurança</td>\n",
       "      <td>Em marcha normal</td>\n",
       "      <td>Não identificada</td>\n",
       "      <td>Com licença/ carta adequada ao veiculo</td>\n",
       "      <td>Ignorada</td>\n",
       "      <td>Submetido ao teste do álcoolemia</td>\n",
       "      <td>Sem carga</td>\n",
       "      <td>NÃO DEFINIDO</td>\n",
       "      <td>Válida</td>\n",
       "      <td>Com seguro</td>\n",
       "    </tr>\n",
       "    <tr>\n",
       "      <th>3387</th>\n",
       "      <td>20191713812</td>\n",
       "      <td>2019:06:28 16:00:00</td>\n",
       "      <td>3</td>\n",
       "      <td>Automóvel ligeiro</td>\n",
       "      <td>Passageiros</td>\n",
       "      <td>53.0</td>\n",
       "      <td>Masculino</td>\n",
       "      <td>Ileso</td>\n",
       "      <td>Cinto de segurança</td>\n",
       "      <td>Em marcha normal</td>\n",
       "      <td>Não identificada</td>\n",
       "      <td>Com licença/ carta adequada ao veiculo</td>\n",
       "      <td>Ignorada</td>\n",
       "      <td>Submetido ao teste do álcoolemia</td>\n",
       "      <td>Sem carga</td>\n",
       "      <td>NÃO DEFINIDO</td>\n",
       "      <td>Válida</td>\n",
       "      <td>Com seguro</td>\n",
       "    </tr>\n",
       "    <tr>\n",
       "      <th>814</th>\n",
       "      <td>20191737166</td>\n",
       "      <td>2019:08:08 07:30:00</td>\n",
       "      <td>2</td>\n",
       "      <td>Automóvel ligeiro</td>\n",
       "      <td>Passageiros</td>\n",
       "      <td>NaN</td>\n",
       "      <td>NÃO DEFINIDO</td>\n",
       "      <td>Ileso</td>\n",
       "      <td>NÃO DEFINIDO</td>\n",
       "      <td>NÃO DEFINIDO</td>\n",
       "      <td>NÃO DEFINIDO</td>\n",
       "      <td>NÃO DEFINIDO</td>\n",
       "      <td>NÃO DEFINIDO</td>\n",
       "      <td>NÃO DEFINIDO</td>\n",
       "      <td>Sem carga</td>\n",
       "      <td>NÃO DEFINIDO</td>\n",
       "      <td>Válida</td>\n",
       "      <td>Com seguro</td>\n",
       "    </tr>\n",
       "    <tr>\n",
       "      <th>803</th>\n",
       "      <td>20191737166</td>\n",
       "      <td>2019:08:08 07:30:00</td>\n",
       "      <td>1</td>\n",
       "      <td>Automóvel ligeiro</td>\n",
       "      <td>Passageiros</td>\n",
       "      <td>NaN</td>\n",
       "      <td>NÃO DEFINIDO</td>\n",
       "      <td>Ileso</td>\n",
       "      <td>NÃO DEFINIDO</td>\n",
       "      <td>NÃO DEFINIDO</td>\n",
       "      <td>NÃO DEFINIDO</td>\n",
       "      <td>NÃO DEFINIDO</td>\n",
       "      <td>NÃO DEFINIDO</td>\n",
       "      <td>NÃO DEFINIDO</td>\n",
       "      <td>Sem carga</td>\n",
       "      <td>NÃO DEFINIDO</td>\n",
       "      <td>Válida</td>\n",
       "      <td>Com seguro</td>\n",
       "    </tr>\n",
       "    <tr>\n",
       "      <th>1246</th>\n",
       "      <td>20191736697</td>\n",
       "      <td>2019:08:12 00:20:00</td>\n",
       "      <td>3</td>\n",
       "      <td>Automóvel ligeiro</td>\n",
       "      <td>Passageiros</td>\n",
       "      <td>NaN</td>\n",
       "      <td>NÃO DEFINIDO</td>\n",
       "      <td>Ileso</td>\n",
       "      <td>NÃO DEFINIDO</td>\n",
       "      <td>NÃO DEFINIDO</td>\n",
       "      <td>NÃO DEFINIDO</td>\n",
       "      <td>NÃO DEFINIDO</td>\n",
       "      <td>NÃO DEFINIDO</td>\n",
       "      <td>NÃO DEFINIDO</td>\n",
       "      <td>NÃO DEFINIDO</td>\n",
       "      <td>NÃO DEFINIDO</td>\n",
       "      <td>Válida</td>\n",
       "      <td>NÃO DEFINIDO</td>\n",
       "    </tr>\n",
       "    <tr>\n",
       "      <th>1247</th>\n",
       "      <td>20191736697</td>\n",
       "      <td>2019:08:12 00:20:00</td>\n",
       "      <td>5</td>\n",
       "      <td>Automóvel ligeiro</td>\n",
       "      <td>Passageiros</td>\n",
       "      <td>NaN</td>\n",
       "      <td>NÃO DEFINIDO</td>\n",
       "      <td>Ileso</td>\n",
       "      <td>NÃO DEFINIDO</td>\n",
       "      <td>NÃO DEFINIDO</td>\n",
       "      <td>NÃO DEFINIDO</td>\n",
       "      <td>NÃO DEFINIDO</td>\n",
       "      <td>NÃO DEFINIDO</td>\n",
       "      <td>NÃO DEFINIDO</td>\n",
       "      <td>NÃO DEFINIDO</td>\n",
       "      <td>NÃO DEFINIDO</td>\n",
       "      <td>Válida</td>\n",
       "      <td>NÃO DEFINIDO</td>\n",
       "    </tr>\n",
       "    <tr>\n",
       "      <th>1254</th>\n",
       "      <td>20191743563</td>\n",
       "      <td>2019:09:14 17:10:00</td>\n",
       "      <td>2</td>\n",
       "      <td>Automóvel ligeiro</td>\n",
       "      <td>Passageiros</td>\n",
       "      <td>26.0</td>\n",
       "      <td>Masculino</td>\n",
       "      <td>Ileso</td>\n",
       "      <td>Cinto de segurança</td>\n",
       "      <td>Em marcha normal</td>\n",
       "      <td>Não identificada</td>\n",
       "      <td>Com licença/ carta adequada ao veiculo</td>\n",
       "      <td>De 1 a 3 horas</td>\n",
       "      <td>Submetido ao teste do álcoolemia</td>\n",
       "      <td>Sem carga</td>\n",
       "      <td>NÃO DEFINIDO</td>\n",
       "      <td>Válida</td>\n",
       "      <td>Com seguro</td>\n",
       "    </tr>\n",
       "    <tr>\n",
       "      <th>1255</th>\n",
       "      <td>20191743563</td>\n",
       "      <td>2019:09:14 17:10:00</td>\n",
       "      <td>3</td>\n",
       "      <td>Automóvel ligeiro</td>\n",
       "      <td>Passageiros</td>\n",
       "      <td>26.0</td>\n",
       "      <td>Masculino</td>\n",
       "      <td>Ileso</td>\n",
       "      <td>Cinto de segurança</td>\n",
       "      <td>Em marcha normal</td>\n",
       "      <td>Não identificada</td>\n",
       "      <td>Com licença/ carta adequada ao veiculo</td>\n",
       "      <td>De 1 a 3 horas</td>\n",
       "      <td>Submetido ao teste do álcoolemia</td>\n",
       "      <td>Sem carga</td>\n",
       "      <td>NÃO DEFINIDO</td>\n",
       "      <td>Válida</td>\n",
       "      <td>Com seguro</td>\n",
       "    </tr>\n",
       "    <tr>\n",
       "      <th>771</th>\n",
       "      <td>20191773732</td>\n",
       "      <td>2019:10:15 12:00:00</td>\n",
       "      <td>1</td>\n",
       "      <td>Automóvel ligeiro</td>\n",
       "      <td>Passageiros</td>\n",
       "      <td>NaN</td>\n",
       "      <td>NÃO DEFINIDO</td>\n",
       "      <td>Ileso</td>\n",
       "      <td>NÃO DEFINIDO</td>\n",
       "      <td>NÃO DEFINIDO</td>\n",
       "      <td>NÃO DEFINIDO</td>\n",
       "      <td>NÃO DEFINIDO</td>\n",
       "      <td>NÃO DEFINIDO</td>\n",
       "      <td>NÃO DEFINIDO</td>\n",
       "      <td>Sem carga</td>\n",
       "      <td>NÃO DEFINIDO</td>\n",
       "      <td>Válida</td>\n",
       "      <td>Com seguro</td>\n",
       "    </tr>\n",
       "    <tr>\n",
       "      <th>816</th>\n",
       "      <td>20191773732</td>\n",
       "      <td>2019:10:15 12:00:00</td>\n",
       "      <td>2</td>\n",
       "      <td>Automóvel ligeiro</td>\n",
       "      <td>Passageiros</td>\n",
       "      <td>NaN</td>\n",
       "      <td>NÃO DEFINIDO</td>\n",
       "      <td>Ileso</td>\n",
       "      <td>NÃO DEFINIDO</td>\n",
       "      <td>NÃO DEFINIDO</td>\n",
       "      <td>NÃO DEFINIDO</td>\n",
       "      <td>NÃO DEFINIDO</td>\n",
       "      <td>NÃO DEFINIDO</td>\n",
       "      <td>NÃO DEFINIDO</td>\n",
       "      <td>Sem carga</td>\n",
       "      <td>NÃO DEFINIDO</td>\n",
       "      <td>Válida</td>\n",
       "      <td>Com seguro</td>\n",
       "    </tr>\n",
       "    <tr>\n",
       "      <th>1024</th>\n",
       "      <td>20201820486</td>\n",
       "      <td>2019:12:22 01:10:00</td>\n",
       "      <td>2</td>\n",
       "      <td>Automóvel ligeiro</td>\n",
       "      <td>Passageiros</td>\n",
       "      <td>NaN</td>\n",
       "      <td>NÃO DEFINIDO</td>\n",
       "      <td>Ileso</td>\n",
       "      <td>NÃO DEFINIDO</td>\n",
       "      <td>NÃO DEFINIDO</td>\n",
       "      <td>NÃO DEFINIDO</td>\n",
       "      <td>NÃO DEFINIDO</td>\n",
       "      <td>NÃO DEFINIDO</td>\n",
       "      <td>NÃO DEFINIDO</td>\n",
       "      <td>NÃO DEFINIDO</td>\n",
       "      <td>NÃO DEFINIDO</td>\n",
       "      <td>NÃO DEFINIDO</td>\n",
       "      <td>Com seguro</td>\n",
       "    </tr>\n",
       "    <tr>\n",
       "      <th>981</th>\n",
       "      <td>20201820486</td>\n",
       "      <td>2019:12:22 01:10:00</td>\n",
       "      <td>1</td>\n",
       "      <td>Automóvel ligeiro</td>\n",
       "      <td>Passageiros</td>\n",
       "      <td>NaN</td>\n",
       "      <td>NÃO DEFINIDO</td>\n",
       "      <td>Ileso</td>\n",
       "      <td>NÃO DEFINIDO</td>\n",
       "      <td>NÃO DEFINIDO</td>\n",
       "      <td>NÃO DEFINIDO</td>\n",
       "      <td>NÃO DEFINIDO</td>\n",
       "      <td>NÃO DEFINIDO</td>\n",
       "      <td>NÃO DEFINIDO</td>\n",
       "      <td>NÃO DEFINIDO</td>\n",
       "      <td>NÃO DEFINIDO</td>\n",
       "      <td>NÃO DEFINIDO</td>\n",
       "      <td>Com seguro</td>\n",
       "    </tr>\n",
       "  </tbody>\n",
       "</table>\n",
       "</div>"
      ],
      "text/plain": [
       "       IdAcidente             Datahora  Id. Veiculo  \\\n",
       "714   20191660827  2019:02:07 17:30:00            1   \n",
       "715   20191660827  2019:02:07 17:30:00            3   \n",
       "772   20191661253  2019:02:09 22:45:00            3   \n",
       "773   20191661253  2019:02:09 22:45:00            4   \n",
       "539   20191667000  2019:03:15 19:00:00            2   \n",
       "549   20191667000  2019:03:15 19:00:00            3   \n",
       "550   20191667000  2019:03:15 19:00:00            5   \n",
       "551   20191667000  2019:03:15 19:00:00            6   \n",
       "552   20191667000  2019:03:15 19:00:00            7   \n",
       "1805  20191695073  2019:03:30 19:33:00            4   \n",
       "1804  20191695073  2019:03:30 19:33:00            3   \n",
       "1067  20191686752  2019:05:16 02:30:00            7   \n",
       "1066  20191686752  2019:05:16 02:30:00            6   \n",
       "3407  20191715396  2019:06:28 16:00:00            2   \n",
       "3387  20191713812  2019:06:28 16:00:00            3   \n",
       "814   20191737166  2019:08:08 07:30:00            2   \n",
       "803   20191737166  2019:08:08 07:30:00            1   \n",
       "1246  20191736697  2019:08:12 00:20:00            3   \n",
       "1247  20191736697  2019:08:12 00:20:00            5   \n",
       "1254  20191743563  2019:09:14 17:10:00            2   \n",
       "1255  20191743563  2019:09:14 17:10:00            3   \n",
       "771   20191773732  2019:10:15 12:00:00            1   \n",
       "816   20191773732  2019:10:15 12:00:00            2   \n",
       "1024  20201820486  2019:12:22 01:10:00            2   \n",
       "981   20201820486  2019:12:22 01:10:00            1   \n",
       "\n",
       "                 Categoria Veículos  Tipo Veiculo  Idade          Sexo  \\\n",
       "714               Automóvel ligeiro   Passageiros    NaN  NÃO DEFINIDO   \n",
       "715               Automóvel ligeiro   Passageiros    NaN  NÃO DEFINIDO   \n",
       "772               Automóvel ligeiro   Passageiros    NaN  NÃO DEFINIDO   \n",
       "773               Automóvel ligeiro   Passageiros    NaN  NÃO DEFINIDO   \n",
       "539   Motociclo cilindrada <= 125cc  NÃO DEFINIDO    NaN  NÃO DEFINIDO   \n",
       "549   Motociclo cilindrada <= 125cc  NÃO DEFINIDO    NaN  NÃO DEFINIDO   \n",
       "550   Motociclo cilindrada <= 125cc  NÃO DEFINIDO    NaN  NÃO DEFINIDO   \n",
       "551   Motociclo cilindrada <= 125cc  NÃO DEFINIDO    NaN  NÃO DEFINIDO   \n",
       "552   Motociclo cilindrada <= 125cc  NÃO DEFINIDO    NaN  NÃO DEFINIDO   \n",
       "1805              Automóvel ligeiro   Passageiros   51.0     Masculino   \n",
       "1804              Automóvel ligeiro   Passageiros   51.0     Masculino   \n",
       "1067           Velocípede com motor  NÃO DEFINIDO    NaN  NÃO DEFINIDO   \n",
       "1066           Velocípede com motor  NÃO DEFINIDO    NaN  NÃO DEFINIDO   \n",
       "3407              Automóvel ligeiro   Passageiros   53.0     Masculino   \n",
       "3387              Automóvel ligeiro   Passageiros   53.0     Masculino   \n",
       "814               Automóvel ligeiro   Passageiros    NaN  NÃO DEFINIDO   \n",
       "803               Automóvel ligeiro   Passageiros    NaN  NÃO DEFINIDO   \n",
       "1246              Automóvel ligeiro   Passageiros    NaN  NÃO DEFINIDO   \n",
       "1247              Automóvel ligeiro   Passageiros    NaN  NÃO DEFINIDO   \n",
       "1254              Automóvel ligeiro   Passageiros   26.0     Masculino   \n",
       "1255              Automóvel ligeiro   Passageiros   26.0     Masculino   \n",
       "771               Automóvel ligeiro   Passageiros    NaN  NÃO DEFINIDO   \n",
       "816               Automóvel ligeiro   Passageiros    NaN  NÃO DEFINIDO   \n",
       "1024              Automóvel ligeiro   Passageiros    NaN  NÃO DEFINIDO   \n",
       "981               Automóvel ligeiro   Passageiros    NaN  NÃO DEFINIDO   \n",
       "\n",
       "     Lesões a 30 dias Acessórios Condutores Acções Condutores  \\\n",
       "714             Ileso          NÃO DEFINIDO      NÃO DEFINIDO   \n",
       "715             Ileso          NÃO DEFINIDO      NÃO DEFINIDO   \n",
       "772             Ileso          NÃO DEFINIDO      NÃO DEFINIDO   \n",
       "773             Ileso          NÃO DEFINIDO      NÃO DEFINIDO   \n",
       "539             Ileso          NÃO DEFINIDO      NÃO DEFINIDO   \n",
       "549             Ileso          NÃO DEFINIDO      NÃO DEFINIDO   \n",
       "550             Ileso          NÃO DEFINIDO      NÃO DEFINIDO   \n",
       "551             Ileso          NÃO DEFINIDO      NÃO DEFINIDO   \n",
       "552             Ileso          NÃO DEFINIDO      NÃO DEFINIDO   \n",
       "1805            Ileso    Cinto de segurança  Em marcha normal   \n",
       "1804            Ileso    Cinto de segurança  Em marcha normal   \n",
       "1067            Ileso          NÃO DEFINIDO      NÃO DEFINIDO   \n",
       "1066            Ileso          NÃO DEFINIDO      NÃO DEFINIDO   \n",
       "3407            Ileso    Cinto de segurança  Em marcha normal   \n",
       "3387            Ileso    Cinto de segurança  Em marcha normal   \n",
       "814             Ileso          NÃO DEFINIDO      NÃO DEFINIDO   \n",
       "803             Ileso          NÃO DEFINIDO      NÃO DEFINIDO   \n",
       "1246            Ileso          NÃO DEFINIDO      NÃO DEFINIDO   \n",
       "1247            Ileso          NÃO DEFINIDO      NÃO DEFINIDO   \n",
       "1254            Ileso    Cinto de segurança  Em marcha normal   \n",
       "1255            Ileso    Cinto de segurança  Em marcha normal   \n",
       "771             Ileso          NÃO DEFINIDO      NÃO DEFINIDO   \n",
       "816             Ileso          NÃO DEFINIDO      NÃO DEFINIDO   \n",
       "1024            Ileso          NÃO DEFINIDO      NÃO DEFINIDO   \n",
       "981             Ileso          NÃO DEFINIDO      NÃO DEFINIDO   \n",
       "\n",
       "                Inf. Comp. a Acções e Manobras  \\\n",
       "714                               NÃO DEFINIDO   \n",
       "715                               NÃO DEFINIDO   \n",
       "772                               NÃO DEFINIDO   \n",
       "773                               NÃO DEFINIDO   \n",
       "539                               NÃO DEFINIDO   \n",
       "549                               NÃO DEFINIDO   \n",
       "550                               NÃO DEFINIDO   \n",
       "551                               NÃO DEFINIDO   \n",
       "552                               NÃO DEFINIDO   \n",
       "1805  Obstáculo imprevisto na faixa de rodagem   \n",
       "1804  Obstáculo imprevisto na faixa de rodagem   \n",
       "1067                              NÃO DEFINIDO   \n",
       "1066                              NÃO DEFINIDO   \n",
       "3407                          Não identificada   \n",
       "3387                          Não identificada   \n",
       "814                               NÃO DEFINIDO   \n",
       "803                               NÃO DEFINIDO   \n",
       "1246                              NÃO DEFINIDO   \n",
       "1247                              NÃO DEFINIDO   \n",
       "1254                          Não identificada   \n",
       "1255                          Não identificada   \n",
       "771                               NÃO DEFINIDO   \n",
       "816                               NÃO DEFINIDO   \n",
       "1024                              NÃO DEFINIDO   \n",
       "981                               NÃO DEFINIDO   \n",
       "\n",
       "                            Licença Condução Tempo Condução Continuada  \\\n",
       "714                             NÃO DEFINIDO              NÃO DEFINIDO   \n",
       "715                             NÃO DEFINIDO              NÃO DEFINIDO   \n",
       "772                             NÃO DEFINIDO              NÃO DEFINIDO   \n",
       "773                             NÃO DEFINIDO              NÃO DEFINIDO   \n",
       "539                             NÃO DEFINIDO              NÃO DEFINIDO   \n",
       "549                             NÃO DEFINIDO              NÃO DEFINIDO   \n",
       "550                             NÃO DEFINIDO              NÃO DEFINIDO   \n",
       "551                             NÃO DEFINIDO              NÃO DEFINIDO   \n",
       "552                             NÃO DEFINIDO              NÃO DEFINIDO   \n",
       "1805  Com licença/ carta adequada ao veiculo           Menos de 1 hora   \n",
       "1804  Com licença/ carta adequada ao veiculo           Menos de 1 hora   \n",
       "1067                            NÃO DEFINIDO              NÃO DEFINIDO   \n",
       "1066                            NÃO DEFINIDO              NÃO DEFINIDO   \n",
       "3407  Com licença/ carta adequada ao veiculo                  Ignorada   \n",
       "3387  Com licença/ carta adequada ao veiculo                  Ignorada   \n",
       "814                             NÃO DEFINIDO              NÃO DEFINIDO   \n",
       "803                             NÃO DEFINIDO              NÃO DEFINIDO   \n",
       "1246                            NÃO DEFINIDO              NÃO DEFINIDO   \n",
       "1247                            NÃO DEFINIDO              NÃO DEFINIDO   \n",
       "1254  Com licença/ carta adequada ao veiculo            De 1 a 3 horas   \n",
       "1255  Com licença/ carta adequada ao veiculo            De 1 a 3 horas   \n",
       "771                             NÃO DEFINIDO              NÃO DEFINIDO   \n",
       "816                             NÃO DEFINIDO              NÃO DEFINIDO   \n",
       "1024                            NÃO DEFINIDO              NÃO DEFINIDO   \n",
       "981                             NÃO DEFINIDO              NÃO DEFINIDO   \n",
       "\n",
       "                                           Teste Alcool Carga Lotação  \\\n",
       "714                                        NÃO DEFINIDO     Sem carga   \n",
       "715                                        NÃO DEFINIDO     Sem carga   \n",
       "772                                        NÃO DEFINIDO     Sem carga   \n",
       "773                                        NÃO DEFINIDO     Sem carga   \n",
       "539   Não submetido condutor não contactado na altur...     Sem carga   \n",
       "549   Não submetido condutor não contactado na altur...     Sem carga   \n",
       "550   Não submetido condutor não contactado na altur...     Sem carga   \n",
       "551   Não submetido condutor não contactado na altur...     Sem carga   \n",
       "552   Não submetido condutor não contactado na altur...     Sem carga   \n",
       "1805                   Submetido ao teste do álcoolemia     Sem carga   \n",
       "1804                   Submetido ao teste do álcoolemia     Sem carga   \n",
       "1067                                       NÃO DEFINIDO     Sem carga   \n",
       "1066                                       NÃO DEFINIDO     Sem carga   \n",
       "3407                   Submetido ao teste do álcoolemia     Sem carga   \n",
       "3387                   Submetido ao teste do álcoolemia     Sem carga   \n",
       "814                                        NÃO DEFINIDO     Sem carga   \n",
       "803                                        NÃO DEFINIDO     Sem carga   \n",
       "1246                                       NÃO DEFINIDO  NÃO DEFINIDO   \n",
       "1247                                       NÃO DEFINIDO  NÃO DEFINIDO   \n",
       "1254                   Submetido ao teste do álcoolemia     Sem carga   \n",
       "1255                   Submetido ao teste do álcoolemia     Sem carga   \n",
       "771                                        NÃO DEFINIDO     Sem carga   \n",
       "816                                        NÃO DEFINIDO     Sem carga   \n",
       "1024                                       NÃO DEFINIDO  NÃO DEFINIDO   \n",
       "981                                        NÃO DEFINIDO  NÃO DEFINIDO   \n",
       "\n",
       "     Certificado Adr Inspecção Periódica       Seguros  \n",
       "714     NÃO DEFINIDO              Válida    Com seguro  \n",
       "715     NÃO DEFINIDO              Válida    Com seguro  \n",
       "772     NÃO DEFINIDO              Válida    Com seguro  \n",
       "773     NÃO DEFINIDO              Válida    Com seguro  \n",
       "539     NÃO DEFINIDO     Não obrigatória    Com seguro  \n",
       "549     NÃO DEFINIDO     Não obrigatória    Com seguro  \n",
       "550     NÃO DEFINIDO     Não obrigatória    Com seguro  \n",
       "551     NÃO DEFINIDO     Não obrigatória    Com seguro  \n",
       "552     NÃO DEFINIDO     Não obrigatória    Com seguro  \n",
       "1805    NÃO DEFINIDO              Válida    Com seguro  \n",
       "1804    NÃO DEFINIDO              Válida    Com seguro  \n",
       "1067    NÃO DEFINIDO     Não obrigatória  NÃO DEFINIDO  \n",
       "1066    NÃO DEFINIDO     Não obrigatória  NÃO DEFINIDO  \n",
       "3407    NÃO DEFINIDO              Válida    Com seguro  \n",
       "3387    NÃO DEFINIDO              Válida    Com seguro  \n",
       "814     NÃO DEFINIDO              Válida    Com seguro  \n",
       "803     NÃO DEFINIDO              Válida    Com seguro  \n",
       "1246    NÃO DEFINIDO              Válida  NÃO DEFINIDO  \n",
       "1247    NÃO DEFINIDO              Válida  NÃO DEFINIDO  \n",
       "1254    NÃO DEFINIDO              Válida    Com seguro  \n",
       "1255    NÃO DEFINIDO              Válida    Com seguro  \n",
       "771     NÃO DEFINIDO              Válida    Com seguro  \n",
       "816     NÃO DEFINIDO              Válida    Com seguro  \n",
       "1024    NÃO DEFINIDO        NÃO DEFINIDO    Com seguro  \n",
       "981     NÃO DEFINIDO        NÃO DEFINIDO    Com seguro  "
      ]
     },
     "execution_count": 49,
     "metadata": {},
     "output_type": "execute_result"
    }
   ],
   "source": [
    "ansr_vehicle_driver.loc[ansr_vehicle_driver.drop(['IdAcidente', 'Id. Veiculo'], axis = 1).duplicated(keep=False)].sort_values(by='Datahora')"
   ]
  },
  {
   "cell_type": "markdown",
   "id": "confirmed-identifier",
   "metadata": {},
   "source": [
    "* It seems that there are some repeated data but the veichle information is different;\n",
    "* Altough, unlikely we for now opted to keep this inforamtion since it is difficult to confirm that these are really repeated entries."
   ]
  },
  {
   "cell_type": "markdown",
   "id": "complete-professional",
   "metadata": {},
   "source": [
    "**`Categorical variables`**\n",
    "\n",
    "In this phase we focus in evaluating the categorical variables and evalaute possible corrections."
   ]
  },
  {
   "cell_type": "code",
   "execution_count": 50,
   "id": "fuzzy-greece",
   "metadata": {},
   "outputs": [
    {
     "data": {
      "text/plain": [
       "Automóvel ligeiro                3349\n",
       "Motociclo cilindrada <= 125cc     710\n",
       "Motociclo cilindrada > 125cc      338\n",
       "Automóvel pesado                  118\n",
       "Ciclomotor                        114\n",
       "Velocípede                         87\n",
       "Velocípede com motor               79\n",
       "Triciclo                           23\n",
       "Veículo sobre carris                8\n",
       "Desconhecido                        3\n",
       "NÃO DEFINIDO                        2\n",
       "Quadriciclo                         2\n",
       "Veículo agrícola                    1\n",
       "Name: Categoria Veículos, dtype: int64"
      ]
     },
     "execution_count": 50,
     "metadata": {},
     "output_type": "execute_result"
    }
   ],
   "source": [
    "column = 'Categoria Veículos'\n",
    "ansr_vehicle_driver[column].value_counts()"
   ]
  },
  {
   "cell_type": "markdown",
   "id": "sudden-artist",
   "metadata": {},
   "source": [
    "* No defined veihcles will be substituted by the mode, sames as teh unknowns;\n",
    "* \"Velocipedes\" will be put on one group;\n",
    "* The smaller groups will all be put in a \"Outros\" group."
   ]
  },
  {
   "cell_type": "code",
   "execution_count": 51,
   "id": "acceptable-sociology",
   "metadata": {},
   "outputs": [
    {
     "data": {
      "text/plain": [
       "Passageiros         3054\n",
       "NÃO DEFINIDO        1391\n",
       "Mercadorias          331\n",
       "Veículo Especial      39\n",
       "Misto                 13\n",
       "Tractor                6\n",
       "Name: Tipo Veiculo, dtype: int64"
      ]
     },
     "execution_count": 51,
     "metadata": {},
     "output_type": "execute_result"
    }
   ],
   "source": [
    "column = 'Tipo Veiculo'\n",
    "ansr_vehicle_driver[column].value_counts()"
   ]
  },
  {
   "cell_type": "markdown",
   "id": "conventional-community",
   "metadata": {},
   "source": [
    "* This group will for now be removed since the information of veichle category is sufficient for the next steps;"
   ]
  },
  {
   "cell_type": "code",
   "execution_count": 52,
   "id": "brilliant-range",
   "metadata": {},
   "outputs": [
    {
     "data": {
      "text/plain": [
       "Masculino       3486\n",
       "Feminino        1144\n",
       "NÃO DEFINIDO     204\n",
       "Name: Sexo, dtype: int64"
      ]
     },
     "execution_count": 52,
     "metadata": {},
     "output_type": "execute_result"
    }
   ],
   "source": [
    "column = 'Sexo'\n",
    "ansr_vehicle_driver[column].value_counts()"
   ]
  },
  {
   "cell_type": "markdown",
   "id": "rental-accident",
   "metadata": {},
   "source": [
    "* No defined gender will be substituted by the mode;"
   ]
  },
  {
   "cell_type": "code",
   "execution_count": 53,
   "id": "rolled-referral",
   "metadata": {},
   "outputs": [
    {
     "data": {
      "text/plain": [
       "Ileso           2828\n",
       "Ferido leve     1972\n",
       "Ferido grave      30\n",
       "Morto              4\n",
       "Name: Lesões a 30 dias, dtype: int64"
      ]
     },
     "execution_count": 53,
     "metadata": {},
     "output_type": "execute_result"
    }
   ],
   "source": [
    "column = 'Lesões a 30 dias'\n",
    "ansr_vehicle_driver[column].value_counts()"
   ]
  },
  {
   "cell_type": "markdown",
   "id": "signal-camcorder",
   "metadata": {},
   "source": [
    "* This feature doesn't need corrections;"
   ]
  },
  {
   "cell_type": "code",
   "execution_count": 54,
   "id": "swedish-carry",
   "metadata": {},
   "outputs": [
    {
     "data": {
      "text/plain": [
       "Cinto de segurança           3047\n",
       "Capacete                     1072\n",
       "NÃO DEFINIDO                  488\n",
       "Isento                        159\n",
       "Sem uso de cinto/capacete      68\n",
       "Name: Acessórios Condutores, dtype: int64"
      ]
     },
     "execution_count": 54,
     "metadata": {},
     "output_type": "execute_result"
    }
   ],
   "source": [
    "column = 'Acessórios Condutores'\n",
    "ansr_vehicle_driver[column].value_counts()"
   ]
  },
  {
   "cell_type": "markdown",
   "id": "nutritional-cisco",
   "metadata": {},
   "source": [
    "* No defined values will be substituted by the mode;\n",
    "* Two new features will be created: \"Seguro\" and \"Inseguro\";"
   ]
  },
  {
   "cell_type": "code",
   "execution_count": 55,
   "id": "boolean-maldives",
   "metadata": {},
   "outputs": [
    {
     "data": {
      "text/plain": [
       "Em marcha normal                                3625\n",
       "NÃO DEFINIDO                                     304\n",
       "Parado ou estacionado                            246\n",
       "Mudança de direcção para a esquerda              231\n",
       "Mudança de direcção para a direita                86\n",
       "Marcha atrás                                      68\n",
       "Início de marcha                                  50\n",
       "Desvio brusco/ saída de fila de trânsito          37\n",
       "Mudança de via de trânsito para a esquerda        36\n",
       "Mudança de via de trânsito para a direita         33\n",
       "Ultrapassagem pela esquerda                       31\n",
       "Inversão do sentido de marcha                     22\n",
       "Circulação em sentido oposto ao estabelecido      19\n",
       "Saída de parqueamento ou de rua particular        18\n",
       "Travagem brusca                                   11\n",
       "Atravessando a via                                 9\n",
       "Ultrapassagem pela direita                         7\n",
       "Trânsito em filas paralelas                        1\n",
       "Name: Acções Condutores, dtype: int64"
      ]
     },
     "execution_count": 55,
     "metadata": {},
     "output_type": "execute_result"
    }
   ],
   "source": [
    "column = 'Acções Condutores'\n",
    "ansr_vehicle_driver[column].value_counts()"
   ]
  },
  {
   "cell_type": "markdown",
   "id": "personal-wellington",
   "metadata": {},
   "source": [
    "* This feature has a lot of free text information that required a larger treatment.\n",
    "* For that reason it will be removed for now."
   ]
  },
  {
   "cell_type": "code",
   "execution_count": 56,
   "id": "motivated-albany",
   "metadata": {},
   "outputs": [
    {
     "data": {
      "text/plain": [
       "Não identificada                                     3727\n",
       "NÃO DEFINIDO                                          321\n",
       "Velocidade excessiva para as condições existentes     299\n",
       "Manobra irregular                                     148\n",
       "Desrespeito das distâncias de segurança               108\n",
       "Desrespeito da sinalização vertical                    77\n",
       "Desrespeito da sinalização semafórica                  67\n",
       "Obstáculo imprevisto na faixa de rodagem               24\n",
       "Não sinalização da manobra                             20\n",
       "Desrespeito das marcas rodoviárias                     16\n",
       "Abertura de porta                                      15\n",
       "Encandeamento                                          10\n",
       "Rebentamento de pneumático                              2\n",
       "Name: Inf. Comp. a Acções e Manobras, dtype: int64"
      ]
     },
     "execution_count": 56,
     "metadata": {},
     "output_type": "execute_result"
    }
   ],
   "source": [
    "column = 'Inf. Comp. a Acções e Manobras'\n",
    "ansr_vehicle_driver[column].value_counts()"
   ]
  },
  {
   "cell_type": "markdown",
   "id": "cellular-henry",
   "metadata": {},
   "source": [
    "* This feature has a lot of free text information that required a larger treatment.\n",
    "* For that reason it will be removed for now."
   ]
  },
  {
   "cell_type": "code",
   "execution_count": 57,
   "id": "helpful-queen",
   "metadata": {},
   "outputs": [
    {
     "data": {
      "text/plain": [
       "Com licença/ carta adequada ao veiculo        4245\n",
       "NÃO DEFINIDO                                   375\n",
       "Não necessária ao veiculo que conduz           155\n",
       "Com licença/ carta não adequada ao veiculo      23\n",
       "Sem licença/carta                               22\n",
       "Caducada/ suspensa                              11\n",
       "Em situação de instrução/exame                   3\n",
       "Name: Licença Condução, dtype: int64"
      ]
     },
     "execution_count": 57,
     "metadata": {},
     "output_type": "execute_result"
    }
   ],
   "source": [
    "column = 'Licença Condução'\n",
    "ansr_vehicle_driver[column].value_counts()"
   ]
  },
  {
   "cell_type": "markdown",
   "id": "competitive-execution",
   "metadata": {},
   "source": [
    "* No defined values will be substituted by the mode;\n",
    "* Three new values willbe created: \"Com carta\", \"Não necessária\" and \"Sem carta\";"
   ]
  },
  {
   "cell_type": "code",
   "execution_count": 58,
   "id": "expensive-investment",
   "metadata": {},
   "outputs": [
    {
     "data": {
      "text/plain": [
       "Ignorada           3888\n",
       "NÃO DEFINIDO        350\n",
       "De 1 a 3 horas      318\n",
       "Menos de 1 hora     262\n",
       "De 3 a 5 horas        9\n",
       "Mais de 5 horas       7\n",
       "Name: Tempo Condução Continuada, dtype: int64"
      ]
     },
     "execution_count": 58,
     "metadata": {},
     "output_type": "execute_result"
    }
   ],
   "source": [
    "column = 'Tempo Condução Continuada'\n",
    "ansr_vehicle_driver[column].value_counts()"
   ]
  },
  {
   "cell_type": "markdown",
   "id": "otherwise-contribution",
   "metadata": {},
   "source": [
    "* We have a lot of accidents without information for this reason this feature will be removed for now."
   ]
  },
  {
   "cell_type": "code",
   "execution_count": 59,
   "id": "sufficient-ridge",
   "metadata": {},
   "outputs": [
    {
     "data": {
      "text/plain": [
       "Submetido ao teste do álcoolemia                               4252\n",
       "NÃO DEFINIDO                                                    206\n",
       "Não submetido condutor não contactado na altura do acidente     159\n",
       "Não submetido outra                                             132\n",
       "Não submetido por lesão ou morte decorrente do acidente          36\n",
       "Submetido por exame                                              25\n",
       "Não submetido por fuga                                           11\n",
       "Não submetido por doença                                         11\n",
       "Não submetido por recusa                                          2\n",
       "Name: Teste Alcool, dtype: int64"
      ]
     },
     "execution_count": 59,
     "metadata": {},
     "output_type": "execute_result"
    }
   ],
   "source": [
    "column = 'Teste Alcool'\n",
    "ansr_vehicle_driver[column].value_counts()"
   ]
  },
  {
   "cell_type": "markdown",
   "id": "parallel-olympus",
   "metadata": {},
   "source": [
    "* No information is given regarding the results of the test so this feature is not informative and will be removed;"
   ]
  },
  {
   "cell_type": "code",
   "execution_count": 60,
   "id": "exempt-philosophy",
   "metadata": {},
   "outputs": [
    {
     "data": {
      "text/plain": [
       "Sem carga                  4375\n",
       "NÃO DEFINIDO                310\n",
       "Carga bem acondicionada     139\n",
       "Com lotação excedida         10\n",
       "Name: Carga Lotação, dtype: int64"
      ]
     },
     "execution_count": 60,
     "metadata": {},
     "output_type": "execute_result"
    }
   ],
   "source": [
    "column = 'Carga Lotação'\n",
    "ansr_vehicle_driver[column].value_counts()"
   ]
  },
  {
   "cell_type": "markdown",
   "id": "solar-album",
   "metadata": {},
   "source": [
    "* No defined values will be substituted by the mode;"
   ]
  },
  {
   "cell_type": "code",
   "execution_count": 61,
   "id": "polished-wealth",
   "metadata": {},
   "outputs": [
    {
     "data": {
      "text/plain": [
       "NÃO DEFINIDO    4832\n",
       "Inexistente        2\n",
       "Name: Certificado Adr, dtype: int64"
      ]
     },
     "execution_count": 61,
     "metadata": {},
     "output_type": "execute_result"
    }
   ],
   "source": [
    "column = 'Certificado Adr'\n",
    "ansr_vehicle_driver[column].value_counts()"
   ]
  },
  {
   "cell_type": "markdown",
   "id": "unnecessary-enlargement",
   "metadata": {},
   "source": [
    "* This variable is non informative and for that reason is removed;"
   ]
  },
  {
   "cell_type": "code",
   "execution_count": 62,
   "id": "exotic-concentrate",
   "metadata": {},
   "outputs": [
    {
     "data": {
      "text/plain": [
       "Válida             2655\n",
       "Não obrigatória    1984\n",
       "NÃO DEFINIDO        156\n",
       "Sem validade         39\n",
       "Name: Inspecção Periódica, dtype: int64"
      ]
     },
     "execution_count": 62,
     "metadata": {},
     "output_type": "execute_result"
    }
   ],
   "source": [
    "column = 'Inspecção Periódica'\n",
    "ansr_vehicle_driver[column].value_counts()"
   ]
  },
  {
   "cell_type": "markdown",
   "id": "minor-mount",
   "metadata": {},
   "source": [
    "* No defined values will be substituted by the mode;"
   ]
  },
  {
   "cell_type": "code",
   "execution_count": 63,
   "id": "random-struggle",
   "metadata": {},
   "outputs": [
    {
     "data": {
      "text/plain": [
       "Com seguro      4522\n",
       "NÃO DEFINIDO     119\n",
       "Isento           114\n",
       "Sem seguro        79\n",
       "Name: Seguros, dtype: int64"
      ]
     },
     "execution_count": 63,
     "metadata": {},
     "output_type": "execute_result"
    }
   ],
   "source": [
    "column = 'Seguros'\n",
    "ansr_vehicle_driver[column].value_counts()"
   ]
  },
  {
   "cell_type": "markdown",
   "id": "objective-wilson",
   "metadata": {},
   "source": [
    "* No defined values will be substituted by the mode;"
   ]
  },
  {
   "cell_type": "markdown",
   "id": "warming-knight",
   "metadata": {},
   "source": [
    "### 3.3. ANSR passanger evaluation\n",
    "\n",
    "We next evaluate the ANSR passanger data."
   ]
  },
  {
   "cell_type": "markdown",
   "id": "requested-national",
   "metadata": {},
   "source": [
    "**`Data shape`**"
   ]
  },
  {
   "cell_type": "code",
   "execution_count": 64,
   "id": "outdoor-reset",
   "metadata": {},
   "outputs": [
    {
     "data": {
      "text/plain": [
       "(631, 8)"
      ]
     },
     "execution_count": 64,
     "metadata": {},
     "output_type": "execute_result"
    }
   ],
   "source": [
    "ansr_passengers.shape"
   ]
  },
  {
   "cell_type": "markdown",
   "id": "meaningful-vocabulary",
   "metadata": {},
   "source": [
    "We have information of almost 700 passengers."
   ]
  },
  {
   "cell_type": "markdown",
   "id": "fiscal-native",
   "metadata": {},
   "source": [
    "**`Data overview`**"
   ]
  },
  {
   "cell_type": "code",
   "execution_count": 65,
   "id": "descending-concert",
   "metadata": {
    "tags": []
   },
   "outputs": [
    {
     "data": {
      "text/html": [
       "<div>\n",
       "<style scoped>\n",
       "    .dataframe tbody tr th:only-of-type {\n",
       "        vertical-align: middle;\n",
       "    }\n",
       "\n",
       "    .dataframe tbody tr th {\n",
       "        vertical-align: top;\n",
       "    }\n",
       "\n",
       "    .dataframe thead th {\n",
       "        text-align: right;\n",
       "    }\n",
       "</style>\n",
       "<table border=\"1\" class=\"dataframe\">\n",
       "  <thead>\n",
       "    <tr style=\"text-align: right;\">\n",
       "      <th></th>\n",
       "      <th>0</th>\n",
       "      <th>1</th>\n",
       "      <th>2</th>\n",
       "    </tr>\n",
       "  </thead>\n",
       "  <tbody>\n",
       "    <tr>\n",
       "      <th>IdAcidente</th>\n",
       "      <td>20201823347</td>\n",
       "      <td>20201825716</td>\n",
       "      <td>20201824448</td>\n",
       "    </tr>\n",
       "    <tr>\n",
       "      <th>Datahora</th>\n",
       "      <td>2019:12:18 13:00:00</td>\n",
       "      <td>2019:12:30 13:00:00</td>\n",
       "      <td>2019:12:20 21:20:00</td>\n",
       "    </tr>\n",
       "    <tr>\n",
       "      <th>Id. Veículo</th>\n",
       "      <td>2</td>\n",
       "      <td>2</td>\n",
       "      <td>1</td>\n",
       "    </tr>\n",
       "    <tr>\n",
       "      <th>Id. Passageiro</th>\n",
       "      <td>1</td>\n",
       "      <td>1</td>\n",
       "      <td>1</td>\n",
       "    </tr>\n",
       "    <tr>\n",
       "      <th>Idade</th>\n",
       "      <td>22</td>\n",
       "      <td>73</td>\n",
       "      <td>26</td>\n",
       "    </tr>\n",
       "    <tr>\n",
       "      <th>Sexo</th>\n",
       "      <td>Feminino</td>\n",
       "      <td>Feminino</td>\n",
       "      <td>Feminino</td>\n",
       "    </tr>\n",
       "    <tr>\n",
       "      <th>Lesões a 30 dias</th>\n",
       "      <td>Ferido leve</td>\n",
       "      <td>Ferido leve</td>\n",
       "      <td>Ferido leve</td>\n",
       "    </tr>\n",
       "    <tr>\n",
       "      <th>Acessórios Passageiro</th>\n",
       "      <td>C/ capacete/ cinto segurança</td>\n",
       "      <td>C/ capacete/ cinto segurança</td>\n",
       "      <td>C/ capacete/ cinto segurança</td>\n",
       "    </tr>\n",
       "  </tbody>\n",
       "</table>\n",
       "</div>"
      ],
      "text/plain": [
       "                                                  0  \\\n",
       "IdAcidente                              20201823347   \n",
       "Datahora                        2019:12:18 13:00:00   \n",
       "Id. Veículo                                       2   \n",
       "Id. Passageiro                                    1   \n",
       "Idade                                            22   \n",
       "Sexo                                       Feminino   \n",
       "Lesões a 30 dias                        Ferido leve   \n",
       "Acessórios Passageiro  C/ capacete/ cinto segurança   \n",
       "\n",
       "                                                  1  \\\n",
       "IdAcidente                              20201825716   \n",
       "Datahora                        2019:12:30 13:00:00   \n",
       "Id. Veículo                                       2   \n",
       "Id. Passageiro                                    1   \n",
       "Idade                                            73   \n",
       "Sexo                                       Feminino   \n",
       "Lesões a 30 dias                        Ferido leve   \n",
       "Acessórios Passageiro  C/ capacete/ cinto segurança   \n",
       "\n",
       "                                                  2  \n",
       "IdAcidente                              20201824448  \n",
       "Datahora                        2019:12:20 21:20:00  \n",
       "Id. Veículo                                       1  \n",
       "Id. Passageiro                                    1  \n",
       "Idade                                            26  \n",
       "Sexo                                       Feminino  \n",
       "Lesões a 30 dias                        Ferido leve  \n",
       "Acessórios Passageiro  C/ capacete/ cinto segurança  "
      ]
     },
     "execution_count": 65,
     "metadata": {},
     "output_type": "execute_result"
    }
   ],
   "source": [
    "ansr_passengers.head(3).T"
   ]
  },
  {
   "cell_type": "markdown",
   "id": "august-particle",
   "metadata": {},
   "source": [
    "Main points:\n",
    "* We continue to have an Id of the accident and veichle, and now also have an id of the passanger.\n",
    "* Most of the info is regarding the passanger;"
   ]
  },
  {
   "cell_type": "markdown",
   "id": "immediate-monte",
   "metadata": {},
   "source": [
    "**`Missing values`**"
   ]
  },
  {
   "cell_type": "code",
   "execution_count": 66,
   "id": "engaged-speaking",
   "metadata": {},
   "outputs": [
    {
     "data": {
      "text/plain": [
       "IdAcidente    0\n",
       "Datahora      0\n",
       "dtype: int64"
      ]
     },
     "execution_count": 66,
     "metadata": {},
     "output_type": "execute_result"
    }
   ],
   "source": [
    "ansr_passengers.isna().sum().sort_values(ascending=False).head(2)"
   ]
  },
  {
   "cell_type": "markdown",
   "id": "fifty-massage",
   "metadata": {},
   "source": [
    "Main points:\n",
    "* No missing values."
   ]
  },
  {
   "cell_type": "markdown",
   "id": "civic-argument",
   "metadata": {},
   "source": [
    "**`Statistical evaluation`**"
   ]
  },
  {
   "cell_type": "code",
   "execution_count": 67,
   "id": "lonely-advantage",
   "metadata": {},
   "outputs": [
    {
     "data": {
      "text/html": [
       "<div>\n",
       "<style scoped>\n",
       "    .dataframe tbody tr th:only-of-type {\n",
       "        vertical-align: middle;\n",
       "    }\n",
       "\n",
       "    .dataframe tbody tr th {\n",
       "        vertical-align: top;\n",
       "    }\n",
       "\n",
       "    .dataframe thead th {\n",
       "        text-align: right;\n",
       "    }\n",
       "</style>\n",
       "<table border=\"1\" class=\"dataframe\">\n",
       "  <thead>\n",
       "    <tr style=\"text-align: right;\">\n",
       "      <th></th>\n",
       "      <th>IdAcidente</th>\n",
       "      <th>Id. Veículo</th>\n",
       "      <th>Id. Passageiro</th>\n",
       "      <th>Idade</th>\n",
       "    </tr>\n",
       "  </thead>\n",
       "  <tbody>\n",
       "    <tr>\n",
       "      <th>count</th>\n",
       "      <td>6.310000e+02</td>\n",
       "      <td>631.000000</td>\n",
       "      <td>631.000000</td>\n",
       "      <td>631.000000</td>\n",
       "    </tr>\n",
       "    <tr>\n",
       "      <th>mean</th>\n",
       "      <td>2.019199e+10</td>\n",
       "      <td>1.602219</td>\n",
       "      <td>1.304279</td>\n",
       "      <td>36.942948</td>\n",
       "    </tr>\n",
       "    <tr>\n",
       "      <th>std</th>\n",
       "      <td>1.637977e+06</td>\n",
       "      <td>0.648756</td>\n",
       "      <td>0.753382</td>\n",
       "      <td>21.194636</td>\n",
       "    </tr>\n",
       "    <tr>\n",
       "      <th>min</th>\n",
       "      <td>2.019165e+10</td>\n",
       "      <td>1.000000</td>\n",
       "      <td>1.000000</td>\n",
       "      <td>1.000000</td>\n",
       "    </tr>\n",
       "    <tr>\n",
       "      <th>25%</th>\n",
       "      <td>2.019167e+10</td>\n",
       "      <td>1.000000</td>\n",
       "      <td>1.000000</td>\n",
       "      <td>22.000000</td>\n",
       "    </tr>\n",
       "    <tr>\n",
       "      <th>50%</th>\n",
       "      <td>2.019171e+10</td>\n",
       "      <td>2.000000</td>\n",
       "      <td>1.000000</td>\n",
       "      <td>31.000000</td>\n",
       "    </tr>\n",
       "    <tr>\n",
       "      <th>75%</th>\n",
       "      <td>2.019176e+10</td>\n",
       "      <td>2.000000</td>\n",
       "      <td>1.000000</td>\n",
       "      <td>53.000000</td>\n",
       "    </tr>\n",
       "    <tr>\n",
       "      <th>max</th>\n",
       "      <td>2.020183e+10</td>\n",
       "      <td>6.000000</td>\n",
       "      <td>8.000000</td>\n",
       "      <td>95.000000</td>\n",
       "    </tr>\n",
       "  </tbody>\n",
       "</table>\n",
       "</div>"
      ],
      "text/plain": [
       "         IdAcidente  Id. Veículo  Id. Passageiro       Idade\n",
       "count  6.310000e+02   631.000000      631.000000  631.000000\n",
       "mean   2.019199e+10     1.602219        1.304279   36.942948\n",
       "std    1.637977e+06     0.648756        0.753382   21.194636\n",
       "min    2.019165e+10     1.000000        1.000000    1.000000\n",
       "25%    2.019167e+10     1.000000        1.000000   22.000000\n",
       "50%    2.019171e+10     2.000000        1.000000   31.000000\n",
       "75%    2.019176e+10     2.000000        1.000000   53.000000\n",
       "max    2.020183e+10     6.000000        8.000000   95.000000"
      ]
     },
     "execution_count": 67,
     "metadata": {},
     "output_type": "execute_result"
    }
   ],
   "source": [
    "ansr_passengers.describe()"
   ]
  },
  {
   "cell_type": "markdown",
   "id": "statutory-capacity",
   "metadata": {},
   "source": [
    "Main points:\n",
    "* Everything ok with the data."
   ]
  },
  {
   "cell_type": "code",
   "execution_count": 68,
   "id": "cardiac-valley",
   "metadata": {},
   "outputs": [
    {
     "data": {
      "text/html": [
       "<div>\n",
       "<style scoped>\n",
       "    .dataframe tbody tr th:only-of-type {\n",
       "        vertical-align: middle;\n",
       "    }\n",
       "\n",
       "    .dataframe tbody tr th {\n",
       "        vertical-align: top;\n",
       "    }\n",
       "\n",
       "    .dataframe thead th {\n",
       "        text-align: right;\n",
       "    }\n",
       "</style>\n",
       "<table border=\"1\" class=\"dataframe\">\n",
       "  <thead>\n",
       "    <tr style=\"text-align: right;\">\n",
       "      <th></th>\n",
       "      <th>count</th>\n",
       "      <th>unique</th>\n",
       "      <th>top</th>\n",
       "      <th>freq</th>\n",
       "    </tr>\n",
       "  </thead>\n",
       "  <tbody>\n",
       "    <tr>\n",
       "      <th>Datahora</th>\n",
       "      <td>631</td>\n",
       "      <td>478</td>\n",
       "      <td>2019:04:07 13:10:00</td>\n",
       "      <td>8</td>\n",
       "    </tr>\n",
       "    <tr>\n",
       "      <th>Sexo</th>\n",
       "      <td>631</td>\n",
       "      <td>2</td>\n",
       "      <td>Feminino</td>\n",
       "      <td>409</td>\n",
       "    </tr>\n",
       "    <tr>\n",
       "      <th>Lesões a 30 dias</th>\n",
       "      <td>631</td>\n",
       "      <td>3</td>\n",
       "      <td>Ferido leve</td>\n",
       "      <td>627</td>\n",
       "    </tr>\n",
       "    <tr>\n",
       "      <th>Acessórios Passageiro</th>\n",
       "      <td>631</td>\n",
       "      <td>4</td>\n",
       "      <td>C/ capacete/ cinto segurança</td>\n",
       "      <td>510</td>\n",
       "    </tr>\n",
       "  </tbody>\n",
       "</table>\n",
       "</div>"
      ],
      "text/plain": [
       "                      count unique                           top freq\n",
       "Datahora                631    478           2019:04:07 13:10:00    8\n",
       "Sexo                    631      2                      Feminino  409\n",
       "Lesões a 30 dias        631      3                   Ferido leve  627\n",
       "Acessórios Passageiro   631      4  C/ capacete/ cinto segurança  510"
      ]
     },
     "execution_count": 68,
     "metadata": {},
     "output_type": "execute_result"
    }
   ],
   "source": [
    "ansr_passengers.describe(include='O').T"
   ]
  },
  {
   "cell_type": "markdown",
   "id": "democratic-stanford",
   "metadata": {},
   "source": [
    "Main points:\n",
    "* At the first glance everything seems to be of with the data, but futher evaluation is needed."
   ]
  },
  {
   "cell_type": "markdown",
   "id": "fresh-lambda",
   "metadata": {},
   "source": [
    "**`Categorical variables`**\n",
    "\n",
    "In this phase we focus in evaluating the categorical variables and evalaute possible corrections."
   ]
  },
  {
   "cell_type": "code",
   "execution_count": 69,
   "id": "southern-basin",
   "metadata": {},
   "outputs": [
    {
     "data": {
      "text/plain": [
       "Feminino     409\n",
       "Masculino    222\n",
       "Name: Sexo, dtype: int64"
      ]
     },
     "execution_count": 69,
     "metadata": {},
     "output_type": "execute_result"
    }
   ],
   "source": [
    "column = 'Sexo'\n",
    "ansr_passengers[column].value_counts()"
   ]
  },
  {
   "cell_type": "markdown",
   "id": "healthy-interference",
   "metadata": {},
   "source": [
    "* Everything ok here."
   ]
  },
  {
   "cell_type": "code",
   "execution_count": 70,
   "id": "affecting-blowing",
   "metadata": {},
   "outputs": [
    {
     "data": {
      "text/plain": [
       "Ferido leve     627\n",
       "Morto             3\n",
       "Ferido grave      1\n",
       "Name: Lesões a 30 dias, dtype: int64"
      ]
     },
     "execution_count": 70,
     "metadata": {},
     "output_type": "execute_result"
    }
   ],
   "source": [
    "column = 'Lesões a 30 dias'\n",
    "ansr_passengers[column].value_counts()"
   ]
  },
  {
   "cell_type": "markdown",
   "id": "waiting-strike",
   "metadata": {},
   "source": [
    "* Everything ok here."
   ]
  },
  {
   "cell_type": "code",
   "execution_count": 71,
   "id": "biblical-nerve",
   "metadata": {},
   "outputs": [
    {
     "data": {
      "text/plain": [
       "C/ capacete/ cinto segurança       510\n",
       "S/ uso capacete/cinto segurança     45\n",
       "NÃO DEFINIDO                        39\n",
       "C/ sistema retenção de crianças     37\n",
       "Name: Acessórios Passageiro, dtype: int64"
      ]
     },
     "execution_count": 71,
     "metadata": {},
     "output_type": "execute_result"
    }
   ],
   "source": [
    "column = 'Acessórios Passageiro'\n",
    "ansr_passengers[column].value_counts()"
   ]
  },
  {
   "cell_type": "markdown",
   "id": "latest-bradley",
   "metadata": {},
   "source": [
    "* Similar to the driver information we will also create here two levels: \"Seguro\" and \"Inseguro\"."
   ]
  },
  {
   "cell_type": "markdown",
   "id": "stretch-guess",
   "metadata": {},
   "source": [
    "### 3.4. RSB accidents\n",
    "\n",
    "We next evaluate the RSB accidents data."
   ]
  },
  {
   "cell_type": "markdown",
   "id": "deadly-bailey",
   "metadata": {},
   "source": [
    "**`Data shape`**"
   ]
  },
  {
   "cell_type": "code",
   "execution_count": 72,
   "id": "stone-negative",
   "metadata": {},
   "outputs": [
    {
     "data": {
      "text/plain": [
       "(1817, 7)"
      ]
     },
     "execution_count": 72,
     "metadata": {},
     "output_type": "execute_result"
    }
   ],
   "source": [
    "rsb_accidents.shape"
   ]
  },
  {
   "cell_type": "markdown",
   "id": "loving-assignment",
   "metadata": {},
   "source": [
    "* We have almost 2000 accidents."
   ]
  },
  {
   "cell_type": "markdown",
   "id": "revolutionary-operation",
   "metadata": {},
   "source": [
    "**`Data overview`**"
   ]
  },
  {
   "cell_type": "code",
   "execution_count": 73,
   "id": "grateful-therapy",
   "metadata": {
    "tags": []
   },
   "outputs": [
    {
     "data": {
      "text/html": [
       "<div>\n",
       "<style scoped>\n",
       "    .dataframe tbody tr th:only-of-type {\n",
       "        vertical-align: middle;\n",
       "    }\n",
       "\n",
       "    .dataframe tbody tr th {\n",
       "        vertical-align: top;\n",
       "    }\n",
       "\n",
       "    .dataframe thead th {\n",
       "        text-align: right;\n",
       "    }\n",
       "</style>\n",
       "<table border=\"1\" class=\"dataframe\">\n",
       "  <thead>\n",
       "    <tr style=\"text-align: right;\">\n",
       "      <th></th>\n",
       "      <th>0</th>\n",
       "      <th>1</th>\n",
       "      <th>2</th>\n",
       "    </tr>\n",
       "  </thead>\n",
       "  <tbody>\n",
       "    <tr>\n",
       "      <th>code</th>\n",
       "      <td>42111/O/2019 %ob%367804042019%cb%</td>\n",
       "      <td>60907/O/2019%ob%1161715092019%cb%</td>\n",
       "      <td>51303/O/2019 %ob%466825042019%cb%</td>\n",
       "    </tr>\n",
       "    <tr>\n",
       "      <th>position</th>\n",
       "      <td>{'coordinates': [-9.14692611215691, 38.7303459...</td>\n",
       "      <td>{'coordinates': [-9.15795701650941, 38.7128447...</td>\n",
       "      <td>{'coordinates': [-9.10134876304967, 38.7442906...</td>\n",
       "    </tr>\n",
       "    <tr>\n",
       "      <th>freguesia</th>\n",
       "      <td>Avenidas Novas</td>\n",
       "      <td>Estrela</td>\n",
       "      <td>Marvila</td>\n",
       "    </tr>\n",
       "    <tr>\n",
       "      <th>tipologia</th>\n",
       "      <td>2102 - Acidentes - Rodoviários - Com viaturas</td>\n",
       "      <td>2102 - Acidentes - Rodoviários - Com viaturas</td>\n",
       "      <td>2102 - Acidentes - Rodoviários - Com viaturas</td>\n",
       "    </tr>\n",
       "    <tr>\n",
       "      <th>dtregisto</th>\n",
       "      <td>04/04/2019 02:13</td>\n",
       "      <td>15/09/2019 00:28</td>\n",
       "      <td>25/04/2019 00:01</td>\n",
       "    </tr>\n",
       "    <tr>\n",
       "      <th>dia_registo</th>\n",
       "      <td>04/04/2019</td>\n",
       "      <td>15/09/2019</td>\n",
       "      <td>25/04/2019</td>\n",
       "    </tr>\n",
       "    <tr>\n",
       "      <th>hora_registo</th>\n",
       "      <td>2</td>\n",
       "      <td>0</td>\n",
       "      <td>0</td>\n",
       "    </tr>\n",
       "  </tbody>\n",
       "</table>\n",
       "</div>"
      ],
      "text/plain": [
       "                                                              0  \\\n",
       "code                          42111/O/2019 %ob%367804042019%cb%   \n",
       "position      {'coordinates': [-9.14692611215691, 38.7303459...   \n",
       "freguesia                                        Avenidas Novas   \n",
       "tipologia         2102 - Acidentes - Rodoviários - Com viaturas   \n",
       "dtregisto                                      04/04/2019 02:13   \n",
       "dia_registo                                          04/04/2019   \n",
       "hora_registo                                                  2   \n",
       "\n",
       "                                                              1  \\\n",
       "code                          60907/O/2019%ob%1161715092019%cb%   \n",
       "position      {'coordinates': [-9.15795701650941, 38.7128447...   \n",
       "freguesia                                               Estrela   \n",
       "tipologia         2102 - Acidentes - Rodoviários - Com viaturas   \n",
       "dtregisto                                      15/09/2019 00:28   \n",
       "dia_registo                                          15/09/2019   \n",
       "hora_registo                                                  0   \n",
       "\n",
       "                                                              2  \n",
       "code                          51303/O/2019 %ob%466825042019%cb%  \n",
       "position      {'coordinates': [-9.10134876304967, 38.7442906...  \n",
       "freguesia                                               Marvila  \n",
       "tipologia         2102 - Acidentes - Rodoviários - Com viaturas  \n",
       "dtregisto                                      25/04/2019 00:01  \n",
       "dia_registo                                          25/04/2019  \n",
       "hora_registo                                                  0  "
      ]
     },
     "execution_count": 73,
     "metadata": {},
     "output_type": "execute_result"
    }
   ],
   "source": [
    "rsb_accidents.head(3).T"
   ]
  },
  {
   "cell_type": "markdown",
   "id": "royal-cambodia",
   "metadata": {},
   "source": [
    "Main points:\n",
    "* We only have information regarding the location, type and date of the accident;"
   ]
  },
  {
   "cell_type": "markdown",
   "id": "foreign-pacific",
   "metadata": {},
   "source": [
    "**`Missing values`**"
   ]
  },
  {
   "cell_type": "code",
   "execution_count": 74,
   "id": "ruled-compression",
   "metadata": {},
   "outputs": [
    {
     "data": {
      "text/plain": [
       "freguesia    32\n",
       "code          0\n",
       "dtype: int64"
      ]
     },
     "execution_count": 74,
     "metadata": {},
     "output_type": "execute_result"
    }
   ],
   "source": [
    "rsb_accidents.isna().sum().sort_values(ascending=False).head(2)"
   ]
  },
  {
   "cell_type": "markdown",
   "id": "scenic-timing",
   "metadata": {},
   "source": [
    "Main points:\n",
    "* We have a small number of missing values."
   ]
  },
  {
   "cell_type": "markdown",
   "id": "failing-musical",
   "metadata": {},
   "source": [
    "**`Statistical evaluation`**"
   ]
  },
  {
   "cell_type": "code",
   "execution_count": 75,
   "id": "industrial-habitat",
   "metadata": {},
   "outputs": [
    {
     "data": {
      "text/html": [
       "<div>\n",
       "<style scoped>\n",
       "    .dataframe tbody tr th:only-of-type {\n",
       "        vertical-align: middle;\n",
       "    }\n",
       "\n",
       "    .dataframe tbody tr th {\n",
       "        vertical-align: top;\n",
       "    }\n",
       "\n",
       "    .dataframe thead th {\n",
       "        text-align: right;\n",
       "    }\n",
       "</style>\n",
       "<table border=\"1\" class=\"dataframe\">\n",
       "  <thead>\n",
       "    <tr style=\"text-align: right;\">\n",
       "      <th></th>\n",
       "      <th>hora_registo</th>\n",
       "    </tr>\n",
       "  </thead>\n",
       "  <tbody>\n",
       "    <tr>\n",
       "      <th>count</th>\n",
       "      <td>1817.000000</td>\n",
       "    </tr>\n",
       "    <tr>\n",
       "      <th>mean</th>\n",
       "      <td>13.433682</td>\n",
       "    </tr>\n",
       "    <tr>\n",
       "      <th>std</th>\n",
       "      <td>5.934493</td>\n",
       "    </tr>\n",
       "    <tr>\n",
       "      <th>min</th>\n",
       "      <td>0.000000</td>\n",
       "    </tr>\n",
       "    <tr>\n",
       "      <th>25%</th>\n",
       "      <td>9.000000</td>\n",
       "    </tr>\n",
       "    <tr>\n",
       "      <th>50%</th>\n",
       "      <td>14.000000</td>\n",
       "    </tr>\n",
       "    <tr>\n",
       "      <th>75%</th>\n",
       "      <td>18.000000</td>\n",
       "    </tr>\n",
       "    <tr>\n",
       "      <th>max</th>\n",
       "      <td>23.000000</td>\n",
       "    </tr>\n",
       "  </tbody>\n",
       "</table>\n",
       "</div>"
      ],
      "text/plain": [
       "       hora_registo\n",
       "count   1817.000000\n",
       "mean      13.433682\n",
       "std        5.934493\n",
       "min        0.000000\n",
       "25%        9.000000\n",
       "50%       14.000000\n",
       "75%       18.000000\n",
       "max       23.000000"
      ]
     },
     "execution_count": 75,
     "metadata": {},
     "output_type": "execute_result"
    }
   ],
   "source": [
    "rsb_accidents.describe()"
   ]
  },
  {
   "cell_type": "markdown",
   "id": "naval-truth",
   "metadata": {},
   "source": [
    "Main points:\n",
    "* No problems here."
   ]
  },
  {
   "cell_type": "code",
   "execution_count": 76,
   "id": "suffering-witness",
   "metadata": {},
   "outputs": [
    {
     "data": {
      "text/html": [
       "<div>\n",
       "<style scoped>\n",
       "    .dataframe tbody tr th:only-of-type {\n",
       "        vertical-align: middle;\n",
       "    }\n",
       "\n",
       "    .dataframe tbody tr th {\n",
       "        vertical-align: top;\n",
       "    }\n",
       "\n",
       "    .dataframe thead th {\n",
       "        text-align: right;\n",
       "    }\n",
       "</style>\n",
       "<table border=\"1\" class=\"dataframe\">\n",
       "  <thead>\n",
       "    <tr style=\"text-align: right;\">\n",
       "      <th></th>\n",
       "      <th>count</th>\n",
       "      <th>unique</th>\n",
       "      <th>top</th>\n",
       "      <th>freq</th>\n",
       "    </tr>\n",
       "  </thead>\n",
       "  <tbody>\n",
       "    <tr>\n",
       "      <th>code</th>\n",
       "      <td>1817</td>\n",
       "      <td>1641</td>\n",
       "      <td>62821/O/2019%ob%1347316102019%cb%</td>\n",
       "      <td>4</td>\n",
       "    </tr>\n",
       "    <tr>\n",
       "      <th>position</th>\n",
       "      <td>1817</td>\n",
       "      <td>1214</td>\n",
       "      <td>{'coordinates': [-9.17295260295721, 38.7263530...</td>\n",
       "      <td>42</td>\n",
       "    </tr>\n",
       "    <tr>\n",
       "      <th>freguesia</th>\n",
       "      <td>1785</td>\n",
       "      <td>24</td>\n",
       "      <td>Alvalade</td>\n",
       "      <td>149</td>\n",
       "    </tr>\n",
       "    <tr>\n",
       "      <th>tipologia</th>\n",
       "      <td>1817</td>\n",
       "      <td>4</td>\n",
       "      <td>2102 - Acidentes - Rodoviários - Com viaturas</td>\n",
       "      <td>1455</td>\n",
       "    </tr>\n",
       "    <tr>\n",
       "      <th>dtregisto</th>\n",
       "      <td>1817</td>\n",
       "      <td>1618</td>\n",
       "      <td>30/11/2019 04:36</td>\n",
       "      <td>21</td>\n",
       "    </tr>\n",
       "    <tr>\n",
       "      <th>dia_registo</th>\n",
       "      <td>1817</td>\n",
       "      <td>326</td>\n",
       "      <td>30/11/2019</td>\n",
       "      <td>37</td>\n",
       "    </tr>\n",
       "  </tbody>\n",
       "</table>\n",
       "</div>"
      ],
      "text/plain": [
       "            count unique                                                top  \\\n",
       "code         1817   1641                  62821/O/2019%ob%1347316102019%cb%   \n",
       "position     1817   1214  {'coordinates': [-9.17295260295721, 38.7263530...   \n",
       "freguesia    1785     24                                           Alvalade   \n",
       "tipologia    1817      4      2102 - Acidentes - Rodoviários - Com viaturas   \n",
       "dtregisto    1817   1618                                   30/11/2019 04:36   \n",
       "dia_registo  1817    326                                         30/11/2019   \n",
       "\n",
       "             freq  \n",
       "code            4  \n",
       "position       42  \n",
       "freguesia     149  \n",
       "tipologia    1455  \n",
       "dtregisto      21  \n",
       "dia_registo    37  "
      ]
     },
     "execution_count": 76,
     "metadata": {},
     "output_type": "execute_result"
    }
   ],
   "source": [
    "rsb_accidents.describe(include='O').T"
   ]
  },
  {
   "cell_type": "markdown",
   "id": "incoming-german",
   "metadata": {},
   "source": [
    "* No problems here."
   ]
  },
  {
   "cell_type": "markdown",
   "id": "violent-reproduction",
   "metadata": {},
   "source": [
    "**`Outliers evaluation`**"
   ]
  },
  {
   "cell_type": "code",
   "execution_count": 77,
   "id": "guilty-attempt",
   "metadata": {},
   "outputs": [],
   "source": [
    "location = pd.DataFrame(rsb_accidents\n",
    "                        .position\n",
    "                        .apply(lambda x: json.loads(x.replace(\"'\", '\"'))['coordinates'])\n",
    "                        .to_list(), \n",
    "                        columns=['longitude', 'latitude'])"
   ]
  },
  {
   "cell_type": "code",
   "execution_count": 78,
   "id": "dramatic-consciousness",
   "metadata": {},
   "outputs": [
    {
     "data": {
      "text/plain": [
       "longitude    1814.539297\n",
       "latitude     1815.469951\n",
       "dtype: float64"
      ]
     },
     "execution_count": 78,
     "metadata": {},
     "output_type": "execute_result"
    }
   ],
   "source": [
    "location.kurtosis()"
   ]
  },
  {
   "cell_type": "markdown",
   "id": "czech-encoding",
   "metadata": {},
   "source": [
    "Main points:\n",
    "* It seems that we have some outliers in the latitude and longitude.\n",
    "* Let's evaluate;"
   ]
  },
  {
   "cell_type": "markdown",
   "id": "cloudy-divide",
   "metadata": {},
   "source": [
    "**`Outliers visualization`**\n",
    "\n",
    "We focus now on the latitude and longitude."
   ]
  },
  {
   "cell_type": "code",
   "execution_count": 79,
   "id": "responsible-coordinate",
   "metadata": {},
   "outputs": [
    {
     "data": {
      "text/plain": [
       "<AxesSubplot:xlabel='longitude'>"
      ]
     },
     "execution_count": 79,
     "metadata": {},
     "output_type": "execute_result"
    },
    {
     "data": {
      "image/png": "[encoded data removed]",
      "text/plain": [
       "<Figure size 1728x360 with 2 Axes>"
      ]
     },
     "metadata": {
      "needs_background": "light"
     },
     "output_type": "display_data"
    }
   ],
   "source": [
    "fig, axes = plt.subplots(1, 2, figsize=(24, 5))\n",
    "sns.boxplot(data = location, x = 'latitude', ax = axes[0])\n",
    "sns.boxplot(data = location, x = 'longitude', ax = axes[1])"
   ]
  },
  {
   "cell_type": "code",
   "execution_count": 80,
   "id": "stuffed-opposition",
   "metadata": {},
   "outputs": [
    {
     "data": {
      "text/plain": [
       "<AxesSubplot:xlabel='longitude', ylabel='latitude'>"
      ]
     },
     "execution_count": 80,
     "metadata": {},
     "output_type": "execute_result"
    },
    {
     "data": {
      "image/png": "[encoded data removed]",
      "text/plain": [
       "<Figure size 720x720 with 1 Axes>"
      ]
     },
     "metadata": {
      "needs_background": "light"
     },
     "output_type": "display_data"
    }
   ],
   "source": [
    "plt.figure(figsize = (10, 10))\n",
    "sns.scatterplot(data = location, y = 'latitude', x = 'longitude', alpha = 0.5)"
   ]
  },
  {
   "cell_type": "markdown",
   "id": "three-entrance",
   "metadata": {},
   "source": [
    "Main points:\n",
    "* It seems that we have a big outlier that should be removed;"
   ]
  },
  {
   "cell_type": "markdown",
   "id": "brazilian-novelty",
   "metadata": {},
   "source": [
    "**`Removing outliers evaluation`**"
   ]
  },
  {
   "cell_type": "code",
   "execution_count": 81,
   "id": "metallic-darwin",
   "metadata": {},
   "outputs": [],
   "source": [
    "location_no_outliers = (\n",
    "    location\n",
    "    .loc[lambda x: x['latitude'] > 0]\n",
    ")"
   ]
  },
  {
   "cell_type": "code",
   "execution_count": 82,
   "id": "jewish-nelson",
   "metadata": {},
   "outputs": [
    {
     "data": {
      "text/plain": [
       "<AxesSubplot:xlabel='longitude'>"
      ]
     },
     "execution_count": 82,
     "metadata": {},
     "output_type": "execute_result"
    },
    {
     "data": {
      "image/png": "[encoded data removed]",
      "text/plain": [
       "<Figure size 1728x360 with 2 Axes>"
      ]
     },
     "metadata": {
      "needs_background": "light"
     },
     "output_type": "display_data"
    }
   ],
   "source": [
    "fig, axes = plt.subplots(1, 2, figsize=(24, 5))\n",
    "sns.boxplot(data = location_no_outliers, x = 'latitude', ax = axes[0])\n",
    "sns.boxplot(data = location_no_outliers, x = 'longitude', ax = axes[1])"
   ]
  },
  {
   "cell_type": "code",
   "execution_count": 83,
   "id": "charged-teach",
   "metadata": {},
   "outputs": [
    {
     "data": {
      "text/plain": [
       "<AxesSubplot:xlabel='longitude', ylabel='latitude'>"
      ]
     },
     "execution_count": 83,
     "metadata": {},
     "output_type": "execute_result"
    },
    {
     "data": {
      "image/png": "[encoded data removed]",
      "text/plain": [
       "<Figure size 720x720 with 1 Axes>"
      ]
     },
     "metadata": {
      "needs_background": "light"
     },
     "output_type": "display_data"
    }
   ],
   "source": [
    "plt.figure(figsize = (10, 10))\n",
    "sns.scatterplot(data = location_no_outliers, y = 'latitude', x = 'longitude', alpha = 0.5)"
   ]
  },
  {
   "cell_type": "markdown",
   "id": "sunset-serbia",
   "metadata": {},
   "source": [
    "Main points:\n",
    "* In the boxplot we can now see that we don't have any more extreme outliers;\n",
    "* When ploting the latitude and longitude we can now see the city of Lisbon."
   ]
  },
  {
   "cell_type": "markdown",
   "id": "sixth-administration",
   "metadata": {},
   "source": [
    "**`Accident type evaluation`**"
   ]
  },
  {
   "cell_type": "code",
   "execution_count": 84,
   "id": "unavailable-separation",
   "metadata": {},
   "outputs": [
    {
     "data": {
      "text/plain": [
       "2102 - Acidentes - Rodoviários - Com viaturas        0.80\n",
       "2101 - Acidentes - Rodoviários - Atropelamento       0.10\n",
       "2103 - Acidentes - Rodoviários - Com Encarcerados    0.07\n",
       "2103 - Acidentes - Rodoviários - ComEncarcerados     0.03\n",
       "Name: tipologia, dtype: float64"
      ]
     },
     "execution_count": 84,
     "metadata": {},
     "output_type": "execute_result"
    }
   ],
   "source": [
    "rsb_accidents['tipologia'].value_counts(normalize=True).round(2)"
   ]
  },
  {
   "cell_type": "markdown",
   "id": "functional-motion",
   "metadata": {},
   "source": [
    "Main points:\n",
    "* Most of the accidents are colision accidents;"
   ]
  },
  {
   "cell_type": "markdown",
   "id": "quarterly-doubt",
   "metadata": {},
   "source": [
    "**`Duplicated accidents`**"
   ]
  },
  {
   "cell_type": "code",
   "execution_count": 85,
   "id": "chicken-ancient",
   "metadata": {},
   "outputs": [
    {
     "data": {
      "text/plain": [
       "20"
      ]
     },
     "execution_count": 85,
     "metadata": {},
     "output_type": "execute_result"
    }
   ],
   "source": [
    "rsb_accidents.drop(['code'], axis = 1).duplicated().sum()"
   ]
  },
  {
   "cell_type": "markdown",
   "id": "gothic-delivery",
   "metadata": {},
   "source": [
    "Main points:\n",
    "* We have 20 duplicated values;"
   ]
  },
  {
   "cell_type": "markdown",
   "id": "acute-clarity",
   "metadata": {},
   "source": [
    "**`Categorical variables`**\n",
    "\n",
    "In this phase we focus in evaluating the categorical variables and evalaute possible corrections."
   ]
  },
  {
   "cell_type": "code",
   "execution_count": 86,
   "id": "cooked-warrant",
   "metadata": {},
   "outputs": [
    {
     "data": {
      "text/plain": [
       "Alvalade                   149\n",
       "Avenidas Novas             142\n",
       "Olivais                    141\n",
       "Campolide                  131\n",
       "Lumiar                     129\n",
       "Alcântara                   96\n",
       "São Domingos de Benfica     95\n",
       "Benfica                     89\n",
       "Marvila                     89\n",
       "Estrela                     78\n",
       "Belém                       74\n",
       "Arroios                     66\n",
       "Santo António               65\n",
       "Campo de Ourique            58\n",
       "Parque das Nações           57\n",
       "Santa Maria Maior           57\n",
       "Carnide                     52\n",
       "Misericórdia                44\n",
       "Areeiro                     42\n",
       "Penha de França             40\n",
       "Santa Clara                 28\n",
       "São Vicente                 24\n",
       "Ajuda                       21\n",
       "Beato                       18\n",
       "Name: freguesia, dtype: int64"
      ]
     },
     "execution_count": 86,
     "metadata": {},
     "output_type": "execute_result"
    }
   ],
   "source": [
    "column = 'freguesia'\n",
    "rsb_accidents[column].value_counts()"
   ]
  },
  {
   "cell_type": "markdown",
   "id": "thick-leonard",
   "metadata": {},
   "source": [
    "* No need to make correction sin the data.\n",
    "* However we have some missing values that need to be taken care;\n",
    "* Since we have the GPS locations we opted to remove this column;"
   ]
  },
  {
   "cell_type": "code",
   "execution_count": 87,
   "id": "cellular-conservative",
   "metadata": {},
   "outputs": [
    {
     "data": {
      "text/plain": [
       "2102 - Acidentes - Rodoviários - Com viaturas        1455\n",
       "2101 - Acidentes - Rodoviários - Atropelamento        185\n",
       "2103 - Acidentes - Rodoviários - Com Encarcerados     129\n",
       "2103 - Acidentes - Rodoviários - ComEncarcerados       48\n",
       "Name: tipologia, dtype: int64"
      ]
     },
     "execution_count": 87,
     "metadata": {},
     "output_type": "execute_result"
    }
   ],
   "source": [
    "column = 'tipologia'\n",
    "rsb_accidents[column].value_counts()"
   ]
  },
  {
   "cell_type": "markdown",
   "id": "collectible-kuwait",
   "metadata": {},
   "source": [
    "* This accidents ae different from the ones in the accident file and need to be uniformized;\n",
    "* however,we will do that in the next steps."
   ]
  },
  {
   "cell_type": "markdown",
   "id": "variable-shuttle",
   "metadata": {},
   "source": [
    "## 4. Data cleaning\n",
    "\n",
    "In this step we clean all the the data using the insights gain in the exploration phase and prepare it for the preparation phase."
   ]
  },
  {
   "cell_type": "markdown",
   "id": "distant-wayne",
   "metadata": {},
   "source": [
    "### 4.1. ANSR accidents\n",
    "\n",
    "We first clean the ANSR accidents sheet."
   ]
  },
  {
   "cell_type": "markdown",
   "id": "flexible-eating",
   "metadata": {},
   "source": [
    "#### 4.1.1. User defined functions"
   ]
  },
  {
   "cell_type": "code",
   "execution_count": 88,
   "id": "strange-default",
   "metadata": {},
   "outputs": [],
   "source": [
    "def convert_to_datetime(df, date_column, date_format):\n",
    "    \"\"\" Converts the date column to datetime\"\"\"\n",
    "    df = df.copy()\n",
    "    df[date_column] = pd.to_datetime(df[date_column], format=date_format)\n",
    "    return df"
   ]
  },
  {
   "cell_type": "markdown",
   "id": "registered-nicholas",
   "metadata": {},
   "source": [
    "#### 4.1.2. Clean the data"
   ]
  },
  {
   "cell_type": "code",
   "execution_count": 89,
   "id": "normal-brief",
   "metadata": {},
   "outputs": [],
   "source": [
    "clean_ansr_accidents = (\n",
    "    ansr_accidents\n",
    "    .set_index('IdAcidente')\n",
    "    .drop(['Dia da Semana', 'Sentidos', 'Pov. Proxima', 'Num arruamento', 'Km', 'Nome arruamento', 'Via', 'Localização 2', 'VM', 'FG', 'FL'], axis=1)\n",
    "    .pipe(convert_to_datetime, date_column = 'Datahora', date_format = '%Y:%m:%d %H:%M:%S')\n",
    "    .fillna(value = {'Latitude GPS': 9999, 'Longitude GPS': 9999})\n",
    "    .replace({'Traçado 1': {'NÃO DEFINIDO': 'Recta'},\n",
    "              'Traçado 2': {'NÃO DEFINIDO': 'Em patamar'},\n",
    "              'Traçado 3': {'NÃO DEFINIDO': 'Berma pavimentada'},\n",
    "              'Traçado 4': {'NÃO DEFINIDO': 'Em plena via'},\n",
    "              'Estado Conservação': {'NÃO DEFINIDO': 'Em bom estado',\n",
    "                                     'Em estado regular': 'Em bom estado'},\n",
    "              'Marca Via': {'NÃO DEFINIDO': 'Com marcas',\n",
    "                            'Com marcas - separadoras de sentido e de vias de trânsito': 'Com marcas',\n",
    "                            'Sem marcas rodoviárias ou pouco visíveis': 'Sem marcas',\n",
    "                            'Com marcas - separadoras de sentido de trânsito': 'Com marcas'},\n",
    "              'Obstáculos': {'NÃO DEFINIDO': 'Inexistentes', \n",
    "                             'Correctamente sinalizados': 'Existentes',\n",
    "                             'Não sinalizados': 'Existentes',\n",
    "                             'Insuficentemente sinalizados': 'Existentes'},\n",
    "              'Sinais': {'NÃO DEFINIDO': 'Outros',\n",
    "                         'Stop': 'Cedência de passagem',\n",
    "                         'Proibição de ultrapassagem': 'Cedência de passagem'},\n",
    "              'Sinais Luminosos': {'NÃO DEFINIDO': 'Inexistentes',\n",
    "                                   'Desligada': 'Inexistentes'},\n",
    "              'Tipo Piso': {'NÃO DEFINIDO': 'Betuminoso',\n",
    "                            'Betão de cimento': 'Outros pisos',\n",
    "                            'Terra batida': 'Outros pisos'},\n",
    "              'Intersecção Vias': {'NÃO DEFINIDO': 'Fora da intersecção',\n",
    "                                   'Em entroncamento': 'Entrocamento/cruzamento',\n",
    "                                   'Em cruzamento': 'Entrocamento/cruzamento',\n",
    "                                   'Em via de aceleração': 'Outras vias',\n",
    "                                   'Em ramo de ligação - entrada': 'Outras vias',\n",
    "                                   'Em via de desaceleração': 'Outras vias'},\n",
    "              'Factores Atmosféricos': {'NÃO DEFINIDO': 'Bom tempo'},\n",
    "              'Luminosidade': {'NÃO DEFINIDO': 'Em pleno dia'},\n",
    "              'Cond Aderência': {'NÃO DEFINIDO': 'Seco e limpo',\n",
    "                                 'Húmido': 'Molhado',\n",
    "                                 'Com água acumulada na faixa de rodagem': 'Molhado',\n",
    "                                 'Com óleo': 'Outra aderência',\n",
    "                                 'Com gravilha ou areia': 'Outra aderência',\n",
    "                                 'Com lama': 'Outra aderência'}})\n",
    ")"
   ]
  },
  {
   "cell_type": "markdown",
   "id": "blind-grenada",
   "metadata": {},
   "source": [
    "### 4.2. ANSR veichle and drivers\n",
    "\n",
    "We first clean the ANSR veichle and drivers sheet."
   ]
  },
  {
   "cell_type": "markdown",
   "id": "aerial-nelson",
   "metadata": {},
   "source": [
    "#### 4.2.1. User defined functions"
   ]
  },
  {
   "cell_type": "code",
   "execution_count": null,
   "id": "every-spell",
   "metadata": {},
   "outputs": [],
   "source": []
  },
  {
   "cell_type": "markdown",
   "id": "controlling-scanner",
   "metadata": {},
   "source": [
    "#### 4.2.2. Clean the data"
   ]
  },
  {
   "cell_type": "code",
   "execution_count": 90,
   "id": "respective-modern",
   "metadata": {},
   "outputs": [],
   "source": [
    "clean_ansr_vehicle_driver = (\n",
    "    ansr_vehicle_driver\n",
    "    .set_index('IdAcidente')\n",
    "    .drop(['Tipo Veiculo', 'Acções Condutores', 'Tempo Condução Continuada', 'Teste Alcool', 'Certificado Adr', 'Inf. Comp. a Acções e Manobras'], axis=1)\n",
    "    .pipe(convert_to_datetime, date_column = 'Datahora', date_format = '%Y:%m:%d %H:%M:%S')\n",
    "    .replace({'Categoria Veículos': {'NÃO DEFINIDO': 'Automóvel ligeiro',\n",
    "                                     'Velocípede com motor': 'Ciclomotor',\n",
    "                                     'Veículo sobre carris': 'Outros veículos',\n",
    "                                     'Quadriciclo': 'Outros veículos',\n",
    "                                     'Triciclo': 'Outros veículos',\n",
    "                                     'Veículo agrícola': 'Outros veículos',\n",
    "                                     'Desconhecido': 'Automóvel ligeiro'},\n",
    "              'Sexo': {'NÃO DEFINIDO': 'Masculino'},\n",
    "              'Acessórios Condutores': {'NÃO DEFINIDO': 'Seguro',\n",
    "                                        'Capacete': 'Seguro',\n",
    "                                        'Isento': 'Outra segurança',\n",
    "                                        'Sem uso de cinto/capacete': 'Inseguro',\n",
    "                                        'Cinto de segurança': 'Seguro'},\n",
    "              'Licença Condução': {'NÃO DEFINIDO': 'Com carta',\n",
    "                                   'Não necessária ao veiculo que conduz': 'Outra carta',\n",
    "                                   'Com licença/ carta adequada ao veiculo': 'Com carta',\n",
    "                                   'Com licença/ carta não adequada ao veiculo': 'Sem carta',\n",
    "                                   'Sem licença/carta': 'Sem carta',\n",
    "                                   'Caducada/ suspensa': 'Sem carta', \n",
    "                                   'Em situação de instrução/exame': 'Sem carta'},\n",
    "              'Carga Lotação': {'NÃO DEFINIDO': 'Sem carga'},\n",
    "              'Inspecção Periódica': {'NÃO DEFINIDO': 'Válida'},\n",
    "              'Seguros': {'NÃO DEFINIDO': 'Com seguro'}})\n",
    "    .fillna({'Idade': ansr_vehicle_driver['Idade'].mean()})\n",
    ")"
   ]
  },
  {
   "cell_type": "markdown",
   "id": "enormous-yesterday",
   "metadata": {},
   "source": [
    "### 4.3. ANSR passengers\n",
    "\n",
    "We first clean the ANSR passengers sheet."
   ]
  },
  {
   "cell_type": "markdown",
   "id": "capable-right",
   "metadata": {},
   "source": [
    "#### 4.3.1. User defined functions"
   ]
  },
  {
   "cell_type": "code",
   "execution_count": null,
   "id": "operational-times",
   "metadata": {},
   "outputs": [],
   "source": []
  },
  {
   "cell_type": "markdown",
   "id": "external-teaching",
   "metadata": {},
   "source": [
    "#### 4.3.2. Clean the data"
   ]
  },
  {
   "cell_type": "code",
   "execution_count": 91,
   "id": "oriental-phase",
   "metadata": {},
   "outputs": [],
   "source": [
    "clean_ansr_passengers = (\n",
    "    ansr_passengers\n",
    "    .set_index('IdAcidente')\n",
    "    .pipe(convert_to_datetime, date_column = 'Datahora', date_format = '%Y:%m:%d %H:%M:%S')\n",
    "    .replace({'Acessórios Passageiro': {'C/ capacete/ cinto segurança': 'Seguro',\n",
    "                                        'S/ uso capacete/cinto segurança': 'Inseguro',\n",
    "                                        'NÃO DEFINIDO': 'Seguro',\n",
    "                                        'C/ sistema retenção de crianças': 'Seguro'}})\n",
    ")"
   ]
  },
  {
   "cell_type": "markdown",
   "id": "requested-condition",
   "metadata": {},
   "source": [
    "### 4.4. RSB accidents\n",
    "\n",
    "We first clean the RSB accidents sheet."
   ]
  },
  {
   "cell_type": "markdown",
   "id": "pediatric-entrepreneur",
   "metadata": {},
   "source": [
    "#### 4.4.1. User defined functions"
   ]
  },
  {
   "cell_type": "code",
   "execution_count": 92,
   "id": "handy-texas",
   "metadata": {},
   "outputs": [],
   "source": [
    "def add_location(df, location_column):\n",
    "    \"\"\" Converts the location json from the second file to columns \"\"\"\n",
    "    df = df.copy()\n",
    "    \n",
    "    # gets the location\n",
    "    location = pd.DataFrame(df\n",
    "                            [location_column]\n",
    "                            .apply(lambda x: json.loads(x.replace(\"'\", '\"'))['coordinates'])\n",
    "                            .to_list(), \n",
    "                            columns=['longitude', 'latitude'])\n",
    "    \n",
    "    # merges the location information\n",
    "    df = pd.concat([df.reset_index(drop=True), \n",
    "                    location.reset_index(drop=True)], axis=1)\n",
    "    \n",
    "    # drops the position column\n",
    "    df.drop(columns=[location_column], inplace=True)\n",
    "    return df"
   ]
  },
  {
   "cell_type": "markdown",
   "id": "understanding-convergence",
   "metadata": {},
   "source": [
    "#### 4.4.2. Clean the data"
   ]
  },
  {
   "cell_type": "code",
   "execution_count": 93,
   "id": "herbal-partition",
   "metadata": {},
   "outputs": [],
   "source": [
    "clean_rsb_accidents = (\n",
    "    rsb_accidents\n",
    "    .drop(['code', 'freguesia', 'dia_registo', 'hora_registo'], axis=1)\n",
    "    .drop_duplicates()\n",
    "    .pipe(convert_to_datetime, date_column = 'dtregisto', date_format = '%d/%m/%Y %H:%M')\n",
    "    .pipe(add_location, 'position')\n",
    ")"
   ]
  },
  {
   "cell_type": "markdown",
   "id": "naked-silly",
   "metadata": {},
   "source": [
    "## 5. Data preparation\n",
    "\n",
    "In this we prepare the accidents data for the next evaluations: We create 3 files:\n",
    "* Accident data with geolocation;\n",
    "* Accident data without geolocation;\n",
    "* Accident data with police report information;"
   ]
  },
  {
   "cell_type": "markdown",
   "id": "civil-teaching",
   "metadata": {},
   "source": [
    "### 4.1. Accident data with geolocation"
   ]
  },
  {
   "cell_type": "markdown",
   "id": "molecular-infrastructure",
   "metadata": {},
   "source": [
    "**`Prepare data`**"
   ]
  },
  {
   "cell_type": "code",
   "execution_count": 94,
   "id": "professional-shore",
   "metadata": {},
   "outputs": [],
   "source": [
    "ansr_data = (\n",
    "    clean_ansr_accidents\n",
    "    [['Datahora', 'Latitude GPS', 'Longitude GPS', 'Tipo Natureza']]\n",
    "    .rename(columns = {'Datahora': 'data', \n",
    "                       'Latitude GPS': 'latitude',\n",
    "                       'Longitude GPS': 'longitude',\n",
    "                       'Tipo Natureza': 'tipo acidente'})\n",
    "    .query('latitude < 9000')\n",
    "    .replace({'tipo acidente': {'Colisão' : 'Colisão/Despiste',\n",
    "                                'Despiste': 'Colisão/Despiste'}})\n",
    "    .sort_values(by = 'data')\n",
    "    .reset_index(drop = True)\n",
    ")"
   ]
  },
  {
   "cell_type": "code",
   "execution_count": 95,
   "id": "strange-voice",
   "metadata": {},
   "outputs": [],
   "source": [
    "rsb_data = (\n",
    "    clean_rsb_accidents\n",
    "    .rename(columns = {'dtregisto': 'data', \n",
    "                       'tipologia': 'tipo acidente'})\n",
    "    .replace({'tipo acidente': {'2102 - Acidentes - Rodoviários - Com viaturas' : 'Colisão/Despiste',\n",
    "                                '2101 - Acidentes - Rodoviários - Atropelamento' : 'Atropelamento',\n",
    "                                '2103 - Acidentes - Rodoviários - Com Encarcerados' : 'Colisão/Despiste',\n",
    "                                '2103 - Acidentes - Rodoviários - ComEncarcerados': 'Colisão/Despiste'}})\n",
    "    .sort_values(by = 'data')\n",
    "    .reset_index(drop = True)\n",
    ")"
   ]
  },
  {
   "cell_type": "markdown",
   "id": "dying-shark",
   "metadata": {},
   "source": [
    "**`Merge the data`**"
   ]
  },
  {
   "cell_type": "code",
   "execution_count": 96,
   "id": "upset-guatemala",
   "metadata": {},
   "outputs": [],
   "source": [
    "data_w_geolocation = pd.concat([ansr_data, rsb_data])"
   ]
  },
  {
   "cell_type": "markdown",
   "id": "compatible-award",
   "metadata": {},
   "source": [
    "**`Save the data`**"
   ]
  },
  {
   "cell_type": "code",
   "execution_count": 97,
   "id": "ancient-solid",
   "metadata": {},
   "outputs": [],
   "source": [
    "data_w_geolocation.to_parquet('../00-data/processed/data_w_geolocation.parquet')"
   ]
  },
  {
   "cell_type": "markdown",
   "id": "ethical-capacity",
   "metadata": {},
   "source": [
    "### 4.2. Accident data without geolocation"
   ]
  },
  {
   "cell_type": "markdown",
   "id": "public-terry",
   "metadata": {},
   "source": [
    "**`Prepare data`**"
   ]
  },
  {
   "cell_type": "code",
   "execution_count": 98,
   "id": "boring-hydrogen",
   "metadata": {},
   "outputs": [],
   "source": [
    "ansr_data = (\n",
    "    clean_ansr_accidents\n",
    "    [['Datahora', 'Tipo Natureza']]\n",
    "    .rename(columns = {'Datahora': 'data', \n",
    "                       'Tipo Natureza': 'tipo acidente'})\n",
    "    .replace({'tipo acidente': {'Colisão' : 'Colisão/Despiste',\n",
    "                                'Despiste': 'Colisão/Despiste'}})\n",
    "    .sort_values(by = 'data')\n",
    "    .reset_index(drop = True)\n",
    ")"
   ]
  },
  {
   "cell_type": "code",
   "execution_count": 99,
   "id": "exposed-advertising",
   "metadata": {},
   "outputs": [],
   "source": [
    "rsb_data = (\n",
    "    clean_rsb_accidents\n",
    "    [['dtregisto', 'tipologia']]\n",
    "    .rename(columns = {'dtregisto': 'data', \n",
    "                       'tipologia': 'tipo acidente'})\n",
    "    .replace({'tipo acidente': {'2102 - Acidentes - Rodoviários - Com viaturas' : 'Colisão/Despiste',\n",
    "                                '2101 - Acidentes - Rodoviários - Atropelamento' : 'Atropelamento',\n",
    "                                '2103 - Acidentes - Rodoviários - Com Encarcerados' : 'Colisão/Despiste',\n",
    "                                '2103 - Acidentes - Rodoviários - ComEncarcerados': 'Colisão/Despiste'}})\n",
    "    .sort_values(by = 'data')\n",
    "    .reset_index(drop = True)\n",
    ")"
   ]
  },
  {
   "cell_type": "markdown",
   "id": "covered-fleece",
   "metadata": {},
   "source": [
    "**`Merge the data`**"
   ]
  },
  {
   "cell_type": "code",
   "execution_count": 100,
   "id": "stopped-credits",
   "metadata": {},
   "outputs": [],
   "source": [
    "data_wo_geolocation = pd.concat([ansr_data, rsb_data])"
   ]
  },
  {
   "cell_type": "markdown",
   "id": "subject-fashion",
   "metadata": {},
   "source": [
    "**`Save the data`**"
   ]
  },
  {
   "cell_type": "code",
   "execution_count": 101,
   "id": "solid-florence",
   "metadata": {},
   "outputs": [],
   "source": [
    "data_wo_geolocation.to_parquet('../00-data/processed/data_wo_geolocation.parquet')"
   ]
  },
  {
   "cell_type": "markdown",
   "id": "harmful-ghost",
   "metadata": {},
   "source": [
    "### 4.3. Accident data with drivers and passengers information"
   ]
  },
  {
   "cell_type": "markdown",
   "id": "relative-category",
   "metadata": {},
   "source": [
    "**`Prepare data`**"
   ]
  },
  {
   "cell_type": "code",
   "execution_count": 121,
   "id": "brave-trading",
   "metadata": {},
   "outputs": [],
   "source": [
    "accidents_drivers = (\n",
    "    clean_ansr_accidents\n",
    "    .drop(columns = ['Datahora', 'Latitude GPS', 'Longitude GPS'])\n",
    "    .merge(clean_ansr_vehicle_driver, left_index=True, right_index=True)\n",
    "    .rename(columns = {'Acessórios Condutores': 'Acessórios',\n",
    "                       'Id. Veiculo': 'Id. Veículo'})\n",
    "    .reset_index()\n",
    ")"
   ]
  },
  {
   "cell_type": "code",
   "execution_count": 122,
   "id": "incident-constraint",
   "metadata": {},
   "outputs": [],
   "source": [
    "accidents_passengers = (\n",
    "    accidents_drivers\n",
    "    .drop(columns = ['Idade', 'Sexo', 'Lesões a 30 dias', 'Acessórios'])\n",
    "    .merge(clean_ansr_passengers\n",
    "           .drop(columns = ['Datahora', 'Id. Passageiro'])\n",
    "           .rename(columns = {'Acessórios Passageiro': 'Acessórios'})\n",
    "           .reset_index(), on=['IdAcidente', 'Id. Veículo'])\n",
    ")"
   ]
  },
  {
   "cell_type": "markdown",
   "id": "national-velvet",
   "metadata": {},
   "source": [
    "**`Merge the data`**"
   ]
  },
  {
   "cell_type": "code",
   "execution_count": 123,
   "id": "gothic-robinson",
   "metadata": {},
   "outputs": [],
   "source": [
    "accidents_drivers_passengers = pd.concat([accidents_drivers, accidents_passengers])"
   ]
  },
  {
   "cell_type": "markdown",
   "id": "worldwide-fairy",
   "metadata": {},
   "source": [
    "**`Save the data`**"
   ]
  },
  {
   "cell_type": "code",
   "execution_count": 125,
   "id": "legendary-leonard",
   "metadata": {},
   "outputs": [],
   "source": [
    "accidents_drivers_passengers.to_parquet('../00-data/processed/accidents_drivers_passengers.parquet')"
   ]
  },
  {
   "cell_type": "markdown",
   "id": "defensive-desperate",
   "metadata": {},
   "source": [
    "### 4.4. Accident data with pedestrian info"
   ]
  },
  {
   "cell_type": "markdown",
   "id": "assumed-trunk",
   "metadata": {},
   "source": [
    "**`Prepare data`**"
   ]
  },
  {
   "cell_type": "code",
   "execution_count": null,
   "id": "prerequisite-upset",
   "metadata": {},
   "outputs": [],
   "source": []
  },
  {
   "cell_type": "markdown",
   "id": "intimate-morgan",
   "metadata": {},
   "source": [
    "**`Merge the data`**"
   ]
  },
  {
   "cell_type": "code",
   "execution_count": null,
   "id": "informal-saturn",
   "metadata": {},
   "outputs": [],
   "source": []
  },
  {
   "cell_type": "markdown",
   "id": "standard-panama",
   "metadata": {},
   "source": [
    "**`Save the data`**"
   ]
  },
  {
   "cell_type": "code",
   "execution_count": null,
   "id": "fitted-conversion",
   "metadata": {},
   "outputs": [],
   "source": []
  }
 ],
 "metadata": {
  "kernelspec": {
   "display_name": "Python 3",
   "language": "python",
   "name": "python3"
  },
  "language_info": {
   "codemirror_mode": {
    "name": "ipython",
    "version": 3
   },
   "file_extension": ".py",
   "mimetype": "text/x-python",
   "name": "python",
   "nbconvert_exporter": "python",
   "pygments_lexer": "ipython3",
   "version": "3.8.5"
  }
 },
 "nbformat": 4,
 "nbformat_minor": 5
}
