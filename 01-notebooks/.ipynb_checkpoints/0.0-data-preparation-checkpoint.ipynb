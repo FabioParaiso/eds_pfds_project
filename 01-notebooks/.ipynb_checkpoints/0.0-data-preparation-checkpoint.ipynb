{
 "cells": [
  {
   "cell_type": "markdown",
   "metadata": {},
   "source": [
    "## 0. Overview\n",
    "\n",
    "**Main points:**\n",
    "1. We were given two files with the 2019 registered accidents in Lisbon;\n",
    "2. Since both of the files have different information, we have to decide which data to use and how to normalize it;\n",
    "3. We need to explore the data to decide wich data to keep.\n",
    "\n",
    "This notebook has the main objective of preparing the accident data for further evaluation. To clean the data we first need to perform basic exploration of the data and understand what needs to be done. "
   ]
  },
  {
   "cell_type": "markdown",
   "metadata": {},
   "source": [
    "## 1. Import the required modules\n",
    "\n",
    "First we import the necessary modules."
   ]
  },
  {
   "cell_type": "code",
   "execution_count": 1,
   "metadata": {},
   "outputs": [],
   "source": [
    "import pandas as pd\n",
    "import numpy as np\n",
    "import json\n",
    "from haversine import haversine_vector, Unit\n",
    "import ast\n",
    "import seaborn as sns\n",
    "import matplotlib.pyplot as plt"
   ]
  },
  {
   "cell_type": "markdown",
   "metadata": {},
   "source": [
    "## 2. Load accident data"
   ]
  },
  {
   "cell_type": "markdown",
   "metadata": {},
   "source": [
    "**`First file`**\n",
    "\n",
    "1. This file has multiple sheets, so we will import each of the sheets to a different data frame."
   ]
  },
  {
   "cell_type": "code",
   "execution_count": 2,
   "metadata": {},
   "outputs": [],
   "source": [
    "first_file_path = '../00-data/raw/Acidentes_ANSR_2019_desafio_lxdatalab_2020_21.xlsx'\n",
    "accidents_first_file = pd.read_excel(first_file_path, sheet_name='acidentes')\n",
    "vehicle_first_file = pd.read_excel(first_file_path, sheet_name='veíc-cond')\n",
    "passangers_first_file = pd.read_excel(first_file_path, sheet_name='passageiros')\n",
    "pedestrians_first_file = pd.read_excel(first_file_path, sheet_name='peões')"
   ]
  },
  {
   "cell_type": "markdown",
   "metadata": {},
   "source": [
    "**`Second file`**\n",
    "1. Second file is more simple and has less information."
   ]
  },
  {
   "cell_type": "code",
   "execution_count": 3,
   "metadata": {},
   "outputs": [],
   "source": [
    "second_file_path = '../00-data/raw/RSB_AcidentesRodoviarios2019.csv'\n",
    "accidents_second_file = pd.read_csv(second_file_path, sep=';', encoding='cp1252')"
   ]
  },
  {
   "cell_type": "markdown",
   "metadata": {},
   "source": [
    "## 3. Data exploration\n",
    "\n",
    "In this chapter we perform basic data exploration using diferent methods. We try to evaluate the data and verify its quality (errors, outliers available data using basic and graphical tools."
   ]
  },
  {
   "cell_type": "markdown",
   "metadata": {},
   "source": [
    "### 3.1. Accidents first file\n",
    "\n",
    "First we evaluate the first file of accidents."
   ]
  },
  {
   "cell_type": "markdown",
   "metadata": {},
   "source": [
    "**`Data shape`**"
   ]
  },
  {
   "cell_type": "code",
   "execution_count": 4,
   "metadata": {},
   "outputs": [
    {
     "data": {
      "text/plain": [
       "(2768, 37)"
      ]
     },
     "execution_count": 4,
     "metadata": {},
     "output_type": "execute_result"
    }
   ],
   "source": [
    "accidents_first_file.shape"
   ]
  },
  {
   "cell_type": "markdown",
   "metadata": {},
   "source": [
    "We have information of almost 3000 accidents."
   ]
  },
  {
   "cell_type": "markdown",
   "metadata": {},
   "source": [
    "**`Data overview`**"
   ]
  },
  {
   "cell_type": "code",
   "execution_count": 5,
   "metadata": {
    "tags": []
   },
   "outputs": [
    {
     "data": {
      "text/html": [
       "<div>\n",
       "<style scoped>\n",
       "    .dataframe tbody tr th:only-of-type {\n",
       "        vertical-align: middle;\n",
       "    }\n",
       "\n",
       "    .dataframe tbody tr th {\n",
       "        vertical-align: top;\n",
       "    }\n",
       "\n",
       "    .dataframe thead th {\n",
       "        text-align: right;\n",
       "    }\n",
       "</style>\n",
       "<table border=\"1\" class=\"dataframe\">\n",
       "  <thead>\n",
       "    <tr style=\"text-align: right;\">\n",
       "      <th></th>\n",
       "      <th>0</th>\n",
       "      <th>1</th>\n",
       "      <th>2</th>\n",
       "      <th>3</th>\n",
       "      <th>4</th>\n",
       "    </tr>\n",
       "  </thead>\n",
       "  <tbody>\n",
       "    <tr>\n",
       "      <th>IdAcidente</th>\n",
       "      <td>20191648491</td>\n",
       "      <td>20191648498</td>\n",
       "      <td>20191648520</td>\n",
       "      <td>20191649633</td>\n",
       "      <td>20191649654</td>\n",
       "    </tr>\n",
       "    <tr>\n",
       "      <th>Datahora</th>\n",
       "      <td>2019:01:02 15:10:00</td>\n",
       "      <td>2019:01:02 16:45:00</td>\n",
       "      <td>2019:01:02 13:05:00</td>\n",
       "      <td>2019:01:03 09:20:00</td>\n",
       "      <td>2019:01:03 18:15:00</td>\n",
       "    </tr>\n",
       "    <tr>\n",
       "      <th>Dia da Semana</th>\n",
       "      <td>Quarta-Feira</td>\n",
       "      <td>Quarta-Feira</td>\n",
       "      <td>Quarta-Feira</td>\n",
       "      <td>Quinta-Feira</td>\n",
       "      <td>Quinta-Feira</td>\n",
       "    </tr>\n",
       "    <tr>\n",
       "      <th>Sentidos</th>\n",
       "      <td>NÃO DEFINIDO</td>\n",
       "      <td>NÃO DEFINIDO</td>\n",
       "      <td>NÃO DEFINIDO</td>\n",
       "      <td>NÃO DEFINIDO</td>\n",
       "      <td>NÃO DEFINIDO</td>\n",
       "    </tr>\n",
       "    <tr>\n",
       "      <th>Latitude GPS</th>\n",
       "      <td>38.768367</td>\n",
       "      <td>38.719096</td>\n",
       "      <td>38.728779</td>\n",
       "      <td>38.793481</td>\n",
       "      <td>NaN</td>\n",
       "    </tr>\n",
       "    <tr>\n",
       "      <th>Longitude GPS</th>\n",
       "      <td>-9.172899</td>\n",
       "      <td>-9.15613</td>\n",
       "      <td>-9.147518</td>\n",
       "      <td>-9.151816</td>\n",
       "      <td>NaN</td>\n",
       "    </tr>\n",
       "    <tr>\n",
       "      <th>Via Trânsito</th>\n",
       "      <td>Direita</td>\n",
       "      <td>Esquerda</td>\n",
       "      <td>Central</td>\n",
       "      <td>Direita</td>\n",
       "      <td>Direita</td>\n",
       "    </tr>\n",
       "    <tr>\n",
       "      <th>Localizações</th>\n",
       "      <td>Dentro das localidades</td>\n",
       "      <td>Dentro das localidades</td>\n",
       "      <td>Dentro das localidades</td>\n",
       "      <td>Dentro das localidades</td>\n",
       "      <td>Dentro das localidades</td>\n",
       "    </tr>\n",
       "    <tr>\n",
       "      <th>Freguesia</th>\n",
       "      <td>Lumiar</td>\n",
       "      <td>Campo de Ourique</td>\n",
       "      <td>Avenidas Novas</td>\n",
       "      <td>Santa Clara</td>\n",
       "      <td>Santo António</td>\n",
       "    </tr>\n",
       "    <tr>\n",
       "      <th>Pov. Proxima</th>\n",
       "      <td>Lisboa</td>\n",
       "      <td>Lisboa</td>\n",
       "      <td>Lisboa</td>\n",
       "      <td>NaN</td>\n",
       "      <td>NaN</td>\n",
       "    </tr>\n",
       "    <tr>\n",
       "      <th>Tipo Natureza</th>\n",
       "      <td>Atropelamento</td>\n",
       "      <td>Atropelamento</td>\n",
       "      <td>Colisão</td>\n",
       "      <td>Atropelamento</td>\n",
       "      <td>Colisão</td>\n",
       "    </tr>\n",
       "    <tr>\n",
       "      <th>Natureza</th>\n",
       "      <td>Atropelamento de peões</td>\n",
       "      <td>Atropelamento de peões</td>\n",
       "      <td>Colisão lateral com outro veículo em movimento</td>\n",
       "      <td>Atropelamento de peões</td>\n",
       "      <td>Colisão traseira com outro veículo em movimento</td>\n",
       "    </tr>\n",
       "    <tr>\n",
       "      <th>Traçado 1</th>\n",
       "      <td>Recta</td>\n",
       "      <td>Recta</td>\n",
       "      <td>Recta</td>\n",
       "      <td>Recta</td>\n",
       "      <td>Recta</td>\n",
       "    </tr>\n",
       "    <tr>\n",
       "      <th>Traçado 2</th>\n",
       "      <td>Em patamar</td>\n",
       "      <td>Em patamar</td>\n",
       "      <td>Com inclinação</td>\n",
       "      <td>Em patamar</td>\n",
       "      <td>Com inclinação</td>\n",
       "    </tr>\n",
       "    <tr>\n",
       "      <th>Traçado 3</th>\n",
       "      <td>Sem berma ou impraticável</td>\n",
       "      <td>Sem berma ou impraticável</td>\n",
       "      <td>Sem berma ou impraticável</td>\n",
       "      <td>Sem berma ou impraticável</td>\n",
       "      <td>Sem berma ou impraticável</td>\n",
       "    </tr>\n",
       "    <tr>\n",
       "      <th>Traçado 4</th>\n",
       "      <td>Em parque de estacionamento</td>\n",
       "      <td>Em plena via</td>\n",
       "      <td>Em plena via</td>\n",
       "      <td>Em plena via</td>\n",
       "      <td>Em plena via</td>\n",
       "    </tr>\n",
       "    <tr>\n",
       "      <th>Estado Conservação</th>\n",
       "      <td>Em bom estado</td>\n",
       "      <td>Em bom estado</td>\n",
       "      <td>Em bom estado</td>\n",
       "      <td>Em estado regular</td>\n",
       "      <td>Em bom estado</td>\n",
       "    </tr>\n",
       "    <tr>\n",
       "      <th>Características Tecnicas</th>\n",
       "      <td>Estrada sem separador</td>\n",
       "      <td>Estrada sem separador</td>\n",
       "      <td>Outra via</td>\n",
       "      <td>Estrada sem separador</td>\n",
       "      <td>Estrada sem separador</td>\n",
       "    </tr>\n",
       "    <tr>\n",
       "      <th>Reg Circulação</th>\n",
       "      <td>Sentido único</td>\n",
       "      <td>Dois sentidos</td>\n",
       "      <td>Sentido único</td>\n",
       "      <td>Dois sentidos</td>\n",
       "      <td>Dois sentidos</td>\n",
       "    </tr>\n",
       "    <tr>\n",
       "      <th>Marca Via</th>\n",
       "      <td>NÃO DEFINIDO</td>\n",
       "      <td>Com marcas - separadoras de sentido e de vias ...</td>\n",
       "      <td>Com marcas - separadoras de sentido e de vias ...</td>\n",
       "      <td>Sem marcas rodoviárias ou pouco visíveis</td>\n",
       "      <td>Com marcas - separadoras de sentido e de vias ...</td>\n",
       "    </tr>\n",
       "    <tr>\n",
       "      <th>Obstáculos</th>\n",
       "      <td>Inexistentes</td>\n",
       "      <td>Inexistentes</td>\n",
       "      <td>Inexistentes</td>\n",
       "      <td>Inexistentes</td>\n",
       "      <td>Inexistentes</td>\n",
       "    </tr>\n",
       "    <tr>\n",
       "      <th>Sinais</th>\n",
       "      <td>NÃO DEFINIDO</td>\n",
       "      <td>Outros</td>\n",
       "      <td>Passagem de peões</td>\n",
       "      <td>Outros</td>\n",
       "      <td>NÃO DEFINIDO</td>\n",
       "    </tr>\n",
       "    <tr>\n",
       "      <th>Sinais Luminosos</th>\n",
       "      <td>NÃO DEFINIDO</td>\n",
       "      <td>A funcionar normalmente</td>\n",
       "      <td>A funcionar normalmente</td>\n",
       "      <td>Desligada</td>\n",
       "      <td>A funcionar normalmente</td>\n",
       "    </tr>\n",
       "    <tr>\n",
       "      <th>Tipo Piso</th>\n",
       "      <td>Betão de cimento</td>\n",
       "      <td>Betuminoso</td>\n",
       "      <td>Betuminoso</td>\n",
       "      <td>Betuminoso</td>\n",
       "      <td>Betuminoso</td>\n",
       "    </tr>\n",
       "    <tr>\n",
       "      <th>Intersecção Vias</th>\n",
       "      <td>NÃO DEFINIDO</td>\n",
       "      <td>Fora da intersecção</td>\n",
       "      <td>Em entroncamento</td>\n",
       "      <td>Fora da intersecção</td>\n",
       "      <td>Em entroncamento</td>\n",
       "    </tr>\n",
       "    <tr>\n",
       "      <th>Factores Atmosféricos</th>\n",
       "      <td>NÃO DEFINIDO</td>\n",
       "      <td>Bom tempo</td>\n",
       "      <td>Bom tempo</td>\n",
       "      <td>Bom tempo</td>\n",
       "      <td>Bom tempo</td>\n",
       "    </tr>\n",
       "    <tr>\n",
       "      <th>Luminosidade</th>\n",
       "      <td>Em pleno dia</td>\n",
       "      <td>Em pleno dia</td>\n",
       "      <td>Em pleno dia</td>\n",
       "      <td>Em pleno dia</td>\n",
       "      <td>Noite, com iluminação</td>\n",
       "    </tr>\n",
       "    <tr>\n",
       "      <th>Cond Aderência</th>\n",
       "      <td>Seco e limpo</td>\n",
       "      <td>Seco e limpo</td>\n",
       "      <td>Seco e limpo</td>\n",
       "      <td>Seco e limpo</td>\n",
       "      <td>Seco e limpo</td>\n",
       "    </tr>\n",
       "    <tr>\n",
       "      <th>VM</th>\n",
       "      <td>0</td>\n",
       "      <td>0</td>\n",
       "      <td>0</td>\n",
       "      <td>0</td>\n",
       "      <td>0</td>\n",
       "    </tr>\n",
       "    <tr>\n",
       "      <th>FG</th>\n",
       "      <td>0</td>\n",
       "      <td>0</td>\n",
       "      <td>0</td>\n",
       "      <td>0</td>\n",
       "      <td>0</td>\n",
       "    </tr>\n",
       "    <tr>\n",
       "      <th>FL</th>\n",
       "      <td>1</td>\n",
       "      <td>3</td>\n",
       "      <td>1</td>\n",
       "      <td>1</td>\n",
       "      <td>1</td>\n",
       "    </tr>\n",
       "    <tr>\n",
       "      <th>Tipos Vias</th>\n",
       "      <td>Arruamento</td>\n",
       "      <td>Arruamento</td>\n",
       "      <td>Arruamento</td>\n",
       "      <td>Arruamento</td>\n",
       "      <td>Arruamento</td>\n",
       "    </tr>\n",
       "    <tr>\n",
       "      <th>Via</th>\n",
       "      <td>0</td>\n",
       "      <td>0</td>\n",
       "      <td>0</td>\n",
       "      <td>0</td>\n",
       "      <td>0</td>\n",
       "    </tr>\n",
       "    <tr>\n",
       "      <th>Num arruamento</th>\n",
       "      <td>0</td>\n",
       "      <td>9</td>\n",
       "      <td>16</td>\n",
       "      <td>2</td>\n",
       "      <td>0</td>\n",
       "    </tr>\n",
       "    <tr>\n",
       "      <th>Km</th>\n",
       "      <td>NaN</td>\n",
       "      <td>NaN</td>\n",
       "      <td>NaN</td>\n",
       "      <td>NaN</td>\n",
       "      <td>NaN</td>\n",
       "    </tr>\n",
       "    <tr>\n",
       "      <th>Nome arruamento</th>\n",
       "      <td>Azinhaga Ulmeiros</td>\n",
       "      <td>Avenida Álvares Cabral</td>\n",
       "      <td>Avenida Fontes Pereira de Melo</td>\n",
       "      <td>Vila Paulo Jorge</td>\n",
       "      <td>Avenida Liberdade</td>\n",
       "    </tr>\n",
       "    <tr>\n",
       "      <th>Localização 2</th>\n",
       "      <td>Sem GPS - estimado</td>\n",
       "      <td>Sem GPS - estimado</td>\n",
       "      <td>Sem GPS - estimado</td>\n",
       "      <td>Sem GPS - estimado</td>\n",
       "      <td>Sem GPS - não estimado</td>\n",
       "    </tr>\n",
       "  </tbody>\n",
       "</table>\n",
       "</div>"
      ],
      "text/plain": [
       "                                                    0  \\\n",
       "IdAcidente                                20191648491   \n",
       "Datahora                          2019:01:02 15:10:00   \n",
       "Dia da Semana                           Quarta-Feira    \n",
       "Sentidos                                 NÃO DEFINIDO   \n",
       "Latitude GPS                                38.768367   \n",
       "Longitude GPS                               -9.172899   \n",
       "Via Trânsito                                  Direita   \n",
       "Localizações                   Dentro das localidades   \n",
       "Freguesia                                      Lumiar   \n",
       "Pov. Proxima                                   Lisboa   \n",
       "Tipo Natureza                           Atropelamento   \n",
       "Natureza                       Atropelamento de peões   \n",
       "Traçado 1                                       Recta   \n",
       "Traçado 2                                  Em patamar   \n",
       "Traçado 3                   Sem berma ou impraticável   \n",
       "Traçado 4                 Em parque de estacionamento   \n",
       "Estado Conservação                      Em bom estado   \n",
       "Características Tecnicas        Estrada sem separador   \n",
       "Reg Circulação                          Sentido único   \n",
       "Marca Via                                NÃO DEFINIDO   \n",
       "Obstáculos                               Inexistentes   \n",
       "Sinais                                   NÃO DEFINIDO   \n",
       "Sinais Luminosos                         NÃO DEFINIDO   \n",
       "Tipo Piso                            Betão de cimento   \n",
       "Intersecção Vias                         NÃO DEFINIDO   \n",
       "Factores Atmosféricos                    NÃO DEFINIDO   \n",
       "Luminosidade                             Em pleno dia   \n",
       "Cond Aderência                           Seco e limpo   \n",
       "VM                                                  0   \n",
       "FG                                                  0   \n",
       "FL                                                  1   \n",
       "Tipos Vias                                 Arruamento   \n",
       "Via                                                 0   \n",
       "Num arruamento                                      0   \n",
       "Km                                                NaN   \n",
       "Nome arruamento                     Azinhaga Ulmeiros   \n",
       "Localização 2                      Sem GPS - estimado   \n",
       "\n",
       "                                                                          1  \\\n",
       "IdAcidente                                                      20191648498   \n",
       "Datahora                                                2019:01:02 16:45:00   \n",
       "Dia da Semana                                                 Quarta-Feira    \n",
       "Sentidos                                                       NÃO DEFINIDO   \n",
       "Latitude GPS                                                      38.719096   \n",
       "Longitude GPS                                                      -9.15613   \n",
       "Via Trânsito                                                       Esquerda   \n",
       "Localizações                                         Dentro das localidades   \n",
       "Freguesia                                                  Campo de Ourique   \n",
       "Pov. Proxima                                                         Lisboa   \n",
       "Tipo Natureza                                                 Atropelamento   \n",
       "Natureza                                             Atropelamento de peões   \n",
       "Traçado 1                                                             Recta   \n",
       "Traçado 2                                                        Em patamar   \n",
       "Traçado 3                                         Sem berma ou impraticável   \n",
       "Traçado 4                                                      Em plena via   \n",
       "Estado Conservação                                            Em bom estado   \n",
       "Características Tecnicas                              Estrada sem separador   \n",
       "Reg Circulação                                                Dois sentidos   \n",
       "Marca Via                 Com marcas - separadoras de sentido e de vias ...   \n",
       "Obstáculos                                                     Inexistentes   \n",
       "Sinais                                                               Outros   \n",
       "Sinais Luminosos                                    A funcionar normalmente   \n",
       "Tipo Piso                                                        Betuminoso   \n",
       "Intersecção Vias                                        Fora da intersecção   \n",
       "Factores Atmosféricos                                             Bom tempo   \n",
       "Luminosidade                                                   Em pleno dia   \n",
       "Cond Aderência                                                 Seco e limpo   \n",
       "VM                                                                        0   \n",
       "FG                                                                        0   \n",
       "FL                                                                        3   \n",
       "Tipos Vias                                                       Arruamento   \n",
       "Via                                                                       0   \n",
       "Num arruamento                                                            9   \n",
       "Km                                                                      NaN   \n",
       "Nome arruamento                                      Avenida Álvares Cabral   \n",
       "Localização 2                                            Sem GPS - estimado   \n",
       "\n",
       "                                                                          2  \\\n",
       "IdAcidente                                                      20191648520   \n",
       "Datahora                                                2019:01:02 13:05:00   \n",
       "Dia da Semana                                                 Quarta-Feira    \n",
       "Sentidos                                                       NÃO DEFINIDO   \n",
       "Latitude GPS                                                      38.728779   \n",
       "Longitude GPS                                                     -9.147518   \n",
       "Via Trânsito                                                        Central   \n",
       "Localizações                                         Dentro das localidades   \n",
       "Freguesia                                                    Avenidas Novas   \n",
       "Pov. Proxima                                                         Lisboa   \n",
       "Tipo Natureza                                                       Colisão   \n",
       "Natureza                     Colisão lateral com outro veículo em movimento   \n",
       "Traçado 1                                                             Recta   \n",
       "Traçado 2                                                    Com inclinação   \n",
       "Traçado 3                                         Sem berma ou impraticável   \n",
       "Traçado 4                                                      Em plena via   \n",
       "Estado Conservação                                            Em bom estado   \n",
       "Características Tecnicas                                          Outra via   \n",
       "Reg Circulação                                                Sentido único   \n",
       "Marca Via                 Com marcas - separadoras de sentido e de vias ...   \n",
       "Obstáculos                                                     Inexistentes   \n",
       "Sinais                                                    Passagem de peões   \n",
       "Sinais Luminosos                                    A funcionar normalmente   \n",
       "Tipo Piso                                                        Betuminoso   \n",
       "Intersecção Vias                                           Em entroncamento   \n",
       "Factores Atmosféricos                                             Bom tempo   \n",
       "Luminosidade                                                   Em pleno dia   \n",
       "Cond Aderência                                                 Seco e limpo   \n",
       "VM                                                                        0   \n",
       "FG                                                                        0   \n",
       "FL                                                                        1   \n",
       "Tipos Vias                                                       Arruamento   \n",
       "Via                                                                       0   \n",
       "Num arruamento                                                           16   \n",
       "Km                                                                      NaN   \n",
       "Nome arruamento                              Avenida Fontes Pereira de Melo   \n",
       "Localização 2                                            Sem GPS - estimado   \n",
       "\n",
       "                                                                 3  \\\n",
       "IdAcidente                                             20191649633   \n",
       "Datahora                                       2019:01:03 09:20:00   \n",
       "Dia da Semana                                        Quinta-Feira    \n",
       "Sentidos                                              NÃO DEFINIDO   \n",
       "Latitude GPS                                             38.793481   \n",
       "Longitude GPS                                            -9.151816   \n",
       "Via Trânsito                                               Direita   \n",
       "Localizações                                Dentro das localidades   \n",
       "Freguesia                                              Santa Clara   \n",
       "Pov. Proxima                                                   NaN   \n",
       "Tipo Natureza                                        Atropelamento   \n",
       "Natureza                                    Atropelamento de peões   \n",
       "Traçado 1                                                    Recta   \n",
       "Traçado 2                                               Em patamar   \n",
       "Traçado 3                                Sem berma ou impraticável   \n",
       "Traçado 4                                             Em plena via   \n",
       "Estado Conservação                               Em estado regular   \n",
       "Características Tecnicas                     Estrada sem separador   \n",
       "Reg Circulação                                       Dois sentidos   \n",
       "Marca Via                 Sem marcas rodoviárias ou pouco visíveis   \n",
       "Obstáculos                                            Inexistentes   \n",
       "Sinais                                                      Outros   \n",
       "Sinais Luminosos                                         Desligada   \n",
       "Tipo Piso                                               Betuminoso   \n",
       "Intersecção Vias                               Fora da intersecção   \n",
       "Factores Atmosféricos                                    Bom tempo   \n",
       "Luminosidade                                          Em pleno dia   \n",
       "Cond Aderência                                        Seco e limpo   \n",
       "VM                                                               0   \n",
       "FG                                                               0   \n",
       "FL                                                               1   \n",
       "Tipos Vias                                              Arruamento   \n",
       "Via                                                              0   \n",
       "Num arruamento                                                   2   \n",
       "Km                                                             NaN   \n",
       "Nome arruamento                                   Vila Paulo Jorge   \n",
       "Localização 2                                   Sem GPS - estimado   \n",
       "\n",
       "                                                                          4  \n",
       "IdAcidente                                                      20191649654  \n",
       "Datahora                                                2019:01:03 18:15:00  \n",
       "Dia da Semana                                                 Quinta-Feira   \n",
       "Sentidos                                                       NÃO DEFINIDO  \n",
       "Latitude GPS                                                            NaN  \n",
       "Longitude GPS                                                           NaN  \n",
       "Via Trânsito                                                        Direita  \n",
       "Localizações                                         Dentro das localidades  \n",
       "Freguesia                                                     Santo António  \n",
       "Pov. Proxima                                                            NaN  \n",
       "Tipo Natureza                                                       Colisão  \n",
       "Natureza                    Colisão traseira com outro veículo em movimento  \n",
       "Traçado 1                                                             Recta  \n",
       "Traçado 2                                                    Com inclinação  \n",
       "Traçado 3                                         Sem berma ou impraticável  \n",
       "Traçado 4                                                      Em plena via  \n",
       "Estado Conservação                                            Em bom estado  \n",
       "Características Tecnicas                              Estrada sem separador  \n",
       "Reg Circulação                                                Dois sentidos  \n",
       "Marca Via                 Com marcas - separadoras de sentido e de vias ...  \n",
       "Obstáculos                                                     Inexistentes  \n",
       "Sinais                                                         NÃO DEFINIDO  \n",
       "Sinais Luminosos                                    A funcionar normalmente  \n",
       "Tipo Piso                                                        Betuminoso  \n",
       "Intersecção Vias                                           Em entroncamento  \n",
       "Factores Atmosféricos                                             Bom tempo  \n",
       "Luminosidade                                          Noite, com iluminação  \n",
       "Cond Aderência                                                 Seco e limpo  \n",
       "VM                                                                        0  \n",
       "FG                                                                        0  \n",
       "FL                                                                        1  \n",
       "Tipos Vias                                                       Arruamento  \n",
       "Via                                                                       0  \n",
       "Num arruamento                                                            0  \n",
       "Km                                                                      NaN  \n",
       "Nome arruamento                                           Avenida Liberdade  \n",
       "Localização 2                                        Sem GPS - não estimado  "
      ]
     },
     "execution_count": 5,
     "metadata": {},
     "output_type": "execute_result"
    }
   ],
   "source": [
    "accidents_first_file.head().T"
   ]
  },
  {
   "cell_type": "markdown",
   "metadata": {},
   "source": [
    "Main points:\n",
    "* For this case we have a rich set of information, however, it is difficult to understand the meaning of some of the reatures. Namelly, VM, FG, FL whch will need to be further evaluated;\n",
    "* Some of the locations don't have geolocation, which might be a problem and needs to be evaluated;\n",
    "* We have information of the type of accidents which may help identification of different root casuses for different types of accidents;\n",
    "* We have a lot of information regarding the conditions and location of the accidents."
   ]
  },
  {
   "cell_type": "markdown",
   "metadata": {},
   "source": [
    "**`Missing values`**"
   ]
  },
  {
   "cell_type": "code",
   "execution_count": 6,
   "metadata": {},
   "outputs": [
    {
     "data": {
      "text/plain": [
       "IdAcidente                     0\n",
       "Datahora                       0\n",
       "Dia da Semana                  0\n",
       "Sentidos                       0\n",
       "Latitude GPS                 945\n",
       "Longitude GPS                945\n",
       "Via Trânsito                   0\n",
       "Localizações                   0\n",
       "Freguesia                      0\n",
       "Pov. Proxima                1322\n",
       "Tipo Natureza                  0\n",
       "Natureza                       0\n",
       "Traçado 1                      0\n",
       "Traçado 2                      0\n",
       "Traçado 3                      0\n",
       "Traçado 4                      0\n",
       "Estado Conservação             0\n",
       "Características Tecnicas       0\n",
       "Reg Circulação                 0\n",
       "Marca Via                      0\n",
       "Obstáculos                     0\n",
       "Sinais                         0\n",
       "Sinais Luminosos               0\n",
       "Tipo Piso                      0\n",
       "Intersecção Vias               0\n",
       "Factores Atmosféricos          0\n",
       "Luminosidade                   0\n",
       "Cond Aderência                 0\n",
       "VM                             0\n",
       "FG                             0\n",
       "FL                             0\n",
       "Tipos Vias                     0\n",
       "Via                            0\n",
       "Num arruamento               259\n",
       "Km                          2519\n",
       "Nome arruamento              253\n",
       "Localização 2                  0\n",
       "dtype: int64"
      ]
     },
     "execution_count": 6,
     "metadata": {},
     "output_type": "execute_result"
    }
   ],
   "source": [
    "accidents_first_file.isna().sum()"
   ]
  },
  {
   "cell_type": "markdown",
   "metadata": {},
   "source": [
    "Main points:\n",
    "* We have some missing values. Most are are non critical.\n",
    "* However, the missing values of latitude and longitude may represent a major probem when performing geolocation evaluations."
   ]
  },
  {
   "cell_type": "markdown",
   "metadata": {},
   "source": [
    "**`Statistical evaluation`**"
   ]
  },
  {
   "cell_type": "code",
   "execution_count": 7,
   "metadata": {},
   "outputs": [
    {
     "data": {
      "text/html": [
       "<div>\n",
       "<style scoped>\n",
       "    .dataframe tbody tr th:only-of-type {\n",
       "        vertical-align: middle;\n",
       "    }\n",
       "\n",
       "    .dataframe tbody tr th {\n",
       "        vertical-align: top;\n",
       "    }\n",
       "\n",
       "    .dataframe thead th {\n",
       "        text-align: right;\n",
       "    }\n",
       "</style>\n",
       "<table border=\"1\" class=\"dataframe\">\n",
       "  <thead>\n",
       "    <tr style=\"text-align: right;\">\n",
       "      <th></th>\n",
       "      <th>IdAcidente</th>\n",
       "      <th>Latitude GPS</th>\n",
       "      <th>Longitude GPS</th>\n",
       "      <th>VM</th>\n",
       "      <th>FG</th>\n",
       "      <th>FL</th>\n",
       "      <th>Km</th>\n",
       "    </tr>\n",
       "  </thead>\n",
       "  <tbody>\n",
       "    <tr>\n",
       "      <th>count</th>\n",
       "      <td>2.768000e+03</td>\n",
       "      <td>1823.000000</td>\n",
       "      <td>1823.000000</td>\n",
       "      <td>2768.000000</td>\n",
       "      <td>2768.000000</td>\n",
       "      <td>2768.000000</td>\n",
       "      <td>249.000000</td>\n",
       "    </tr>\n",
       "    <tr>\n",
       "      <th>mean</th>\n",
       "      <td>2.019191e+10</td>\n",
       "      <td>38.733288</td>\n",
       "      <td>-9.150429</td>\n",
       "      <td>0.002890</td>\n",
       "      <td>0.024205</td>\n",
       "      <td>1.177384</td>\n",
       "      <td>4.058783</td>\n",
       "    </tr>\n",
       "    <tr>\n",
       "      <th>std</th>\n",
       "      <td>1.372972e+06</td>\n",
       "      <td>0.063683</td>\n",
       "      <td>0.062830</td>\n",
       "      <td>0.053692</td>\n",
       "      <td>0.160612</td>\n",
       "      <td>0.607121</td>\n",
       "      <td>3.264365</td>\n",
       "    </tr>\n",
       "    <tr>\n",
       "      <th>min</th>\n",
       "      <td>2.019165e+10</td>\n",
       "      <td>37.017289</td>\n",
       "      <td>-9.413910</td>\n",
       "      <td>0.000000</td>\n",
       "      <td>0.000000</td>\n",
       "      <td>0.000000</td>\n",
       "      <td>0.000000</td>\n",
       "    </tr>\n",
       "    <tr>\n",
       "      <th>25%</th>\n",
       "      <td>2.019167e+10</td>\n",
       "      <td>38.718220</td>\n",
       "      <td>-9.170539</td>\n",
       "      <td>0.000000</td>\n",
       "      <td>0.000000</td>\n",
       "      <td>1.000000</td>\n",
       "      <td>1.500000</td>\n",
       "    </tr>\n",
       "    <tr>\n",
       "      <th>50%</th>\n",
       "      <td>2.019172e+10</td>\n",
       "      <td>38.734634</td>\n",
       "      <td>-9.150388</td>\n",
       "      <td>0.000000</td>\n",
       "      <td>0.000000</td>\n",
       "      <td>1.000000</td>\n",
       "      <td>3.135000</td>\n",
       "    </tr>\n",
       "    <tr>\n",
       "      <th>75%</th>\n",
       "      <td>2.019177e+10</td>\n",
       "      <td>38.751966</td>\n",
       "      <td>-9.135339</td>\n",
       "      <td>0.000000</td>\n",
       "      <td>0.000000</td>\n",
       "      <td>1.000000</td>\n",
       "      <td>6.200000</td>\n",
       "    </tr>\n",
       "    <tr>\n",
       "      <th>max</th>\n",
       "      <td>2.020187e+10</td>\n",
       "      <td>38.918566</td>\n",
       "      <td>-7.413290</td>\n",
       "      <td>1.000000</td>\n",
       "      <td>2.000000</td>\n",
       "      <td>9.000000</td>\n",
       "      <td>18.000000</td>\n",
       "    </tr>\n",
       "  </tbody>\n",
       "</table>\n",
       "</div>"
      ],
      "text/plain": [
       "         IdAcidente  Latitude GPS  Longitude GPS           VM           FG  \\\n",
       "count  2.768000e+03   1823.000000    1823.000000  2768.000000  2768.000000   \n",
       "mean   2.019191e+10     38.733288      -9.150429     0.002890     0.024205   \n",
       "std    1.372972e+06      0.063683       0.062830     0.053692     0.160612   \n",
       "min    2.019165e+10     37.017289      -9.413910     0.000000     0.000000   \n",
       "25%    2.019167e+10     38.718220      -9.170539     0.000000     0.000000   \n",
       "50%    2.019172e+10     38.734634      -9.150388     0.000000     0.000000   \n",
       "75%    2.019177e+10     38.751966      -9.135339     0.000000     0.000000   \n",
       "max    2.020187e+10     38.918566      -7.413290     1.000000     2.000000   \n",
       "\n",
       "                FL          Km  \n",
       "count  2768.000000  249.000000  \n",
       "mean      1.177384    4.058783  \n",
       "std       0.607121    3.264365  \n",
       "min       0.000000    0.000000  \n",
       "25%       1.000000    1.500000  \n",
       "50%       1.000000    3.135000  \n",
       "75%       1.000000    6.200000  \n",
       "max       9.000000   18.000000  "
      ]
     },
     "execution_count": 7,
     "metadata": {},
     "output_type": "execute_result"
    }
   ],
   "source": [
    "accidents_first_file.describe()"
   ]
  },
  {
   "cell_type": "markdown",
   "metadata": {},
   "source": [
    "Main points:\n",
    "* IdAccidente should be converted to index;\n",
    "* Latitude seems to present some outliers. A value with a latitude of 37 seem a bit off and needs to be evaluated;\n",
    "* Same with longitude which presents a value of -7.4 that seems to be far away from Lisbon."
   ]
  },
  {
   "cell_type": "code",
   "execution_count": 8,
   "metadata": {},
   "outputs": [
    {
     "data": {
      "text/html": [
       "<div>\n",
       "<style scoped>\n",
       "    .dataframe tbody tr th:only-of-type {\n",
       "        vertical-align: middle;\n",
       "    }\n",
       "\n",
       "    .dataframe tbody tr th {\n",
       "        vertical-align: top;\n",
       "    }\n",
       "\n",
       "    .dataframe thead th {\n",
       "        text-align: right;\n",
       "    }\n",
       "</style>\n",
       "<table border=\"1\" class=\"dataframe\">\n",
       "  <thead>\n",
       "    <tr style=\"text-align: right;\">\n",
       "      <th></th>\n",
       "      <th>count</th>\n",
       "      <th>unique</th>\n",
       "      <th>top</th>\n",
       "      <th>freq</th>\n",
       "    </tr>\n",
       "  </thead>\n",
       "  <tbody>\n",
       "    <tr>\n",
       "      <th>Datahora</th>\n",
       "      <td>2768</td>\n",
       "      <td>2708</td>\n",
       "      <td>2019:09:28 12:15:00</td>\n",
       "      <td>3</td>\n",
       "    </tr>\n",
       "    <tr>\n",
       "      <th>Dia da Semana</th>\n",
       "      <td>2768</td>\n",
       "      <td>7</td>\n",
       "      <td>Sexta-Feira</td>\n",
       "      <td>478</td>\n",
       "    </tr>\n",
       "    <tr>\n",
       "      <th>Sentidos</th>\n",
       "      <td>2768</td>\n",
       "      <td>3</td>\n",
       "      <td>NÃO DEFINIDO</td>\n",
       "      <td>1852</td>\n",
       "    </tr>\n",
       "    <tr>\n",
       "      <th>Via Trânsito</th>\n",
       "      <td>2768</td>\n",
       "      <td>3</td>\n",
       "      <td>Direita</td>\n",
       "      <td>2025</td>\n",
       "    </tr>\n",
       "    <tr>\n",
       "      <th>Localizações</th>\n",
       "      <td>2768</td>\n",
       "      <td>2</td>\n",
       "      <td>Dentro das localidades</td>\n",
       "      <td>2596</td>\n",
       "    </tr>\n",
       "    <tr>\n",
       "      <th>Freguesia</th>\n",
       "      <td>2768</td>\n",
       "      <td>24</td>\n",
       "      <td>Avenidas Novas</td>\n",
       "      <td>244</td>\n",
       "    </tr>\n",
       "    <tr>\n",
       "      <th>Pov. Proxima</th>\n",
       "      <td>1446</td>\n",
       "      <td>16</td>\n",
       "      <td>Lisboa</td>\n",
       "      <td>1390</td>\n",
       "    </tr>\n",
       "    <tr>\n",
       "      <th>Tipo Natureza</th>\n",
       "      <td>2768</td>\n",
       "      <td>3</td>\n",
       "      <td>Colisão</td>\n",
       "      <td>1573</td>\n",
       "    </tr>\n",
       "    <tr>\n",
       "      <th>Natureza</th>\n",
       "      <td>2768</td>\n",
       "      <td>17</td>\n",
       "      <td>Atropelamento de peões</td>\n",
       "      <td>640</td>\n",
       "    </tr>\n",
       "    <tr>\n",
       "      <th>Traçado 1</th>\n",
       "      <td>2768</td>\n",
       "      <td>3</td>\n",
       "      <td>Recta</td>\n",
       "      <td>2327</td>\n",
       "    </tr>\n",
       "    <tr>\n",
       "      <th>Traçado 2</th>\n",
       "      <td>2768</td>\n",
       "      <td>4</td>\n",
       "      <td>Em patamar</td>\n",
       "      <td>1777</td>\n",
       "    </tr>\n",
       "    <tr>\n",
       "      <th>Traçado 3</th>\n",
       "      <td>2768</td>\n",
       "      <td>4</td>\n",
       "      <td>Berma pavimentada</td>\n",
       "      <td>1702</td>\n",
       "    </tr>\n",
       "    <tr>\n",
       "      <th>Traçado 4</th>\n",
       "      <td>2768</td>\n",
       "      <td>6</td>\n",
       "      <td>Em plena via</td>\n",
       "      <td>2631</td>\n",
       "    </tr>\n",
       "    <tr>\n",
       "      <th>Estado Conservação</th>\n",
       "      <td>2768</td>\n",
       "      <td>4</td>\n",
       "      <td>Em estado regular</td>\n",
       "      <td>1684</td>\n",
       "    </tr>\n",
       "    <tr>\n",
       "      <th>Características Tecnicas</th>\n",
       "      <td>2768</td>\n",
       "      <td>3</td>\n",
       "      <td>Estrada sem separador</td>\n",
       "      <td>1552</td>\n",
       "    </tr>\n",
       "    <tr>\n",
       "      <th>Reg Circulação</th>\n",
       "      <td>2768</td>\n",
       "      <td>3</td>\n",
       "      <td>Sentido único</td>\n",
       "      <td>1622</td>\n",
       "    </tr>\n",
       "    <tr>\n",
       "      <th>Marca Via</th>\n",
       "      <td>2768</td>\n",
       "      <td>4</td>\n",
       "      <td>Com marcas - separadoras de sentido e de vias ...</td>\n",
       "      <td>1785</td>\n",
       "    </tr>\n",
       "    <tr>\n",
       "      <th>Obstáculos</th>\n",
       "      <td>2768</td>\n",
       "      <td>5</td>\n",
       "      <td>Inexistentes</td>\n",
       "      <td>2677</td>\n",
       "    </tr>\n",
       "    <tr>\n",
       "      <th>Sinais</th>\n",
       "      <td>2768</td>\n",
       "      <td>6</td>\n",
       "      <td>Outros</td>\n",
       "      <td>1815</td>\n",
       "    </tr>\n",
       "    <tr>\n",
       "      <th>Sinais Luminosos</th>\n",
       "      <td>2768</td>\n",
       "      <td>5</td>\n",
       "      <td>Inexistentes</td>\n",
       "      <td>1883</td>\n",
       "    </tr>\n",
       "    <tr>\n",
       "      <th>Tipo Piso</th>\n",
       "      <td>2768</td>\n",
       "      <td>5</td>\n",
       "      <td>Betuminoso</td>\n",
       "      <td>2510</td>\n",
       "    </tr>\n",
       "    <tr>\n",
       "      <th>Intersecção Vias</th>\n",
       "      <td>2768</td>\n",
       "      <td>8</td>\n",
       "      <td>Fora da intersecção</td>\n",
       "      <td>1688</td>\n",
       "    </tr>\n",
       "    <tr>\n",
       "      <th>Factores Atmosféricos</th>\n",
       "      <td>2768</td>\n",
       "      <td>3</td>\n",
       "      <td>Bom tempo</td>\n",
       "      <td>2323</td>\n",
       "    </tr>\n",
       "    <tr>\n",
       "      <th>Luminosidade</th>\n",
       "      <td>2768</td>\n",
       "      <td>6</td>\n",
       "      <td>Em pleno dia</td>\n",
       "      <td>1830</td>\n",
       "    </tr>\n",
       "    <tr>\n",
       "      <th>Cond Aderência</th>\n",
       "      <td>2768</td>\n",
       "      <td>8</td>\n",
       "      <td>Seco e limpo</td>\n",
       "      <td>2246</td>\n",
       "    </tr>\n",
       "    <tr>\n",
       "      <th>Tipos Vias</th>\n",
       "      <td>2768</td>\n",
       "      <td>6</td>\n",
       "      <td>Arruamento</td>\n",
       "      <td>2515</td>\n",
       "    </tr>\n",
       "    <tr>\n",
       "      <th>Via</th>\n",
       "      <td>2768</td>\n",
       "      <td>8</td>\n",
       "      <td>0</td>\n",
       "      <td>2525</td>\n",
       "    </tr>\n",
       "    <tr>\n",
       "      <th>Num arruamento</th>\n",
       "      <td>2509</td>\n",
       "      <td>256</td>\n",
       "      <td>0</td>\n",
       "      <td>1277</td>\n",
       "    </tr>\n",
       "    <tr>\n",
       "      <th>Nome arruamento</th>\n",
       "      <td>2515</td>\n",
       "      <td>771</td>\n",
       "      <td>Avenida Infante Dom Henrique</td>\n",
       "      <td>59</td>\n",
       "    </tr>\n",
       "    <tr>\n",
       "      <th>Localização 2</th>\n",
       "      <td>2768</td>\n",
       "      <td>3</td>\n",
       "      <td>Sem GPS - não estimado</td>\n",
       "      <td>944</td>\n",
       "    </tr>\n",
       "  </tbody>\n",
       "</table>\n",
       "</div>"
      ],
      "text/plain": [
       "                         count unique  \\\n",
       "Datahora                  2768   2708   \n",
       "Dia da Semana             2768      7   \n",
       "Sentidos                  2768      3   \n",
       "Via Trânsito              2768      3   \n",
       "Localizações              2768      2   \n",
       "Freguesia                 2768     24   \n",
       "Pov. Proxima              1446     16   \n",
       "Tipo Natureza             2768      3   \n",
       "Natureza                  2768     17   \n",
       "Traçado 1                 2768      3   \n",
       "Traçado 2                 2768      4   \n",
       "Traçado 3                 2768      4   \n",
       "Traçado 4                 2768      6   \n",
       "Estado Conservação        2768      4   \n",
       "Características Tecnicas  2768      3   \n",
       "Reg Circulação            2768      3   \n",
       "Marca Via                 2768      4   \n",
       "Obstáculos                2768      5   \n",
       "Sinais                    2768      6   \n",
       "Sinais Luminosos          2768      5   \n",
       "Tipo Piso                 2768      5   \n",
       "Intersecção Vias          2768      8   \n",
       "Factores Atmosféricos     2768      3   \n",
       "Luminosidade              2768      6   \n",
       "Cond Aderência            2768      8   \n",
       "Tipos Vias                2768      6   \n",
       "Via                       2768      8   \n",
       "Num arruamento            2509    256   \n",
       "Nome arruamento           2515    771   \n",
       "Localização 2             2768      3   \n",
       "\n",
       "                                                                        top  \\\n",
       "Datahora                                                2019:09:28 12:15:00   \n",
       "Dia da Semana                                                 Sexta-Feira     \n",
       "Sentidos                                                       NÃO DEFINIDO   \n",
       "Via Trânsito                                                        Direita   \n",
       "Localizações                                         Dentro das localidades   \n",
       "Freguesia                                                    Avenidas Novas   \n",
       "Pov. Proxima                                                         Lisboa   \n",
       "Tipo Natureza                                                       Colisão   \n",
       "Natureza                                             Atropelamento de peões   \n",
       "Traçado 1                                                             Recta   \n",
       "Traçado 2                                                        Em patamar   \n",
       "Traçado 3                                                 Berma pavimentada   \n",
       "Traçado 4                                                      Em plena via   \n",
       "Estado Conservação                                        Em estado regular   \n",
       "Características Tecnicas                              Estrada sem separador   \n",
       "Reg Circulação                                                Sentido único   \n",
       "Marca Via                 Com marcas - separadoras de sentido e de vias ...   \n",
       "Obstáculos                                                     Inexistentes   \n",
       "Sinais                                                               Outros   \n",
       "Sinais Luminosos                                               Inexistentes   \n",
       "Tipo Piso                                                        Betuminoso   \n",
       "Intersecção Vias                                        Fora da intersecção   \n",
       "Factores Atmosféricos                                             Bom tempo   \n",
       "Luminosidade                                                   Em pleno dia   \n",
       "Cond Aderência                                                 Seco e limpo   \n",
       "Tipos Vias                                                       Arruamento   \n",
       "Via                                                                       0   \n",
       "Num arruamento                                                            0   \n",
       "Nome arruamento                                Avenida Infante Dom Henrique   \n",
       "Localização 2                                        Sem GPS - não estimado   \n",
       "\n",
       "                          freq  \n",
       "Datahora                     3  \n",
       "Dia da Semana              478  \n",
       "Sentidos                  1852  \n",
       "Via Trânsito              2025  \n",
       "Localizações              2596  \n",
       "Freguesia                  244  \n",
       "Pov. Proxima              1390  \n",
       "Tipo Natureza             1573  \n",
       "Natureza                   640  \n",
       "Traçado 1                 2327  \n",
       "Traçado 2                 1777  \n",
       "Traçado 3                 1702  \n",
       "Traçado 4                 2631  \n",
       "Estado Conservação        1684  \n",
       "Características Tecnicas  1552  \n",
       "Reg Circulação            1622  \n",
       "Marca Via                 1785  \n",
       "Obstáculos                2677  \n",
       "Sinais                    1815  \n",
       "Sinais Luminosos          1883  \n",
       "Tipo Piso                 2510  \n",
       "Intersecção Vias          1688  \n",
       "Factores Atmosféricos     2323  \n",
       "Luminosidade              1830  \n",
       "Cond Aderência            2246  \n",
       "Tipos Vias                2515  \n",
       "Via                       2525  \n",
       "Num arruamento            1277  \n",
       "Nome arruamento             59  \n",
       "Localização 2              944  "
      ]
     },
     "execution_count": 8,
     "metadata": {},
     "output_type": "execute_result"
    }
   ],
   "source": [
    "accidents_first_file.describe(include='O').T"
   ]
  },
  {
   "cell_type": "markdown",
   "metadata": {},
   "source": [
    "Main points:\n",
    "* Has expected we have a lot of descriptive data;\n",
    "* Most of these features need to be further evalauted;\n",
    "* Some of the variables present a high cardinality;"
   ]
  },
  {
   "cell_type": "markdown",
   "metadata": {},
   "source": [
    "**`Outliers evaluation`**"
   ]
  },
  {
   "cell_type": "code",
   "execution_count": 9,
   "metadata": {},
   "outputs": [
    {
     "data": {
      "text/plain": [
       "IdAcidente        7.077352\n",
       "Latitude GPS    -20.883582\n",
       "Longitude GPS    18.338325\n",
       "VM               18.530381\n",
       "FG                6.963867\n",
       "FL                4.002868\n",
       "Km                0.815360\n",
       "dtype: float64"
      ]
     },
     "execution_count": 9,
     "metadata": {},
     "output_type": "execute_result"
    }
   ],
   "source": [
    "accidents_first_file.skew()"
   ]
  },
  {
   "cell_type": "markdown",
   "metadata": {},
   "source": [
    "Main points:\n",
    "* As expected Latitude and longitude have some outliers;\n",
    "* Let's evaluate them better."
   ]
  },
  {
   "cell_type": "code",
   "execution_count": 13,
   "metadata": {},
   "outputs": [
    {
     "data": {
      "text/plain": [
       "<AxesSubplot:xlabel='Longitude GPS'>"
      ]
     },
     "execution_count": 13,
     "metadata": {},
     "output_type": "execute_result"
    },
    {
     "data": {
      "image/png": "[encoded data removed]",
      "text/plain": [
       "<Figure size 1728x360 with 2 Axes>"
      ]
     },
     "metadata": {
      "needs_background": "light"
     },
     "output_type": "display_data"
    }
   ],
   "source": [
    "fig, axes = plt.subplots(1, 2, figsize=(24, 5))\n",
    "sns.boxplot(data = accidents_first_file, x = 'Latitude GPS', ax = axes[0])\n",
    "sns.boxplot(data = accidents_first_file, x = 'Longitude GPS', ax = axes[1])"
   ]
  },
  {
   "cell_type": "markdown",
   "metadata": {},
   "source": [
    "Main points:\n",
    "* We can also see this when we do a boxplot, latitude and longitude have a lot of outliers;"
   ]
  },
  {
   "cell_type": "code",
   "execution_count": 11,
   "metadata": {},
   "outputs": [
    {
     "data": {
      "text/plain": [
       "<AxesSubplot:xlabel='Longitude GPS', ylabel='Latitude GPS'>"
      ]
     },
     "execution_count": 11,
     "metadata": {},
     "output_type": "execute_result"
    },
    {
     "data": {
      "image/png": "[encoded data removed]",
      "text/plain": [
       "<Figure size 432x288 with 1 Axes>"
      ]
     },
     "metadata": {
      "needs_background": "light"
     },
     "output_type": "display_data"
    }
   ],
   "source": [
    "sns.scatterplot(data = accidents_first_file, y = 'Latitude GPS', x = 'Longitude GPS')"
   ]
  },
  {
   "cell_type": "markdown",
   "metadata": {},
   "source": [
    "Main points:\n",
    "* Since this is Lisbon we should be able see the city in the data, but it seems that the outliers are really big;\n",
    "* Lets try to remove some and reavaluate;"
   ]
  },
  {
   "cell_type": "markdown",
   "metadata": {},
   "source": [
    "**`Removing outliers evaluation`**"
   ]
  },
  {
   "cell_type": "code",
   "execution_count": 35,
   "metadata": {},
   "outputs": [],
   "source": [
    "accidents_first_file_no_outliers = (\n",
    "    accidents_first_file\n",
    "    .loc[lambda x: x['Latitude GPS'] > 38.55]\n",
    "    .loc[lambda x: x['Latitude GPS'] < 38.80]\n",
    "    .loc[lambda x: x['Longitude GPS'] > -9.30]\n",
    "    .loc[lambda x: x['Longitude GPS'] < -9.00]\n",
    ")"
   ]
  },
  {
   "cell_type": "code",
   "execution_count": 36,
   "metadata": {},
   "outputs": [
    {
     "data": {
      "text/plain": [
       "<AxesSubplot:xlabel='Longitude GPS'>"
      ]
     },
     "execution_count": 36,
     "metadata": {},
     "output_type": "execute_result"
    },
    {
     "data": {
      "image/png": "[encoded data removed]",
      "text/plain": [
       "<Figure size 1728x360 with 2 Axes>"
      ]
     },
     "metadata": {
      "needs_background": "light"
     },
     "output_type": "display_data"
    }
   ],
   "source": [
    "fig, axes = plt.subplots(1, 2, figsize=(24, 5))\n",
    "sns.boxplot(data = accidents_first_file_no_outliers, x = 'Latitude GPS', ax = axes[0])\n",
    "sns.boxplot(data = accidents_first_file_no_outliers, x = 'Longitude GPS', ax = axes[1])"
   ]
  },
  {
   "cell_type": "code",
   "execution_count": 38,
   "metadata": {},
   "outputs": [
    {
     "data": {
      "text/plain": [
       "<AxesSubplot:xlabel='Longitude GPS', ylabel='Latitude GPS'>"
      ]
     },
     "execution_count": 38,
     "metadata": {},
     "output_type": "execute_result"
    },
    {
     "data": {
      "image/png": "[encoded data removed]",
      "text/plain": [
       "<Figure size 1080x1080 with 1 Axes>"
      ]
     },
     "metadata": {
      "needs_background": "light"
     },
     "output_type": "display_data"
    }
   ],
   "source": [
    "plt.figure(figsize = (15, 15))\n",
    "sns.scatterplot(data = accidents_first_file_no_outliers, y = 'Latitude GPS', x = 'Longitude GPS')"
   ]
  },
  {
   "cell_type": "markdown",
   "metadata": {},
   "source": [
    "Main points:\n",
    "* Now we can see more less Lisbon and so the data makes more sense"
   ]
  },
  {
   "cell_type": "code",
   "execution_count": null,
   "metadata": {},
   "outputs": [],
   "source": [
    "sns.scatterplot(data = accidents_first_file, x=latitude)"
   ]
  },
  {
   "cell_type": "markdown",
   "metadata": {},
   "source": [
    "**`Accident type evaluation`**"
   ]
  },
  {
   "cell_type": "code",
   "execution_count": 10,
   "metadata": {},
   "outputs": [
    {
     "data": {
      "text/plain": [
       "Colisão          0.57\n",
       "Atropelamento    0.24\n",
       "Despiste         0.19\n",
       "Name: Tipo Natureza, dtype: float64"
      ]
     },
     "execution_count": 10,
     "metadata": {},
     "output_type": "execute_result"
    }
   ],
   "source": [
    "accidents_first_file['Tipo Natureza'].value_counts(normalize=True).round(2)"
   ]
  },
  {
   "cell_type": "markdown",
   "metadata": {},
   "source": [
    "Main points:\n",
    "* Most of the accidents are colision accidents;\n",
    "* However, run over accidents also have a high incident rate and probably have different caracteristics that should be evaluated."
   ]
  },
  {
   "cell_type": "markdown",
   "metadata": {},
   "source": [
    "**`Duplicated accidents`**"
   ]
  },
  {
   "cell_type": "code",
   "execution_count": 11,
   "metadata": {},
   "outputs": [
    {
     "data": {
      "text/plain": [
       "0"
      ]
     },
     "execution_count": 11,
     "metadata": {},
     "output_type": "execute_result"
    }
   ],
   "source": [
    "accidents_first_file['IdAcidente'].duplicated().sum()"
   ]
  },
  {
   "cell_type": "markdown",
   "metadata": {},
   "source": [
    "Main points:\n",
    "* No duplicated values;"
   ]
  },
  {
   "cell_type": "markdown",
   "metadata": {},
   "source": [
    "### 3.2. Accidents second file"
   ]
  },
  {
   "cell_type": "markdown",
   "metadata": {},
   "source": [
    "**`Data shape`**"
   ]
  },
  {
   "cell_type": "code",
   "execution_count": 12,
   "metadata": {},
   "outputs": [
    {
     "data": {
      "text/plain": [
       "(1817, 7)"
      ]
     },
     "execution_count": 12,
     "metadata": {},
     "output_type": "execute_result"
    }
   ],
   "source": [
    "accidents_second_file.shape"
   ]
  },
  {
   "cell_type": "markdown",
   "metadata": {},
   "source": [
    "**`Data overview`**"
   ]
  },
  {
   "cell_type": "code",
   "execution_count": 13,
   "metadata": {
    "tags": []
   },
   "outputs": [
    {
     "data": {
      "text/html": [
       "<div>\n",
       "<style scoped>\n",
       "    .dataframe tbody tr th:only-of-type {\n",
       "        vertical-align: middle;\n",
       "    }\n",
       "\n",
       "    .dataframe tbody tr th {\n",
       "        vertical-align: top;\n",
       "    }\n",
       "\n",
       "    .dataframe thead th {\n",
       "        text-align: right;\n",
       "    }\n",
       "</style>\n",
       "<table border=\"1\" class=\"dataframe\">\n",
       "  <thead>\n",
       "    <tr style=\"text-align: right;\">\n",
       "      <th></th>\n",
       "      <th>0</th>\n",
       "      <th>1</th>\n",
       "      <th>2</th>\n",
       "      <th>3</th>\n",
       "      <th>4</th>\n",
       "    </tr>\n",
       "  </thead>\n",
       "  <tbody>\n",
       "    <tr>\n",
       "      <th>code</th>\n",
       "      <td>42111/O/2019 %ob%367804042019%cb%</td>\n",
       "      <td>60907/O/2019%ob%1161715092019%cb%</td>\n",
       "      <td>51303/O/2019 %ob%466825042019%cb%</td>\n",
       "      <td>60191/O/2019%ob%1094106092019%cb%</td>\n",
       "      <td>51894/O/2019 %ob%525207052019%cb%</td>\n",
       "    </tr>\n",
       "    <tr>\n",
       "      <th>position</th>\n",
       "      <td>{'coordinates': [-9.14692611215691, 38.7303459...</td>\n",
       "      <td>{'coordinates': [-9.15795701650941, 38.7128447...</td>\n",
       "      <td>{'coordinates': [-9.10134876304967, 38.7442906...</td>\n",
       "      <td>{'coordinates': [-9.17515018021679, 38.7121700...</td>\n",
       "      <td>{'coordinates': [-9.13078619741982, 38.7282074...</td>\n",
       "    </tr>\n",
       "    <tr>\n",
       "      <th>freguesia</th>\n",
       "      <td>Avenidas Novas</td>\n",
       "      <td>Estrela</td>\n",
       "      <td>Marvila</td>\n",
       "      <td>Campo de Ourique</td>\n",
       "      <td>Penha de França</td>\n",
       "    </tr>\n",
       "    <tr>\n",
       "      <th>tipologia</th>\n",
       "      <td>2102 - Acidentes - Rodoviários - Com viaturas</td>\n",
       "      <td>2102 - Acidentes - Rodoviários - Com viaturas</td>\n",
       "      <td>2102 - Acidentes - Rodoviários - Com viaturas</td>\n",
       "      <td>2101 - Acidentes - Rodoviários - Atropelamento</td>\n",
       "      <td>2101 - Acidentes - Rodoviários - Atropelamento</td>\n",
       "    </tr>\n",
       "    <tr>\n",
       "      <th>dtregisto</th>\n",
       "      <td>04/04/2019 02:13</td>\n",
       "      <td>15/09/2019 00:28</td>\n",
       "      <td>25/04/2019 00:01</td>\n",
       "      <td>06/09/2019 14:27</td>\n",
       "      <td>07/05/2019 13:11</td>\n",
       "    </tr>\n",
       "    <tr>\n",
       "      <th>dia_registo</th>\n",
       "      <td>04/04/2019</td>\n",
       "      <td>15/09/2019</td>\n",
       "      <td>25/04/2019</td>\n",
       "      <td>06/09/2019</td>\n",
       "      <td>07/05/2019</td>\n",
       "    </tr>\n",
       "    <tr>\n",
       "      <th>hora_registo</th>\n",
       "      <td>2</td>\n",
       "      <td>0</td>\n",
       "      <td>0</td>\n",
       "      <td>14</td>\n",
       "      <td>13</td>\n",
       "    </tr>\n",
       "  </tbody>\n",
       "</table>\n",
       "</div>"
      ],
      "text/plain": [
       "                                                              0  \\\n",
       "code                          42111/O/2019 %ob%367804042019%cb%   \n",
       "position      {'coordinates': [-9.14692611215691, 38.7303459...   \n",
       "freguesia                                        Avenidas Novas   \n",
       "tipologia         2102 - Acidentes - Rodoviários - Com viaturas   \n",
       "dtregisto                                      04/04/2019 02:13   \n",
       "dia_registo                                          04/04/2019   \n",
       "hora_registo                                                  2   \n",
       "\n",
       "                                                              1  \\\n",
       "code                          60907/O/2019%ob%1161715092019%cb%   \n",
       "position      {'coordinates': [-9.15795701650941, 38.7128447...   \n",
       "freguesia                                               Estrela   \n",
       "tipologia         2102 - Acidentes - Rodoviários - Com viaturas   \n",
       "dtregisto                                      15/09/2019 00:28   \n",
       "dia_registo                                          15/09/2019   \n",
       "hora_registo                                                  0   \n",
       "\n",
       "                                                              2  \\\n",
       "code                          51303/O/2019 %ob%466825042019%cb%   \n",
       "position      {'coordinates': [-9.10134876304967, 38.7442906...   \n",
       "freguesia                                               Marvila   \n",
       "tipologia         2102 - Acidentes - Rodoviários - Com viaturas   \n",
       "dtregisto                                      25/04/2019 00:01   \n",
       "dia_registo                                          25/04/2019   \n",
       "hora_registo                                                  0   \n",
       "\n",
       "                                                              3  \\\n",
       "code                          60191/O/2019%ob%1094106092019%cb%   \n",
       "position      {'coordinates': [-9.17515018021679, 38.7121700...   \n",
       "freguesia                                      Campo de Ourique   \n",
       "tipologia        2101 - Acidentes - Rodoviários - Atropelamento   \n",
       "dtregisto                                      06/09/2019 14:27   \n",
       "dia_registo                                          06/09/2019   \n",
       "hora_registo                                                 14   \n",
       "\n",
       "                                                              4  \n",
       "code                          51894/O/2019 %ob%525207052019%cb%  \n",
       "position      {'coordinates': [-9.13078619741982, 38.7282074...  \n",
       "freguesia                                       Penha de França  \n",
       "tipologia        2101 - Acidentes - Rodoviários - Atropelamento  \n",
       "dtregisto                                      07/05/2019 13:11  \n",
       "dia_registo                                          07/05/2019  \n",
       "hora_registo                                                 13  "
      ]
     },
     "execution_count": 13,
     "metadata": {},
     "output_type": "execute_result"
    }
   ],
   "source": [
    "accidents_second_file.head().T"
   ]
  },
  {
   "cell_type": "markdown",
   "metadata": {},
   "source": [
    "Main points:\n",
    "* In this data set there are less features to be evaluated, so we will need to take some decisions if we want to merge the data;\n",
    "* The accident types are different than the ones in the previous file, so once again we need to normalize the accident type data;\n",
    "* There seems to be a feature called position that can be used directly in geo-pandas (will have to try it in the next steps)."
   ]
  },
  {
   "cell_type": "markdown",
   "metadata": {},
   "source": [
    "**`Missing values`**"
   ]
  },
  {
   "cell_type": "code",
   "execution_count": 14,
   "metadata": {},
   "outputs": [
    {
     "data": {
      "text/plain": [
       "code             0\n",
       "position         0\n",
       "freguesia       32\n",
       "tipologia        0\n",
       "dtregisto        0\n",
       "dia_registo      0\n",
       "hora_registo     0\n",
       "dtype: int64"
      ]
     },
     "execution_count": 14,
     "metadata": {},
     "output_type": "execute_result"
    }
   ],
   "source": [
    "accidents_second_file.isna().sum()"
   ]
  },
  {
   "cell_type": "markdown",
   "metadata": {},
   "source": [
    "Main points:\n",
    "* There seems to be some missing values. However, they don't seem to impact our analysis."
   ]
  },
  {
   "cell_type": "markdown",
   "metadata": {},
   "source": [
    "**`Statistical evaluation`**"
   ]
  },
  {
   "cell_type": "code",
   "execution_count": 15,
   "metadata": {},
   "outputs": [
    {
     "data": {
      "text/html": [
       "<div>\n",
       "<style scoped>\n",
       "    .dataframe tbody tr th:only-of-type {\n",
       "        vertical-align: middle;\n",
       "    }\n",
       "\n",
       "    .dataframe tbody tr th {\n",
       "        vertical-align: top;\n",
       "    }\n",
       "\n",
       "    .dataframe thead th {\n",
       "        text-align: right;\n",
       "    }\n",
       "</style>\n",
       "<table border=\"1\" class=\"dataframe\">\n",
       "  <thead>\n",
       "    <tr style=\"text-align: right;\">\n",
       "      <th></th>\n",
       "      <th>hora_registo</th>\n",
       "    </tr>\n",
       "  </thead>\n",
       "  <tbody>\n",
       "    <tr>\n",
       "      <th>count</th>\n",
       "      <td>1817.000000</td>\n",
       "    </tr>\n",
       "    <tr>\n",
       "      <th>mean</th>\n",
       "      <td>13.433682</td>\n",
       "    </tr>\n",
       "    <tr>\n",
       "      <th>std</th>\n",
       "      <td>5.934493</td>\n",
       "    </tr>\n",
       "    <tr>\n",
       "      <th>min</th>\n",
       "      <td>0.000000</td>\n",
       "    </tr>\n",
       "    <tr>\n",
       "      <th>25%</th>\n",
       "      <td>9.000000</td>\n",
       "    </tr>\n",
       "    <tr>\n",
       "      <th>50%</th>\n",
       "      <td>14.000000</td>\n",
       "    </tr>\n",
       "    <tr>\n",
       "      <th>75%</th>\n",
       "      <td>18.000000</td>\n",
       "    </tr>\n",
       "    <tr>\n",
       "      <th>max</th>\n",
       "      <td>23.000000</td>\n",
       "    </tr>\n",
       "  </tbody>\n",
       "</table>\n",
       "</div>"
      ],
      "text/plain": [
       "       hora_registo\n",
       "count   1817.000000\n",
       "mean      13.433682\n",
       "std        5.934493\n",
       "min        0.000000\n",
       "25%        9.000000\n",
       "50%       14.000000\n",
       "75%       18.000000\n",
       "max       23.000000"
      ]
     },
     "execution_count": 15,
     "metadata": {},
     "output_type": "execute_result"
    }
   ],
   "source": [
    "accidents_second_file.describe()"
   ]
  },
  {
   "cell_type": "markdown",
   "metadata": {},
   "source": [
    "Main points:\n",
    "* Only the hour feature is numeric and no significant information can be taken from it."
   ]
  },
  {
   "cell_type": "code",
   "execution_count": 16,
   "metadata": {},
   "outputs": [
    {
     "data": {
      "text/html": [
       "<div>\n",
       "<style scoped>\n",
       "    .dataframe tbody tr th:only-of-type {\n",
       "        vertical-align: middle;\n",
       "    }\n",
       "\n",
       "    .dataframe tbody tr th {\n",
       "        vertical-align: top;\n",
       "    }\n",
       "\n",
       "    .dataframe thead th {\n",
       "        text-align: right;\n",
       "    }\n",
       "</style>\n",
       "<table border=\"1\" class=\"dataframe\">\n",
       "  <thead>\n",
       "    <tr style=\"text-align: right;\">\n",
       "      <th></th>\n",
       "      <th>count</th>\n",
       "      <th>unique</th>\n",
       "      <th>top</th>\n",
       "      <th>freq</th>\n",
       "    </tr>\n",
       "  </thead>\n",
       "  <tbody>\n",
       "    <tr>\n",
       "      <th>code</th>\n",
       "      <td>1817</td>\n",
       "      <td>1641</td>\n",
       "      <td>62821/O/2019%ob%1347316102019%cb%</td>\n",
       "      <td>4</td>\n",
       "    </tr>\n",
       "    <tr>\n",
       "      <th>position</th>\n",
       "      <td>1817</td>\n",
       "      <td>1214</td>\n",
       "      <td>{'coordinates': [-9.17295260295721, 38.7263530...</td>\n",
       "      <td>42</td>\n",
       "    </tr>\n",
       "    <tr>\n",
       "      <th>freguesia</th>\n",
       "      <td>1785</td>\n",
       "      <td>24</td>\n",
       "      <td>Alvalade</td>\n",
       "      <td>149</td>\n",
       "    </tr>\n",
       "    <tr>\n",
       "      <th>tipologia</th>\n",
       "      <td>1817</td>\n",
       "      <td>4</td>\n",
       "      <td>2102 - Acidentes - Rodoviários - Com viaturas</td>\n",
       "      <td>1455</td>\n",
       "    </tr>\n",
       "    <tr>\n",
       "      <th>dtregisto</th>\n",
       "      <td>1817</td>\n",
       "      <td>1618</td>\n",
       "      <td>30/11/2019 04:36</td>\n",
       "      <td>21</td>\n",
       "    </tr>\n",
       "    <tr>\n",
       "      <th>dia_registo</th>\n",
       "      <td>1817</td>\n",
       "      <td>326</td>\n",
       "      <td>30/11/2019</td>\n",
       "      <td>37</td>\n",
       "    </tr>\n",
       "  </tbody>\n",
       "</table>\n",
       "</div>"
      ],
      "text/plain": [
       "            count unique                                                top  \\\n",
       "code         1817   1641                  62821/O/2019%ob%1347316102019%cb%   \n",
       "position     1817   1214  {'coordinates': [-9.17295260295721, 38.7263530...   \n",
       "freguesia    1785     24                                           Alvalade   \n",
       "tipologia    1817      4      2102 - Acidentes - Rodoviários - Com viaturas   \n",
       "dtregisto    1817   1618                                   30/11/2019 04:36   \n",
       "dia_registo  1817    326                                         30/11/2019   \n",
       "\n",
       "             freq  \n",
       "code            4  \n",
       "position       42  \n",
       "freguesia     149  \n",
       "tipologia    1455  \n",
       "dtregisto      21  \n",
       "dia_registo    37  "
      ]
     },
     "execution_count": 16,
     "metadata": {},
     "output_type": "execute_result"
    }
   ],
   "source": [
    "accidents_second_file.describe(include='O').T"
   ]
  },
  {
   "cell_type": "markdown",
   "metadata": {},
   "source": [
    "Main points:\n",
    "* There seems to be some locations with multiple accidents (one with 42 even);\n",
    "* We only seem to have 4 types of accidents, however this as to be better evaluated;\n",
    "* Also, there seems to be some accidents that occurred at exactly the same date. This also has to be evaluated."
   ]
  },
  {
   "cell_type": "markdown",
   "metadata": {},
   "source": [
    "**`Accident type evaluation`**"
   ]
  },
  {
   "cell_type": "code",
   "execution_count": 17,
   "metadata": {},
   "outputs": [
    {
     "data": {
      "text/plain": [
       "2102 - Acidentes - Rodoviários - Com viaturas        0.80\n",
       "2101 - Acidentes - Rodoviários - Atropelamento       0.10\n",
       "2103 - Acidentes - Rodoviários - Com Encarcerados    0.07\n",
       "2103 - Acidentes - Rodoviários - ComEncarcerados     0.03\n",
       "Name: tipologia, dtype: float64"
      ]
     },
     "execution_count": 17,
     "metadata": {},
     "output_type": "execute_result"
    }
   ],
   "source": [
    "accidents_second_file['tipologia'].value_counts(normalize=True).round(2)"
   ]
  },
  {
   "cell_type": "markdown",
   "metadata": {},
   "source": [
    "Main points:\n",
    "* Most of the accidents are car accidents;\n",
    "* The next one are the run over accidents."
   ]
  },
  {
   "cell_type": "markdown",
   "metadata": {},
   "source": [
    "**`Accident duplicates data evaluation`**"
   ]
  },
  {
   "cell_type": "code",
   "execution_count": 40,
   "metadata": {},
   "outputs": [
    {
     "data": {
      "text/plain": [
       "20"
      ]
     },
     "execution_count": 40,
     "metadata": {},
     "output_type": "execute_result"
    }
   ],
   "source": [
    "accidents_second_file.drop(columns = 'code').duplicated().sum()"
   ]
  },
  {
   "cell_type": "markdown",
   "metadata": {},
   "source": [
    "Main points:\n",
    "* There seems to be some duplicated accidents;\n",
    "* Will have to a better evaluation of the duplicated values;\n",
    "* Also will have to evaluate the ones that are closer and not duplicated (have the same freguesia, hora but different position that may be close togheter)"
   ]
  },
  {
   "cell_type": "markdown",
   "metadata": {},
   "source": [
    "## 4. Data cleaning\n",
    "\n",
    "Since the second file only have basic information on the accidents we opted to clean both of the files separately and then create three dataframes with different objectives:\n",
    "1. Information regarding the accidents without geolocation features;\n",
    "2. Information regarding the accidents with geolocation features;\n",
    "3. Information from the first file with all the accidents characteristics."
   ]
  },
  {
   "cell_type": "markdown",
   "metadata": {},
   "source": [
    "### 4.1. User defined functions"
   ]
  },
  {
   "cell_type": "code",
   "execution_count": 175,
   "metadata": {
    "jupyter": {
     "source_hidden": true
    }
   },
   "outputs": [],
   "source": [
    "def prepare_file_without_geolocation(df1, df2, with_geo):\n",
    "    \"\"\" Prepares the first and second accident file. \"\"\"\n",
    "    \n",
    "    # cleans both accident files\n",
    "    clean_df1 = clean_accidents_first_file(df1)\n",
    "    clean_df2 = clean_accidents_second_file(df2)\n",
    "\n",
    "    # prepares the data with or without geolocation\n",
    "    if with_geo:\n",
    "        final_data = (\n",
    "            pd.concat([clean_df1, clean_df2])\n",
    "            .dropna()\n",
    "        )\n",
    "    else:\n",
    "        final_data = (\n",
    "            pd.concat([clean_df1, clean_df2])\n",
    "            .drop(columns = ['latitude', 'longitude'])\n",
    "        )\n",
    "    return final_data\n",
    "\n",
    "def clean_accidents_first_file(df):\n",
    "    \"\"\" Cleans the first accident data file. \"\"\"\n",
    "    clean_df = (\n",
    "        df\n",
    "        [['Datahora', 'Tipo Natureza', 'Latitude GPS', 'Longitude GPS']]\n",
    "        .pipe(convert_to_datetime, 'Datahora', 1)\n",
    "        .pipe(rename_columns)\n",
    "        .pipe(correct_accident_type, 'accident_type')\n",
    "        .pipe(add_hour, 'date')\n",
    "        .pipe(add_weekday, 'date')\n",
    "        .pipe(add_month, 'date')\n",
    "        .pipe(add_year_day, 'date')\n",
    "    )\n",
    "    return clean_df\n",
    "\n",
    "\n",
    "def clean_accidents_second_file(df):\n",
    "    \"\"\" Cleans the second accident file. \"\"\"\n",
    "    clean_df = (\n",
    "        df\n",
    "        .drop(columns = 'code')\n",
    "        .drop_duplicates()\n",
    "        [['position', 'tipologia', 'dtregisto']]\n",
    "        .pipe(add_location, 'position')\n",
    "        .pipe(rename_columns)\n",
    "        .pipe(correct_accident_type, 'accident_type')\n",
    "        .pipe(convert_to_datetime, 'date', 2)\n",
    "        .pipe(adds_time_features, 'date')\n",
    "    )\n",
    "    return clean_df\n",
    "\n",
    "\n",
    "def convert_to_datetime(df, date_column, version):\n",
    "    \"\"\" Converts the date column to datetime\"\"\"\n",
    "    df = df.copy()\n",
    "    \n",
    "    # uses version one or two depending of the file\n",
    "    if version == 1:\n",
    "        df[date_column] = pd.to_datetime(df[date_column], format='%Y:%m:%d %H:%M:%S')\n",
    "    elif version == 2:\n",
    "        df[date_column] = pd.to_datetime(df[date_column], format='%d/%m/%Y %H:%M')\n",
    "    return df\n",
    "\n",
    "\n",
    "\n",
    "def rename_columns(df):\n",
    "    \"\"\" Renames the columns to have a uniform structure. \"\"\"\n",
    "    \n",
    "    # rename diccionary\n",
    "    rename_dict = {'Datahora': 'date',\n",
    "                   'Tipo Natureza': 'accident_type',\n",
    "                   'Latitude GPS': 'latitude',\n",
    "                   'Longitude GPS': 'longitude',\n",
    "                   'tipologia': 'accident_type',\n",
    "                   'dtregisto': 'date'}\n",
    "    return df.rename(columns=rename_dict)\n",
    "\n",
    "\n",
    "def adds_time_features(df, date_column):\n",
    "    \"\"\" Adds the time information needed. \"\"\"\n",
    "    df = df.copy()\n",
    "    \n",
    "    # creates the new columns\n",
    "    df = df.assign(hour = df[date_column].dt.hour,\n",
    "                   weekday = df[date_column].dt.weekday,\n",
    "                   month = df[date_column].dt.month,\n",
    "                   day_of_year = df[date_column].dt.day_of_year)\n",
    "    return df\n",
    "\n",
    "\n",
    "def add_location(df, location_column):\n",
    "    \"\"\" Converts the location json from the second file to columns \"\"\"\n",
    "    df = df.copy()\n",
    "    \n",
    "    # gets the location\n",
    "    location = pd.DataFrame(df\n",
    "                            .position\n",
    "                            .apply(lambda x: json.loads(x.replace(\"'\", '\"'))['coordinates'])\n",
    "                            .to_list(), \n",
    "                            columns=['longitude', 'latitude'])\n",
    "    \n",
    "    # merges the location information\n",
    "    df = pd.concat([df.reset_index(drop=True), \n",
    "                    location.reset_index(drop=True)], axis=1)\n",
    "    \n",
    "    # drops the position column\n",
    "    df.drop(columns=['position'], inplace=True)\n",
    "    return df\n",
    "\n",
    "\n",
    "def correct_accident_type(df, accident_column):\n",
    "    \"\"\" Renames the accident data to be uniform. \"\"\"\n",
    "    \n",
    "    # rename dictionary\n",
    "    rename_dict = {'2102 - Acidentes - Rodoviários - Com viaturas': 'Colisão/Despiste',\n",
    "                   '2101 - Acidentes - Rodoviários - Atropelamento': 'Atropelamento',\n",
    "                   '2103 - Acidentes - Rodoviários - Com Encarcerados': 'Colisão/Despiste',\n",
    "                   '2103 - Acidentes - Rodoviários - ComEncarcerados': 'Colisão/Despiste',\n",
    "                   'Colisão': 'Colisão/Despiste',\n",
    "                   'Despiste': 'Colisão/Despiste'}\n",
    "    return df.replace(rename_dict)"
   ]
  },
  {
   "cell_type": "markdown",
   "metadata": {},
   "source": [
    "### 4.2. Prepare data without geolocation"
   ]
  },
  {
   "cell_type": "code",
   "execution_count": 178,
   "metadata": {},
   "outputs": [],
   "source": [
    "data_wo_geolocation = prepare_file_without_geolocation(accidents_first_file, accidents_second_file, False)"
   ]
  },
  {
   "cell_type": "code",
   "execution_count": 179,
   "metadata": {},
   "outputs": [],
   "source": [
    "data_wo_geolocation.to_parquet('../00-data/processed/data_wo_geolocation.parquet')"
   ]
  },
  {
   "cell_type": "markdown",
   "metadata": {},
   "source": [
    "### 4.3. Prepare data with geolocation"
   ]
  },
  {
   "cell_type": "code",
   "execution_count": 182,
   "metadata": {},
   "outputs": [],
   "source": [
    "data_w_geolocation = prepare_file_without_geolocation(accidents_first_file, accidents_second_file, True)"
   ]
  },
  {
   "cell_type": "code",
   "execution_count": 157,
   "metadata": {},
   "outputs": [],
   "source": [
    "data_w_geolocation.to_parquet('../00-data/processed/data_w_geolocation.parquet')"
   ]
  },
  {
   "cell_type": "markdown",
   "metadata": {},
   "source": [
    "### 4.4. Prepare data with the police report information"
   ]
  },
  {
   "cell_type": "code",
   "execution_count": null,
   "metadata": {},
   "outputs": [],
   "source": []
  }
 ],
 "metadata": {
  "kernelspec": {
   "display_name": "Python 3",
   "language": "python",
   "name": "python3"
  },
  "language_info": {
   "codemirror_mode": {
    "name": "ipython",
    "version": 3
   },
   "file_extension": ".py",
   "mimetype": "text/x-python",
   "name": "python",
   "nbconvert_exporter": "python",
   "pygments_lexer": "ipython3",
   "version": "3.8.6"
  }
 },
 "nbformat": 4,
 "nbformat_minor": 5
}
