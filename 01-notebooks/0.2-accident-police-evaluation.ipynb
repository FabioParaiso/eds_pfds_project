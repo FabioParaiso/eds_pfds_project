{
 "cells": [
  {
   "cell_type": "code",
   "execution_count": 1,
   "metadata": {},
   "outputs": [],
   "source": [
    "import h3\n",
    "import pandas as pd\n",
    "import folium\n",
    "import matplotlib.pyplot as plt\n",
    "import seaborn as sns\n",
    "import numpy as np\n",
    "import json\n",
    "from mlxtend.preprocessing import TransactionEncoder"
   ]
  },
  {
   "cell_type": "code",
   "execution_count": 2,
   "metadata": {},
   "outputs": [],
   "source": [
    "first_file_path = '../00-data/raw/Acidentes_ANSR_2019_desafio_lxdatalab_2020_21.xlsx'\n",
    "accidents_first_file = pd.read_excel(first_file_path, sheet_name='acidentes')\n",
    "vehicle_first_file = pd.read_excel(first_file_path, sheet_name='veíc-cond')\n",
    "passangers_first_file = pd.read_excel(first_file_path, sheet_name='passageiros')\n",
    "pedestrians_first_file = pd.read_excel(first_file_path, sheet_name='peões')"
   ]
  },
  {
   "cell_type": "code",
   "execution_count": null,
   "metadata": {},
   "outputs": [],
   "source": []
  },
  {
   "cell_type": "code",
   "execution_count": 3,
   "metadata": {},
   "outputs": [],
   "source": [
    "accidents_first_file = accidents_first_file.set_index('IdAcidente')"
   ]
  },
  {
   "cell_type": "code",
   "execution_count": 4,
   "metadata": {},
   "outputs": [],
   "source": [
    "vehicle_first_file = vehicle_first_file.set_index('IdAcidente').drop(columns='Datahora')"
   ]
  },
  {
   "cell_type": "code",
   "execution_count": 5,
   "metadata": {},
   "outputs": [],
   "source": [
    "driver_data = (\n",
    "    accidents_first_file\n",
    "    .merge(vehicle_first_file, left_index=True, right_index=True)\n",
    "    .rename(columns = {'Acessórios Condutores': 'Acessórios'})\n",
    "    [['Lesões a 30 dias', 'Traçado 1', 'Traçado 2', 'Factores Atmosféricos', 'Luminosidade', \n",
    "      'Cond Aderência', 'Categoria Veículos', 'Idade', 'Sexo', 'Acessórios', 'Tipo Natureza']]\n",
    ")"
   ]
  },
  {
   "cell_type": "code",
   "execution_count": 6,
   "metadata": {},
   "outputs": [
    {
     "name": "stdout",
     "output_type": "stream",
     "text": [
      "<class 'pandas.core.frame.DataFrame'>\n",
      "Int64Index: 4834 entries, 20191648491 to 20201866679\n",
      "Data columns (total 11 columns):\n",
      " #   Column                 Non-Null Count  Dtype  \n",
      "---  ------                 --------------  -----  \n",
      " 0   Lesões a 30 dias       4834 non-null   object \n",
      " 1   Traçado 1              4834 non-null   object \n",
      " 2   Traçado 2              4834 non-null   object \n",
      " 3   Factores Atmosféricos  4834 non-null   object \n",
      " 4   Luminosidade           4834 non-null   object \n",
      " 5   Cond Aderência         4834 non-null   object \n",
      " 6   Categoria Veículos     4834 non-null   object \n",
      " 7   Idade                  4630 non-null   float64\n",
      " 8   Sexo                   4834 non-null   object \n",
      " 9   Acessórios             4834 non-null   object \n",
      " 10  Tipo Natureza          4834 non-null   object \n",
      "dtypes: float64(1), object(10)\n",
      "memory usage: 453.2+ KB\n"
     ]
    }
   ],
   "source": [
    "driver_data.info()"
   ]
  },
  {
   "cell_type": "code",
   "execution_count": null,
   "metadata": {},
   "outputs": [],
   "source": []
  },
  {
   "cell_type": "code",
   "execution_count": 7,
   "metadata": {},
   "outputs": [],
   "source": [
    "passanger_data = (\n",
    "    accidents_first_file\n",
    "    .merge(vehicle_first_file, left_index=True, right_index=True)\n",
    "    .rename(columns = {'Id. Veiculo': 'Id. Veículo'})\n",
    "    .drop(columns = ['Idade', 'Sexo', 'Lesões a 30 dias', 'Acessórios Condutores'])\n",
    "    .reset_index()\n",
    "    .merge(passangers_first_file, on=['IdAcidente', 'Id. Veículo'])\n",
    "    .rename(columns = {'Acessórios Passageiro': 'Acessórios'})\n",
    "    [['Lesões a 30 dias', 'Traçado 1', 'Traçado 2', 'Factores Atmosféricos', 'Luminosidade', \n",
    "      'Cond Aderência', 'Categoria Veículos', 'Idade', 'Sexo', 'Acessórios', 'Tipo Natureza']]\n",
    ")"
   ]
  },
  {
   "cell_type": "code",
   "execution_count": null,
   "metadata": {},
   "outputs": [],
   "source": []
  },
  {
   "cell_type": "code",
   "execution_count": 8,
   "metadata": {},
   "outputs": [],
   "source": [
    "model_data = pd.concat([driver_data, passanger_data])"
   ]
  },
  {
   "cell_type": "code",
   "execution_count": null,
   "metadata": {},
   "outputs": [],
   "source": []
  },
  {
   "cell_type": "code",
   "execution_count": 9,
   "metadata": {},
   "outputs": [],
   "source": [
    "coluna = 'Lesões a 30 dias'"
   ]
  },
  {
   "cell_type": "code",
   "execution_count": 10,
   "metadata": {},
   "outputs": [],
   "source": [
    "model_data = model_data.replace({'Lesões a 30 dias': {'Ileso': 0, 'Ferido leve': 1, 'Ferido grave': 1, 'Morto':1}})"
   ]
  },
  {
   "cell_type": "code",
   "execution_count": 11,
   "metadata": {},
   "outputs": [
    {
     "data": {
      "text/plain": [
       "0    2828\n",
       "1    2637\n",
       "Name: Lesões a 30 dias, dtype: int64"
      ]
     },
     "execution_count": 11,
     "metadata": {},
     "output_type": "execute_result"
    }
   ],
   "source": [
    "model_data[coluna].value_counts()"
   ]
  },
  {
   "cell_type": "code",
   "execution_count": 12,
   "metadata": {},
   "outputs": [],
   "source": [
    "# model_data = (\n",
    "#     pd.concat([model_data, pd.get_dummies(model_data[coluna])], axis=1)\n",
    "#     .drop(columns = [coluna])\n",
    "# )"
   ]
  },
  {
   "cell_type": "code",
   "execution_count": 13,
   "metadata": {},
   "outputs": [],
   "source": [
    "# model_data = model_data.replace({'Lesões a 30 dias': {'Morto': 'Ferido grave'}})"
   ]
  },
  {
   "cell_type": "code",
   "execution_count": null,
   "metadata": {},
   "outputs": [],
   "source": []
  },
  {
   "cell_type": "code",
   "execution_count": 14,
   "metadata": {},
   "outputs": [],
   "source": [
    "coluna = 'Traçado 1'"
   ]
  },
  {
   "cell_type": "code",
   "execution_count": 15,
   "metadata": {},
   "outputs": [],
   "source": [
    "model_data = model_data.replace({coluna: {'NÃO DEFINIDO': model_data[coluna].mode()}})"
   ]
  },
  {
   "cell_type": "code",
   "execution_count": 16,
   "metadata": {},
   "outputs": [
    {
     "data": {
      "text/plain": [
       "Recta    4689\n",
       "Curva     776\n",
       "Name: Traçado 1, dtype: int64"
      ]
     },
     "execution_count": 16,
     "metadata": {},
     "output_type": "execute_result"
    }
   ],
   "source": [
    "model_data[coluna].value_counts()"
   ]
  },
  {
   "cell_type": "code",
   "execution_count": 17,
   "metadata": {},
   "outputs": [],
   "source": [
    "model_data = (\n",
    "    pd.concat([model_data, pd.get_dummies(model_data[coluna]).drop(columns = 'Recta')], axis=1)\n",
    "    .drop(columns = [coluna])\n",
    ")"
   ]
  },
  {
   "cell_type": "code",
   "execution_count": null,
   "metadata": {},
   "outputs": [],
   "source": []
  },
  {
   "cell_type": "code",
   "execution_count": 18,
   "metadata": {},
   "outputs": [],
   "source": [
    "coluna = 'Traçado 2'"
   ]
  },
  {
   "cell_type": "code",
   "execution_count": 19,
   "metadata": {},
   "outputs": [],
   "source": [
    "model_data = model_data.replace({coluna: {'NÃO DEFINIDO': model_data[coluna].mode()}})"
   ]
  },
  {
   "cell_type": "code",
   "execution_count": 20,
   "metadata": {},
   "outputs": [
    {
     "data": {
      "text/plain": [
       "Em patamar        3584\n",
       "Com inclinação    1864\n",
       "Em Lomba            17\n",
       "Name: Traçado 2, dtype: int64"
      ]
     },
     "execution_count": 20,
     "metadata": {},
     "output_type": "execute_result"
    }
   ],
   "source": [
    "model_data[coluna].value_counts()"
   ]
  },
  {
   "cell_type": "code",
   "execution_count": 21,
   "metadata": {},
   "outputs": [],
   "source": [
    "model_data = (\n",
    "    pd.concat([model_data, pd.get_dummies(model_data[coluna]).drop(columns = 'Em patamar')], axis=1)\n",
    "    .drop(columns = [coluna])\n",
    ")"
   ]
  },
  {
   "cell_type": "code",
   "execution_count": null,
   "metadata": {},
   "outputs": [],
   "source": []
  },
  {
   "cell_type": "code",
   "execution_count": 22,
   "metadata": {},
   "outputs": [],
   "source": [
    "coluna = 'Factores Atmosféricos'"
   ]
  },
  {
   "cell_type": "code",
   "execution_count": 23,
   "metadata": {},
   "outputs": [],
   "source": [
    "model_data = model_data.replace({coluna: {'NÃO DEFINIDO': model_data[coluna].mode()}})"
   ]
  },
  {
   "cell_type": "code",
   "execution_count": 24,
   "metadata": {},
   "outputs": [
    {
     "data": {
      "text/plain": [
       "Bom tempo    4702\n",
       "Chuva         763\n",
       "Name: Factores Atmosféricos, dtype: int64"
      ]
     },
     "execution_count": 24,
     "metadata": {},
     "output_type": "execute_result"
    }
   ],
   "source": [
    "model_data[coluna].value_counts()"
   ]
  },
  {
   "cell_type": "code",
   "execution_count": 25,
   "metadata": {},
   "outputs": [],
   "source": [
    "model_data = (\n",
    "    pd.concat([model_data, pd.get_dummies(model_data[coluna]).drop(columns = 'Bom tempo')], axis=1)\n",
    "    .drop(columns = [coluna])\n",
    ")"
   ]
  },
  {
   "cell_type": "code",
   "execution_count": null,
   "metadata": {},
   "outputs": [],
   "source": []
  },
  {
   "cell_type": "code",
   "execution_count": 26,
   "metadata": {},
   "outputs": [],
   "source": [
    "coluna = 'Luminosidade'"
   ]
  },
  {
   "cell_type": "code",
   "execution_count": 27,
   "metadata": {},
   "outputs": [],
   "source": [
    "model_data = model_data.replace({coluna: {'NÃO DEFINIDO': model_data[coluna].mode()}})"
   ]
  },
  {
   "cell_type": "code",
   "execution_count": 28,
   "metadata": {},
   "outputs": [
    {
     "data": {
      "text/plain": [
       "Em pleno dia             3620\n",
       "Noite, com iluminação    1545\n",
       "Aurora ou crepúsculo      263\n",
       "Noite, sem iluminação      28\n",
       "Sol escandeante             9\n",
       "Name: Luminosidade, dtype: int64"
      ]
     },
     "execution_count": 28,
     "metadata": {},
     "output_type": "execute_result"
    }
   ],
   "source": [
    "model_data[coluna].value_counts()"
   ]
  },
  {
   "cell_type": "code",
   "execution_count": 29,
   "metadata": {},
   "outputs": [],
   "source": [
    "model_data = (\n",
    "    pd.concat([model_data, pd.get_dummies(model_data[coluna]).drop(columns = 'Em pleno dia')], axis=1)\n",
    "    .drop(columns = [coluna])\n",
    ")"
   ]
  },
  {
   "cell_type": "code",
   "execution_count": null,
   "metadata": {},
   "outputs": [],
   "source": []
  },
  {
   "cell_type": "code",
   "execution_count": 30,
   "metadata": {},
   "outputs": [],
   "source": [
    "coluna = 'Cond Aderência'"
   ]
  },
  {
   "cell_type": "code",
   "execution_count": 31,
   "metadata": {},
   "outputs": [],
   "source": [
    "model_data = model_data.replace({coluna: {'NÃO DEFINIDO': 'Outro_piso',\n",
    "                                          'Com óleo': 'Outro_piso', \n",
    "                                          'Com água acumulada na faixa de rodagem': 'Molhado',\n",
    "                                          'Húmido': 'Molhado',\n",
    "                                          'Com gravilha ou areia': 'Outro_piso',\n",
    "                                          'Com lama': 'Outro_piso'}})"
   ]
  },
  {
   "cell_type": "code",
   "execution_count": 32,
   "metadata": {},
   "outputs": [
    {
     "data": {
      "text/plain": [
       "Seco e limpo    4506\n",
       "Molhado          887\n",
       "Outro_piso        72\n",
       "Name: Cond Aderência, dtype: int64"
      ]
     },
     "execution_count": 32,
     "metadata": {},
     "output_type": "execute_result"
    }
   ],
   "source": [
    "model_data[coluna].value_counts()"
   ]
  },
  {
   "cell_type": "code",
   "execution_count": 33,
   "metadata": {},
   "outputs": [],
   "source": [
    "model_data = (\n",
    "    pd.concat([model_data, pd.get_dummies(model_data[coluna]).drop(columns = 'Seco e limpo')], axis=1)\n",
    "    .drop(columns = [coluna])\n",
    ")"
   ]
  },
  {
   "cell_type": "code",
   "execution_count": null,
   "metadata": {},
   "outputs": [],
   "source": []
  },
  {
   "cell_type": "code",
   "execution_count": 34,
   "metadata": {},
   "outputs": [],
   "source": [
    "coluna = 'Categoria Veículos'"
   ]
  },
  {
   "cell_type": "code",
   "execution_count": 35,
   "metadata": {},
   "outputs": [],
   "source": [
    "model_data = model_data.replace({coluna: {'NÃO DEFINIDO': 'Outro', \n",
    "                                          'Desconhecido': 'Outro', \n",
    "                                          'Velocípede com motor': 'Velocípede', \n",
    "                                          'Veículo agrícola': 'Outro',\n",
    "                                          'Quadriciclo': 'Outro'}})"
   ]
  },
  {
   "cell_type": "code",
   "execution_count": 36,
   "metadata": {},
   "outputs": [
    {
     "data": {
      "text/plain": [
       "Automóvel ligeiro                3825\n",
       "Motociclo cilindrada <= 125cc     760\n",
       "Motociclo cilindrada > 125cc      367\n",
       "Velocípede                        170\n",
       "Automóvel pesado                  156\n",
       "Ciclomotor                        126\n",
       "Triciclo                           32\n",
       "Veículo sobre carris               17\n",
       "Outro                              12\n",
       "Name: Categoria Veículos, dtype: int64"
      ]
     },
     "execution_count": 36,
     "metadata": {},
     "output_type": "execute_result"
    }
   ],
   "source": [
    "model_data[coluna].value_counts()"
   ]
  },
  {
   "cell_type": "code",
   "execution_count": 37,
   "metadata": {},
   "outputs": [],
   "source": [
    "model_data = (\n",
    "    pd.concat([model_data, pd.get_dummies(model_data[coluna])\n",
    "               .drop(columns = 'Outro')], axis=1)\n",
    "    .drop(columns = [coluna])\n",
    ")"
   ]
  },
  {
   "cell_type": "code",
   "execution_count": null,
   "metadata": {},
   "outputs": [],
   "source": []
  },
  {
   "cell_type": "code",
   "execution_count": 38,
   "metadata": {},
   "outputs": [],
   "source": [
    "coluna = 'Sexo'"
   ]
  },
  {
   "cell_type": "code",
   "execution_count": 39,
   "metadata": {},
   "outputs": [],
   "source": [
    "model_data = model_data.replace({coluna: {'NÃO DEFINIDO': model_data[coluna].mode()}})"
   ]
  },
  {
   "cell_type": "code",
   "execution_count": 40,
   "metadata": {},
   "outputs": [
    {
     "data": {
      "text/plain": [
       "Masculino    3912\n",
       "Feminino     1553\n",
       "Name: Sexo, dtype: int64"
      ]
     },
     "execution_count": 40,
     "metadata": {},
     "output_type": "execute_result"
    }
   ],
   "source": [
    "model_data[coluna].value_counts()"
   ]
  },
  {
   "cell_type": "code",
   "execution_count": 41,
   "metadata": {},
   "outputs": [],
   "source": [
    "model_data = (\n",
    "    pd.concat([model_data, pd.get_dummies(model_data[coluna]).drop(columns = 'Masculino')], axis=1)\n",
    "    .drop(columns = [coluna])\n",
    ")"
   ]
  },
  {
   "cell_type": "code",
   "execution_count": null,
   "metadata": {},
   "outputs": [],
   "source": []
  },
  {
   "cell_type": "code",
   "execution_count": 42,
   "metadata": {},
   "outputs": [],
   "source": [
    "coluna = 'Idade'"
   ]
  },
  {
   "cell_type": "code",
   "execution_count": 43,
   "metadata": {},
   "outputs": [],
   "source": [
    "model_data.fillna(value = {coluna: model_data[coluna].mean()}, inplace=True)"
   ]
  },
  {
   "cell_type": "code",
   "execution_count": null,
   "metadata": {},
   "outputs": [],
   "source": []
  },
  {
   "cell_type": "code",
   "execution_count": 44,
   "metadata": {},
   "outputs": [],
   "source": [
    "coluna = 'Acessórios'"
   ]
  },
  {
   "cell_type": "code",
   "execution_count": 45,
   "metadata": {},
   "outputs": [],
   "source": [
    "model_data = model_data.replace({coluna: {'NÃO DEFINIDO': 'Outro',\n",
    "                                          'Isento': 'Outro',\n",
    "                                          'Cinto de segurança': 'Seguro',\n",
    "                                          'Capacete': 'Seguro',\n",
    "                                          'C/ capacete/ cinto segurança': 'Seguro',\n",
    "                                          'Sem uso de cinto/capacete': 'Inseguro',\n",
    "                                          'S/ uso capacete/cinto segurança': 'Inseguro',\n",
    "                                          'C/ sistema retenção de crianças': 'Seguro'}})"
   ]
  },
  {
   "cell_type": "code",
   "execution_count": 46,
   "metadata": {},
   "outputs": [
    {
     "data": {
      "text/plain": [
       "Seguro      4666\n",
       "Outro        686\n",
       "Inseguro     113\n",
       "Name: Acessórios, dtype: int64"
      ]
     },
     "execution_count": 46,
     "metadata": {},
     "output_type": "execute_result"
    }
   ],
   "source": [
    "model_data[coluna].value_counts()"
   ]
  },
  {
   "cell_type": "code",
   "execution_count": 47,
   "metadata": {},
   "outputs": [],
   "source": [
    "model_data = (\n",
    "    pd.concat([model_data, pd.get_dummies(model_data[coluna]).drop(columns = 'Seguro')], axis=1)\n",
    "    .drop(columns = [coluna])\n",
    ")"
   ]
  },
  {
   "cell_type": "code",
   "execution_count": null,
   "metadata": {},
   "outputs": [],
   "source": []
  },
  {
   "cell_type": "code",
   "execution_count": 48,
   "metadata": {},
   "outputs": [],
   "source": [
    "coluna = 'Tipo Natureza'"
   ]
  },
  {
   "cell_type": "code",
   "execution_count": 49,
   "metadata": {},
   "outputs": [
    {
     "data": {
      "text/plain": [
       "Colisão          4047\n",
       "Atropelamento     711\n",
       "Despiste          707\n",
       "Name: Tipo Natureza, dtype: int64"
      ]
     },
     "execution_count": 49,
     "metadata": {},
     "output_type": "execute_result"
    }
   ],
   "source": [
    "model_data[coluna].value_counts()"
   ]
  },
  {
   "cell_type": "code",
   "execution_count": 50,
   "metadata": {},
   "outputs": [],
   "source": [
    "model_data = (\n",
    "    pd.concat([model_data, pd.get_dummies(model_data[coluna]).drop(columns = 'Colisão')], axis=1)\n",
    "    .drop(columns = [coluna])\n",
    ")"
   ]
  },
  {
   "cell_type": "code",
   "execution_count": null,
   "metadata": {},
   "outputs": [],
   "source": []
  },
  {
   "cell_type": "code",
   "execution_count": 51,
   "metadata": {},
   "outputs": [],
   "source": [
    "X = model_data.drop(columns = ['Lesões a 30 dias'])\n",
    "y = model_data.copy().pop('Lesões a 30 dias')"
   ]
  },
  {
   "cell_type": "code",
   "execution_count": null,
   "metadata": {},
   "outputs": [],
   "source": []
  },
  {
   "cell_type": "code",
   "execution_count": 98,
   "metadata": {},
   "outputs": [],
   "source": [
    "from sklearn.preprocessing import MinMaxScaler\n",
    "scaler = MinMaxScaler()\n",
    "X_scaled = pd.DataFrame(scaler.fit_transform(X), columns=X.columns, index=y.index)"
   ]
  },
  {
   "cell_type": "code",
   "execution_count": null,
   "metadata": {},
   "outputs": [],
   "source": []
  },
  {
   "cell_type": "code",
   "execution_count": 99,
   "metadata": {},
   "outputs": [
    {
     "name": "stdout",
     "output_type": "stream",
     "text": [
      "                                 OLS Regression Results                                \n",
      "=======================================================================================\n",
      "Dep. Variable:       Lesões a 30 dias   R-squared (uncentered):                   0.673\n",
      "Model:                            OLS   Adj. R-squared (uncentered):              0.672\n",
      "Method:                 Least Squares   F-statistic:                              801.8\n",
      "Date:                Wed, 05 May 2021   Prob (F-statistic):                        0.00\n",
      "Time:                        10:40:47   Log-Likelihood:                         -2707.7\n",
      "No. Observations:                5465   AIC:                                      5443.\n",
      "Df Residuals:                    5451   BIC:                                      5536.\n",
      "Df Model:                          14                                                  \n",
      "Covariance Type:            nonrobust                                                  \n",
      "=================================================================================================\n",
      "                                    coef    std err          t      P>|t|      [0.025      0.975]\n",
      "-------------------------------------------------------------------------------------------------\n",
      "Idade                             0.1255      0.029      4.270      0.000       0.068       0.183\n",
      "Curva                             0.0460      0.016      2.925      0.003       0.015       0.077\n",
      "Com inclinação                    0.0043      0.011      0.378      0.705      -0.018       0.027\n",
      "Em Lomba                               0          0        nan        nan           0           0\n",
      "Chuva                                  0          0        nan        nan           0           0\n",
      "Aurora ou crepúsculo                   0          0        nan        nan           0           0\n",
      "Noite, com iluminação             0.0229      0.012      1.890      0.059      -0.001       0.047\n",
      "Noite, sem iluminação                  0          0        nan        nan           0           0\n",
      "Sol escandeante                        0          0        nan        nan           0           0\n",
      "Molhado                           0.0499      0.015      3.365      0.001       0.021       0.079\n",
      "Outro_piso                             0          0        nan        nan           0           0\n",
      "Automóvel ligeiro                 0.2245      0.016     13.881      0.000       0.193       0.256\n",
      "Automóvel pesado                       0          0        nan        nan           0           0\n",
      "Ciclomotor                        0.8033      0.037     21.452      0.000       0.730       0.877\n",
      "Motociclo cilindrada <= 125cc     0.8141      0.019     42.304      0.000       0.776       0.852\n",
      "Motociclo cilindrada > 125cc      0.8291      0.024     34.114      0.000       0.781       0.877\n",
      "Triciclo                               0          0        nan        nan           0           0\n",
      "Velocípede                        0.7690      0.034     22.810      0.000       0.703       0.835\n",
      "Veículo sobre carris                   0          0        nan        nan           0           0\n",
      "Feminino                          0.2191      0.012     18.038      0.000       0.195       0.243\n",
      "Inseguro                               0          0        nan        nan           0           0\n",
      "Outro                            -0.1232      0.017     -7.276      0.000      -0.156      -0.090\n",
      "Atropelamento                    -0.3170      0.016    -19.416      0.000      -0.349      -0.285\n",
      "Despiste                          0.1533      0.017      8.935      0.000       0.120       0.187\n",
      "==============================================================================\n",
      "Omnibus:                      417.973   Durbin-Watson:                   1.738\n",
      "Prob(Omnibus):                  0.000   Jarque-Bera (JB):              239.061\n",
      "Skew:                           0.369   Prob(JB):                     1.23e-52\n",
      "Kurtosis:                       2.290   Cond. No.                         27.9\n",
      "==============================================================================\n",
      "\n",
      "Notes:\n",
      "[1] R² is computed without centering (uncentered) since the model does not contain a constant.\n",
      "[2] Standard Errors assume that the covariance matrix of the errors is correctly specified.\n"
     ]
    }
   ],
   "source": [
    "import statsmodels.api as sm\n",
    "model = sm.OLS(y, X_scaled)\n",
    "results_fu = model.fit_regularized(alpha = 5e-3, refit=True)\n",
    "print(results_fu.summary())"
   ]
  },
  {
   "cell_type": "code",
   "execution_count": 89,
   "metadata": {},
   "outputs": [
    {
     "ename": "NotImplementedError",
     "evalue": "",
     "output_type": "error",
     "traceback": [
      "\u001b[1;31m---------------------------------------------------------------------------\u001b[0m",
      "\u001b[1;31mNotImplementedError\u001b[0m                       Traceback (most recent call last)",
      "\u001b[1;32m<ipython-input-89-474aef5354f6>\u001b[0m in \u001b[0;36m<module>\u001b[1;34m\u001b[0m\n\u001b[1;32m----> 1\u001b[1;33m \u001b[0mresults_fu\u001b[0m\u001b[1;33m.\u001b[0m\u001b[0msummary\u001b[0m\u001b[1;33m(\u001b[0m\u001b[1;33m)\u001b[0m\u001b[1;33m\u001b[0m\u001b[1;33m\u001b[0m\u001b[0m\n\u001b[0m",
      "\u001b[1;32mc:\\users\\793221\\appdata\\local\\programs\\python\\python38\\lib\\site-packages\\statsmodels\\base\\model.py\u001b[0m in \u001b[0;36msummary\u001b[1;34m(self)\u001b[0m\n\u001b[0;32m   1115\u001b[0m         \u001b[0mNot\u001b[0m \u001b[0mimplemented\u001b[0m\u001b[1;33m\u001b[0m\u001b[1;33m\u001b[0m\u001b[0m\n\u001b[0;32m   1116\u001b[0m         \"\"\"\n\u001b[1;32m-> 1117\u001b[1;33m         \u001b[1;32mraise\u001b[0m \u001b[0mNotImplementedError\u001b[0m\u001b[1;33m\u001b[0m\u001b[1;33m\u001b[0m\u001b[0m\n\u001b[0m\u001b[0;32m   1118\u001b[0m \u001b[1;33m\u001b[0m\u001b[0m\n\u001b[0;32m   1119\u001b[0m \u001b[1;33m\u001b[0m\u001b[0m\n",
      "\u001b[1;31mNotImplementedError\u001b[0m: "
     ]
    }
   ],
   "source": [
    "results_fu.summary()"
   ]
  },
  {
   "cell_type": "code",
   "execution_count": null,
   "metadata": {},
   "outputs": [],
   "source": []
  },
  {
   "cell_type": "code",
   "execution_count": null,
   "metadata": {},
   "outputs": [],
   "source": []
  },
  {
   "cell_type": "code",
   "execution_count": null,
   "metadata": {},
   "outputs": [],
   "source": []
  },
  {
   "cell_type": "code",
   "execution_count": null,
   "metadata": {},
   "outputs": [],
   "source": []
  },
  {
   "cell_type": "code",
   "execution_count": null,
   "metadata": {},
   "outputs": [],
   "source": []
  },
  {
   "cell_type": "code",
   "execution_count": null,
   "metadata": {},
   "outputs": [],
   "source": []
  },
  {
   "cell_type": "code",
   "execution_count": null,
   "metadata": {},
   "outputs": [],
   "source": []
  },
  {
   "cell_type": "code",
   "execution_count": 65,
   "metadata": {},
   "outputs": [],
   "source": [
    "from sklearn.model_selection import train_test_split\n",
    "X_train, X_test, y_train, y_test = train_test_split(X, y, test_size=0.20, random_state=0)"
   ]
  },
  {
   "cell_type": "code",
   "execution_count": null,
   "metadata": {},
   "outputs": [],
   "source": []
  },
  {
   "cell_type": "code",
   "execution_count": 68,
   "metadata": {},
   "outputs": [],
   "source": [
    "from sklearn.ensemble import GradientBoostingClassifier\n",
    "clf = GradientBoostingClassifier(random_state=0)"
   ]
  },
  {
   "cell_type": "code",
   "execution_count": null,
   "metadata": {},
   "outputs": [],
   "source": []
  },
  {
   "cell_type": "code",
   "execution_count": 72,
   "metadata": {},
   "outputs": [
    {
     "data": {
      "text/plain": [
       "{'fit_time': array([0.36057162, 0.33910847, 0.33588147, 0.33502388, 0.34668207,\n",
       "        0.33849192, 0.34102631, 0.3425107 , 0.33277988, 0.33604646]),\n",
       " 'score_time': array([0.00196218, 0.00295067, 0.00242996, 0.00300217, 0.00197077,\n",
       "        0.00195932, 0.00300241, 0.00193834, 0.00200558, 0.00199962]),\n",
       " 'test_score': array([0.80255941, 0.81352834, 0.79341865, 0.81535649, 0.80804388,\n",
       "        0.77655678, 0.78021978, 0.73992674, 0.78754579, 0.75457875])}"
      ]
     },
     "execution_count": 72,
     "metadata": {},
     "output_type": "execute_result"
    }
   ],
   "source": [
    "from sklearn.model_selection import cross_validate\n",
    "cv_results = cross_validate(clf, X, y, cv=10)\n",
    "# np.mean(cv_results['test_score'])\n",
    "cv_results"
   ]
  },
  {
   "cell_type": "code",
   "execution_count": null,
   "metadata": {},
   "outputs": [],
   "source": []
  },
  {
   "cell_type": "code",
   "execution_count": 74,
   "metadata": {},
   "outputs": [
    {
     "data": {
      "text/html": [
       "<div>\n",
       "<style scoped>\n",
       "    .dataframe tbody tr th:only-of-type {\n",
       "        vertical-align: middle;\n",
       "    }\n",
       "\n",
       "    .dataframe tbody tr th {\n",
       "        vertical-align: top;\n",
       "    }\n",
       "\n",
       "    .dataframe thead th {\n",
       "        text-align: right;\n",
       "    }\n",
       "</style>\n",
       "<table border=\"1\" class=\"dataframe\">\n",
       "  <thead>\n",
       "    <tr style=\"text-align: right;\">\n",
       "      <th></th>\n",
       "      <th>0</th>\n",
       "    </tr>\n",
       "  </thead>\n",
       "  <tbody>\n",
       "    <tr>\n",
       "      <th>Automóvel ligeiro</th>\n",
       "      <td>0.453787</td>\n",
       "    </tr>\n",
       "    <tr>\n",
       "      <th>Atropelamento</th>\n",
       "      <td>0.172891</td>\n",
       "    </tr>\n",
       "    <tr>\n",
       "      <th>Automóvel pesado</th>\n",
       "      <td>0.081514</td>\n",
       "    </tr>\n",
       "    <tr>\n",
       "      <th>Idade</th>\n",
       "      <td>0.079238</td>\n",
       "    </tr>\n",
       "    <tr>\n",
       "      <th>Feminino</th>\n",
       "      <td>0.065167</td>\n",
       "    </tr>\n",
       "    <tr>\n",
       "      <th>Despiste</th>\n",
       "      <td>0.042302</td>\n",
       "    </tr>\n",
       "    <tr>\n",
       "      <th>Seguro</th>\n",
       "      <td>0.035366</td>\n",
       "    </tr>\n",
       "    <tr>\n",
       "      <th>Inseguro</th>\n",
       "      <td>0.030690</td>\n",
       "    </tr>\n",
       "    <tr>\n",
       "      <th>Masculino</th>\n",
       "      <td>0.012101</td>\n",
       "    </tr>\n",
       "    <tr>\n",
       "      <th>Motociclo cilindrada &lt;= 125cc</th>\n",
       "      <td>0.008663</td>\n",
       "    </tr>\n",
       "    <tr>\n",
       "      <th>Triciclo</th>\n",
       "      <td>0.005202</td>\n",
       "    </tr>\n",
       "    <tr>\n",
       "      <th>Motociclo cilindrada &gt; 125cc</th>\n",
       "      <td>0.002483</td>\n",
       "    </tr>\n",
       "    <tr>\n",
       "      <th>Molhado</th>\n",
       "      <td>0.001773</td>\n",
       "    </tr>\n",
       "    <tr>\n",
       "      <th>Recta</th>\n",
       "      <td>0.001581</td>\n",
       "    </tr>\n",
       "    <tr>\n",
       "      <th>Veículo sobre carris</th>\n",
       "      <td>0.001353</td>\n",
       "    </tr>\n",
       "    <tr>\n",
       "      <th>Seco e limpo</th>\n",
       "      <td>0.000827</td>\n",
       "    </tr>\n",
       "    <tr>\n",
       "      <th>Em Lomba</th>\n",
       "      <td>0.000772</td>\n",
       "    </tr>\n",
       "    <tr>\n",
       "      <th>Noite, sem iluminação</th>\n",
       "      <td>0.000762</td>\n",
       "    </tr>\n",
       "    <tr>\n",
       "      <th>Ciclomotor</th>\n",
       "      <td>0.000673</td>\n",
       "    </tr>\n",
       "    <tr>\n",
       "      <th>Sol escandeante</th>\n",
       "      <td>0.000577</td>\n",
       "    </tr>\n",
       "    <tr>\n",
       "      <th>Noite, com iluminação</th>\n",
       "      <td>0.000490</td>\n",
       "    </tr>\n",
       "    <tr>\n",
       "      <th>Colisão</th>\n",
       "      <td>0.000427</td>\n",
       "    </tr>\n",
       "    <tr>\n",
       "      <th>Curva</th>\n",
       "      <td>0.000394</td>\n",
       "    </tr>\n",
       "    <tr>\n",
       "      <th>Com inclinação</th>\n",
       "      <td>0.000394</td>\n",
       "    </tr>\n",
       "    <tr>\n",
       "      <th>Em pleno dia</th>\n",
       "      <td>0.000204</td>\n",
       "    </tr>\n",
       "    <tr>\n",
       "      <th>Chuva</th>\n",
       "      <td>0.000147</td>\n",
       "    </tr>\n",
       "    <tr>\n",
       "      <th>Aurora ou crepúsculo</th>\n",
       "      <td>0.000123</td>\n",
       "    </tr>\n",
       "    <tr>\n",
       "      <th>Em patamar</th>\n",
       "      <td>0.000097</td>\n",
       "    </tr>\n",
       "    <tr>\n",
       "      <th>Velocípede</th>\n",
       "      <td>0.000000</td>\n",
       "    </tr>\n",
       "    <tr>\n",
       "      <th>Bom tempo</th>\n",
       "      <td>0.000000</td>\n",
       "    </tr>\n",
       "  </tbody>\n",
       "</table>\n",
       "</div>"
      ],
      "text/plain": [
       "                                      0\n",
       "Automóvel ligeiro              0.453787\n",
       "Atropelamento                  0.172891\n",
       "Automóvel pesado               0.081514\n",
       "Idade                          0.079238\n",
       "Feminino                       0.065167\n",
       "Despiste                       0.042302\n",
       "Seguro                         0.035366\n",
       "Inseguro                       0.030690\n",
       "Masculino                      0.012101\n",
       "Motociclo cilindrada <= 125cc  0.008663\n",
       "Triciclo                       0.005202\n",
       "Motociclo cilindrada > 125cc   0.002483\n",
       "Molhado                        0.001773\n",
       "Recta                          0.001581\n",
       "Veículo sobre carris           0.001353\n",
       "Seco e limpo                   0.000827\n",
       "Em Lomba                       0.000772\n",
       "Noite, sem iluminação          0.000762\n",
       "Ciclomotor                     0.000673\n",
       "Sol escandeante                0.000577\n",
       "Noite, com iluminação          0.000490\n",
       "Colisão                        0.000427\n",
       "Curva                          0.000394\n",
       "Com inclinação                 0.000394\n",
       "Em pleno dia                   0.000204\n",
       "Chuva                          0.000147\n",
       "Aurora ou crepúsculo           0.000123\n",
       "Em patamar                     0.000097\n",
       "Velocípede                     0.000000\n",
       "Bom tempo                      0.000000"
      ]
     },
     "execution_count": 74,
     "metadata": {},
     "output_type": "execute_result"
    }
   ],
   "source": [
    "clf.fit(X, y)\n",
    "pd.DataFrame(clf.feature_importances_, index =X.columns).sort_values(0, ascending=False)"
   ]
  },
  {
   "cell_type": "code",
   "execution_count": 76,
   "metadata": {},
   "outputs": [
    {
     "data": {
      "text/plain": [
       "array([[2470,  358],\n",
       "       [ 700, 1937]], dtype=int64)"
      ]
     },
     "execution_count": 76,
     "metadata": {},
     "output_type": "execute_result"
    }
   ],
   "source": [
    "from sklearn.metrics import confusion_matrix\n",
    "confusion_matrix(y, clf.predict(X))"
   ]
  },
  {
   "cell_type": "code",
   "execution_count": null,
   "metadata": {},
   "outputs": [],
   "source": []
  },
  {
   "cell_type": "markdown",
   "metadata": {},
   "source": [
    "## 9. Grid search"
   ]
  },
  {
   "cell_type": "markdown",
   "metadata": {},
   "source": [
    "### 9.1. v1"
   ]
  },
  {
   "cell_type": "code",
   "execution_count": 70,
   "metadata": {},
   "outputs": [],
   "source": [
    "from sklearn.model_selection import RandomizedSearchCV, GridSearchCV"
   ]
  },
  {
   "cell_type": "code",
   "execution_count": 81,
   "metadata": {},
   "outputs": [],
   "source": [
    "model_v1 = GradientBoostingClassifier(min_samples_split=10, min_samples_leaf=50, max_depth = 5, max_features = 'sqrt', subsample = 0.8,\n",
    "                                      random_state = 0)\n",
    "param_test1 = {'n_estimators':range(100,201,10)}"
   ]
  },
  {
   "cell_type": "code",
   "execution_count": 82,
   "metadata": {},
   "outputs": [
    {
     "data": {
      "text/plain": [
       "{'n_estimators': 200}"
      ]
     },
     "execution_count": 82,
     "metadata": {},
     "output_type": "execute_result"
    }
   ],
   "source": [
    "gsearch1 = GridSearchCV(estimator = model_v1, param_grid = param_test1, scoring='f1', n_jobs=-1, cv=10)\n",
    "gsearch1.fit(X_train, y_train)\n",
    "gsearch1.best_params_"
   ]
  },
  {
   "cell_type": "code",
   "execution_count": 80,
   "metadata": {},
   "outputs": [
    {
     "data": {
      "text/plain": [
       "0.7422532904815541"
      ]
     },
     "execution_count": 80,
     "metadata": {},
     "output_type": "execute_result"
    }
   ],
   "source": [
    "gsearch1.best_score_"
   ]
  },
  {
   "cell_type": "markdown",
   "metadata": {},
   "source": [
    "### 9.2. v2"
   ]
  },
  {
   "cell_type": "code",
   "execution_count": 83,
   "metadata": {},
   "outputs": [],
   "source": [
    "model_v2 = GradientBoostingClassifier(min_samples_split=10, max_features = 'sqrt', subsample = 0.8, \n",
    "                                      n_estimators = 200, random_state = 0)\n",
    "param_test2 = {'max_depth':range(1,8,1), 'min_samples_split':range(2,30,1)}"
   ]
  },
  {
   "cell_type": "code",
   "execution_count": 84,
   "metadata": {},
   "outputs": [
    {
     "data": {
      "text/plain": [
       "{'max_depth': 3, 'min_samples_split': 10}"
      ]
     },
     "execution_count": 84,
     "metadata": {},
     "output_type": "execute_result"
    }
   ],
   "source": [
    "gsearch2 = GridSearchCV(estimator = model_v2, param_grid = param_test2, scoring='f1', n_jobs=-1, cv=10)\n",
    "gsearch2.fit(X_train, y_train)\n",
    "gsearch2.best_params_"
   ]
  },
  {
   "cell_type": "code",
   "execution_count": 110,
   "metadata": {},
   "outputs": [
    {
     "data": {
      "text/plain": [
       "0.8449222149695388"
      ]
     },
     "execution_count": 110,
     "metadata": {},
     "output_type": "execute_result"
    }
   ],
   "source": [
    "gsearch2.best_score_"
   ]
  },
  {
   "cell_type": "markdown",
   "metadata": {},
   "source": [
    "### 9.3. v3"
   ]
  },
  {
   "cell_type": "code",
   "execution_count": 116,
   "metadata": {},
   "outputs": [],
   "source": [
    "model_v3 = GradientBoostingClassifier(min_samples_split=12, max_features = 'sqrt', subsample = 0.8, \n",
    "                                      n_estimators = 4, max_depth = 2, random_state = 0)\n",
    "param_test3 = {'min_samples_split':range(2,6,1), 'min_samples_leaf':range(60,85,1)}"
   ]
  },
  {
   "cell_type": "code",
   "execution_count": 117,
   "metadata": {},
   "outputs": [
    {
     "data": {
      "text/plain": [
       "{'min_samples_leaf': 71, 'min_samples_split': 2}"
      ]
     },
     "execution_count": 117,
     "metadata": {},
     "output_type": "execute_result"
    }
   ],
   "source": [
    "gsearch3 = GridSearchCV(estimator = model_v3, param_grid = param_test3, scoring='roc_auc_ovo_weighted', n_jobs=-1, cv=10)\n",
    "gsearch3.fit(X_train, y_train)\n",
    "gsearch3.best_params_"
   ]
  },
  {
   "cell_type": "code",
   "execution_count": 115,
   "metadata": {},
   "outputs": [
    {
     "data": {
      "text/plain": [
       "0.8407887519944879"
      ]
     },
     "execution_count": 115,
     "metadata": {},
     "output_type": "execute_result"
    }
   ],
   "source": [
    "gsearch3.best_score_"
   ]
  },
  {
   "cell_type": "markdown",
   "metadata": {},
   "source": [
    "### 9.4. v4"
   ]
  },
  {
   "cell_type": "code",
   "execution_count": 118,
   "metadata": {},
   "outputs": [],
   "source": [
    "model_v4 = GradientBoostingClassifier(max_features = 'sqrt', subsample = 0.8,   \n",
    "                                      n_estimators = 4, max_depth = 4, min_samples_leaf = 71, min_samples_split=2, \n",
    "                                      random_state = 0)\n",
    "param_test4 = {'max_features':range(2,20,1)}"
   ]
  },
  {
   "cell_type": "code",
   "execution_count": 119,
   "metadata": {},
   "outputs": [
    {
     "data": {
      "text/plain": [
       "{'max_features': 9}"
      ]
     },
     "execution_count": 119,
     "metadata": {},
     "output_type": "execute_result"
    }
   ],
   "source": [
    "gsearch4 = GridSearchCV(estimator = model_v4, param_grid = param_test4, scoring='roc_auc_ovo_weighted', n_jobs=-1, cv=10)\n",
    "gsearch4.fit(X_train, y_train)\n",
    "gsearch4.best_params_"
   ]
  },
  {
   "cell_type": "code",
   "execution_count": 120,
   "metadata": {},
   "outputs": [
    {
     "data": {
      "text/plain": [
       "0.860845991532492"
      ]
     },
     "execution_count": 120,
     "metadata": {},
     "output_type": "execute_result"
    }
   ],
   "source": [
    "gsearch4.best_score_"
   ]
  },
  {
   "cell_type": "markdown",
   "metadata": {},
   "source": [
    "### 9.5. v5"
   ]
  },
  {
   "cell_type": "code",
   "execution_count": 145,
   "metadata": {},
   "outputs": [],
   "source": [
    "model_v5 = GradientBoostingClassifier(n_estimators = 4, max_depth = 4, min_samples_leaf = 71, \n",
    "                                      min_samples_split=2, max_features = 9, random_state = 0)\n",
    "param_test5 = {'subsample':[0.46, 0.47, 0.48]}"
   ]
  },
  {
   "cell_type": "code",
   "execution_count": 146,
   "metadata": {},
   "outputs": [
    {
     "data": {
      "text/plain": [
       "{'subsample': 0.48}"
      ]
     },
     "execution_count": 146,
     "metadata": {},
     "output_type": "execute_result"
    }
   ],
   "source": [
    "gsearch5 = GridSearchCV(estimator = model_v5, param_grid = param_test5, scoring='roc_auc_ovo_weighted', n_jobs=-1, cv=10)\n",
    "gsearch5.fit(X_train, y_train)\n",
    "gsearch5.best_params_"
   ]
  },
  {
   "cell_type": "code",
   "execution_count": 132,
   "metadata": {},
   "outputs": [
    {
     "data": {
      "text/plain": [
       "0.8337568220554106"
      ]
     },
     "execution_count": 132,
     "metadata": {},
     "output_type": "execute_result"
    }
   ],
   "source": [
    "gsearch5.best_score_"
   ]
  },
  {
   "cell_type": "markdown",
   "metadata": {},
   "source": [
    "### 9.6. v6"
   ]
  },
  {
   "cell_type": "code",
   "execution_count": 157,
   "metadata": {},
   "outputs": [],
   "source": [
    "model_v6 = GradientBoostingClassifier(learning_rate=0.01, n_estimators = 4 * 10, \n",
    "                                      max_depth = 4, min_samples_leaf = 71, min_samples_split=2, max_features = 9, \n",
    "                                      subsample = 0.48, random_state = 0)"
   ]
  },
  {
   "cell_type": "code",
   "execution_count": 158,
   "metadata": {},
   "outputs": [],
   "source": [
    "cv_results = cross_validate(model_v6, X_train, y_train, cv=10, scoring='roc_auc_ovo_weighted', n_jobs=-1)"
   ]
  },
  {
   "cell_type": "code",
   "execution_count": 160,
   "metadata": {},
   "outputs": [
    {
     "name": "stdout",
     "output_type": "stream",
     "text": [
      "Mean roc_auc_ovo_weighted: 0.84044618\n"
     ]
    }
   ],
   "source": [
    "print('Mean roc_auc_ovo_weighted: {}'.format(cv_results['test_score'].mean().round(8)))"
   ]
  },
  {
   "cell_type": "code",
   "execution_count": null,
   "metadata": {},
   "outputs": [],
   "source": []
  },
  {
   "cell_type": "code",
   "execution_count": 161,
   "metadata": {},
   "outputs": [
    {
     "data": {
      "text/plain": [
       "GradientBoostingClassifier(learning_rate=0.01, max_depth=4, max_features=9,\n",
       "                           min_samples_leaf=71, n_estimators=40, random_state=0,\n",
       "                           subsample=0.48)"
      ]
     },
     "execution_count": 161,
     "metadata": {},
     "output_type": "execute_result"
    }
   ],
   "source": [
    "model_v6.fit(X_train, y_train)"
   ]
  },
  {
   "cell_type": "code",
   "execution_count": 162,
   "metadata": {},
   "outputs": [
    {
     "data": {
      "text/html": [
       "<div>\n",
       "<style scoped>\n",
       "    .dataframe tbody tr th:only-of-type {\n",
       "        vertical-align: middle;\n",
       "    }\n",
       "\n",
       "    .dataframe tbody tr th {\n",
       "        vertical-align: top;\n",
       "    }\n",
       "\n",
       "    .dataframe thead th {\n",
       "        text-align: right;\n",
       "    }\n",
       "</style>\n",
       "<table border=\"1\" class=\"dataframe\">\n",
       "  <thead>\n",
       "    <tr style=\"text-align: right;\">\n",
       "      <th></th>\n",
       "      <th>0</th>\n",
       "    </tr>\n",
       "  </thead>\n",
       "  <tbody>\n",
       "    <tr>\n",
       "      <th>Motociclo cilindrada &gt; 125cc</th>\n",
       "      <td>0.459438</td>\n",
       "    </tr>\n",
       "    <tr>\n",
       "      <th>Automóvel ligeiro</th>\n",
       "      <td>0.228514</td>\n",
       "    </tr>\n",
       "    <tr>\n",
       "      <th>Idade</th>\n",
       "      <td>0.101055</td>\n",
       "    </tr>\n",
       "    <tr>\n",
       "      <th>Motociclo cilindrada &lt;= 125cc</th>\n",
       "      <td>0.070349</td>\n",
       "    </tr>\n",
       "    <tr>\n",
       "      <th>Noite, com iluminação</th>\n",
       "      <td>0.033136</td>\n",
       "    </tr>\n",
       "    <tr>\n",
       "      <th>Em pleno dia</th>\n",
       "      <td>0.028998</td>\n",
       "    </tr>\n",
       "    <tr>\n",
       "      <th>Curva</th>\n",
       "      <td>0.014665</td>\n",
       "    </tr>\n",
       "    <tr>\n",
       "      <th>Com inclinação</th>\n",
       "      <td>0.013571</td>\n",
       "    </tr>\n",
       "    <tr>\n",
       "      <th>Masculino</th>\n",
       "      <td>0.011708</td>\n",
       "    </tr>\n",
       "    <tr>\n",
       "      <th>Em patamar</th>\n",
       "      <td>0.009687</td>\n",
       "    </tr>\n",
       "    <tr>\n",
       "      <th>Seco e limpo</th>\n",
       "      <td>0.008278</td>\n",
       "    </tr>\n",
       "    <tr>\n",
       "      <th>Molhado</th>\n",
       "      <td>0.006966</td>\n",
       "    </tr>\n",
       "    <tr>\n",
       "      <th>Chuva</th>\n",
       "      <td>0.004495</td>\n",
       "    </tr>\n",
       "    <tr>\n",
       "      <th>Bom tempo</th>\n",
       "      <td>0.002975</td>\n",
       "    </tr>\n",
       "    <tr>\n",
       "      <th>Recta</th>\n",
       "      <td>0.002919</td>\n",
       "    </tr>\n",
       "    <tr>\n",
       "      <th>Feminino</th>\n",
       "      <td>0.001952</td>\n",
       "    </tr>\n",
       "    <tr>\n",
       "      <th>Aurora ou crepúsculo</th>\n",
       "      <td>0.000663</td>\n",
       "    </tr>\n",
       "    <tr>\n",
       "      <th>Velocípede</th>\n",
       "      <td>0.000632</td>\n",
       "    </tr>\n",
       "    <tr>\n",
       "      <th>Húmido</th>\n",
       "      <td>0.000000</td>\n",
       "    </tr>\n",
       "    <tr>\n",
       "      <th>Com óleo</th>\n",
       "      <td>0.000000</td>\n",
       "    </tr>\n",
       "    <tr>\n",
       "      <th>Com lama</th>\n",
       "      <td>0.000000</td>\n",
       "    </tr>\n",
       "    <tr>\n",
       "      <th>Com gravilha ou areia</th>\n",
       "      <td>0.000000</td>\n",
       "    </tr>\n",
       "    <tr>\n",
       "      <th>Automóvel pesado</th>\n",
       "      <td>0.000000</td>\n",
       "    </tr>\n",
       "    <tr>\n",
       "      <th>Ciclomotor</th>\n",
       "      <td>0.000000</td>\n",
       "    </tr>\n",
       "    <tr>\n",
       "      <th>Em Lomba</th>\n",
       "      <td>0.000000</td>\n",
       "    </tr>\n",
       "    <tr>\n",
       "      <th>Sol escandeante</th>\n",
       "      <td>0.000000</td>\n",
       "    </tr>\n",
       "    <tr>\n",
       "      <th>Triciclo</th>\n",
       "      <td>0.000000</td>\n",
       "    </tr>\n",
       "    <tr>\n",
       "      <th>Veículo sobre carris</th>\n",
       "      <td>0.000000</td>\n",
       "    </tr>\n",
       "    <tr>\n",
       "      <th>Noite, sem iluminação</th>\n",
       "      <td>0.000000</td>\n",
       "    </tr>\n",
       "    <tr>\n",
       "      <th>Com água acumulada na faixa de rodagem</th>\n",
       "      <td>0.000000</td>\n",
       "    </tr>\n",
       "  </tbody>\n",
       "</table>\n",
       "</div>"
      ],
      "text/plain": [
       "                                               0\n",
       "Motociclo cilindrada > 125cc            0.459438\n",
       "Automóvel ligeiro                       0.228514\n",
       "Idade                                   0.101055\n",
       "Motociclo cilindrada <= 125cc           0.070349\n",
       "Noite, com iluminação                   0.033136\n",
       "Em pleno dia                            0.028998\n",
       "Curva                                   0.014665\n",
       "Com inclinação                          0.013571\n",
       "Masculino                               0.011708\n",
       "Em patamar                              0.009687\n",
       "Seco e limpo                            0.008278\n",
       "Molhado                                 0.006966\n",
       "Chuva                                   0.004495\n",
       "Bom tempo                               0.002975\n",
       "Recta                                   0.002919\n",
       "Feminino                                0.001952\n",
       "Aurora ou crepúsculo                    0.000663\n",
       "Velocípede                              0.000632\n",
       "Húmido                                  0.000000\n",
       "Com óleo                                0.000000\n",
       "Com lama                                0.000000\n",
       "Com gravilha ou areia                   0.000000\n",
       "Automóvel pesado                        0.000000\n",
       "Ciclomotor                              0.000000\n",
       "Em Lomba                                0.000000\n",
       "Sol escandeante                         0.000000\n",
       "Triciclo                                0.000000\n",
       "Veículo sobre carris                    0.000000\n",
       "Noite, sem iluminação                   0.000000\n",
       "Com água acumulada na faixa de rodagem  0.000000"
      ]
     },
     "execution_count": 162,
     "metadata": {},
     "output_type": "execute_result"
    }
   ],
   "source": [
    "pd.DataFrame(model_v6.feature_importances_, index =X.columns).sort_values(0, ascending=False)"
   ]
  },
  {
   "cell_type": "code",
   "execution_count": 163,
   "metadata": {},
   "outputs": [
    {
     "data": {
      "text/plain": [
       "array([[3838,    0],\n",
       "       [  29,    0]], dtype=int64)"
      ]
     },
     "execution_count": 163,
     "metadata": {},
     "output_type": "execute_result"
    }
   ],
   "source": [
    "confusion_matrix(y_train, model_v6.predict(X_train))"
   ]
  },
  {
   "cell_type": "code",
   "execution_count": null,
   "metadata": {},
   "outputs": [],
   "source": []
  },
  {
   "cell_type": "code",
   "execution_count": 164,
   "metadata": {},
   "outputs": [
    {
     "data": {
      "text/html": [
       "<div>\n",
       "<style scoped>\n",
       "    .dataframe tbody tr th:only-of-type {\n",
       "        vertical-align: middle;\n",
       "    }\n",
       "\n",
       "    .dataframe tbody tr th {\n",
       "        vertical-align: top;\n",
       "    }\n",
       "\n",
       "    .dataframe thead th {\n",
       "        text-align: right;\n",
       "    }\n",
       "</style>\n",
       "<table border=\"1\" class=\"dataframe\">\n",
       "  <thead>\n",
       "    <tr style=\"text-align: right;\">\n",
       "      <th></th>\n",
       "      <th>Lesões a 30 dias</th>\n",
       "      <th>Idade</th>\n",
       "      <th>Curva</th>\n",
       "      <th>Recta</th>\n",
       "      <th>Com inclinação</th>\n",
       "      <th>Em Lomba</th>\n",
       "      <th>Em patamar</th>\n",
       "      <th>Bom tempo</th>\n",
       "      <th>Chuva</th>\n",
       "      <th>Aurora ou crepúsculo</th>\n",
       "      <th>...</th>\n",
       "      <th>Automóvel ligeiro</th>\n",
       "      <th>Automóvel pesado</th>\n",
       "      <th>Ciclomotor</th>\n",
       "      <th>Motociclo cilindrada &lt;= 125cc</th>\n",
       "      <th>Motociclo cilindrada &gt; 125cc</th>\n",
       "      <th>Triciclo</th>\n",
       "      <th>Velocípede</th>\n",
       "      <th>Veículo sobre carris</th>\n",
       "      <th>Feminino</th>\n",
       "      <th>Masculino</th>\n",
       "    </tr>\n",
       "    <tr>\n",
       "      <th>IdAcidente</th>\n",
       "      <th></th>\n",
       "      <th></th>\n",
       "      <th></th>\n",
       "      <th></th>\n",
       "      <th></th>\n",
       "      <th></th>\n",
       "      <th></th>\n",
       "      <th></th>\n",
       "      <th></th>\n",
       "      <th></th>\n",
       "      <th></th>\n",
       "      <th></th>\n",
       "      <th></th>\n",
       "      <th></th>\n",
       "      <th></th>\n",
       "      <th></th>\n",
       "      <th></th>\n",
       "      <th></th>\n",
       "      <th></th>\n",
       "      <th></th>\n",
       "      <th></th>\n",
       "    </tr>\n",
       "  </thead>\n",
       "  <tbody>\n",
       "    <tr>\n",
       "      <th>20191648491</th>\n",
       "      <td>0</td>\n",
       "      <td>58.0</td>\n",
       "      <td>0</td>\n",
       "      <td>1</td>\n",
       "      <td>0</td>\n",
       "      <td>0</td>\n",
       "      <td>1</td>\n",
       "      <td>0</td>\n",
       "      <td>0</td>\n",
       "      <td>0</td>\n",
       "      <td>...</td>\n",
       "      <td>1</td>\n",
       "      <td>0</td>\n",
       "      <td>0</td>\n",
       "      <td>0</td>\n",
       "      <td>0</td>\n",
       "      <td>0</td>\n",
       "      <td>0</td>\n",
       "      <td>0</td>\n",
       "      <td>0</td>\n",
       "      <td>1</td>\n",
       "    </tr>\n",
       "    <tr>\n",
       "      <th>20191648498</th>\n",
       "      <td>0</td>\n",
       "      <td>25.0</td>\n",
       "      <td>0</td>\n",
       "      <td>1</td>\n",
       "      <td>0</td>\n",
       "      <td>0</td>\n",
       "      <td>1</td>\n",
       "      <td>1</td>\n",
       "      <td>0</td>\n",
       "      <td>0</td>\n",
       "      <td>...</td>\n",
       "      <td>0</td>\n",
       "      <td>0</td>\n",
       "      <td>0</td>\n",
       "      <td>1</td>\n",
       "      <td>0</td>\n",
       "      <td>0</td>\n",
       "      <td>0</td>\n",
       "      <td>0</td>\n",
       "      <td>0</td>\n",
       "      <td>1</td>\n",
       "    </tr>\n",
       "    <tr>\n",
       "      <th>20191648520</th>\n",
       "      <td>0</td>\n",
       "      <td>36.0</td>\n",
       "      <td>0</td>\n",
       "      <td>1</td>\n",
       "      <td>1</td>\n",
       "      <td>0</td>\n",
       "      <td>0</td>\n",
       "      <td>1</td>\n",
       "      <td>0</td>\n",
       "      <td>0</td>\n",
       "      <td>...</td>\n",
       "      <td>1</td>\n",
       "      <td>0</td>\n",
       "      <td>0</td>\n",
       "      <td>0</td>\n",
       "      <td>0</td>\n",
       "      <td>0</td>\n",
       "      <td>0</td>\n",
       "      <td>0</td>\n",
       "      <td>0</td>\n",
       "      <td>1</td>\n",
       "    </tr>\n",
       "    <tr>\n",
       "      <th>20191648520</th>\n",
       "      <td>0</td>\n",
       "      <td>37.0</td>\n",
       "      <td>0</td>\n",
       "      <td>1</td>\n",
       "      <td>1</td>\n",
       "      <td>0</td>\n",
       "      <td>0</td>\n",
       "      <td>1</td>\n",
       "      <td>0</td>\n",
       "      <td>0</td>\n",
       "      <td>...</td>\n",
       "      <td>0</td>\n",
       "      <td>0</td>\n",
       "      <td>0</td>\n",
       "      <td>0</td>\n",
       "      <td>0</td>\n",
       "      <td>0</td>\n",
       "      <td>1</td>\n",
       "      <td>0</td>\n",
       "      <td>0</td>\n",
       "      <td>1</td>\n",
       "    </tr>\n",
       "    <tr>\n",
       "      <th>20191649633</th>\n",
       "      <td>0</td>\n",
       "      <td>53.0</td>\n",
       "      <td>0</td>\n",
       "      <td>1</td>\n",
       "      <td>0</td>\n",
       "      <td>0</td>\n",
       "      <td>1</td>\n",
       "      <td>1</td>\n",
       "      <td>0</td>\n",
       "      <td>0</td>\n",
       "      <td>...</td>\n",
       "      <td>1</td>\n",
       "      <td>0</td>\n",
       "      <td>0</td>\n",
       "      <td>0</td>\n",
       "      <td>0</td>\n",
       "      <td>0</td>\n",
       "      <td>0</td>\n",
       "      <td>0</td>\n",
       "      <td>0</td>\n",
       "      <td>1</td>\n",
       "    </tr>\n",
       "    <tr>\n",
       "      <th>...</th>\n",
       "      <td>...</td>\n",
       "      <td>...</td>\n",
       "      <td>...</td>\n",
       "      <td>...</td>\n",
       "      <td>...</td>\n",
       "      <td>...</td>\n",
       "      <td>...</td>\n",
       "      <td>...</td>\n",
       "      <td>...</td>\n",
       "      <td>...</td>\n",
       "      <td>...</td>\n",
       "      <td>...</td>\n",
       "      <td>...</td>\n",
       "      <td>...</td>\n",
       "      <td>...</td>\n",
       "      <td>...</td>\n",
       "      <td>...</td>\n",
       "      <td>...</td>\n",
       "      <td>...</td>\n",
       "      <td>...</td>\n",
       "      <td>...</td>\n",
       "    </tr>\n",
       "    <tr>\n",
       "      <th>20201831029</th>\n",
       "      <td>0</td>\n",
       "      <td>44.0</td>\n",
       "      <td>0</td>\n",
       "      <td>1</td>\n",
       "      <td>0</td>\n",
       "      <td>0</td>\n",
       "      <td>1</td>\n",
       "      <td>0</td>\n",
       "      <td>1</td>\n",
       "      <td>0</td>\n",
       "      <td>...</td>\n",
       "      <td>0</td>\n",
       "      <td>1</td>\n",
       "      <td>0</td>\n",
       "      <td>0</td>\n",
       "      <td>0</td>\n",
       "      <td>0</td>\n",
       "      <td>0</td>\n",
       "      <td>0</td>\n",
       "      <td>0</td>\n",
       "      <td>1</td>\n",
       "    </tr>\n",
       "    <tr>\n",
       "      <th>20201831029</th>\n",
       "      <td>0</td>\n",
       "      <td>61.0</td>\n",
       "      <td>0</td>\n",
       "      <td>1</td>\n",
       "      <td>0</td>\n",
       "      <td>0</td>\n",
       "      <td>1</td>\n",
       "      <td>0</td>\n",
       "      <td>1</td>\n",
       "      <td>0</td>\n",
       "      <td>...</td>\n",
       "      <td>1</td>\n",
       "      <td>0</td>\n",
       "      <td>0</td>\n",
       "      <td>0</td>\n",
       "      <td>0</td>\n",
       "      <td>0</td>\n",
       "      <td>0</td>\n",
       "      <td>0</td>\n",
       "      <td>0</td>\n",
       "      <td>1</td>\n",
       "    </tr>\n",
       "    <tr>\n",
       "      <th>20201838659</th>\n",
       "      <td>0</td>\n",
       "      <td>49.0</td>\n",
       "      <td>1</td>\n",
       "      <td>0</td>\n",
       "      <td>1</td>\n",
       "      <td>0</td>\n",
       "      <td>0</td>\n",
       "      <td>1</td>\n",
       "      <td>0</td>\n",
       "      <td>0</td>\n",
       "      <td>...</td>\n",
       "      <td>1</td>\n",
       "      <td>0</td>\n",
       "      <td>0</td>\n",
       "      <td>0</td>\n",
       "      <td>0</td>\n",
       "      <td>0</td>\n",
       "      <td>0</td>\n",
       "      <td>0</td>\n",
       "      <td>0</td>\n",
       "      <td>1</td>\n",
       "    </tr>\n",
       "    <tr>\n",
       "      <th>20201866679</th>\n",
       "      <td>0</td>\n",
       "      <td>35.0</td>\n",
       "      <td>0</td>\n",
       "      <td>1</td>\n",
       "      <td>0</td>\n",
       "      <td>0</td>\n",
       "      <td>1</td>\n",
       "      <td>1</td>\n",
       "      <td>0</td>\n",
       "      <td>0</td>\n",
       "      <td>...</td>\n",
       "      <td>0</td>\n",
       "      <td>0</td>\n",
       "      <td>0</td>\n",
       "      <td>1</td>\n",
       "      <td>0</td>\n",
       "      <td>0</td>\n",
       "      <td>0</td>\n",
       "      <td>0</td>\n",
       "      <td>0</td>\n",
       "      <td>1</td>\n",
       "    </tr>\n",
       "    <tr>\n",
       "      <th>20201866679</th>\n",
       "      <td>0</td>\n",
       "      <td>30.0</td>\n",
       "      <td>0</td>\n",
       "      <td>1</td>\n",
       "      <td>0</td>\n",
       "      <td>0</td>\n",
       "      <td>1</td>\n",
       "      <td>1</td>\n",
       "      <td>0</td>\n",
       "      <td>0</td>\n",
       "      <td>...</td>\n",
       "      <td>1</td>\n",
       "      <td>0</td>\n",
       "      <td>0</td>\n",
       "      <td>0</td>\n",
       "      <td>0</td>\n",
       "      <td>0</td>\n",
       "      <td>0</td>\n",
       "      <td>0</td>\n",
       "      <td>0</td>\n",
       "      <td>1</td>\n",
       "    </tr>\n",
       "  </tbody>\n",
       "</table>\n",
       "<p>4834 rows × 31 columns</p>\n",
       "</div>"
      ],
      "text/plain": [
       "             Lesões a 30 dias  Idade  Curva  Recta  Com inclinação  Em Lomba  \\\n",
       "IdAcidente                                                                     \n",
       "20191648491                 0   58.0      0      1               0         0   \n",
       "20191648498                 0   25.0      0      1               0         0   \n",
       "20191648520                 0   36.0      0      1               1         0   \n",
       "20191648520                 0   37.0      0      1               1         0   \n",
       "20191649633                 0   53.0      0      1               0         0   \n",
       "...                       ...    ...    ...    ...             ...       ...   \n",
       "20201831029                 0   44.0      0      1               0         0   \n",
       "20201831029                 0   61.0      0      1               0         0   \n",
       "20201838659                 0   49.0      1      0               1         0   \n",
       "20201866679                 0   35.0      0      1               0         0   \n",
       "20201866679                 0   30.0      0      1               0         0   \n",
       "\n",
       "             Em patamar  Bom tempo  Chuva  Aurora ou crepúsculo  ...  \\\n",
       "IdAcidente                                                       ...   \n",
       "20191648491           1          0      0                     0  ...   \n",
       "20191648498           1          1      0                     0  ...   \n",
       "20191648520           0          1      0                     0  ...   \n",
       "20191648520           0          1      0                     0  ...   \n",
       "20191649633           1          1      0                     0  ...   \n",
       "...                 ...        ...    ...                   ...  ...   \n",
       "20201831029           1          0      1                     0  ...   \n",
       "20201831029           1          0      1                     0  ...   \n",
       "20201838659           0          1      0                     0  ...   \n",
       "20201866679           1          1      0                     0  ...   \n",
       "20201866679           1          1      0                     0  ...   \n",
       "\n",
       "             Automóvel ligeiro  Automóvel pesado  Ciclomotor  \\\n",
       "IdAcidente                                                     \n",
       "20191648491                  1                 0           0   \n",
       "20191648498                  0                 0           0   \n",
       "20191648520                  1                 0           0   \n",
       "20191648520                  0                 0           0   \n",
       "20191649633                  1                 0           0   \n",
       "...                        ...               ...         ...   \n",
       "20201831029                  0                 1           0   \n",
       "20201831029                  1                 0           0   \n",
       "20201838659                  1                 0           0   \n",
       "20201866679                  0                 0           0   \n",
       "20201866679                  1                 0           0   \n",
       "\n",
       "             Motociclo cilindrada <= 125cc  Motociclo cilindrada > 125cc  \\\n",
       "IdAcidente                                                                 \n",
       "20191648491                              0                             0   \n",
       "20191648498                              1                             0   \n",
       "20191648520                              0                             0   \n",
       "20191648520                              0                             0   \n",
       "20191649633                              0                             0   \n",
       "...                                    ...                           ...   \n",
       "20201831029                              0                             0   \n",
       "20201831029                              0                             0   \n",
       "20201838659                              0                             0   \n",
       "20201866679                              1                             0   \n",
       "20201866679                              0                             0   \n",
       "\n",
       "             Triciclo  Velocípede  Veículo sobre carris  Feminino  Masculino  \n",
       "IdAcidente                                                                    \n",
       "20191648491         0           0                     0         0          1  \n",
       "20191648498         0           0                     0         0          1  \n",
       "20191648520         0           0                     0         0          1  \n",
       "20191648520         0           1                     0         0          1  \n",
       "20191649633         0           0                     0         0          1  \n",
       "...               ...         ...                   ...       ...        ...  \n",
       "20201831029         0           0                     0         0          1  \n",
       "20201831029         0           0                     0         0          1  \n",
       "20201838659         0           0                     0         0          1  \n",
       "20201866679         0           0                     0         0          1  \n",
       "20201866679         0           0                     0         0          1  \n",
       "\n",
       "[4834 rows x 31 columns]"
      ]
     },
     "execution_count": 164,
     "metadata": {},
     "output_type": "execute_result"
    }
   ],
   "source": [
    "model_data"
   ]
  },
  {
   "cell_type": "code",
   "execution_count": 64,
   "metadata": {},
   "outputs": [],
   "source": [
    "from mlxtend.frequent_patterns import apriori\n",
    "\n",
    "model_data_v2 = model_data.drop(columns = 'Idade')\n",
    "results = apriori(model_data_v2, min_support=0.0001, use_colnames=True)"
   ]
  },
  {
   "cell_type": "code",
   "execution_count": 65,
   "metadata": {},
   "outputs": [
    {
     "data": {
      "text/html": [
       "<div>\n",
       "<style scoped>\n",
       "    .dataframe tbody tr th:only-of-type {\n",
       "        vertical-align: middle;\n",
       "    }\n",
       "\n",
       "    .dataframe tbody tr th {\n",
       "        vertical-align: top;\n",
       "    }\n",
       "\n",
       "    .dataframe thead th {\n",
       "        text-align: right;\n",
       "    }\n",
       "</style>\n",
       "<table border=\"1\" class=\"dataframe\">\n",
       "  <thead>\n",
       "    <tr style=\"text-align: right;\">\n",
       "      <th></th>\n",
       "      <th>support</th>\n",
       "      <th>itemsets</th>\n",
       "      <th>Len</th>\n",
       "    </tr>\n",
       "  </thead>\n",
       "  <tbody>\n",
       "    <tr>\n",
       "      <th>0</th>\n",
       "      <td>0.006206</td>\n",
       "      <td>(Ferido grave)</td>\n",
       "      <td>1</td>\n",
       "    </tr>\n",
       "    <tr>\n",
       "      <th>1</th>\n",
       "      <td>0.407944</td>\n",
       "      <td>(Ferido leve)</td>\n",
       "      <td>1</td>\n",
       "    </tr>\n",
       "    <tr>\n",
       "      <th>2</th>\n",
       "      <td>0.585023</td>\n",
       "      <td>(Ileso)</td>\n",
       "      <td>1</td>\n",
       "    </tr>\n",
       "    <tr>\n",
       "      <th>3</th>\n",
       "      <td>0.000827</td>\n",
       "      <td>(Morto)</td>\n",
       "      <td>1</td>\n",
       "    </tr>\n",
       "    <tr>\n",
       "      <th>4</th>\n",
       "      <td>0.139636</td>\n",
       "      <td>(Curva)</td>\n",
       "      <td>1</td>\n",
       "    </tr>\n",
       "    <tr>\n",
       "      <th>...</th>\n",
       "      <td>...</td>\n",
       "      <td>...</td>\n",
       "      <td>...</td>\n",
       "    </tr>\n",
       "    <tr>\n",
       "      <th>20854</th>\n",
       "      <td>0.000414</td>\n",
       "      <td>(Molhado, Automóvel ligeiro, Noite, sem ilumin...</td>\n",
       "      <td>8</td>\n",
       "    </tr>\n",
       "    <tr>\n",
       "      <th>20855</th>\n",
       "      <td>0.000207</td>\n",
       "      <td>(Morto, Bom tempo, Motociclo cilindrada &gt; 125c...</td>\n",
       "      <td>8</td>\n",
       "    </tr>\n",
       "    <tr>\n",
       "      <th>20856</th>\n",
       "      <td>0.000207</td>\n",
       "      <td>(Morto, Bom tempo, Automóvel ligeiro, Recta, M...</td>\n",
       "      <td>8</td>\n",
       "    </tr>\n",
       "    <tr>\n",
       "      <th>20857</th>\n",
       "      <td>0.000207</td>\n",
       "      <td>(Morto, Bom tempo, Motociclo cilindrada &gt; 125c...</td>\n",
       "      <td>8</td>\n",
       "    </tr>\n",
       "    <tr>\n",
       "      <th>20858</th>\n",
       "      <td>0.000207</td>\n",
       "      <td>(Morto, Motociclo cilindrada &gt; 125cc, Em patam...</td>\n",
       "      <td>8</td>\n",
       "    </tr>\n",
       "  </tbody>\n",
       "</table>\n",
       "<p>20859 rows × 3 columns</p>\n",
       "</div>"
      ],
      "text/plain": [
       "        support                                           itemsets  Len\n",
       "0      0.006206                                     (Ferido grave)    1\n",
       "1      0.407944                                      (Ferido leve)    1\n",
       "2      0.585023                                            (Ileso)    1\n",
       "3      0.000827                                            (Morto)    1\n",
       "4      0.139636                                            (Curva)    1\n",
       "...         ...                                                ...  ...\n",
       "20854  0.000414  (Molhado, Automóvel ligeiro, Noite, sem ilumin...    8\n",
       "20855  0.000207  (Morto, Bom tempo, Motociclo cilindrada > 125c...    8\n",
       "20856  0.000207  (Morto, Bom tempo, Automóvel ligeiro, Recta, M...    8\n",
       "20857  0.000207  (Morto, Bom tempo, Motociclo cilindrada > 125c...    8\n",
       "20858  0.000207  (Morto, Motociclo cilindrada > 125cc, Em patam...    8\n",
       "\n",
       "[20859 rows x 3 columns]"
      ]
     },
     "execution_count": 65,
     "metadata": {},
     "output_type": "execute_result"
    }
   ],
   "source": [
    "results.assign(Len = results.itemsets.str.len())"
   ]
  },
  {
   "cell_type": "code",
   "execution_count": null,
   "metadata": {},
   "outputs": [],
   "source": []
  },
  {
   "cell_type": "code",
   "execution_count": 66,
   "metadata": {},
   "outputs": [],
   "source": [
    "from mlxtend.frequent_patterns import association_rules\n",
    "\n",
    "results = association_rules(results, metric=\"lift\", min_threshold=1)"
   ]
  },
  {
   "cell_type": "code",
   "execution_count": 73,
   "metadata": {},
   "outputs": [
    {
     "data": {
      "text/html": [
       "<div>\n",
       "<style scoped>\n",
       "    .dataframe tbody tr th:only-of-type {\n",
       "        vertical-align: middle;\n",
       "    }\n",
       "\n",
       "    .dataframe tbody tr th {\n",
       "        vertical-align: top;\n",
       "    }\n",
       "\n",
       "    .dataframe thead th {\n",
       "        text-align: right;\n",
       "    }\n",
       "</style>\n",
       "<table border=\"1\" class=\"dataframe\">\n",
       "  <thead>\n",
       "    <tr style=\"text-align: right;\">\n",
       "      <th></th>\n",
       "      <th>antecedents</th>\n",
       "      <th>consequents</th>\n",
       "      <th>antecedent support</th>\n",
       "      <th>consequent support</th>\n",
       "      <th>support</th>\n",
       "      <th>confidence</th>\n",
       "      <th>lift</th>\n",
       "      <th>leverage</th>\n",
       "      <th>conviction</th>\n",
       "    </tr>\n",
       "  </thead>\n",
       "  <tbody>\n",
       "    <tr>\n",
       "      <th>93742</th>\n",
       "      <td>(Motociclo cilindrada &gt; 125cc, Recta, Chuva, M...</td>\n",
       "      <td>(Em patamar, Morto)</td>\n",
       "      <td>0.000207</td>\n",
       "      <td>0.000207</td>\n",
       "      <td>0.000207</td>\n",
       "      <td>1.0</td>\n",
       "      <td>4834.0</td>\n",
       "      <td>0.000207</td>\n",
       "      <td>inf</td>\n",
       "    </tr>\n",
       "    <tr>\n",
       "      <th>93989</th>\n",
       "      <td>(Motociclo cilindrada &gt; 125cc, Chuva, Masculin...</td>\n",
       "      <td>(Em patamar, Morto)</td>\n",
       "      <td>0.000207</td>\n",
       "      <td>0.000207</td>\n",
       "      <td>0.000207</td>\n",
       "      <td>1.0</td>\n",
       "      <td>4834.0</td>\n",
       "      <td>0.000207</td>\n",
       "      <td>inf</td>\n",
       "    </tr>\n",
       "    <tr>\n",
       "      <th>107736</th>\n",
       "      <td>(Em patamar, Recta, Morto)</td>\n",
       "      <td>(Motociclo cilindrada &gt; 125cc, Chuva, Masculin...</td>\n",
       "      <td>0.000207</td>\n",
       "      <td>0.000207</td>\n",
       "      <td>0.000207</td>\n",
       "      <td>1.0</td>\n",
       "      <td>4834.0</td>\n",
       "      <td>0.000207</td>\n",
       "      <td>inf</td>\n",
       "    </tr>\n",
       "    <tr>\n",
       "      <th>107739</th>\n",
       "      <td>(Em patamar, Em pleno dia, Morto)</td>\n",
       "      <td>(Motociclo cilindrada &gt; 125cc, Recta, Chuva, M...</td>\n",
       "      <td>0.000207</td>\n",
       "      <td>0.000207</td>\n",
       "      <td>0.000207</td>\n",
       "      <td>1.0</td>\n",
       "      <td>4834.0</td>\n",
       "      <td>0.000207</td>\n",
       "      <td>inf</td>\n",
       "    </tr>\n",
       "    <tr>\n",
       "      <th>93759</th>\n",
       "      <td>(Masculino, Chuva, Motociclo cilindrada &gt; 125c...</td>\n",
       "      <td>(Em patamar, Recta, Morto)</td>\n",
       "      <td>0.000207</td>\n",
       "      <td>0.000207</td>\n",
       "      <td>0.000207</td>\n",
       "      <td>1.0</td>\n",
       "      <td>4834.0</td>\n",
       "      <td>0.000207</td>\n",
       "      <td>inf</td>\n",
       "    </tr>\n",
       "    <tr>\n",
       "      <th>107707</th>\n",
       "      <td>(Motociclo cilindrada &gt; 125cc, Chuva, Masculin...</td>\n",
       "      <td>(Em patamar, Recta, Morto)</td>\n",
       "      <td>0.000207</td>\n",
       "      <td>0.000207</td>\n",
       "      <td>0.000207</td>\n",
       "      <td>1.0</td>\n",
       "      <td>4834.0</td>\n",
       "      <td>0.000207</td>\n",
       "      <td>inf</td>\n",
       "    </tr>\n",
       "    <tr>\n",
       "      <th>107674</th>\n",
       "      <td>(Motociclo cilindrada &gt; 125cc, Recta, Chuva, M...</td>\n",
       "      <td>(Em patamar, Morto)</td>\n",
       "      <td>0.000207</td>\n",
       "      <td>0.000207</td>\n",
       "      <td>0.000207</td>\n",
       "      <td>1.0</td>\n",
       "      <td>4834.0</td>\n",
       "      <td>0.000207</td>\n",
       "      <td>inf</td>\n",
       "    </tr>\n",
       "    <tr>\n",
       "      <th>107706</th>\n",
       "      <td>(Motociclo cilindrada &gt; 125cc, Recta, Chuva, M...</td>\n",
       "      <td>(Em patamar, Em pleno dia, Morto)</td>\n",
       "      <td>0.000207</td>\n",
       "      <td>0.000207</td>\n",
       "      <td>0.000207</td>\n",
       "      <td>1.0</td>\n",
       "      <td>4834.0</td>\n",
       "      <td>0.000207</td>\n",
       "      <td>inf</td>\n",
       "    </tr>\n",
       "    <tr>\n",
       "      <th>107719</th>\n",
       "      <td>(Em patamar, Recta, Em pleno dia, Morto)</td>\n",
       "      <td>(Masculino, Chuva, Motociclo cilindrada &gt; 125c...</td>\n",
       "      <td>0.000207</td>\n",
       "      <td>0.000207</td>\n",
       "      <td>0.000207</td>\n",
       "      <td>1.0</td>\n",
       "      <td>4834.0</td>\n",
       "      <td>0.000207</td>\n",
       "      <td>inf</td>\n",
       "    </tr>\n",
       "    <tr>\n",
       "      <th>59429</th>\n",
       "      <td>(Masculino, Chuva, Motociclo cilindrada &gt; 125c...</td>\n",
       "      <td>(Em patamar, Morto)</td>\n",
       "      <td>0.000207</td>\n",
       "      <td>0.000207</td>\n",
       "      <td>0.000207</td>\n",
       "      <td>1.0</td>\n",
       "      <td>4834.0</td>\n",
       "      <td>0.000207</td>\n",
       "      <td>inf</td>\n",
       "    </tr>\n",
       "    <tr>\n",
       "      <th>93769</th>\n",
       "      <td>(Em patamar, Morto)</td>\n",
       "      <td>(Motociclo cilindrada &gt; 125cc, Recta, Chuva, M...</td>\n",
       "      <td>0.000207</td>\n",
       "      <td>0.000207</td>\n",
       "      <td>0.000207</td>\n",
       "      <td>1.0</td>\n",
       "      <td>4834.0</td>\n",
       "      <td>0.000207</td>\n",
       "      <td>inf</td>\n",
       "    </tr>\n",
       "    <tr>\n",
       "      <th>107733</th>\n",
       "      <td>(Masculino, Chuva, Motociclo cilindrada &gt; 125c...</td>\n",
       "      <td>(Em patamar, Recta, Em pleno dia, Morto)</td>\n",
       "      <td>0.000207</td>\n",
       "      <td>0.000207</td>\n",
       "      <td>0.000207</td>\n",
       "      <td>1.0</td>\n",
       "      <td>4834.0</td>\n",
       "      <td>0.000207</td>\n",
       "      <td>inf</td>\n",
       "    </tr>\n",
       "    <tr>\n",
       "      <th>59437</th>\n",
       "      <td>(Em patamar, Morto)</td>\n",
       "      <td>(Masculino, Chuva, Motociclo cilindrada &gt; 125c...</td>\n",
       "      <td>0.000207</td>\n",
       "      <td>0.000207</td>\n",
       "      <td>0.000207</td>\n",
       "      <td>1.0</td>\n",
       "      <td>4834.0</td>\n",
       "      <td>0.000207</td>\n",
       "      <td>inf</td>\n",
       "    </tr>\n",
       "    <tr>\n",
       "      <th>94006</th>\n",
       "      <td>(Masculino, Chuva, Motociclo cilindrada &gt; 125c...</td>\n",
       "      <td>(Em patamar, Em pleno dia, Morto)</td>\n",
       "      <td>0.000207</td>\n",
       "      <td>0.000207</td>\n",
       "      <td>0.000207</td>\n",
       "      <td>1.0</td>\n",
       "      <td>4834.0</td>\n",
       "      <td>0.000207</td>\n",
       "      <td>inf</td>\n",
       "    </tr>\n",
       "    <tr>\n",
       "      <th>94016</th>\n",
       "      <td>(Em patamar, Morto)</td>\n",
       "      <td>(Motociclo cilindrada &gt; 125cc, Chuva, Masculin...</td>\n",
       "      <td>0.000207</td>\n",
       "      <td>0.000207</td>\n",
       "      <td>0.000207</td>\n",
       "      <td>1.0</td>\n",
       "      <td>4834.0</td>\n",
       "      <td>0.000207</td>\n",
       "      <td>inf</td>\n",
       "    </tr>\n",
       "    <tr>\n",
       "      <th>94011</th>\n",
       "      <td>(Em patamar, Em pleno dia, Morto)</td>\n",
       "      <td>(Masculino, Chuva, Motociclo cilindrada &gt; 125c...</td>\n",
       "      <td>0.000207</td>\n",
       "      <td>0.000207</td>\n",
       "      <td>0.000207</td>\n",
       "      <td>1.0</td>\n",
       "      <td>4834.0</td>\n",
       "      <td>0.000207</td>\n",
       "      <td>inf</td>\n",
       "    </tr>\n",
       "    <tr>\n",
       "      <th>107745</th>\n",
       "      <td>(Em patamar, Morto)</td>\n",
       "      <td>(Motociclo cilindrada &gt; 125cc, Recta, Chuva, M...</td>\n",
       "      <td>0.000207</td>\n",
       "      <td>0.000207</td>\n",
       "      <td>0.000207</td>\n",
       "      <td>1.0</td>\n",
       "      <td>4834.0</td>\n",
       "      <td>0.000207</td>\n",
       "      <td>inf</td>\n",
       "    </tr>\n",
       "    <tr>\n",
       "      <th>93762</th>\n",
       "      <td>(Em patamar, Recta, Morto)</td>\n",
       "      <td>(Masculino, Chuva, Motociclo cilindrada &gt; 125c...</td>\n",
       "      <td>0.000207</td>\n",
       "      <td>0.000207</td>\n",
       "      <td>0.000207</td>\n",
       "      <td>1.0</td>\n",
       "      <td>4834.0</td>\n",
       "      <td>0.000207</td>\n",
       "      <td>inf</td>\n",
       "    </tr>\n",
       "    <tr>\n",
       "      <th>107718</th>\n",
       "      <td>(Em patamar, Recta, Masculino, Morto)</td>\n",
       "      <td>(Chuva, Motociclo cilindrada &gt; 125cc, Em pleno...</td>\n",
       "      <td>0.000207</td>\n",
       "      <td>0.000414</td>\n",
       "      <td>0.000207</td>\n",
       "      <td>1.0</td>\n",
       "      <td>2417.0</td>\n",
       "      <td>0.000207</td>\n",
       "      <td>inf</td>\n",
       "    </tr>\n",
       "    <tr>\n",
       "      <th>93879</th>\n",
       "      <td>(Motociclo cilindrada &gt; 125cc, Recta, Chuva, M...</td>\n",
       "      <td>(Em pleno dia, Morto)</td>\n",
       "      <td>0.000207</td>\n",
       "      <td>0.000414</td>\n",
       "      <td>0.000207</td>\n",
       "      <td>1.0</td>\n",
       "      <td>2417.0</td>\n",
       "      <td>0.000207</td>\n",
       "      <td>inf</td>\n",
       "    </tr>\n",
       "  </tbody>\n",
       "</table>\n",
       "</div>"
      ],
      "text/plain": [
       "                                              antecedents  \\\n",
       "93742   (Motociclo cilindrada > 125cc, Recta, Chuva, M...   \n",
       "93989   (Motociclo cilindrada > 125cc, Chuva, Masculin...   \n",
       "107736                         (Em patamar, Recta, Morto)   \n",
       "107739                  (Em patamar, Em pleno dia, Morto)   \n",
       "93759   (Masculino, Chuva, Motociclo cilindrada > 125c...   \n",
       "107707  (Motociclo cilindrada > 125cc, Chuva, Masculin...   \n",
       "107674  (Motociclo cilindrada > 125cc, Recta, Chuva, M...   \n",
       "107706  (Motociclo cilindrada > 125cc, Recta, Chuva, M...   \n",
       "107719           (Em patamar, Recta, Em pleno dia, Morto)   \n",
       "59429   (Masculino, Chuva, Motociclo cilindrada > 125c...   \n",
       "93769                                 (Em patamar, Morto)   \n",
       "107733  (Masculino, Chuva, Motociclo cilindrada > 125c...   \n",
       "59437                                 (Em patamar, Morto)   \n",
       "94006   (Masculino, Chuva, Motociclo cilindrada > 125c...   \n",
       "94016                                 (Em patamar, Morto)   \n",
       "94011                   (Em patamar, Em pleno dia, Morto)   \n",
       "107745                                (Em patamar, Morto)   \n",
       "93762                          (Em patamar, Recta, Morto)   \n",
       "107718              (Em patamar, Recta, Masculino, Morto)   \n",
       "93879   (Motociclo cilindrada > 125cc, Recta, Chuva, M...   \n",
       "\n",
       "                                              consequents  antecedent support  \\\n",
       "93742                                 (Em patamar, Morto)            0.000207   \n",
       "93989                                 (Em patamar, Morto)            0.000207   \n",
       "107736  (Motociclo cilindrada > 125cc, Chuva, Masculin...            0.000207   \n",
       "107739  (Motociclo cilindrada > 125cc, Recta, Chuva, M...            0.000207   \n",
       "93759                          (Em patamar, Recta, Morto)            0.000207   \n",
       "107707                         (Em patamar, Recta, Morto)            0.000207   \n",
       "107674                                (Em patamar, Morto)            0.000207   \n",
       "107706                  (Em patamar, Em pleno dia, Morto)            0.000207   \n",
       "107719  (Masculino, Chuva, Motociclo cilindrada > 125c...            0.000207   \n",
       "59429                                 (Em patamar, Morto)            0.000207   \n",
       "93769   (Motociclo cilindrada > 125cc, Recta, Chuva, M...            0.000207   \n",
       "107733           (Em patamar, Recta, Em pleno dia, Morto)            0.000207   \n",
       "59437   (Masculino, Chuva, Motociclo cilindrada > 125c...            0.000207   \n",
       "94006                   (Em patamar, Em pleno dia, Morto)            0.000207   \n",
       "94016   (Motociclo cilindrada > 125cc, Chuva, Masculin...            0.000207   \n",
       "94011   (Masculino, Chuva, Motociclo cilindrada > 125c...            0.000207   \n",
       "107745  (Motociclo cilindrada > 125cc, Recta, Chuva, M...            0.000207   \n",
       "93762   (Masculino, Chuva, Motociclo cilindrada > 125c...            0.000207   \n",
       "107718  (Chuva, Motociclo cilindrada > 125cc, Em pleno...            0.000207   \n",
       "93879                               (Em pleno dia, Morto)            0.000207   \n",
       "\n",
       "        consequent support   support  confidence    lift  leverage  conviction  \n",
       "93742             0.000207  0.000207         1.0  4834.0  0.000207         inf  \n",
       "93989             0.000207  0.000207         1.0  4834.0  0.000207         inf  \n",
       "107736            0.000207  0.000207         1.0  4834.0  0.000207         inf  \n",
       "107739            0.000207  0.000207         1.0  4834.0  0.000207         inf  \n",
       "93759             0.000207  0.000207         1.0  4834.0  0.000207         inf  \n",
       "107707            0.000207  0.000207         1.0  4834.0  0.000207         inf  \n",
       "107674            0.000207  0.000207         1.0  4834.0  0.000207         inf  \n",
       "107706            0.000207  0.000207         1.0  4834.0  0.000207         inf  \n",
       "107719            0.000207  0.000207         1.0  4834.0  0.000207         inf  \n",
       "59429             0.000207  0.000207         1.0  4834.0  0.000207         inf  \n",
       "93769             0.000207  0.000207         1.0  4834.0  0.000207         inf  \n",
       "107733            0.000207  0.000207         1.0  4834.0  0.000207         inf  \n",
       "59437             0.000207  0.000207         1.0  4834.0  0.000207         inf  \n",
       "94006             0.000207  0.000207         1.0  4834.0  0.000207         inf  \n",
       "94016             0.000207  0.000207         1.0  4834.0  0.000207         inf  \n",
       "94011             0.000207  0.000207         1.0  4834.0  0.000207         inf  \n",
       "107745            0.000207  0.000207         1.0  4834.0  0.000207         inf  \n",
       "93762             0.000207  0.000207         1.0  4834.0  0.000207         inf  \n",
       "107718            0.000414  0.000207         1.0  2417.0  0.000207         inf  \n",
       "93879             0.000414  0.000207         1.0  2417.0  0.000207         inf  "
      ]
     },
     "execution_count": 73,
     "metadata": {},
     "output_type": "execute_result"
    }
   ],
   "source": [
    "results.sort_values(by='lift', ascending=False).head(20)"
   ]
  },
  {
   "cell_type": "code",
   "execution_count": 61,
   "metadata": {},
   "outputs": [
    {
     "data": {
      "text/html": [
       "<div>\n",
       "<style scoped>\n",
       "    .dataframe tbody tr th:only-of-type {\n",
       "        vertical-align: middle;\n",
       "    }\n",
       "\n",
       "    .dataframe tbody tr th {\n",
       "        vertical-align: top;\n",
       "    }\n",
       "\n",
       "    .dataframe thead th {\n",
       "        text-align: right;\n",
       "    }\n",
       "</style>\n",
       "<table border=\"1\" class=\"dataframe\">\n",
       "  <thead>\n",
       "    <tr style=\"text-align: right;\">\n",
       "      <th></th>\n",
       "      <th>antecedents</th>\n",
       "      <th>consequents</th>\n",
       "      <th>antecedent support</th>\n",
       "      <th>consequent support</th>\n",
       "      <th>support</th>\n",
       "      <th>confidence</th>\n",
       "      <th>lift</th>\n",
       "      <th>leverage</th>\n",
       "      <th>conviction</th>\n",
       "    </tr>\n",
       "  </thead>\n",
       "  <tbody>\n",
       "    <tr>\n",
       "      <th>1553</th>\n",
       "      <td>(Motociclo cilindrada &lt;= 125cc, Com inclinação...</td>\n",
       "      <td>(Ferido grave)</td>\n",
       "      <td>0.000207</td>\n",
       "      <td>0.006206</td>\n",
       "      <td>0.000207</td>\n",
       "      <td>1.0</td>\n",
       "      <td>161.133333</td>\n",
       "      <td>0.000206</td>\n",
       "      <td>inf</td>\n",
       "    </tr>\n",
       "    <tr>\n",
       "      <th>1704</th>\n",
       "      <td>(Húmido, Velocípede, Bom tempo)</td>\n",
       "      <td>(Ferido grave)</td>\n",
       "      <td>0.000207</td>\n",
       "      <td>0.006206</td>\n",
       "      <td>0.000207</td>\n",
       "      <td>1.0</td>\n",
       "      <td>161.133333</td>\n",
       "      <td>0.000206</td>\n",
       "      <td>inf</td>\n",
       "    </tr>\n",
       "    <tr>\n",
       "      <th>1791</th>\n",
       "      <td>(Húmido, Velocípede, Noite, com iluminação)</td>\n",
       "      <td>(Ferido grave)</td>\n",
       "      <td>0.000207</td>\n",
       "      <td>0.006206</td>\n",
       "      <td>0.000207</td>\n",
       "      <td>1.0</td>\n",
       "      <td>161.133333</td>\n",
       "      <td>0.000206</td>\n",
       "      <td>inf</td>\n",
       "    </tr>\n",
       "    <tr>\n",
       "      <th>7898</th>\n",
       "      <td>(Noite, com iluminação, Em patamar, Curva, Vel...</td>\n",
       "      <td>(Ferido grave)</td>\n",
       "      <td>0.000207</td>\n",
       "      <td>0.006206</td>\n",
       "      <td>0.000207</td>\n",
       "      <td>1.0</td>\n",
       "      <td>161.133333</td>\n",
       "      <td>0.000206</td>\n",
       "      <td>inf</td>\n",
       "    </tr>\n",
       "    <tr>\n",
       "      <th>8164</th>\n",
       "      <td>(Recta, Com inclinação, Motociclo cilindrada &lt;...</td>\n",
       "      <td>(Ferido grave)</td>\n",
       "      <td>0.000207</td>\n",
       "      <td>0.006206</td>\n",
       "      <td>0.000207</td>\n",
       "      <td>1.0</td>\n",
       "      <td>161.133333</td>\n",
       "      <td>0.000206</td>\n",
       "      <td>inf</td>\n",
       "    </tr>\n",
       "    <tr>\n",
       "      <th>8460</th>\n",
       "      <td>(Húmido, Recta, Velocípede, Bom tempo)</td>\n",
       "      <td>(Ferido grave)</td>\n",
       "      <td>0.000207</td>\n",
       "      <td>0.006206</td>\n",
       "      <td>0.000207</td>\n",
       "      <td>1.0</td>\n",
       "      <td>161.133333</td>\n",
       "      <td>0.000206</td>\n",
       "      <td>inf</td>\n",
       "    </tr>\n",
       "    <tr>\n",
       "      <th>8614</th>\n",
       "      <td>(Noite, com iluminação, Húmido, Recta, Velocíp...</td>\n",
       "      <td>(Ferido grave)</td>\n",
       "      <td>0.000207</td>\n",
       "      <td>0.006206</td>\n",
       "      <td>0.000207</td>\n",
       "      <td>1.0</td>\n",
       "      <td>161.133333</td>\n",
       "      <td>0.000206</td>\n",
       "      <td>inf</td>\n",
       "    </tr>\n",
       "    <tr>\n",
       "      <th>8775</th>\n",
       "      <td>(Com inclinação, Motociclo cilindrada &lt;= 125cc...</td>\n",
       "      <td>(Ferido grave)</td>\n",
       "      <td>0.000207</td>\n",
       "      <td>0.006206</td>\n",
       "      <td>0.000207</td>\n",
       "      <td>1.0</td>\n",
       "      <td>161.133333</td>\n",
       "      <td>0.000206</td>\n",
       "      <td>inf</td>\n",
       "    </tr>\n",
       "    <tr>\n",
       "      <th>8859</th>\n",
       "      <td>(Seco e limpo, Com inclinação, Motociclo cilin...</td>\n",
       "      <td>(Ferido grave)</td>\n",
       "      <td>0.000207</td>\n",
       "      <td>0.006206</td>\n",
       "      <td>0.000207</td>\n",
       "      <td>1.0</td>\n",
       "      <td>161.133333</td>\n",
       "      <td>0.000206</td>\n",
       "      <td>inf</td>\n",
       "    </tr>\n",
       "    <tr>\n",
       "      <th>8875</th>\n",
       "      <td>(Masculino, Com inclinação, Motociclo cilindra...</td>\n",
       "      <td>(Ferido grave)</td>\n",
       "      <td>0.000207</td>\n",
       "      <td>0.006206</td>\n",
       "      <td>0.000207</td>\n",
       "      <td>1.0</td>\n",
       "      <td>161.133333</td>\n",
       "      <td>0.000206</td>\n",
       "      <td>inf</td>\n",
       "    </tr>\n",
       "    <tr>\n",
       "      <th>8950</th>\n",
       "      <td>(Em patamar, Húmido, Velocípede, Bom tempo)</td>\n",
       "      <td>(Ferido grave)</td>\n",
       "      <td>0.000207</td>\n",
       "      <td>0.006206</td>\n",
       "      <td>0.000207</td>\n",
       "      <td>1.0</td>\n",
       "      <td>161.133333</td>\n",
       "      <td>0.000206</td>\n",
       "      <td>inf</td>\n",
       "    </tr>\n",
       "    <tr>\n",
       "      <th>9117</th>\n",
       "      <td>(Noite, com iluminação, Em patamar, Húmido, Ve...</td>\n",
       "      <td>(Ferido grave)</td>\n",
       "      <td>0.000207</td>\n",
       "      <td>0.006206</td>\n",
       "      <td>0.000207</td>\n",
       "      <td>1.0</td>\n",
       "      <td>161.133333</td>\n",
       "      <td>0.000206</td>\n",
       "      <td>inf</td>\n",
       "    </tr>\n",
       "    <tr>\n",
       "      <th>9249</th>\n",
       "      <td>(Noite, com iluminação, Húmido, Velocípede, Bo...</td>\n",
       "      <td>(Ferido grave)</td>\n",
       "      <td>0.000207</td>\n",
       "      <td>0.006206</td>\n",
       "      <td>0.000207</td>\n",
       "      <td>1.0</td>\n",
       "      <td>161.133333</td>\n",
       "      <td>0.000206</td>\n",
       "      <td>inf</td>\n",
       "    </tr>\n",
       "    <tr>\n",
       "      <th>9335</th>\n",
       "      <td>(Masculino, Húmido, Velocípede, Bom tempo)</td>\n",
       "      <td>(Ferido grave)</td>\n",
       "      <td>0.000207</td>\n",
       "      <td>0.006206</td>\n",
       "      <td>0.000207</td>\n",
       "      <td>1.0</td>\n",
       "      <td>161.133333</td>\n",
       "      <td>0.000206</td>\n",
       "      <td>inf</td>\n",
       "    </tr>\n",
       "    <tr>\n",
       "      <th>9456</th>\n",
       "      <td>(Noite, com iluminação, Masculino, Húmido, Vel...</td>\n",
       "      <td>(Ferido grave)</td>\n",
       "      <td>0.000207</td>\n",
       "      <td>0.006206</td>\n",
       "      <td>0.000207</td>\n",
       "      <td>1.0</td>\n",
       "      <td>161.133333</td>\n",
       "      <td>0.000206</td>\n",
       "      <td>inf</td>\n",
       "    </tr>\n",
       "    <tr>\n",
       "      <th>26383</th>\n",
       "      <td>(Bom tempo, Velocípede, Em patamar, Curva, Noi...</td>\n",
       "      <td>(Ferido grave)</td>\n",
       "      <td>0.000207</td>\n",
       "      <td>0.006206</td>\n",
       "      <td>0.000207</td>\n",
       "      <td>1.0</td>\n",
       "      <td>161.133333</td>\n",
       "      <td>0.000206</td>\n",
       "      <td>inf</td>\n",
       "    </tr>\n",
       "    <tr>\n",
       "      <th>26628</th>\n",
       "      <td>(Velocípede, Em patamar, Curva, Noite, com ilu...</td>\n",
       "      <td>(Ferido grave)</td>\n",
       "      <td>0.000207</td>\n",
       "      <td>0.006206</td>\n",
       "      <td>0.000207</td>\n",
       "      <td>1.0</td>\n",
       "      <td>161.133333</td>\n",
       "      <td>0.000206</td>\n",
       "      <td>inf</td>\n",
       "    </tr>\n",
       "    <tr>\n",
       "      <th>26647</th>\n",
       "      <td>(Velocípede, Em patamar, Curva, Masculino, Noi...</td>\n",
       "      <td>(Ferido grave)</td>\n",
       "      <td>0.000207</td>\n",
       "      <td>0.006206</td>\n",
       "      <td>0.000207</td>\n",
       "      <td>1.0</td>\n",
       "      <td>161.133333</td>\n",
       "      <td>0.000206</td>\n",
       "      <td>inf</td>\n",
       "    </tr>\n",
       "    <tr>\n",
       "      <th>26974</th>\n",
       "      <td>(Bom tempo, Noite, sem iluminação, Recta, Moto...</td>\n",
       "      <td>(Ferido grave)</td>\n",
       "      <td>0.000207</td>\n",
       "      <td>0.006206</td>\n",
       "      <td>0.000207</td>\n",
       "      <td>1.0</td>\n",
       "      <td>161.133333</td>\n",
       "      <td>0.000206</td>\n",
       "      <td>inf</td>\n",
       "    </tr>\n",
       "    <tr>\n",
       "      <th>27134</th>\n",
       "      <td>(Noite, sem iluminação, Recta, Motociclo cilin...</td>\n",
       "      <td>(Ferido grave)</td>\n",
       "      <td>0.000207</td>\n",
       "      <td>0.006206</td>\n",
       "      <td>0.000207</td>\n",
       "      <td>1.0</td>\n",
       "      <td>161.133333</td>\n",
       "      <td>0.000206</td>\n",
       "      <td>inf</td>\n",
       "    </tr>\n",
       "    <tr>\n",
       "      <th>27168</th>\n",
       "      <td>(Noite, sem iluminação, Recta, Motociclo cilin...</td>\n",
       "      <td>(Ferido grave)</td>\n",
       "      <td>0.000207</td>\n",
       "      <td>0.006206</td>\n",
       "      <td>0.000207</td>\n",
       "      <td>1.0</td>\n",
       "      <td>161.133333</td>\n",
       "      <td>0.000206</td>\n",
       "      <td>inf</td>\n",
       "    </tr>\n",
       "    <tr>\n",
       "      <th>27315</th>\n",
       "      <td>(Bom tempo, Húmido, Velocípede, Em patamar, Re...</td>\n",
       "      <td>(Ferido grave)</td>\n",
       "      <td>0.000207</td>\n",
       "      <td>0.006206</td>\n",
       "      <td>0.000207</td>\n",
       "      <td>1.0</td>\n",
       "      <td>161.133333</td>\n",
       "      <td>0.000206</td>\n",
       "      <td>inf</td>\n",
       "    </tr>\n",
       "    <tr>\n",
       "      <th>27582</th>\n",
       "      <td>(Húmido, Velocípede, Em patamar, Recta, Noite,...</td>\n",
       "      <td>(Ferido grave)</td>\n",
       "      <td>0.000207</td>\n",
       "      <td>0.006206</td>\n",
       "      <td>0.000207</td>\n",
       "      <td>1.0</td>\n",
       "      <td>161.133333</td>\n",
       "      <td>0.000206</td>\n",
       "      <td>inf</td>\n",
       "    </tr>\n",
       "    <tr>\n",
       "      <th>27837</th>\n",
       "      <td>(Bom tempo, Húmido, Velocípede, Recta, Noite, ...</td>\n",
       "      <td>(Ferido grave)</td>\n",
       "      <td>0.000207</td>\n",
       "      <td>0.006206</td>\n",
       "      <td>0.000207</td>\n",
       "      <td>1.0</td>\n",
       "      <td>161.133333</td>\n",
       "      <td>0.000206</td>\n",
       "      <td>inf</td>\n",
       "    </tr>\n",
       "    <tr>\n",
       "      <th>28013</th>\n",
       "      <td>(Bom tempo, Húmido, Velocípede, Recta, Masculino)</td>\n",
       "      <td>(Ferido grave)</td>\n",
       "      <td>0.000207</td>\n",
       "      <td>0.006206</td>\n",
       "      <td>0.000207</td>\n",
       "      <td>1.0</td>\n",
       "      <td>161.133333</td>\n",
       "      <td>0.000206</td>\n",
       "      <td>inf</td>\n",
       "    </tr>\n",
       "    <tr>\n",
       "      <th>28192</th>\n",
       "      <td>(Húmido, Velocípede, Recta, Masculino, Noite, ...</td>\n",
       "      <td>(Ferido grave)</td>\n",
       "      <td>0.000207</td>\n",
       "      <td>0.006206</td>\n",
       "      <td>0.000207</td>\n",
       "      <td>1.0</td>\n",
       "      <td>161.133333</td>\n",
       "      <td>0.000206</td>\n",
       "      <td>inf</td>\n",
       "    </tr>\n",
       "    <tr>\n",
       "      <th>28369</th>\n",
       "      <td>(Bom tempo, Noite, sem iluminação, Motociclo c...</td>\n",
       "      <td>(Ferido grave)</td>\n",
       "      <td>0.000207</td>\n",
       "      <td>0.006206</td>\n",
       "      <td>0.000207</td>\n",
       "      <td>1.0</td>\n",
       "      <td>161.133333</td>\n",
       "      <td>0.000206</td>\n",
       "      <td>inf</td>\n",
       "    </tr>\n",
       "    <tr>\n",
       "      <th>28403</th>\n",
       "      <td>(Bom tempo, Noite, sem iluminação, Motociclo c...</td>\n",
       "      <td>(Ferido grave)</td>\n",
       "      <td>0.000207</td>\n",
       "      <td>0.006206</td>\n",
       "      <td>0.000207</td>\n",
       "      <td>1.0</td>\n",
       "      <td>161.133333</td>\n",
       "      <td>0.000206</td>\n",
       "      <td>inf</td>\n",
       "    </tr>\n",
       "    <tr>\n",
       "      <th>28491</th>\n",
       "      <td>(Noite, sem iluminação, Motociclo cilindrada &lt;...</td>\n",
       "      <td>(Ferido grave)</td>\n",
       "      <td>0.000207</td>\n",
       "      <td>0.006206</td>\n",
       "      <td>0.000207</td>\n",
       "      <td>1.0</td>\n",
       "      <td>161.133333</td>\n",
       "      <td>0.000206</td>\n",
       "      <td>inf</td>\n",
       "    </tr>\n",
       "    <tr>\n",
       "      <th>28580</th>\n",
       "      <td>(Bom tempo, Húmido, Velocípede, Em patamar, No...</td>\n",
       "      <td>(Ferido grave)</td>\n",
       "      <td>0.000207</td>\n",
       "      <td>0.006206</td>\n",
       "      <td>0.000207</td>\n",
       "      <td>1.0</td>\n",
       "      <td>161.133333</td>\n",
       "      <td>0.000206</td>\n",
       "      <td>inf</td>\n",
       "    </tr>\n",
       "    <tr>\n",
       "      <th>28681</th>\n",
       "      <td>(Bom tempo, Húmido, Velocípede, Em patamar, Ma...</td>\n",
       "      <td>(Ferido grave)</td>\n",
       "      <td>0.000207</td>\n",
       "      <td>0.006206</td>\n",
       "      <td>0.000207</td>\n",
       "      <td>1.0</td>\n",
       "      <td>161.133333</td>\n",
       "      <td>0.000206</td>\n",
       "      <td>inf</td>\n",
       "    </tr>\n",
       "    <tr>\n",
       "      <th>28900</th>\n",
       "      <td>(Húmido, Velocípede, Em patamar, Masculino, No...</td>\n",
       "      <td>(Ferido grave)</td>\n",
       "      <td>0.000207</td>\n",
       "      <td>0.006206</td>\n",
       "      <td>0.000207</td>\n",
       "      <td>1.0</td>\n",
       "      <td>161.133333</td>\n",
       "      <td>0.000206</td>\n",
       "      <td>inf</td>\n",
       "    </tr>\n",
       "    <tr>\n",
       "      <th>28996</th>\n",
       "      <td>(Bom tempo, Húmido, Velocípede, Masculino, Noi...</td>\n",
       "      <td>(Ferido grave)</td>\n",
       "      <td>0.000207</td>\n",
       "      <td>0.006206</td>\n",
       "      <td>0.000207</td>\n",
       "      <td>1.0</td>\n",
       "      <td>161.133333</td>\n",
       "      <td>0.000206</td>\n",
       "      <td>inf</td>\n",
       "    </tr>\n",
       "    <tr>\n",
       "      <th>55879</th>\n",
       "      <td>(Bom tempo, Velocípede, Em patamar, Curva, Noi...</td>\n",
       "      <td>(Ferido grave)</td>\n",
       "      <td>0.000207</td>\n",
       "      <td>0.006206</td>\n",
       "      <td>0.000207</td>\n",
       "      <td>1.0</td>\n",
       "      <td>161.133333</td>\n",
       "      <td>0.000206</td>\n",
       "      <td>inf</td>\n",
       "    </tr>\n",
       "    <tr>\n",
       "      <th>55921</th>\n",
       "      <td>(Bom tempo, Velocípede, Em patamar, Curva, Mas...</td>\n",
       "      <td>(Ferido grave)</td>\n",
       "      <td>0.000207</td>\n",
       "      <td>0.006206</td>\n",
       "      <td>0.000207</td>\n",
       "      <td>1.0</td>\n",
       "      <td>161.133333</td>\n",
       "      <td>0.000206</td>\n",
       "      <td>inf</td>\n",
       "    </tr>\n",
       "    <tr>\n",
       "      <th>56235</th>\n",
       "      <td>(Velocípede, Em patamar, Curva, Masculino, Noi...</td>\n",
       "      <td>(Ferido grave)</td>\n",
       "      <td>0.000207</td>\n",
       "      <td>0.006206</td>\n",
       "      <td>0.000207</td>\n",
       "      <td>1.0</td>\n",
       "      <td>161.133333</td>\n",
       "      <td>0.000206</td>\n",
       "      <td>inf</td>\n",
       "    </tr>\n",
       "    <tr>\n",
       "      <th>56506</th>\n",
       "      <td>(Bom tempo, Noite, sem iluminação, Recta, Moto...</td>\n",
       "      <td>(Ferido grave)</td>\n",
       "      <td>0.000207</td>\n",
       "      <td>0.006206</td>\n",
       "      <td>0.000207</td>\n",
       "      <td>1.0</td>\n",
       "      <td>161.133333</td>\n",
       "      <td>0.000206</td>\n",
       "      <td>inf</td>\n",
       "    </tr>\n",
       "    <tr>\n",
       "      <th>56576</th>\n",
       "      <td>(Bom tempo, Noite, sem iluminação, Recta, Moto...</td>\n",
       "      <td>(Ferido grave)</td>\n",
       "      <td>0.000207</td>\n",
       "      <td>0.006206</td>\n",
       "      <td>0.000207</td>\n",
       "      <td>1.0</td>\n",
       "      <td>161.133333</td>\n",
       "      <td>0.000206</td>\n",
       "      <td>inf</td>\n",
       "    </tr>\n",
       "    <tr>\n",
       "      <th>56730</th>\n",
       "      <td>(Noite, sem iluminação, Recta, Motociclo cilin...</td>\n",
       "      <td>(Ferido grave)</td>\n",
       "      <td>0.000207</td>\n",
       "      <td>0.006206</td>\n",
       "      <td>0.000207</td>\n",
       "      <td>1.0</td>\n",
       "      <td>161.133333</td>\n",
       "      <td>0.000206</td>\n",
       "      <td>inf</td>\n",
       "    </tr>\n",
       "    <tr>\n",
       "      <th>56913</th>\n",
       "      <td>(Bom tempo, Húmido, Velocípede, Em patamar, Re...</td>\n",
       "      <td>(Ferido grave)</td>\n",
       "      <td>0.000207</td>\n",
       "      <td>0.006206</td>\n",
       "      <td>0.000207</td>\n",
       "      <td>1.0</td>\n",
       "      <td>161.133333</td>\n",
       "      <td>0.000206</td>\n",
       "      <td>inf</td>\n",
       "    </tr>\n",
       "    <tr>\n",
       "      <th>57101</th>\n",
       "      <td>(Bom tempo, Húmido, Velocípede, Em patamar, Re...</td>\n",
       "      <td>(Ferido grave)</td>\n",
       "      <td>0.000207</td>\n",
       "      <td>0.006206</td>\n",
       "      <td>0.000207</td>\n",
       "      <td>1.0</td>\n",
       "      <td>161.133333</td>\n",
       "      <td>0.000206</td>\n",
       "      <td>inf</td>\n",
       "    </tr>\n",
       "    <tr>\n",
       "      <th>57417</th>\n",
       "      <td>(Húmido, Velocípede, Em patamar, Recta, Mascul...</td>\n",
       "      <td>(Ferido grave)</td>\n",
       "      <td>0.000207</td>\n",
       "      <td>0.006206</td>\n",
       "      <td>0.000207</td>\n",
       "      <td>1.0</td>\n",
       "      <td>161.133333</td>\n",
       "      <td>0.000206</td>\n",
       "      <td>inf</td>\n",
       "    </tr>\n",
       "    <tr>\n",
       "      <th>57597</th>\n",
       "      <td>(Bom tempo, Húmido, Velocípede, Recta, Masculi...</td>\n",
       "      <td>(Ferido grave)</td>\n",
       "      <td>0.000207</td>\n",
       "      <td>0.006206</td>\n",
       "      <td>0.000207</td>\n",
       "      <td>1.0</td>\n",
       "      <td>161.133333</td>\n",
       "      <td>0.000206</td>\n",
       "      <td>inf</td>\n",
       "    </tr>\n",
       "    <tr>\n",
       "      <th>57888</th>\n",
       "      <td>(Bom tempo, Noite, sem iluminação, Motociclo c...</td>\n",
       "      <td>(Ferido grave)</td>\n",
       "      <td>0.000207</td>\n",
       "      <td>0.006206</td>\n",
       "      <td>0.000207</td>\n",
       "      <td>1.0</td>\n",
       "      <td>161.133333</td>\n",
       "      <td>0.000206</td>\n",
       "      <td>inf</td>\n",
       "    </tr>\n",
       "    <tr>\n",
       "      <th>57983</th>\n",
       "      <td>(Bom tempo, Húmido, Velocípede, Em patamar, Ma...</td>\n",
       "      <td>(Ferido grave)</td>\n",
       "      <td>0.000207</td>\n",
       "      <td>0.006206</td>\n",
       "      <td>0.000207</td>\n",
       "      <td>1.0</td>\n",
       "      <td>161.133333</td>\n",
       "      <td>0.000206</td>\n",
       "      <td>inf</td>\n",
       "    </tr>\n",
       "    <tr>\n",
       "      <th>80713</th>\n",
       "      <td>(Bom tempo, Velocípede, Em patamar, Curva, Mas...</td>\n",
       "      <td>(Ferido grave)</td>\n",
       "      <td>0.000207</td>\n",
       "      <td>0.006206</td>\n",
       "      <td>0.000207</td>\n",
       "      <td>1.0</td>\n",
       "      <td>161.133333</td>\n",
       "      <td>0.000206</td>\n",
       "      <td>inf</td>\n",
       "    </tr>\n",
       "    <tr>\n",
       "      <th>80988</th>\n",
       "      <td>(Bom tempo, Noite, sem iluminação, Recta, Moto...</td>\n",
       "      <td>(Ferido grave)</td>\n",
       "      <td>0.000207</td>\n",
       "      <td>0.006206</td>\n",
       "      <td>0.000207</td>\n",
       "      <td>1.0</td>\n",
       "      <td>161.133333</td>\n",
       "      <td>0.000206</td>\n",
       "      <td>inf</td>\n",
       "    </tr>\n",
       "    <tr>\n",
       "      <th>81180</th>\n",
       "      <td>(Bom tempo, Húmido, Velocípede, Em patamar, Re...</td>\n",
       "      <td>(Ferido grave)</td>\n",
       "      <td>0.000207</td>\n",
       "      <td>0.006206</td>\n",
       "      <td>0.000207</td>\n",
       "      <td>1.0</td>\n",
       "      <td>161.133333</td>\n",
       "      <td>0.000206</td>\n",
       "      <td>inf</td>\n",
       "    </tr>\n",
       "  </tbody>\n",
       "</table>\n",
       "</div>"
      ],
      "text/plain": [
       "                                             antecedents     consequents  \\\n",
       "1553   (Motociclo cilindrada <= 125cc, Com inclinação...  (Ferido grave)   \n",
       "1704                     (Húmido, Velocípede, Bom tempo)  (Ferido grave)   \n",
       "1791         (Húmido, Velocípede, Noite, com iluminação)  (Ferido grave)   \n",
       "7898   (Noite, com iluminação, Em patamar, Curva, Vel...  (Ferido grave)   \n",
       "8164   (Recta, Com inclinação, Motociclo cilindrada <...  (Ferido grave)   \n",
       "8460              (Húmido, Recta, Velocípede, Bom tempo)  (Ferido grave)   \n",
       "8614   (Noite, com iluminação, Húmido, Recta, Velocíp...  (Ferido grave)   \n",
       "8775   (Com inclinação, Motociclo cilindrada <= 125cc...  (Ferido grave)   \n",
       "8859   (Seco e limpo, Com inclinação, Motociclo cilin...  (Ferido grave)   \n",
       "8875   (Masculino, Com inclinação, Motociclo cilindra...  (Ferido grave)   \n",
       "8950         (Em patamar, Húmido, Velocípede, Bom tempo)  (Ferido grave)   \n",
       "9117   (Noite, com iluminação, Em patamar, Húmido, Ve...  (Ferido grave)   \n",
       "9249   (Noite, com iluminação, Húmido, Velocípede, Bo...  (Ferido grave)   \n",
       "9335          (Masculino, Húmido, Velocípede, Bom tempo)  (Ferido grave)   \n",
       "9456   (Noite, com iluminação, Masculino, Húmido, Vel...  (Ferido grave)   \n",
       "26383  (Bom tempo, Velocípede, Em patamar, Curva, Noi...  (Ferido grave)   \n",
       "26628  (Velocípede, Em patamar, Curva, Noite, com ilu...  (Ferido grave)   \n",
       "26647  (Velocípede, Em patamar, Curva, Masculino, Noi...  (Ferido grave)   \n",
       "26974  (Bom tempo, Noite, sem iluminação, Recta, Moto...  (Ferido grave)   \n",
       "27134  (Noite, sem iluminação, Recta, Motociclo cilin...  (Ferido grave)   \n",
       "27168  (Noite, sem iluminação, Recta, Motociclo cilin...  (Ferido grave)   \n",
       "27315  (Bom tempo, Húmido, Velocípede, Em patamar, Re...  (Ferido grave)   \n",
       "27582  (Húmido, Velocípede, Em patamar, Recta, Noite,...  (Ferido grave)   \n",
       "27837  (Bom tempo, Húmido, Velocípede, Recta, Noite, ...  (Ferido grave)   \n",
       "28013  (Bom tempo, Húmido, Velocípede, Recta, Masculino)  (Ferido grave)   \n",
       "28192  (Húmido, Velocípede, Recta, Masculino, Noite, ...  (Ferido grave)   \n",
       "28369  (Bom tempo, Noite, sem iluminação, Motociclo c...  (Ferido grave)   \n",
       "28403  (Bom tempo, Noite, sem iluminação, Motociclo c...  (Ferido grave)   \n",
       "28491  (Noite, sem iluminação, Motociclo cilindrada <...  (Ferido grave)   \n",
       "28580  (Bom tempo, Húmido, Velocípede, Em patamar, No...  (Ferido grave)   \n",
       "28681  (Bom tempo, Húmido, Velocípede, Em patamar, Ma...  (Ferido grave)   \n",
       "28900  (Húmido, Velocípede, Em patamar, Masculino, No...  (Ferido grave)   \n",
       "28996  (Bom tempo, Húmido, Velocípede, Masculino, Noi...  (Ferido grave)   \n",
       "55879  (Bom tempo, Velocípede, Em patamar, Curva, Noi...  (Ferido grave)   \n",
       "55921  (Bom tempo, Velocípede, Em patamar, Curva, Mas...  (Ferido grave)   \n",
       "56235  (Velocípede, Em patamar, Curva, Masculino, Noi...  (Ferido grave)   \n",
       "56506  (Bom tempo, Noite, sem iluminação, Recta, Moto...  (Ferido grave)   \n",
       "56576  (Bom tempo, Noite, sem iluminação, Recta, Moto...  (Ferido grave)   \n",
       "56730  (Noite, sem iluminação, Recta, Motociclo cilin...  (Ferido grave)   \n",
       "56913  (Bom tempo, Húmido, Velocípede, Em patamar, Re...  (Ferido grave)   \n",
       "57101  (Bom tempo, Húmido, Velocípede, Em patamar, Re...  (Ferido grave)   \n",
       "57417  (Húmido, Velocípede, Em patamar, Recta, Mascul...  (Ferido grave)   \n",
       "57597  (Bom tempo, Húmido, Velocípede, Recta, Masculi...  (Ferido grave)   \n",
       "57888  (Bom tempo, Noite, sem iluminação, Motociclo c...  (Ferido grave)   \n",
       "57983  (Bom tempo, Húmido, Velocípede, Em patamar, Ma...  (Ferido grave)   \n",
       "80713  (Bom tempo, Velocípede, Em patamar, Curva, Mas...  (Ferido grave)   \n",
       "80988  (Bom tempo, Noite, sem iluminação, Recta, Moto...  (Ferido grave)   \n",
       "81180  (Bom tempo, Húmido, Velocípede, Em patamar, Re...  (Ferido grave)   \n",
       "\n",
       "       antecedent support  consequent support   support  confidence  \\\n",
       "1553             0.000207            0.006206  0.000207         1.0   \n",
       "1704             0.000207            0.006206  0.000207         1.0   \n",
       "1791             0.000207            0.006206  0.000207         1.0   \n",
       "7898             0.000207            0.006206  0.000207         1.0   \n",
       "8164             0.000207            0.006206  0.000207         1.0   \n",
       "8460             0.000207            0.006206  0.000207         1.0   \n",
       "8614             0.000207            0.006206  0.000207         1.0   \n",
       "8775             0.000207            0.006206  0.000207         1.0   \n",
       "8859             0.000207            0.006206  0.000207         1.0   \n",
       "8875             0.000207            0.006206  0.000207         1.0   \n",
       "8950             0.000207            0.006206  0.000207         1.0   \n",
       "9117             0.000207            0.006206  0.000207         1.0   \n",
       "9249             0.000207            0.006206  0.000207         1.0   \n",
       "9335             0.000207            0.006206  0.000207         1.0   \n",
       "9456             0.000207            0.006206  0.000207         1.0   \n",
       "26383            0.000207            0.006206  0.000207         1.0   \n",
       "26628            0.000207            0.006206  0.000207         1.0   \n",
       "26647            0.000207            0.006206  0.000207         1.0   \n",
       "26974            0.000207            0.006206  0.000207         1.0   \n",
       "27134            0.000207            0.006206  0.000207         1.0   \n",
       "27168            0.000207            0.006206  0.000207         1.0   \n",
       "27315            0.000207            0.006206  0.000207         1.0   \n",
       "27582            0.000207            0.006206  0.000207         1.0   \n",
       "27837            0.000207            0.006206  0.000207         1.0   \n",
       "28013            0.000207            0.006206  0.000207         1.0   \n",
       "28192            0.000207            0.006206  0.000207         1.0   \n",
       "28369            0.000207            0.006206  0.000207         1.0   \n",
       "28403            0.000207            0.006206  0.000207         1.0   \n",
       "28491            0.000207            0.006206  0.000207         1.0   \n",
       "28580            0.000207            0.006206  0.000207         1.0   \n",
       "28681            0.000207            0.006206  0.000207         1.0   \n",
       "28900            0.000207            0.006206  0.000207         1.0   \n",
       "28996            0.000207            0.006206  0.000207         1.0   \n",
       "55879            0.000207            0.006206  0.000207         1.0   \n",
       "55921            0.000207            0.006206  0.000207         1.0   \n",
       "56235            0.000207            0.006206  0.000207         1.0   \n",
       "56506            0.000207            0.006206  0.000207         1.0   \n",
       "56576            0.000207            0.006206  0.000207         1.0   \n",
       "56730            0.000207            0.006206  0.000207         1.0   \n",
       "56913            0.000207            0.006206  0.000207         1.0   \n",
       "57101            0.000207            0.006206  0.000207         1.0   \n",
       "57417            0.000207            0.006206  0.000207         1.0   \n",
       "57597            0.000207            0.006206  0.000207         1.0   \n",
       "57888            0.000207            0.006206  0.000207         1.0   \n",
       "57983            0.000207            0.006206  0.000207         1.0   \n",
       "80713            0.000207            0.006206  0.000207         1.0   \n",
       "80988            0.000207            0.006206  0.000207         1.0   \n",
       "81180            0.000207            0.006206  0.000207         1.0   \n",
       "\n",
       "             lift  leverage  conviction  \n",
       "1553   161.133333  0.000206         inf  \n",
       "1704   161.133333  0.000206         inf  \n",
       "1791   161.133333  0.000206         inf  \n",
       "7898   161.133333  0.000206         inf  \n",
       "8164   161.133333  0.000206         inf  \n",
       "8460   161.133333  0.000206         inf  \n",
       "8614   161.133333  0.000206         inf  \n",
       "8775   161.133333  0.000206         inf  \n",
       "8859   161.133333  0.000206         inf  \n",
       "8875   161.133333  0.000206         inf  \n",
       "8950   161.133333  0.000206         inf  \n",
       "9117   161.133333  0.000206         inf  \n",
       "9249   161.133333  0.000206         inf  \n",
       "9335   161.133333  0.000206         inf  \n",
       "9456   161.133333  0.000206         inf  \n",
       "26383  161.133333  0.000206         inf  \n",
       "26628  161.133333  0.000206         inf  \n",
       "26647  161.133333  0.000206         inf  \n",
       "26974  161.133333  0.000206         inf  \n",
       "27134  161.133333  0.000206         inf  \n",
       "27168  161.133333  0.000206         inf  \n",
       "27315  161.133333  0.000206         inf  \n",
       "27582  161.133333  0.000206         inf  \n",
       "27837  161.133333  0.000206         inf  \n",
       "28013  161.133333  0.000206         inf  \n",
       "28192  161.133333  0.000206         inf  \n",
       "28369  161.133333  0.000206         inf  \n",
       "28403  161.133333  0.000206         inf  \n",
       "28491  161.133333  0.000206         inf  \n",
       "28580  161.133333  0.000206         inf  \n",
       "28681  161.133333  0.000206         inf  \n",
       "28900  161.133333  0.000206         inf  \n",
       "28996  161.133333  0.000206         inf  \n",
       "55879  161.133333  0.000206         inf  \n",
       "55921  161.133333  0.000206         inf  \n",
       "56235  161.133333  0.000206         inf  \n",
       "56506  161.133333  0.000206         inf  \n",
       "56576  161.133333  0.000206         inf  \n",
       "56730  161.133333  0.000206         inf  \n",
       "56913  161.133333  0.000206         inf  \n",
       "57101  161.133333  0.000206         inf  \n",
       "57417  161.133333  0.000206         inf  \n",
       "57597  161.133333  0.000206         inf  \n",
       "57888  161.133333  0.000206         inf  \n",
       "57983  161.133333  0.000206         inf  \n",
       "80713  161.133333  0.000206         inf  \n",
       "80988  161.133333  0.000206         inf  \n",
       "81180  161.133333  0.000206         inf  "
      ]
     },
     "execution_count": 61,
     "metadata": {},
     "output_type": "execute_result"
    }
   ],
   "source": [
    "results[results['consequents'] == {'Ferido grave'}]"
   ]
  },
  {
   "cell_type": "code",
   "execution_count": 60,
   "metadata": {},
   "outputs": [
    {
     "data": {
      "text/html": [
       "<div>\n",
       "<style scoped>\n",
       "    .dataframe tbody tr th:only-of-type {\n",
       "        vertical-align: middle;\n",
       "    }\n",
       "\n",
       "    .dataframe tbody tr th {\n",
       "        vertical-align: top;\n",
       "    }\n",
       "\n",
       "    .dataframe thead th {\n",
       "        text-align: right;\n",
       "    }\n",
       "</style>\n",
       "<table border=\"1\" class=\"dataframe\">\n",
       "  <thead>\n",
       "    <tr style=\"text-align: right;\">\n",
       "      <th></th>\n",
       "      <th>Ferido grave</th>\n",
       "      <th>Ferido leve</th>\n",
       "      <th>Ileso</th>\n",
       "      <th>Morto</th>\n",
       "      <th>Curva</th>\n",
       "      <th>Recta</th>\n",
       "      <th>Com inclinação</th>\n",
       "      <th>Em Lomba</th>\n",
       "      <th>Em patamar</th>\n",
       "      <th>Bom tempo</th>\n",
       "      <th>...</th>\n",
       "      <th>Automóvel ligeiro</th>\n",
       "      <th>Automóvel pesado</th>\n",
       "      <th>Ciclomotor</th>\n",
       "      <th>Motociclo cilindrada &lt;= 125cc</th>\n",
       "      <th>Motociclo cilindrada &gt; 125cc</th>\n",
       "      <th>Triciclo</th>\n",
       "      <th>Velocípede</th>\n",
       "      <th>Veículo sobre carris</th>\n",
       "      <th>Feminino</th>\n",
       "      <th>Masculino</th>\n",
       "    </tr>\n",
       "    <tr>\n",
       "      <th>IdAcidente</th>\n",
       "      <th></th>\n",
       "      <th></th>\n",
       "      <th></th>\n",
       "      <th></th>\n",
       "      <th></th>\n",
       "      <th></th>\n",
       "      <th></th>\n",
       "      <th></th>\n",
       "      <th></th>\n",
       "      <th></th>\n",
       "      <th></th>\n",
       "      <th></th>\n",
       "      <th></th>\n",
       "      <th></th>\n",
       "      <th></th>\n",
       "      <th></th>\n",
       "      <th></th>\n",
       "      <th></th>\n",
       "      <th></th>\n",
       "      <th></th>\n",
       "      <th></th>\n",
       "    </tr>\n",
       "  </thead>\n",
       "  <tbody>\n",
       "    <tr>\n",
       "      <th>20191648491</th>\n",
       "      <td>0</td>\n",
       "      <td>0</td>\n",
       "      <td>1</td>\n",
       "      <td>0</td>\n",
       "      <td>0</td>\n",
       "      <td>1</td>\n",
       "      <td>0</td>\n",
       "      <td>0</td>\n",
       "      <td>1</td>\n",
       "      <td>0</td>\n",
       "      <td>...</td>\n",
       "      <td>1</td>\n",
       "      <td>0</td>\n",
       "      <td>0</td>\n",
       "      <td>0</td>\n",
       "      <td>0</td>\n",
       "      <td>0</td>\n",
       "      <td>0</td>\n",
       "      <td>0</td>\n",
       "      <td>0</td>\n",
       "      <td>1</td>\n",
       "    </tr>\n",
       "    <tr>\n",
       "      <th>20191648498</th>\n",
       "      <td>0</td>\n",
       "      <td>1</td>\n",
       "      <td>0</td>\n",
       "      <td>0</td>\n",
       "      <td>0</td>\n",
       "      <td>1</td>\n",
       "      <td>0</td>\n",
       "      <td>0</td>\n",
       "      <td>1</td>\n",
       "      <td>1</td>\n",
       "      <td>...</td>\n",
       "      <td>0</td>\n",
       "      <td>0</td>\n",
       "      <td>0</td>\n",
       "      <td>1</td>\n",
       "      <td>0</td>\n",
       "      <td>0</td>\n",
       "      <td>0</td>\n",
       "      <td>0</td>\n",
       "      <td>0</td>\n",
       "      <td>1</td>\n",
       "    </tr>\n",
       "    <tr>\n",
       "      <th>20191648520</th>\n",
       "      <td>0</td>\n",
       "      <td>0</td>\n",
       "      <td>1</td>\n",
       "      <td>0</td>\n",
       "      <td>0</td>\n",
       "      <td>1</td>\n",
       "      <td>1</td>\n",
       "      <td>0</td>\n",
       "      <td>0</td>\n",
       "      <td>1</td>\n",
       "      <td>...</td>\n",
       "      <td>1</td>\n",
       "      <td>0</td>\n",
       "      <td>0</td>\n",
       "      <td>0</td>\n",
       "      <td>0</td>\n",
       "      <td>0</td>\n",
       "      <td>0</td>\n",
       "      <td>0</td>\n",
       "      <td>0</td>\n",
       "      <td>1</td>\n",
       "    </tr>\n",
       "    <tr>\n",
       "      <th>20191648520</th>\n",
       "      <td>0</td>\n",
       "      <td>1</td>\n",
       "      <td>0</td>\n",
       "      <td>0</td>\n",
       "      <td>0</td>\n",
       "      <td>1</td>\n",
       "      <td>1</td>\n",
       "      <td>0</td>\n",
       "      <td>0</td>\n",
       "      <td>1</td>\n",
       "      <td>...</td>\n",
       "      <td>0</td>\n",
       "      <td>0</td>\n",
       "      <td>0</td>\n",
       "      <td>0</td>\n",
       "      <td>0</td>\n",
       "      <td>0</td>\n",
       "      <td>1</td>\n",
       "      <td>0</td>\n",
       "      <td>0</td>\n",
       "      <td>1</td>\n",
       "    </tr>\n",
       "    <tr>\n",
       "      <th>20191649633</th>\n",
       "      <td>0</td>\n",
       "      <td>0</td>\n",
       "      <td>1</td>\n",
       "      <td>0</td>\n",
       "      <td>0</td>\n",
       "      <td>1</td>\n",
       "      <td>0</td>\n",
       "      <td>0</td>\n",
       "      <td>1</td>\n",
       "      <td>1</td>\n",
       "      <td>...</td>\n",
       "      <td>1</td>\n",
       "      <td>0</td>\n",
       "      <td>0</td>\n",
       "      <td>0</td>\n",
       "      <td>0</td>\n",
       "      <td>0</td>\n",
       "      <td>0</td>\n",
       "      <td>0</td>\n",
       "      <td>0</td>\n",
       "      <td>1</td>\n",
       "    </tr>\n",
       "    <tr>\n",
       "      <th>...</th>\n",
       "      <td>...</td>\n",
       "      <td>...</td>\n",
       "      <td>...</td>\n",
       "      <td>...</td>\n",
       "      <td>...</td>\n",
       "      <td>...</td>\n",
       "      <td>...</td>\n",
       "      <td>...</td>\n",
       "      <td>...</td>\n",
       "      <td>...</td>\n",
       "      <td>...</td>\n",
       "      <td>...</td>\n",
       "      <td>...</td>\n",
       "      <td>...</td>\n",
       "      <td>...</td>\n",
       "      <td>...</td>\n",
       "      <td>...</td>\n",
       "      <td>...</td>\n",
       "      <td>...</td>\n",
       "      <td>...</td>\n",
       "      <td>...</td>\n",
       "    </tr>\n",
       "    <tr>\n",
       "      <th>20201831029</th>\n",
       "      <td>0</td>\n",
       "      <td>0</td>\n",
       "      <td>1</td>\n",
       "      <td>0</td>\n",
       "      <td>0</td>\n",
       "      <td>1</td>\n",
       "      <td>0</td>\n",
       "      <td>0</td>\n",
       "      <td>1</td>\n",
       "      <td>0</td>\n",
       "      <td>...</td>\n",
       "      <td>0</td>\n",
       "      <td>1</td>\n",
       "      <td>0</td>\n",
       "      <td>0</td>\n",
       "      <td>0</td>\n",
       "      <td>0</td>\n",
       "      <td>0</td>\n",
       "      <td>0</td>\n",
       "      <td>0</td>\n",
       "      <td>1</td>\n",
       "    </tr>\n",
       "    <tr>\n",
       "      <th>20201831029</th>\n",
       "      <td>0</td>\n",
       "      <td>1</td>\n",
       "      <td>0</td>\n",
       "      <td>0</td>\n",
       "      <td>0</td>\n",
       "      <td>1</td>\n",
       "      <td>0</td>\n",
       "      <td>0</td>\n",
       "      <td>1</td>\n",
       "      <td>0</td>\n",
       "      <td>...</td>\n",
       "      <td>1</td>\n",
       "      <td>0</td>\n",
       "      <td>0</td>\n",
       "      <td>0</td>\n",
       "      <td>0</td>\n",
       "      <td>0</td>\n",
       "      <td>0</td>\n",
       "      <td>0</td>\n",
       "      <td>0</td>\n",
       "      <td>1</td>\n",
       "    </tr>\n",
       "    <tr>\n",
       "      <th>20201838659</th>\n",
       "      <td>0</td>\n",
       "      <td>0</td>\n",
       "      <td>1</td>\n",
       "      <td>0</td>\n",
       "      <td>1</td>\n",
       "      <td>0</td>\n",
       "      <td>1</td>\n",
       "      <td>0</td>\n",
       "      <td>0</td>\n",
       "      <td>1</td>\n",
       "      <td>...</td>\n",
       "      <td>1</td>\n",
       "      <td>0</td>\n",
       "      <td>0</td>\n",
       "      <td>0</td>\n",
       "      <td>0</td>\n",
       "      <td>0</td>\n",
       "      <td>0</td>\n",
       "      <td>0</td>\n",
       "      <td>0</td>\n",
       "      <td>1</td>\n",
       "    </tr>\n",
       "    <tr>\n",
       "      <th>20201866679</th>\n",
       "      <td>0</td>\n",
       "      <td>1</td>\n",
       "      <td>0</td>\n",
       "      <td>0</td>\n",
       "      <td>0</td>\n",
       "      <td>1</td>\n",
       "      <td>0</td>\n",
       "      <td>0</td>\n",
       "      <td>1</td>\n",
       "      <td>1</td>\n",
       "      <td>...</td>\n",
       "      <td>0</td>\n",
       "      <td>0</td>\n",
       "      <td>0</td>\n",
       "      <td>1</td>\n",
       "      <td>0</td>\n",
       "      <td>0</td>\n",
       "      <td>0</td>\n",
       "      <td>0</td>\n",
       "      <td>0</td>\n",
       "      <td>1</td>\n",
       "    </tr>\n",
       "    <tr>\n",
       "      <th>20201866679</th>\n",
       "      <td>0</td>\n",
       "      <td>0</td>\n",
       "      <td>1</td>\n",
       "      <td>0</td>\n",
       "      <td>0</td>\n",
       "      <td>1</td>\n",
       "      <td>0</td>\n",
       "      <td>0</td>\n",
       "      <td>1</td>\n",
       "      <td>1</td>\n",
       "      <td>...</td>\n",
       "      <td>1</td>\n",
       "      <td>0</td>\n",
       "      <td>0</td>\n",
       "      <td>0</td>\n",
       "      <td>0</td>\n",
       "      <td>0</td>\n",
       "      <td>0</td>\n",
       "      <td>0</td>\n",
       "      <td>0</td>\n",
       "      <td>1</td>\n",
       "    </tr>\n",
       "  </tbody>\n",
       "</table>\n",
       "<p>4834 rows × 33 columns</p>\n",
       "</div>"
      ],
      "text/plain": [
       "             Ferido grave  Ferido leve  Ileso  Morto  Curva  Recta  \\\n",
       "IdAcidente                                                           \n",
       "20191648491             0            0      1      0      0      1   \n",
       "20191648498             0            1      0      0      0      1   \n",
       "20191648520             0            0      1      0      0      1   \n",
       "20191648520             0            1      0      0      0      1   \n",
       "20191649633             0            0      1      0      0      1   \n",
       "...                   ...          ...    ...    ...    ...    ...   \n",
       "20201831029             0            0      1      0      0      1   \n",
       "20201831029             0            1      0      0      0      1   \n",
       "20201838659             0            0      1      0      1      0   \n",
       "20201866679             0            1      0      0      0      1   \n",
       "20201866679             0            0      1      0      0      1   \n",
       "\n",
       "             Com inclinação  Em Lomba  Em patamar  Bom tempo  ...  \\\n",
       "IdAcidente                                                    ...   \n",
       "20191648491               0         0           1          0  ...   \n",
       "20191648498               0         0           1          1  ...   \n",
       "20191648520               1         0           0          1  ...   \n",
       "20191648520               1         0           0          1  ...   \n",
       "20191649633               0         0           1          1  ...   \n",
       "...                     ...       ...         ...        ...  ...   \n",
       "20201831029               0         0           1          0  ...   \n",
       "20201831029               0         0           1          0  ...   \n",
       "20201838659               1         0           0          1  ...   \n",
       "20201866679               0         0           1          1  ...   \n",
       "20201866679               0         0           1          1  ...   \n",
       "\n",
       "             Automóvel ligeiro  Automóvel pesado  Ciclomotor  \\\n",
       "IdAcidente                                                     \n",
       "20191648491                  1                 0           0   \n",
       "20191648498                  0                 0           0   \n",
       "20191648520                  1                 0           0   \n",
       "20191648520                  0                 0           0   \n",
       "20191649633                  1                 0           0   \n",
       "...                        ...               ...         ...   \n",
       "20201831029                  0                 1           0   \n",
       "20201831029                  1                 0           0   \n",
       "20201838659                  1                 0           0   \n",
       "20201866679                  0                 0           0   \n",
       "20201866679                  1                 0           0   \n",
       "\n",
       "             Motociclo cilindrada <= 125cc  Motociclo cilindrada > 125cc  \\\n",
       "IdAcidente                                                                 \n",
       "20191648491                              0                             0   \n",
       "20191648498                              1                             0   \n",
       "20191648520                              0                             0   \n",
       "20191648520                              0                             0   \n",
       "20191649633                              0                             0   \n",
       "...                                    ...                           ...   \n",
       "20201831029                              0                             0   \n",
       "20201831029                              0                             0   \n",
       "20201838659                              0                             0   \n",
       "20201866679                              1                             0   \n",
       "20201866679                              0                             0   \n",
       "\n",
       "             Triciclo  Velocípede  Veículo sobre carris  Feminino  Masculino  \n",
       "IdAcidente                                                                    \n",
       "20191648491         0           0                     0         0          1  \n",
       "20191648498         0           0                     0         0          1  \n",
       "20191648520         0           0                     0         0          1  \n",
       "20191648520         0           1                     0         0          1  \n",
       "20191649633         0           0                     0         0          1  \n",
       "...               ...         ...                   ...       ...        ...  \n",
       "20201831029         0           0                     0         0          1  \n",
       "20201831029         0           0                     0         0          1  \n",
       "20201838659         0           0                     0         0          1  \n",
       "20201866679         0           0                     0         0          1  \n",
       "20201866679         0           0                     0         0          1  \n",
       "\n",
       "[4834 rows x 33 columns]"
      ]
     },
     "execution_count": 60,
     "metadata": {},
     "output_type": "execute_result"
    }
   ],
   "source": [
    "model_data_v2"
   ]
  },
  {
   "cell_type": "code",
   "execution_count": null,
   "metadata": {},
   "outputs": [],
   "source": []
  },
  {
   "cell_type": "code",
   "execution_count": 75,
   "metadata": {},
   "outputs": [
    {
     "data": {
      "text/html": [
       "<div>\n",
       "<style scoped>\n",
       "    .dataframe tbody tr th:only-of-type {\n",
       "        vertical-align: middle;\n",
       "    }\n",
       "\n",
       "    .dataframe tbody tr th {\n",
       "        vertical-align: top;\n",
       "    }\n",
       "\n",
       "    .dataframe thead th {\n",
       "        text-align: right;\n",
       "    }\n",
       "</style>\n",
       "<table border=\"1\" class=\"dataframe\">\n",
       "  <thead>\n",
       "    <tr style=\"text-align: right;\">\n",
       "      <th></th>\n",
       "      <th>Lesões a 30 dias</th>\n",
       "      <th>Idade</th>\n",
       "      <th>Curva</th>\n",
       "      <th>Recta</th>\n",
       "      <th>Com inclinação</th>\n",
       "      <th>Em Lomba</th>\n",
       "      <th>Em patamar</th>\n",
       "      <th>Bom tempo</th>\n",
       "      <th>Chuva</th>\n",
       "      <th>Aurora ou crepúsculo</th>\n",
       "      <th>...</th>\n",
       "      <th>Veículo sobre carris</th>\n",
       "      <th>Feminino</th>\n",
       "      <th>Masculino</th>\n",
       "      <th>C/ capacete/ cinto segurança</th>\n",
       "      <th>C/ sistema retenção de crianças</th>\n",
       "      <th>Capacete</th>\n",
       "      <th>Cinto de segurança</th>\n",
       "      <th>Isento</th>\n",
       "      <th>S/ uso capacete/cinto segurança</th>\n",
       "      <th>Sem uso de cinto/capacete</th>\n",
       "    </tr>\n",
       "  </thead>\n",
       "  <tbody>\n",
       "    <tr>\n",
       "      <th>0</th>\n",
       "      <td>Ferido grave</td>\n",
       "      <td>0.832305</td>\n",
       "      <td>1.297307</td>\n",
       "      <td>0.958360</td>\n",
       "      <td>1.080162</td>\n",
       "      <td>0.000000</td>\n",
       "      <td>0.975298</td>\n",
       "      <td>1.081089</td>\n",
       "      <td>0.565462</td>\n",
       "      <td>1.640484</td>\n",
       "      <td>...</td>\n",
       "      <td>0.000000</td>\n",
       "      <td>0.463026</td>\n",
       "      <td>1.279914</td>\n",
       "      <td>1.127967</td>\n",
       "      <td>0.000000</td>\n",
       "      <td>3.219756</td>\n",
       "      <td>0.330394</td>\n",
       "      <td>1.809004</td>\n",
       "      <td>0.000000</td>\n",
       "      <td>2.114938</td>\n",
       "    </tr>\n",
       "    <tr>\n",
       "      <th>1</th>\n",
       "      <td>Ferido leve</td>\n",
       "      <td>0.918963</td>\n",
       "      <td>1.127238</td>\n",
       "      <td>0.977689</td>\n",
       "      <td>0.996090</td>\n",
       "      <td>0.989521</td>\n",
       "      <td>0.999971</td>\n",
       "      <td>0.982720</td>\n",
       "      <td>1.096838</td>\n",
       "      <td>1.023383</td>\n",
       "      <td>...</td>\n",
       "      <td>1.236901</td>\n",
       "      <td>1.196919</td>\n",
       "      <td>0.972542</td>\n",
       "      <td>2.086240</td>\n",
       "      <td>2.102732</td>\n",
       "      <td>1.928158</td>\n",
       "      <td>0.549319</td>\n",
       "      <td>0.938956</td>\n",
       "      <td>2.102732</td>\n",
       "      <td>1.082288</td>\n",
       "    </tr>\n",
       "    <tr>\n",
       "      <th>2</th>\n",
       "      <td>Ileso</td>\n",
       "      <td>1.076728</td>\n",
       "      <td>0.879071</td>\n",
       "      <td>1.021064</td>\n",
       "      <td>1.002516</td>\n",
       "      <td>1.023068</td>\n",
       "      <td>1.000359</td>\n",
       "      <td>1.014791</td>\n",
       "      <td>0.916843</td>\n",
       "      <td>0.969904</td>\n",
       "      <td>...</td>\n",
       "      <td>0.795719</td>\n",
       "      <td>0.826242</td>\n",
       "      <td>1.021474</td>\n",
       "      <td>0.000000</td>\n",
       "      <td>0.000000</td>\n",
       "      <td>0.117173</td>\n",
       "      <td>1.423184</td>\n",
       "      <td>1.045231</td>\n",
       "      <td>0.000000</td>\n",
       "      <td>0.909393</td>\n",
       "    </tr>\n",
       "  </tbody>\n",
       "</table>\n",
       "<p>3 rows × 38 columns</p>\n",
       "</div>"
      ],
      "text/plain": [
       "  Lesões a 30 dias     Idade     Curva     Recta  Com inclinação  Em Lomba  \\\n",
       "0     Ferido grave  0.832305  1.297307  0.958360        1.080162  0.000000   \n",
       "1      Ferido leve  0.918963  1.127238  0.977689        0.996090  0.989521   \n",
       "2            Ileso  1.076728  0.879071  1.021064        1.002516  1.023068   \n",
       "\n",
       "   Em patamar  Bom tempo     Chuva  Aurora ou crepúsculo  ...  \\\n",
       "0    0.975298   1.081089  0.565462              1.640484  ...   \n",
       "1    0.999971   0.982720  1.096838              1.023383  ...   \n",
       "2    1.000359   1.014791  0.916843              0.969904  ...   \n",
       "\n",
       "   Veículo sobre carris  Feminino  Masculino  C/ capacete/ cinto segurança  \\\n",
       "0              0.000000  0.463026   1.279914                      1.127967   \n",
       "1              1.236901  1.196919   0.972542                      2.086240   \n",
       "2              0.795719  0.826242   1.021474                      0.000000   \n",
       "\n",
       "   C/ sistema retenção de crianças  Capacete  Cinto de segurança    Isento  \\\n",
       "0                         0.000000  3.219756            0.330394  1.809004   \n",
       "1                         2.102732  1.928158            0.549319  0.938956   \n",
       "2                         0.000000  0.117173            1.423184  1.045231   \n",
       "\n",
       "   S/ uso capacete/cinto segurança  Sem uso de cinto/capacete  \n",
       "0                         0.000000                   2.114938  \n",
       "1                         2.102732                   1.082288  \n",
       "2                         0.000000                   0.909393  \n",
       "\n",
       "[3 rows x 38 columns]"
      ]
     },
     "execution_count": 75,
     "metadata": {},
     "output_type": "execute_result"
    }
   ],
   "source": [
    "data"
   ]
  },
  {
   "cell_type": "code",
   "execution_count": null,
   "metadata": {},
   "outputs": [],
   "source": []
  },
  {
   "cell_type": "code",
   "execution_count": 48,
   "metadata": {},
   "outputs": [],
   "source": [
    "colision = model_data.loc[model_data['Tipo Natureza'] == 'Colisão'].drop(columns = ['Tipo Natureza'])"
   ]
  },
  {
   "cell_type": "code",
   "execution_count": null,
   "metadata": {},
   "outputs": [],
   "source": []
  },
  {
   "cell_type": "code",
   "execution_count": 48,
   "metadata": {},
   "outputs": [],
   "source": [
    "data = model_data.groupby('Lesões a 30 dias').mean().div(model_data.mean()).reset_index()"
   ]
  },
  {
   "cell_type": "code",
   "execution_count": 49,
   "metadata": {},
   "outputs": [],
   "source": [
    "data_v2 = data.melt('Lesões a 30 dias')"
   ]
  },
  {
   "cell_type": "code",
   "execution_count": 85,
   "metadata": {},
   "outputs": [
    {
     "data": {
      "text/html": [
       "<div>\n",
       "<style scoped>\n",
       "    .dataframe tbody tr th:only-of-type {\n",
       "        vertical-align: middle;\n",
       "    }\n",
       "\n",
       "    .dataframe tbody tr th {\n",
       "        vertical-align: top;\n",
       "    }\n",
       "\n",
       "    .dataframe thead th {\n",
       "        text-align: right;\n",
       "    }\n",
       "</style>\n",
       "<table border=\"1\" class=\"dataframe\">\n",
       "  <thead>\n",
       "    <tr style=\"text-align: right;\">\n",
       "      <th></th>\n",
       "      <th>Lesões a 30 dias</th>\n",
       "      <th>variable</th>\n",
       "      <th>value</th>\n",
       "    </tr>\n",
       "  </thead>\n",
       "  <tbody>\n",
       "    <tr>\n",
       "      <th>22</th>\n",
       "      <td>Ferido leve</td>\n",
       "      <td>Chuva</td>\n",
       "      <td>1.096838</td>\n",
       "    </tr>\n",
       "    <tr>\n",
       "      <th>23</th>\n",
       "      <td>Ileso</td>\n",
       "      <td>Chuva</td>\n",
       "      <td>0.916843</td>\n",
       "    </tr>\n",
       "    <tr>\n",
       "      <th>21</th>\n",
       "      <td>Ferido grave</td>\n",
       "      <td>Chuva</td>\n",
       "      <td>0.565462</td>\n",
       "    </tr>\n",
       "  </tbody>\n",
       "</table>\n",
       "</div>"
      ],
      "text/plain": [
       "   Lesões a 30 dias variable     value\n",
       "22      Ferido leve    Chuva  1.096838\n",
       "23            Ileso    Chuva  0.916843\n",
       "21     Ferido grave    Chuva  0.565462"
      ]
     },
     "execution_count": 85,
     "metadata": {},
     "output_type": "execute_result"
    }
   ],
   "source": [
    "data_v2.sort_values(by='value', ascending=False).query('variable == \"Chuva\"')\n",
    "# .query('`Lesões a 30 dias` == \"Ileso\"')"
   ]
  },
  {
   "cell_type": "code",
   "execution_count": 96,
   "metadata": {},
   "outputs": [
    {
     "data": {
      "text/plain": [
       "Ileso           2377\n",
       "Ferido leve     2094\n",
       "Ferido grave      28\n",
       "Morto              7\n",
       "Name: Lesões a 30 dias, dtype: int64"
      ]
     },
     "execution_count": 96,
     "metadata": {},
     "output_type": "execute_result"
    }
   ],
   "source": [
    "model_data.query('`Cond Aderência` == \"Seco e limpo\"')['Lesões a 30 dias'].value_counts()"
   ]
  },
  {
   "cell_type": "code",
   "execution_count": 89,
   "metadata": {},
   "outputs": [
    {
     "data": {
      "text/html": [
       "<div>\n",
       "<style scoped>\n",
       "    .dataframe tbody tr th:only-of-type {\n",
       "        vertical-align: middle;\n",
       "    }\n",
       "\n",
       "    .dataframe tbody tr th {\n",
       "        vertical-align: top;\n",
       "    }\n",
       "\n",
       "    .dataframe thead th {\n",
       "        text-align: right;\n",
       "    }\n",
       "</style>\n",
       "<table border=\"1\" class=\"dataframe\">\n",
       "  <thead>\n",
       "    <tr style=\"text-align: right;\">\n",
       "      <th></th>\n",
       "      <th>Lesões a 30 dias</th>\n",
       "      <th>Traçado 1</th>\n",
       "      <th>Traçado 2</th>\n",
       "      <th>Factores Atmosféricos</th>\n",
       "      <th>Luminosidade</th>\n",
       "      <th>Cond Aderência</th>\n",
       "      <th>Categoria Veículos</th>\n",
       "      <th>Idade</th>\n",
       "      <th>Sexo</th>\n",
       "      <th>Acessórios</th>\n",
       "      <th>Tipo Natureza</th>\n",
       "    </tr>\n",
       "  </thead>\n",
       "  <tbody>\n",
       "    <tr>\n",
       "      <th>20191648491</th>\n",
       "      <td>Ileso</td>\n",
       "      <td>Recta</td>\n",
       "      <td>Em patamar</td>\n",
       "      <td>NÃO DEFINIDO</td>\n",
       "      <td>Em pleno dia</td>\n",
       "      <td>Seco e limpo</td>\n",
       "      <td>Automóvel ligeiro</td>\n",
       "      <td>58.0</td>\n",
       "      <td>Masculino</td>\n",
       "      <td>Cinto de segurança</td>\n",
       "      <td>Atropelamento</td>\n",
       "    </tr>\n",
       "    <tr>\n",
       "      <th>20191648498</th>\n",
       "      <td>Ferido leve</td>\n",
       "      <td>Recta</td>\n",
       "      <td>Em patamar</td>\n",
       "      <td>Bom tempo</td>\n",
       "      <td>Em pleno dia</td>\n",
       "      <td>Seco e limpo</td>\n",
       "      <td>Motociclo cilindrada &lt;= 125cc</td>\n",
       "      <td>25.0</td>\n",
       "      <td>Masculino</td>\n",
       "      <td>Capacete</td>\n",
       "      <td>Atropelamento</td>\n",
       "    </tr>\n",
       "    <tr>\n",
       "      <th>20191648520</th>\n",
       "      <td>Ileso</td>\n",
       "      <td>Recta</td>\n",
       "      <td>Com inclinação</td>\n",
       "      <td>Bom tempo</td>\n",
       "      <td>Em pleno dia</td>\n",
       "      <td>Seco e limpo</td>\n",
       "      <td>Automóvel ligeiro</td>\n",
       "      <td>36.0</td>\n",
       "      <td>Masculino</td>\n",
       "      <td>Cinto de segurança</td>\n",
       "      <td>Colisão</td>\n",
       "    </tr>\n",
       "    <tr>\n",
       "      <th>20191648520</th>\n",
       "      <td>Ferido leve</td>\n",
       "      <td>Recta</td>\n",
       "      <td>Com inclinação</td>\n",
       "      <td>Bom tempo</td>\n",
       "      <td>Em pleno dia</td>\n",
       "      <td>Seco e limpo</td>\n",
       "      <td>Velocípede com motor</td>\n",
       "      <td>37.0</td>\n",
       "      <td>Masculino</td>\n",
       "      <td>Isento</td>\n",
       "      <td>Colisão</td>\n",
       "    </tr>\n",
       "    <tr>\n",
       "      <th>20191649633</th>\n",
       "      <td>Ileso</td>\n",
       "      <td>Recta</td>\n",
       "      <td>Em patamar</td>\n",
       "      <td>Bom tempo</td>\n",
       "      <td>Em pleno dia</td>\n",
       "      <td>Seco e limpo</td>\n",
       "      <td>Automóvel ligeiro</td>\n",
       "      <td>53.0</td>\n",
       "      <td>Masculino</td>\n",
       "      <td>Cinto de segurança</td>\n",
       "      <td>Atropelamento</td>\n",
       "    </tr>\n",
       "    <tr>\n",
       "      <th>...</th>\n",
       "      <td>...</td>\n",
       "      <td>...</td>\n",
       "      <td>...</td>\n",
       "      <td>...</td>\n",
       "      <td>...</td>\n",
       "      <td>...</td>\n",
       "      <td>...</td>\n",
       "      <td>...</td>\n",
       "      <td>...</td>\n",
       "      <td>...</td>\n",
       "      <td>...</td>\n",
       "    </tr>\n",
       "    <tr>\n",
       "      <th>626</th>\n",
       "      <td>Ferido leve</td>\n",
       "      <td>Recta</td>\n",
       "      <td>Em patamar</td>\n",
       "      <td>Chuva</td>\n",
       "      <td>Em pleno dia</td>\n",
       "      <td>Molhado</td>\n",
       "      <td>Automóvel ligeiro</td>\n",
       "      <td>51.0</td>\n",
       "      <td>Feminino</td>\n",
       "      <td>C/ capacete/ cinto segurança</td>\n",
       "      <td>Colisão</td>\n",
       "    </tr>\n",
       "    <tr>\n",
       "      <th>627</th>\n",
       "      <td>Ferido leve</td>\n",
       "      <td>Recta</td>\n",
       "      <td>Em patamar</td>\n",
       "      <td>Bom tempo</td>\n",
       "      <td>Em pleno dia</td>\n",
       "      <td>Húmido</td>\n",
       "      <td>Automóvel ligeiro</td>\n",
       "      <td>22.0</td>\n",
       "      <td>Feminino</td>\n",
       "      <td>C/ capacete/ cinto segurança</td>\n",
       "      <td>Colisão</td>\n",
       "    </tr>\n",
       "    <tr>\n",
       "      <th>628</th>\n",
       "      <td>Ferido leve</td>\n",
       "      <td>Recta</td>\n",
       "      <td>Em patamar</td>\n",
       "      <td>Chuva</td>\n",
       "      <td>Noite, com iluminação</td>\n",
       "      <td>Com água acumulada na faixa de rodagem</td>\n",
       "      <td>Automóvel ligeiro</td>\n",
       "      <td>26.0</td>\n",
       "      <td>Feminino</td>\n",
       "      <td>C/ capacete/ cinto segurança</td>\n",
       "      <td>Colisão</td>\n",
       "    </tr>\n",
       "    <tr>\n",
       "      <th>629</th>\n",
       "      <td>Ferido leve</td>\n",
       "      <td>Recta</td>\n",
       "      <td>Em patamar</td>\n",
       "      <td>Bom tempo</td>\n",
       "      <td>Em pleno dia</td>\n",
       "      <td>Seco e limpo</td>\n",
       "      <td>Automóvel ligeiro</td>\n",
       "      <td>73.0</td>\n",
       "      <td>Feminino</td>\n",
       "      <td>C/ capacete/ cinto segurança</td>\n",
       "      <td>Colisão</td>\n",
       "    </tr>\n",
       "    <tr>\n",
       "      <th>630</th>\n",
       "      <td>Ferido leve</td>\n",
       "      <td>Recta</td>\n",
       "      <td>Com inclinação</td>\n",
       "      <td>Bom tempo</td>\n",
       "      <td>Noite, com iluminação</td>\n",
       "      <td>Seco e limpo</td>\n",
       "      <td>Automóvel ligeiro</td>\n",
       "      <td>3.0</td>\n",
       "      <td>Masculino</td>\n",
       "      <td>C/ sistema retenção de crianças</td>\n",
       "      <td>Colisão</td>\n",
       "    </tr>\n",
       "  </tbody>\n",
       "</table>\n",
       "<p>5465 rows × 11 columns</p>\n",
       "</div>"
      ],
      "text/plain": [
       "            Lesões a 30 dias Traçado 1       Traçado 2 Factores Atmosféricos  \\\n",
       "20191648491            Ileso     Recta      Em patamar          NÃO DEFINIDO   \n",
       "20191648498      Ferido leve     Recta      Em patamar             Bom tempo   \n",
       "20191648520            Ileso     Recta  Com inclinação             Bom tempo   \n",
       "20191648520      Ferido leve     Recta  Com inclinação             Bom tempo   \n",
       "20191649633            Ileso     Recta      Em patamar             Bom tempo   \n",
       "...                      ...       ...             ...                   ...   \n",
       "626              Ferido leve     Recta      Em patamar                 Chuva   \n",
       "627              Ferido leve     Recta      Em patamar             Bom tempo   \n",
       "628              Ferido leve     Recta      Em patamar                 Chuva   \n",
       "629              Ferido leve     Recta      Em patamar             Bom tempo   \n",
       "630              Ferido leve     Recta  Com inclinação             Bom tempo   \n",
       "\n",
       "                      Luminosidade                          Cond Aderência  \\\n",
       "20191648491           Em pleno dia                            Seco e limpo   \n",
       "20191648498           Em pleno dia                            Seco e limpo   \n",
       "20191648520           Em pleno dia                            Seco e limpo   \n",
       "20191648520           Em pleno dia                            Seco e limpo   \n",
       "20191649633           Em pleno dia                            Seco e limpo   \n",
       "...                            ...                                     ...   \n",
       "626                   Em pleno dia                                 Molhado   \n",
       "627                   Em pleno dia                                  Húmido   \n",
       "628          Noite, com iluminação  Com água acumulada na faixa de rodagem   \n",
       "629                   Em pleno dia                            Seco e limpo   \n",
       "630          Noite, com iluminação                            Seco e limpo   \n",
       "\n",
       "                        Categoria Veículos  Idade       Sexo  \\\n",
       "20191648491              Automóvel ligeiro   58.0  Masculino   \n",
       "20191648498  Motociclo cilindrada <= 125cc   25.0  Masculino   \n",
       "20191648520              Automóvel ligeiro   36.0  Masculino   \n",
       "20191648520           Velocípede com motor   37.0  Masculino   \n",
       "20191649633              Automóvel ligeiro   53.0  Masculino   \n",
       "...                                    ...    ...        ...   \n",
       "626                      Automóvel ligeiro   51.0   Feminino   \n",
       "627                      Automóvel ligeiro   22.0   Feminino   \n",
       "628                      Automóvel ligeiro   26.0   Feminino   \n",
       "629                      Automóvel ligeiro   73.0   Feminino   \n",
       "630                      Automóvel ligeiro    3.0  Masculino   \n",
       "\n",
       "                                  Acessórios  Tipo Natureza  \n",
       "20191648491               Cinto de segurança  Atropelamento  \n",
       "20191648498                         Capacete  Atropelamento  \n",
       "20191648520               Cinto de segurança        Colisão  \n",
       "20191648520                           Isento        Colisão  \n",
       "20191649633               Cinto de segurança  Atropelamento  \n",
       "...                                      ...            ...  \n",
       "626             C/ capacete/ cinto segurança        Colisão  \n",
       "627             C/ capacete/ cinto segurança        Colisão  \n",
       "628             C/ capacete/ cinto segurança        Colisão  \n",
       "629             C/ capacete/ cinto segurança        Colisão  \n",
       "630          C/ sistema retenção de crianças        Colisão  \n",
       "\n",
       "[5465 rows x 11 columns]"
      ]
     },
     "execution_count": 89,
     "metadata": {},
     "output_type": "execute_result"
    }
   ],
   "source": [
    "model_data"
   ]
  },
  {
   "cell_type": "code",
   "execution_count": null,
   "metadata": {},
   "outputs": [],
   "source": []
  },
  {
   "cell_type": "code",
   "execution_count": null,
   "metadata": {},
   "outputs": [],
   "source": []
  },
  {
   "cell_type": "code",
   "execution_count": 81,
   "metadata": {},
   "outputs": [
    {
     "data": {
      "text/plain": [
       "<AxesSubplot:xlabel='value', ylabel='variable'>"
      ]
     },
     "execution_count": 81,
     "metadata": {},
     "output_type": "execute_result"
    },
    {
     "data": {
      "image/png": "[encoded data removed]",
      "text/plain": [
       "<Figure size 1440x4320 with 1 Axes>"
      ]
     },
     "metadata": {
      "needs_background": "light"
     },
     "output_type": "display_data"
    }
   ],
   "source": [
    "plt.figure(figsize = (20, 60))\n",
    "sns.barplot(data = data_v2, \n",
    "            y = 'variable', \n",
    "            x = 'value',\n",
    "            hue = 'Lesões a 30 dias')"
   ]
  },
  {
   "cell_type": "code",
   "execution_count": null,
   "metadata": {},
   "outputs": [],
   "source": []
  },
  {
   "cell_type": "code",
   "execution_count": null,
   "metadata": {},
   "outputs": [],
   "source": []
  },
  {
   "cell_type": "code",
   "execution_count": null,
   "metadata": {},
   "outputs": [],
   "source": []
  },
  {
   "cell_type": "code",
   "execution_count": null,
   "metadata": {},
   "outputs": [],
   "source": []
  },
  {
   "cell_type": "code",
   "execution_count": null,
   "metadata": {},
   "outputs": [],
   "source": []
  },
  {
   "cell_type": "code",
   "execution_count": null,
   "metadata": {},
   "outputs": [],
   "source": []
  },
  {
   "cell_type": "code",
   "execution_count": null,
   "metadata": {},
   "outputs": [],
   "source": []
  },
  {
   "cell_type": "code",
   "execution_count": null,
   "metadata": {},
   "outputs": [],
   "source": []
  },
  {
   "cell_type": "code",
   "execution_count": null,
   "metadata": {},
   "outputs": [],
   "source": []
  },
  {
   "cell_type": "code",
   "execution_count": null,
   "metadata": {},
   "outputs": [],
   "source": []
  },
  {
   "cell_type": "markdown",
   "metadata": {},
   "source": [
    "Set Id as index"
   ]
  },
  {
   "cell_type": "code",
   "execution_count": 4,
   "metadata": {},
   "outputs": [],
   "source": [
    "accidents_first_file = accidents_first_file.set_index('IdAcidente')"
   ]
  },
  {
   "cell_type": "markdown",
   "metadata": {},
   "source": [
    "Remover nan values"
   ]
  },
  {
   "cell_type": "code",
   "execution_count": 5,
   "metadata": {},
   "outputs": [
    {
     "data": {
      "text/plain": [
       "Datahora                       0\n",
       "Dia da Semana                  0\n",
       "Sentidos                       0\n",
       "Latitude GPS                 945\n",
       "Longitude GPS                945\n",
       "Via Trânsito                   0\n",
       "Localizações                   0\n",
       "Freguesia                      0\n",
       "Pov. Proxima                1322\n",
       "Tipo Natureza                  0\n",
       "Natureza                       0\n",
       "Traçado 1                      0\n",
       "Traçado 2                      0\n",
       "Traçado 3                      0\n",
       "Traçado 4                      0\n",
       "Estado Conservação             0\n",
       "Características Tecnicas       0\n",
       "Reg Circulação                 0\n",
       "Marca Via                      0\n",
       "Obstáculos                     0\n",
       "Sinais                         0\n",
       "Sinais Luminosos               0\n",
       "Tipo Piso                      0\n",
       "Intersecção Vias               0\n",
       "Factores Atmosféricos          0\n",
       "Luminosidade                   0\n",
       "Cond Aderência                 0\n",
       "VM                             0\n",
       "FG                             0\n",
       "FL                             0\n",
       "Tipos Vias                     0\n",
       "Via                            0\n",
       "Num arruamento               259\n",
       "Km                          2519\n",
       "Nome arruamento              253\n",
       "Localização 2                  0\n",
       "dtype: int64"
      ]
     },
     "execution_count": 5,
     "metadata": {},
     "output_type": "execute_result"
    }
   ],
   "source": [
    "accidents_first_file.isna().sum()"
   ]
  },
  {
   "cell_type": "code",
   "execution_count": 6,
   "metadata": {},
   "outputs": [],
   "source": [
    "clean_accidents_first_file = accidents_first_file.dropna(axis=1)"
   ]
  },
  {
   "cell_type": "markdown",
   "metadata": {},
   "source": [
    "Evaluate data"
   ]
  },
  {
   "cell_type": "code",
   "execution_count": 7,
   "metadata": {
    "tags": []
   },
   "outputs": [
    {
     "data": {
      "text/plain": [
       "NÃO DEFINIDO                               1852\n",
       "No sentido crescente da quilometragem       477\n",
       "No sentido decrescente da quilometragem     439\n",
       "Name: Sentidos, dtype: int64"
      ]
     },
     "execution_count": 7,
     "metadata": {},
     "output_type": "execute_result"
    }
   ],
   "source": [
    "clean_accidents_first_file['Sentidos'].value_counts()"
   ]
  },
  {
   "cell_type": "code",
   "execution_count": 8,
   "metadata": {
    "tags": []
   },
   "outputs": [],
   "source": [
    "clean_accidents_first_file = clean_accidents_first_file.replace({'NÃO DEFINIDO': '-'})"
   ]
  },
  {
   "cell_type": "code",
   "execution_count": 9,
   "metadata": {
    "tags": []
   },
   "outputs": [
    {
     "data": {
      "text/plain": [
       "Direita     2025\n",
       "Esquerda     492\n",
       "Central      251\n",
       "Name: Via Trânsito, dtype: int64"
      ]
     },
     "execution_count": 9,
     "metadata": {},
     "output_type": "execute_result"
    }
   ],
   "source": [
    "clean_accidents_first_file['Via Trânsito'].value_counts()"
   ]
  },
  {
   "cell_type": "code",
   "execution_count": 10,
   "metadata": {
    "tags": []
   },
   "outputs": [
    {
     "data": {
      "text/plain": [
       "Dentro das localidades    2596\n",
       "Fora das localidades       172\n",
       "Name: Localizações, dtype: int64"
      ]
     },
     "execution_count": 10,
     "metadata": {},
     "output_type": "execute_result"
    }
   ],
   "source": [
    "clean_accidents_first_file['Localizações'].value_counts()"
   ]
  },
  {
   "cell_type": "code",
   "execution_count": 11,
   "metadata": {
    "tags": []
   },
   "outputs": [
    {
     "data": {
      "text/plain": [
       "Avenidas Novas             244\n",
       "Alvalade                   227\n",
       "Lumiar                     203\n",
       "São Domingos de Benfica    178\n",
       "Santa Maria dos Olivais    170\n",
       "Alcântara                  162\n",
       "Arroios                    138\n",
       "Campolide                  126\n",
       "Estrela                    125\n",
       "Marvila                    113\n",
       "Belém                      111\n",
       "Benfica                    107\n",
       "Parque das Nações          103\n",
       "Santo António              102\n",
       "Santa Maria Maior           99\n",
       "Areeiro                     85\n",
       "Campo de Ourique            84\n",
       "Misericórdia                83\n",
       "Ajuda                       73\n",
       "Carnide                     72\n",
       "Penha de França             66\n",
       "Santa Clara                 42\n",
       "São Vicente                 31\n",
       "Beato                       24\n",
       "Name: Freguesia, dtype: int64"
      ]
     },
     "execution_count": 11,
     "metadata": {},
     "output_type": "execute_result"
    }
   ],
   "source": [
    "clean_accidents_first_file['Freguesia'].value_counts()"
   ]
  },
  {
   "cell_type": "code",
   "execution_count": 12,
   "metadata": {
    "tags": []
   },
   "outputs": [
    {
     "data": {
      "text/plain": [
       "Colisão          1573\n",
       "Atropelamento     674\n",
       "Despiste          521\n",
       "Name: Tipo Natureza, dtype: int64"
      ]
     },
     "execution_count": 12,
     "metadata": {},
     "output_type": "execute_result"
    }
   ],
   "source": [
    "clean_accidents_first_file['Tipo Natureza'].value_counts()"
   ]
  },
  {
   "cell_type": "code",
   "execution_count": 13,
   "metadata": {
    "tags": []
   },
   "outputs": [
    {
     "data": {
      "text/plain": [
       "Atropelamento de peões                                          640\n",
       "Colisão lateral com outro veículo em movimento                  560\n",
       "Colisão traseira com outro veículo em movimento                 363\n",
       "Colisão com outras situações                                    355\n",
       "Despiste sem dispositivo de retenção                            329\n",
       "Despiste com dispositivo de retenção                            109\n",
       "Colisão choque em cadeia                                         97\n",
       "Colisão com veiculo ou obstáculo na faixa de rodagem             74\n",
       "Colisão frontal                                                  72\n",
       "Colisão com fuga                                                 52\n",
       "Despiste com colisão com veículo imobil. ou obstáculo            48\n",
       "Atropelamento com fuga                                           33\n",
       "Despiste com capotamento                                         20\n",
       "Despiste simples                                                 11\n",
       "Despiste com fuga                                                 2\n",
       "Despiste com transposição do dispositivo de retenção lateral      2\n",
       "Atropelamento de animais                                          1\n",
       "Name: Natureza, dtype: int64"
      ]
     },
     "execution_count": 13,
     "metadata": {},
     "output_type": "execute_result"
    }
   ],
   "source": [
    "clean_accidents_first_file['Natureza'].value_counts()"
   ]
  },
  {
   "cell_type": "code",
   "execution_count": 14,
   "metadata": {
    "tags": []
   },
   "outputs": [
    {
     "data": {
      "text/plain": [
       "Recta    2327\n",
       "Curva     422\n",
       "-          19\n",
       "Name: Traçado 1, dtype: int64"
      ]
     },
     "execution_count": 14,
     "metadata": {},
     "output_type": "execute_result"
    }
   ],
   "source": [
    "clean_accidents_first_file['Traçado 1'].value_counts()"
   ]
  },
  {
   "cell_type": "code",
   "execution_count": 15,
   "metadata": {
    "tags": []
   },
   "outputs": [
    {
     "data": {
      "text/plain": [
       "Em patamar        1777\n",
       "Com inclinação     958\n",
       "-                   24\n",
       "Em Lomba             9\n",
       "Name: Traçado 2, dtype: int64"
      ]
     },
     "execution_count": 15,
     "metadata": {},
     "output_type": "execute_result"
    }
   ],
   "source": [
    "clean_accidents_first_file['Traçado 2'].value_counts()"
   ]
  },
  {
   "cell_type": "code",
   "execution_count": 16,
   "metadata": {
    "tags": []
   },
   "outputs": [
    {
     "data": {
      "text/plain": [
       "Berma pavimentada            1702\n",
       "Sem berma ou impraticável     996\n",
       "Berma não pavimentada          36\n",
       "-                              34\n",
       "Name: Traçado 3, dtype: int64"
      ]
     },
     "execution_count": 16,
     "metadata": {},
     "output_type": "execute_result"
    }
   ],
   "source": [
    "clean_accidents_first_file['Traçado 3'].value_counts()"
   ]
  },
  {
   "cell_type": "code",
   "execution_count": 17,
   "metadata": {
    "tags": []
   },
   "outputs": [
    {
     "data": {
      "text/plain": [
       "Em plena via                   2631\n",
       "No passeio                       41\n",
       "-                                30\n",
       "Em parque de estacionamento      26\n",
       "Em via ou pista reservada        25\n",
       "Na berma                         15\n",
       "Name: Traçado 4, dtype: int64"
      ]
     },
     "execution_count": 17,
     "metadata": {},
     "output_type": "execute_result"
    }
   ],
   "source": [
    "clean_accidents_first_file['Traçado 4'].value_counts()"
   ]
  },
  {
   "cell_type": "code",
   "execution_count": 18,
   "metadata": {
    "tags": []
   },
   "outputs": [
    {
     "data": {
      "text/plain": [
       "Em estado regular    1684\n",
       "Em bom estado        1011\n",
       "Em mau estado          45\n",
       "-                      28\n",
       "Name: Estado Conservação, dtype: int64"
      ]
     },
     "execution_count": 18,
     "metadata": {},
     "output_type": "execute_result"
    }
   ],
   "source": [
    "clean_accidents_first_file['Estado Conservação'].value_counts()"
   ]
  },
  {
   "cell_type": "code",
   "execution_count": 19,
   "metadata": {
    "tags": []
   },
   "outputs": [
    {
     "data": {
      "text/plain": [
       "Estrada sem separador    1552\n",
       "Outra via                1115\n",
       "Auto-estrada              101\n",
       "Name: Características Tecnicas, dtype: int64"
      ]
     },
     "execution_count": 19,
     "metadata": {},
     "output_type": "execute_result"
    }
   ],
   "source": [
    "clean_accidents_first_file['Características Tecnicas'].value_counts()"
   ]
  },
  {
   "cell_type": "code",
   "execution_count": 20,
   "metadata": {
    "tags": []
   },
   "outputs": [
    {
     "data": {
      "text/plain": [
       "Sentido único    1622\n",
       "Dois sentidos    1142\n",
       "Reversível          4\n",
       "Name: Reg Circulação, dtype: int64"
      ]
     },
     "execution_count": 20,
     "metadata": {},
     "output_type": "execute_result"
    }
   ],
   "source": [
    "clean_accidents_first_file['Reg Circulação'].value_counts()"
   ]
  },
  {
   "cell_type": "code",
   "execution_count": 21,
   "metadata": {
    "tags": []
   },
   "outputs": [
    {
     "data": {
      "text/plain": [
       "Com marcas - separadoras de sentido e de vias de trânsito    1785\n",
       "Sem marcas rodoviárias ou pouco visíveis                      705\n",
       "Com marcas - separadoras de sentido de trânsito               255\n",
       "-                                                              23\n",
       "Name: Marca Via, dtype: int64"
      ]
     },
     "execution_count": 21,
     "metadata": {},
     "output_type": "execute_result"
    }
   ],
   "source": [
    "clean_accidents_first_file['Marca Via'].value_counts()"
   ]
  },
  {
   "cell_type": "code",
   "execution_count": 22,
   "metadata": {
    "tags": []
   },
   "outputs": [
    {
     "data": {
      "text/plain": [
       "Inexistentes                    2677\n",
       "-                                 40\n",
       "Correctamente sinalizados         36\n",
       "Não sinalizados                    9\n",
       "Insuficentemente sinalizados       6\n",
       "Name: Obstáculos, dtype: int64"
      ]
     },
     "execution_count": 22,
     "metadata": {},
     "output_type": "execute_result"
    }
   ],
   "source": [
    "clean_accidents_first_file['Obstáculos'].value_counts()"
   ]
  },
  {
   "cell_type": "code",
   "execution_count": 23,
   "metadata": {
    "tags": []
   },
   "outputs": [
    {
     "data": {
      "text/plain": [
       "Outros                        1815\n",
       "-                              531\n",
       "Passagem de peões              300\n",
       "Cedência de passagem           100\n",
       "Stop                            20\n",
       "Proibição de ultrapassagem       2\n",
       "Name: Sinais, dtype: int64"
      ]
     },
     "execution_count": 23,
     "metadata": {},
     "output_type": "execute_result"
    }
   ],
   "source": [
    "clean_accidents_first_file['Sinais'].value_counts()"
   ]
  },
  {
   "cell_type": "code",
   "execution_count": 24,
   "metadata": {
    "tags": []
   },
   "outputs": [
    {
     "data": {
      "text/plain": [
       "Betuminoso          2510\n",
       "Calçada              202\n",
       "Betão de cimento      30\n",
       "-                     22\n",
       "Terra batida           4\n",
       "Name: Tipo Piso, dtype: int64"
      ]
     },
     "execution_count": 24,
     "metadata": {},
     "output_type": "execute_result"
    }
   ],
   "source": [
    "clean_accidents_first_file['Tipo Piso'].value_counts()"
   ]
  },
  {
   "cell_type": "code",
   "execution_count": 25,
   "metadata": {
    "tags": []
   },
   "outputs": [
    {
     "data": {
      "text/plain": [
       "Fora da intersecção             1688\n",
       "Em entroncamento                 452\n",
       "Em cruzamento                    387\n",
       "-                                104\n",
       "Em rotunda                        57\n",
       "Em via de aceleração              51\n",
       "Em ramo de ligação - entrada      18\n",
       "Em via de desaceleração           11\n",
       "Name: Intersecção Vias, dtype: int64"
      ]
     },
     "execution_count": 25,
     "metadata": {},
     "output_type": "execute_result"
    }
   ],
   "source": [
    "clean_accidents_first_file['Intersecção Vias'].value_counts()"
   ]
  },
  {
   "cell_type": "code",
   "execution_count": 26,
   "metadata": {
    "tags": []
   },
   "outputs": [
    {
     "data": {
      "text/plain": [
       "Bom tempo    2323\n",
       "Chuva         418\n",
       "-              27\n",
       "Name: Factores Atmosféricos, dtype: int64"
      ]
     },
     "execution_count": 26,
     "metadata": {},
     "output_type": "execute_result"
    }
   ],
   "source": [
    "clean_accidents_first_file['Factores Atmosféricos'].value_counts()"
   ]
  },
  {
   "cell_type": "code",
   "execution_count": 27,
   "metadata": {
    "tags": []
   },
   "outputs": [
    {
     "data": {
      "text/plain": [
       "Em pleno dia             1830\n",
       "Noite, com iluminação     778\n",
       "Aurora ou crepúsculo      128\n",
       "Noite, sem iluminação      16\n",
       "-                          10\n",
       "Sol escandeante             6\n",
       "Name: Luminosidade, dtype: int64"
      ]
     },
     "execution_count": 27,
     "metadata": {},
     "output_type": "execute_result"
    }
   ],
   "source": [
    "clean_accidents_first_file['Luminosidade'].value_counts()"
   ]
  },
  {
   "cell_type": "code",
   "execution_count": 28,
   "metadata": {
    "tags": []
   },
   "outputs": [
    {
     "data": {
      "text/plain": [
       "Seco e limpo                              2246\n",
       "Molhado                                    427\n",
       "Húmido                                      44\n",
       "-                                           34\n",
       "Com óleo                                     9\n",
       "Com água acumulada na faixa de rodagem       4\n",
       "Com gravilha ou areia                        3\n",
       "Com lama                                     1\n",
       "Name: Cond Aderência, dtype: int64"
      ]
     },
     "execution_count": 28,
     "metadata": {},
     "output_type": "execute_result"
    }
   ],
   "source": [
    "clean_accidents_first_file['Cond Aderência'].value_counts()"
   ]
  },
  {
   "cell_type": "code",
   "execution_count": 29,
   "metadata": {
    "tags": []
   },
   "outputs": [
    {
     "data": {
      "text/plain": [
       "Arruamento                      2515\n",
       "IP- Itinerário Principal         103\n",
       "A  - Auto-Estrada                101\n",
       "IC - Itinerário Complementar      36\n",
       "Outra Via                         10\n",
       "PNT - Ponte                        3\n",
       "Name: Tipos Vias, dtype: int64"
      ]
     },
     "execution_count": 29,
     "metadata": {},
     "output_type": "execute_result"
    }
   ],
   "source": [
    "clean_accidents_first_file['Tipos Vias'].value_counts()"
   ]
  },
  {
   "cell_type": "code",
   "execution_count": 30,
   "metadata": {
    "tags": []
   },
   "outputs": [
    {
     "data": {
      "text/plain": [
       "0             2525\n",
       "IP7            103\n",
       "A5              56\n",
       "A2              44\n",
       "IC17            22\n",
       "IC19            14\n",
       "PNT25ABRIL       3\n",
       "A1               1\n",
       "Name: Via, dtype: int64"
      ]
     },
     "execution_count": 30,
     "metadata": {},
     "output_type": "execute_result"
    }
   ],
   "source": [
    "clean_accidents_first_file['Via'].value_counts()"
   ]
  },
  {
   "cell_type": "code",
   "execution_count": 31,
   "metadata": {},
   "outputs": [],
   "source": [
    "clean_accidents_first_file.drop(columns = ['Via'], inplace=True)"
   ]
  },
  {
   "cell_type": "code",
   "execution_count": 32,
   "metadata": {
    "tags": []
   },
   "outputs": [
    {
     "data": {
      "text/plain": [
       "Sem GPS - não estimado    944\n",
       "Localização GPS           924\n",
       "Sem GPS - estimado        900\n",
       "Name: Localização 2, dtype: int64"
      ]
     },
     "execution_count": 32,
     "metadata": {},
     "output_type": "execute_result"
    }
   ],
   "source": [
    "clean_accidents_first_file['Localização 2'].value_counts()"
   ]
  },
  {
   "cell_type": "code",
   "execution_count": 33,
   "metadata": {},
   "outputs": [],
   "source": [
    "clean_accidents_first_file.drop(columns = ['Localização 2'], inplace=True)"
   ]
  },
  {
   "cell_type": "code",
   "execution_count": 34,
   "metadata": {},
   "outputs": [],
   "source": [
    "clean_accidents_first_file.drop(columns = ['VM', 'FG', 'FL', 'Datahora', 'Dia da Semana'], inplace=True)"
   ]
  },
  {
   "cell_type": "code",
   "execution_count": 35,
   "metadata": {},
   "outputs": [
    {
     "data": {
      "text/plain": [
       "Index(['Sentidos', 'Via Trânsito', 'Localizações', 'Freguesia',\n",
       "       'Tipo Natureza', 'Natureza', 'Traçado 1', 'Traçado 2', 'Traçado 3',\n",
       "       'Traçado 4', 'Estado Conservação', 'Características Tecnicas',\n",
       "       'Reg Circulação', 'Marca Via', 'Obstáculos', 'Sinais',\n",
       "       'Sinais Luminosos', 'Tipo Piso', 'Intersecção Vias',\n",
       "       'Factores Atmosféricos', 'Luminosidade', 'Cond Aderência',\n",
       "       'Tipos Vias'],\n",
       "      dtype='object')"
      ]
     },
     "execution_count": 35,
     "metadata": {},
     "output_type": "execute_result"
    }
   ],
   "source": [
    "clean_accidents_first_file.columns"
   ]
  },
  {
   "cell_type": "code",
   "execution_count": null,
   "metadata": {},
   "outputs": [],
   "source": [
    "clean_accidents_first_file"
   ]
  },
  {
   "cell_type": "code",
   "execution_count": 36,
   "metadata": {},
   "outputs": [
    {
     "data": {
      "text/html": [
       "<div>\n",
       "<style scoped>\n",
       "    .dataframe tbody tr th:only-of-type {\n",
       "        vertical-align: middle;\n",
       "    }\n",
       "\n",
       "    .dataframe tbody tr th {\n",
       "        vertical-align: top;\n",
       "    }\n",
       "\n",
       "    .dataframe thead th {\n",
       "        text-align: right;\n",
       "    }\n",
       "</style>\n",
       "<table border=\"1\" class=\"dataframe\">\n",
       "  <thead>\n",
       "    <tr style=\"text-align: right;\">\n",
       "      <th></th>\n",
       "      <th>Sentidos</th>\n",
       "      <th>Via Trânsito</th>\n",
       "      <th>Localizações</th>\n",
       "      <th>Freguesia</th>\n",
       "      <th>Tipo Natureza</th>\n",
       "      <th>Natureza</th>\n",
       "      <th>Traçado 1</th>\n",
       "      <th>Traçado 2</th>\n",
       "      <th>Traçado 3</th>\n",
       "      <th>Traçado 4</th>\n",
       "      <th>...</th>\n",
       "      <th>Marca Via</th>\n",
       "      <th>Obstáculos</th>\n",
       "      <th>Sinais</th>\n",
       "      <th>Sinais Luminosos</th>\n",
       "      <th>Tipo Piso</th>\n",
       "      <th>Intersecção Vias</th>\n",
       "      <th>Factores Atmosféricos</th>\n",
       "      <th>Luminosidade</th>\n",
       "      <th>Cond Aderência</th>\n",
       "      <th>Tipos Vias</th>\n",
       "    </tr>\n",
       "    <tr>\n",
       "      <th>IdAcidente</th>\n",
       "      <th></th>\n",
       "      <th></th>\n",
       "      <th></th>\n",
       "      <th></th>\n",
       "      <th></th>\n",
       "      <th></th>\n",
       "      <th></th>\n",
       "      <th></th>\n",
       "      <th></th>\n",
       "      <th></th>\n",
       "      <th></th>\n",
       "      <th></th>\n",
       "      <th></th>\n",
       "      <th></th>\n",
       "      <th></th>\n",
       "      <th></th>\n",
       "      <th></th>\n",
       "      <th></th>\n",
       "      <th></th>\n",
       "      <th></th>\n",
       "      <th></th>\n",
       "    </tr>\n",
       "  </thead>\n",
       "  <tbody>\n",
       "    <tr>\n",
       "      <th>20191648491</th>\n",
       "      <td>-</td>\n",
       "      <td>Direita</td>\n",
       "      <td>Dentro das localidades</td>\n",
       "      <td>Lumiar</td>\n",
       "      <td>Atropelamento</td>\n",
       "      <td>Atropelamento de peões</td>\n",
       "      <td>Recta</td>\n",
       "      <td>Em patamar</td>\n",
       "      <td>Sem berma ou impraticável</td>\n",
       "      <td>Em parque de estacionamento</td>\n",
       "      <td>...</td>\n",
       "      <td>-</td>\n",
       "      <td>Inexistentes</td>\n",
       "      <td>-</td>\n",
       "      <td>-</td>\n",
       "      <td>Betão de cimento</td>\n",
       "      <td>-</td>\n",
       "      <td>-</td>\n",
       "      <td>Em pleno dia</td>\n",
       "      <td>Seco e limpo</td>\n",
       "      <td>Arruamento</td>\n",
       "    </tr>\n",
       "    <tr>\n",
       "      <th>20191648498</th>\n",
       "      <td>-</td>\n",
       "      <td>Esquerda</td>\n",
       "      <td>Dentro das localidades</td>\n",
       "      <td>Campo de Ourique</td>\n",
       "      <td>Atropelamento</td>\n",
       "      <td>Atropelamento de peões</td>\n",
       "      <td>Recta</td>\n",
       "      <td>Em patamar</td>\n",
       "      <td>Sem berma ou impraticável</td>\n",
       "      <td>Em plena via</td>\n",
       "      <td>...</td>\n",
       "      <td>Com marcas - separadoras de sentido e de vias ...</td>\n",
       "      <td>Inexistentes</td>\n",
       "      <td>Outros</td>\n",
       "      <td>A funcionar normalmente</td>\n",
       "      <td>Betuminoso</td>\n",
       "      <td>Fora da intersecção</td>\n",
       "      <td>Bom tempo</td>\n",
       "      <td>Em pleno dia</td>\n",
       "      <td>Seco e limpo</td>\n",
       "      <td>Arruamento</td>\n",
       "    </tr>\n",
       "    <tr>\n",
       "      <th>20191648520</th>\n",
       "      <td>-</td>\n",
       "      <td>Central</td>\n",
       "      <td>Dentro das localidades</td>\n",
       "      <td>Avenidas Novas</td>\n",
       "      <td>Colisão</td>\n",
       "      <td>Colisão lateral com outro veículo em movimento</td>\n",
       "      <td>Recta</td>\n",
       "      <td>Com inclinação</td>\n",
       "      <td>Sem berma ou impraticável</td>\n",
       "      <td>Em plena via</td>\n",
       "      <td>...</td>\n",
       "      <td>Com marcas - separadoras de sentido e de vias ...</td>\n",
       "      <td>Inexistentes</td>\n",
       "      <td>Passagem de peões</td>\n",
       "      <td>A funcionar normalmente</td>\n",
       "      <td>Betuminoso</td>\n",
       "      <td>Em entroncamento</td>\n",
       "      <td>Bom tempo</td>\n",
       "      <td>Em pleno dia</td>\n",
       "      <td>Seco e limpo</td>\n",
       "      <td>Arruamento</td>\n",
       "    </tr>\n",
       "    <tr>\n",
       "      <th>20191649633</th>\n",
       "      <td>-</td>\n",
       "      <td>Direita</td>\n",
       "      <td>Dentro das localidades</td>\n",
       "      <td>Santa Clara</td>\n",
       "      <td>Atropelamento</td>\n",
       "      <td>Atropelamento de peões</td>\n",
       "      <td>Recta</td>\n",
       "      <td>Em patamar</td>\n",
       "      <td>Sem berma ou impraticável</td>\n",
       "      <td>Em plena via</td>\n",
       "      <td>...</td>\n",
       "      <td>Sem marcas rodoviárias ou pouco visíveis</td>\n",
       "      <td>Inexistentes</td>\n",
       "      <td>Outros</td>\n",
       "      <td>Desligada</td>\n",
       "      <td>Betuminoso</td>\n",
       "      <td>Fora da intersecção</td>\n",
       "      <td>Bom tempo</td>\n",
       "      <td>Em pleno dia</td>\n",
       "      <td>Seco e limpo</td>\n",
       "      <td>Arruamento</td>\n",
       "    </tr>\n",
       "    <tr>\n",
       "      <th>20191649654</th>\n",
       "      <td>-</td>\n",
       "      <td>Direita</td>\n",
       "      <td>Dentro das localidades</td>\n",
       "      <td>Santo António</td>\n",
       "      <td>Colisão</td>\n",
       "      <td>Colisão traseira com outro veículo em movimento</td>\n",
       "      <td>Recta</td>\n",
       "      <td>Com inclinação</td>\n",
       "      <td>Sem berma ou impraticável</td>\n",
       "      <td>Em plena via</td>\n",
       "      <td>...</td>\n",
       "      <td>Com marcas - separadoras de sentido e de vias ...</td>\n",
       "      <td>Inexistentes</td>\n",
       "      <td>-</td>\n",
       "      <td>A funcionar normalmente</td>\n",
       "      <td>Betuminoso</td>\n",
       "      <td>Em entroncamento</td>\n",
       "      <td>Bom tempo</td>\n",
       "      <td>Noite, com iluminação</td>\n",
       "      <td>Seco e limpo</td>\n",
       "      <td>Arruamento</td>\n",
       "    </tr>\n",
       "    <tr>\n",
       "      <th>...</th>\n",
       "      <td>...</td>\n",
       "      <td>...</td>\n",
       "      <td>...</td>\n",
       "      <td>...</td>\n",
       "      <td>...</td>\n",
       "      <td>...</td>\n",
       "      <td>...</td>\n",
       "      <td>...</td>\n",
       "      <td>...</td>\n",
       "      <td>...</td>\n",
       "      <td>...</td>\n",
       "      <td>...</td>\n",
       "      <td>...</td>\n",
       "      <td>...</td>\n",
       "      <td>...</td>\n",
       "      <td>...</td>\n",
       "      <td>...</td>\n",
       "      <td>...</td>\n",
       "      <td>...</td>\n",
       "      <td>...</td>\n",
       "      <td>...</td>\n",
       "    </tr>\n",
       "    <tr>\n",
       "      <th>20201827869</th>\n",
       "      <td>-</td>\n",
       "      <td>Direita</td>\n",
       "      <td>Dentro das localidades</td>\n",
       "      <td>São Domingos de Benfica</td>\n",
       "      <td>Atropelamento</td>\n",
       "      <td>Atropelamento de peões</td>\n",
       "      <td>Recta</td>\n",
       "      <td>Em patamar</td>\n",
       "      <td>Berma pavimentada</td>\n",
       "      <td>Em plena via</td>\n",
       "      <td>...</td>\n",
       "      <td>Com marcas - separadoras de sentido e de vias ...</td>\n",
       "      <td>Inexistentes</td>\n",
       "      <td>Passagem de peões</td>\n",
       "      <td>Inexistentes</td>\n",
       "      <td>Betuminoso</td>\n",
       "      <td>-</td>\n",
       "      <td>Chuva</td>\n",
       "      <td>Noite, com iluminação</td>\n",
       "      <td>Molhado</td>\n",
       "      <td>Arruamento</td>\n",
       "    </tr>\n",
       "    <tr>\n",
       "      <th>20201828362</th>\n",
       "      <td>No sentido crescente da quilometragem</td>\n",
       "      <td>Central</td>\n",
       "      <td>Fora das localidades</td>\n",
       "      <td>Alcântara</td>\n",
       "      <td>Colisão</td>\n",
       "      <td>Colisão com fuga</td>\n",
       "      <td>Curva</td>\n",
       "      <td>Com inclinação</td>\n",
       "      <td>Berma pavimentada</td>\n",
       "      <td>Em plena via</td>\n",
       "      <td>...</td>\n",
       "      <td>Com marcas - separadoras de sentido e de vias ...</td>\n",
       "      <td>Inexistentes</td>\n",
       "      <td>-</td>\n",
       "      <td>Inexistentes</td>\n",
       "      <td>Betuminoso</td>\n",
       "      <td>Fora da intersecção</td>\n",
       "      <td>Bom tempo</td>\n",
       "      <td>Noite, com iluminação</td>\n",
       "      <td>Seco e limpo</td>\n",
       "      <td>A  - Auto-Estrada</td>\n",
       "    </tr>\n",
       "    <tr>\n",
       "      <th>20201831029</th>\n",
       "      <td>-</td>\n",
       "      <td>Direita</td>\n",
       "      <td>Dentro das localidades</td>\n",
       "      <td>Parque das Nações</td>\n",
       "      <td>Colisão</td>\n",
       "      <td>Colisão lateral com outro veículo em movimento</td>\n",
       "      <td>Recta</td>\n",
       "      <td>Em patamar</td>\n",
       "      <td>Sem berma ou impraticável</td>\n",
       "      <td>Em plena via</td>\n",
       "      <td>...</td>\n",
       "      <td>Sem marcas rodoviárias ou pouco visíveis</td>\n",
       "      <td>Inexistentes</td>\n",
       "      <td>Outros</td>\n",
       "      <td>Inexistentes</td>\n",
       "      <td>Betuminoso</td>\n",
       "      <td>Fora da intersecção</td>\n",
       "      <td>Chuva</td>\n",
       "      <td>Em pleno dia</td>\n",
       "      <td>Húmido</td>\n",
       "      <td>Arruamento</td>\n",
       "    </tr>\n",
       "    <tr>\n",
       "      <th>20201838659</th>\n",
       "      <td>-</td>\n",
       "      <td>Direita</td>\n",
       "      <td>Dentro das localidades</td>\n",
       "      <td>Beato</td>\n",
       "      <td>Atropelamento</td>\n",
       "      <td>Atropelamento de peões</td>\n",
       "      <td>Curva</td>\n",
       "      <td>Com inclinação</td>\n",
       "      <td>Sem berma ou impraticável</td>\n",
       "      <td>Em plena via</td>\n",
       "      <td>...</td>\n",
       "      <td>Sem marcas rodoviárias ou pouco visíveis</td>\n",
       "      <td>Inexistentes</td>\n",
       "      <td>Outros</td>\n",
       "      <td>Inexistentes</td>\n",
       "      <td>Calçada</td>\n",
       "      <td>Fora da intersecção</td>\n",
       "      <td>Bom tempo</td>\n",
       "      <td>Em pleno dia</td>\n",
       "      <td>Seco e limpo</td>\n",
       "      <td>Arruamento</td>\n",
       "    </tr>\n",
       "    <tr>\n",
       "      <th>20201866679</th>\n",
       "      <td>-</td>\n",
       "      <td>Direita</td>\n",
       "      <td>Dentro das localidades</td>\n",
       "      <td>Arroios</td>\n",
       "      <td>Colisão</td>\n",
       "      <td>Colisão traseira com outro veículo em movimento</td>\n",
       "      <td>Recta</td>\n",
       "      <td>Em patamar</td>\n",
       "      <td>Berma pavimentada</td>\n",
       "      <td>Em plena via</td>\n",
       "      <td>...</td>\n",
       "      <td>Com marcas - separadoras de sentido de trânsito</td>\n",
       "      <td>Inexistentes</td>\n",
       "      <td>-</td>\n",
       "      <td>A funcionar normalmente</td>\n",
       "      <td>Betuminoso</td>\n",
       "      <td>Fora da intersecção</td>\n",
       "      <td>Bom tempo</td>\n",
       "      <td>Noite, com iluminação</td>\n",
       "      <td>Molhado</td>\n",
       "      <td>Arruamento</td>\n",
       "    </tr>\n",
       "  </tbody>\n",
       "</table>\n",
       "<p>2768 rows × 23 columns</p>\n",
       "</div>"
      ],
      "text/plain": [
       "                                          Sentidos Via Trânsito  \\\n",
       "IdAcidente                                                        \n",
       "20191648491                                      -      Direita   \n",
       "20191648498                                      -     Esquerda   \n",
       "20191648520                                      -      Central   \n",
       "20191649633                                      -      Direita   \n",
       "20191649654                                      -      Direita   \n",
       "...                                            ...          ...   \n",
       "20201827869                                      -      Direita   \n",
       "20201828362  No sentido crescente da quilometragem      Central   \n",
       "20201831029                                      -      Direita   \n",
       "20201838659                                      -      Direita   \n",
       "20201866679                                      -      Direita   \n",
       "\n",
       "                       Localizações                Freguesia  Tipo Natureza  \\\n",
       "IdAcidente                                                                    \n",
       "20191648491  Dentro das localidades                   Lumiar  Atropelamento   \n",
       "20191648498  Dentro das localidades         Campo de Ourique  Atropelamento   \n",
       "20191648520  Dentro das localidades           Avenidas Novas        Colisão   \n",
       "20191649633  Dentro das localidades              Santa Clara  Atropelamento   \n",
       "20191649654  Dentro das localidades            Santo António        Colisão   \n",
       "...                             ...                      ...            ...   \n",
       "20201827869  Dentro das localidades  São Domingos de Benfica  Atropelamento   \n",
       "20201828362    Fora das localidades                Alcântara        Colisão   \n",
       "20201831029  Dentro das localidades        Parque das Nações        Colisão   \n",
       "20201838659  Dentro das localidades                    Beato  Atropelamento   \n",
       "20201866679  Dentro das localidades                  Arroios        Colisão   \n",
       "\n",
       "                                                    Natureza Traçado 1  \\\n",
       "IdAcidente                                                               \n",
       "20191648491                           Atropelamento de peões     Recta   \n",
       "20191648498                           Atropelamento de peões     Recta   \n",
       "20191648520   Colisão lateral com outro veículo em movimento     Recta   \n",
       "20191649633                           Atropelamento de peões     Recta   \n",
       "20191649654  Colisão traseira com outro veículo em movimento     Recta   \n",
       "...                                                      ...       ...   \n",
       "20201827869                           Atropelamento de peões     Recta   \n",
       "20201828362                                 Colisão com fuga     Curva   \n",
       "20201831029   Colisão lateral com outro veículo em movimento     Recta   \n",
       "20201838659                           Atropelamento de peões     Curva   \n",
       "20201866679  Colisão traseira com outro veículo em movimento     Recta   \n",
       "\n",
       "                  Traçado 2                  Traçado 3  \\\n",
       "IdAcidente                                               \n",
       "20191648491      Em patamar  Sem berma ou impraticável   \n",
       "20191648498      Em patamar  Sem berma ou impraticável   \n",
       "20191648520  Com inclinação  Sem berma ou impraticável   \n",
       "20191649633      Em patamar  Sem berma ou impraticável   \n",
       "20191649654  Com inclinação  Sem berma ou impraticável   \n",
       "...                     ...                        ...   \n",
       "20201827869      Em patamar          Berma pavimentada   \n",
       "20201828362  Com inclinação          Berma pavimentada   \n",
       "20201831029      Em patamar  Sem berma ou impraticável   \n",
       "20201838659  Com inclinação  Sem berma ou impraticável   \n",
       "20201866679      Em patamar          Berma pavimentada   \n",
       "\n",
       "                               Traçado 4  ...  \\\n",
       "IdAcidente                                ...   \n",
       "20191648491  Em parque de estacionamento  ...   \n",
       "20191648498                 Em plena via  ...   \n",
       "20191648520                 Em plena via  ...   \n",
       "20191649633                 Em plena via  ...   \n",
       "20191649654                 Em plena via  ...   \n",
       "...                                  ...  ...   \n",
       "20201827869                 Em plena via  ...   \n",
       "20201828362                 Em plena via  ...   \n",
       "20201831029                 Em plena via  ...   \n",
       "20201838659                 Em plena via  ...   \n",
       "20201866679                 Em plena via  ...   \n",
       "\n",
       "                                                     Marca Via    Obstáculos  \\\n",
       "IdAcidente                                                                     \n",
       "20191648491                                                  -  Inexistentes   \n",
       "20191648498  Com marcas - separadoras de sentido e de vias ...  Inexistentes   \n",
       "20191648520  Com marcas - separadoras de sentido e de vias ...  Inexistentes   \n",
       "20191649633           Sem marcas rodoviárias ou pouco visíveis  Inexistentes   \n",
       "20191649654  Com marcas - separadoras de sentido e de vias ...  Inexistentes   \n",
       "...                                                        ...           ...   \n",
       "20201827869  Com marcas - separadoras de sentido e de vias ...  Inexistentes   \n",
       "20201828362  Com marcas - separadoras de sentido e de vias ...  Inexistentes   \n",
       "20201831029           Sem marcas rodoviárias ou pouco visíveis  Inexistentes   \n",
       "20201838659           Sem marcas rodoviárias ou pouco visíveis  Inexistentes   \n",
       "20201866679    Com marcas - separadoras de sentido de trânsito  Inexistentes   \n",
       "\n",
       "                        Sinais         Sinais Luminosos         Tipo Piso  \\\n",
       "IdAcidente                                                                  \n",
       "20191648491                  -                        -  Betão de cimento   \n",
       "20191648498             Outros  A funcionar normalmente        Betuminoso   \n",
       "20191648520  Passagem de peões  A funcionar normalmente        Betuminoso   \n",
       "20191649633             Outros                Desligada        Betuminoso   \n",
       "20191649654                  -  A funcionar normalmente        Betuminoso   \n",
       "...                        ...                      ...               ...   \n",
       "20201827869  Passagem de peões             Inexistentes        Betuminoso   \n",
       "20201828362                  -             Inexistentes        Betuminoso   \n",
       "20201831029             Outros             Inexistentes        Betuminoso   \n",
       "20201838659             Outros             Inexistentes           Calçada   \n",
       "20201866679                  -  A funcionar normalmente        Betuminoso   \n",
       "\n",
       "                Intersecção Vias Factores Atmosféricos           Luminosidade  \\\n",
       "IdAcidente                                                                      \n",
       "20191648491                    -                     -           Em pleno dia   \n",
       "20191648498  Fora da intersecção             Bom tempo           Em pleno dia   \n",
       "20191648520     Em entroncamento             Bom tempo           Em pleno dia   \n",
       "20191649633  Fora da intersecção             Bom tempo           Em pleno dia   \n",
       "20191649654     Em entroncamento             Bom tempo  Noite, com iluminação   \n",
       "...                          ...                   ...                    ...   \n",
       "20201827869                    -                 Chuva  Noite, com iluminação   \n",
       "20201828362  Fora da intersecção             Bom tempo  Noite, com iluminação   \n",
       "20201831029  Fora da intersecção                 Chuva           Em pleno dia   \n",
       "20201838659  Fora da intersecção             Bom tempo           Em pleno dia   \n",
       "20201866679  Fora da intersecção             Bom tempo  Noite, com iluminação   \n",
       "\n",
       "            Cond Aderência         Tipos Vias  \n",
       "IdAcidente                                     \n",
       "20191648491   Seco e limpo         Arruamento  \n",
       "20191648498   Seco e limpo         Arruamento  \n",
       "20191648520   Seco e limpo         Arruamento  \n",
       "20191649633   Seco e limpo         Arruamento  \n",
       "20191649654   Seco e limpo         Arruamento  \n",
       "...                    ...                ...  \n",
       "20201827869        Molhado         Arruamento  \n",
       "20201828362   Seco e limpo  A  - Auto-Estrada  \n",
       "20201831029         Húmido         Arruamento  \n",
       "20201838659   Seco e limpo         Arruamento  \n",
       "20201866679        Molhado         Arruamento  \n",
       "\n",
       "[2768 rows x 23 columns]"
      ]
     },
     "execution_count": 36,
     "metadata": {},
     "output_type": "execute_result"
    }
   ],
   "source": [
    "clean_accidents_first_file"
   ]
  },
  {
   "cell_type": "code",
   "execution_count": null,
   "metadata": {},
   "outputs": [],
   "source": []
  },
  {
   "cell_type": "code",
   "execution_count": null,
   "metadata": {},
   "outputs": [],
   "source": []
  },
  {
   "cell_type": "code",
   "execution_count": null,
   "metadata": {},
   "outputs": [],
   "source": []
  }
 ],
 "metadata": {
  "kernelspec": {
   "display_name": "Python 3",
   "language": "python",
   "name": "python3"
  },
  "language_info": {
   "codemirror_mode": {
    "name": "ipython",
    "version": 3
   },
   "file_extension": ".py",
   "mimetype": "text/x-python",
   "name": "python",
   "nbconvert_exporter": "python",
   "pygments_lexer": "ipython3",
   "version": "3.8.5"
  }
 },
 "nbformat": 4,
 "nbformat_minor": 4
}
