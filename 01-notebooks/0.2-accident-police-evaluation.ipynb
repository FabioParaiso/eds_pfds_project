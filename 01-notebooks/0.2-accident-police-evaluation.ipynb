{
 "cells": [
  {
   "cell_type": "markdown",
   "metadata": {},
   "source": [
    "## 0. Objective\n",
    "\n",
    "In this notebook, we evaluate all the information present in the police reports and try to identify which are the main causes of drivers and vehicle passengers' wounding."
   ]
  },
  {
   "cell_type": "markdown",
   "metadata": {},
   "source": [
    "## 1. Import required modules"
   ]
  },
  {
   "cell_type": "code",
   "execution_count": 56,
   "metadata": {},
   "outputs": [],
   "source": [
    "import pandas as pd\n",
    "import matplotlib.pyplot as plt\n",
    "import seaborn as sns\n",
    "import numpy as np\n",
    "from sklearn.preprocessing import MinMaxScaler\n",
    "import statsmodels.api as sm\n",
    "from sklearn.model_selection import train_test_split\n",
    "\n",
    "sns.set_style('darkgrid')\n",
    "sns.set_palette(palette=\"RdBu\")"
   ]
  },
  {
   "cell_type": "markdown",
   "metadata": {},
   "source": [
    "## 2. Load required data"
   ]
  },
  {
   "cell_type": "code",
   "execution_count": 2,
   "metadata": {},
   "outputs": [],
   "source": [
    "accidents_drivers_passengers = pd.read_parquet('../00-data/processed/accidents_drivers_passengers.parquet')"
   ]
  },
  {
   "cell_type": "markdown",
   "metadata": {},
   "source": [
    "## 3. Data preparation for modeling"
   ]
  },
  {
   "cell_type": "markdown",
   "metadata": {},
   "source": [
    "**`Model data selection`**\n",
    "\n",
    "* We first selected the features that due to our day to day experience seemed to have more impact on the occurrence and gravity of the accidents;"
   ]
  },
  {
   "cell_type": "code",
   "execution_count": 3,
   "metadata": {},
   "outputs": [],
   "source": [
    "first_model_columns = ['Lesões a 30 dias', 'Tipo Natureza', 'Estado Conservação', 'Reg Circulação', 'Sinais Luminosos', \n",
    "                       'Intersecção Vias', 'Factores Atmosféricos', 'Luminosidade', 'Cond Aderência', 'Categoria Veículos',\n",
    "                      'Idade', 'Sexo', 'Acessórios', 'Licença Condução', 'Localizações', 'Traçado 1', 'Traçado 2', 'Traçado 3',\n",
    "                      'Traçado 4']\n",
    "first_model_data = accidents_drivers_passengers[first_model_columns]"
   ]
  },
  {
   "cell_type": "markdown",
   "metadata": {},
   "source": [
    "**`Prepare dependent feature`**\n",
    "\n",
    "We convert this feature to a classification model:\n",
    "* 0 - Ok\n",
    "* 1 - Wounded"
   ]
  },
  {
   "cell_type": "code",
   "execution_count": 4,
   "metadata": {},
   "outputs": [],
   "source": [
    "first_model_data = (\n",
    "    first_model_data\n",
    "    .replace({'Lesões a 30 dias': {'Ileso': 0, \n",
    "                                   'Ferido leve': 1, \n",
    "                                   'Ferido grave': 1, \n",
    "                                   'Morto':1}})\n",
    ")"
   ]
  },
  {
   "cell_type": "markdown",
   "metadata": {},
   "source": [
    "**`Prepare independent features`**\n",
    "\n",
    "We convert the independent variables to dummies."
   ]
  },
  {
   "cell_type": "code",
   "execution_count": 5,
   "metadata": {},
   "outputs": [],
   "source": [
    "coluna = 'Tipo Natureza'\n",
    "first_model_data = (\n",
    "    pd.concat([first_model_data, \n",
    "               pd.get_dummies(first_model_data[coluna])], axis=1)\n",
    "    .drop(columns = [coluna, 'Colisão'])\n",
    ")"
   ]
  },
  {
   "cell_type": "code",
   "execution_count": 6,
   "metadata": {},
   "outputs": [],
   "source": [
    "coluna = 'Estado Conservação'\n",
    "first_model_data = (\n",
    "    pd.concat([first_model_data, \n",
    "               pd.get_dummies(first_model_data[coluna])], axis=1)\n",
    "    .drop(columns = [coluna, 'Em bom estado'])\n",
    ")"
   ]
  },
  {
   "cell_type": "code",
   "execution_count": 7,
   "metadata": {},
   "outputs": [],
   "source": [
    "coluna = 'Reg Circulação'\n",
    "first_model_data = (\n",
    "    pd.concat([first_model_data, \n",
    "               pd.get_dummies(first_model_data[coluna])], axis=1)\n",
    "    .drop(columns = [coluna, 'Sentido único'])\n",
    ")"
   ]
  },
  {
   "cell_type": "code",
   "execution_count": 8,
   "metadata": {},
   "outputs": [],
   "source": [
    "coluna = 'Sinais Luminosos'\n",
    "first_model_data = (\n",
    "    pd.concat([first_model_data, \n",
    "               pd.get_dummies(first_model_data[coluna])], axis=1)\n",
    "    .drop(columns = [coluna, 'Inexistentes'])\n",
    ")"
   ]
  },
  {
   "cell_type": "code",
   "execution_count": 9,
   "metadata": {},
   "outputs": [],
   "source": [
    "coluna = 'Intersecção Vias'\n",
    "first_model_data = (\n",
    "    pd.concat([first_model_data, \n",
    "               pd.get_dummies(first_model_data[coluna])], axis=1)\n",
    "    .drop(columns = [coluna, 'Fora da intersecção'])\n",
    ")"
   ]
  },
  {
   "cell_type": "code",
   "execution_count": 10,
   "metadata": {},
   "outputs": [],
   "source": [
    "coluna = 'Factores Atmosféricos'\n",
    "first_model_data = (\n",
    "    pd.concat([first_model_data, \n",
    "               pd.get_dummies(first_model_data[coluna])], axis=1)\n",
    "    .drop(columns = [coluna, 'Bom tempo'])\n",
    ")"
   ]
  },
  {
   "cell_type": "code",
   "execution_count": 11,
   "metadata": {},
   "outputs": [],
   "source": [
    "coluna = 'Luminosidade'\n",
    "first_model_data = (\n",
    "    pd.concat([first_model_data, \n",
    "               pd.get_dummies(first_model_data[coluna])], axis=1)\n",
    "    .drop(columns = [coluna, 'Em pleno dia'])\n",
    ")"
   ]
  },
  {
   "cell_type": "code",
   "execution_count": 12,
   "metadata": {},
   "outputs": [],
   "source": [
    "coluna = 'Cond Aderência'\n",
    "first_model_data = (\n",
    "    pd.concat([first_model_data, \n",
    "               pd.get_dummies(first_model_data[coluna])], axis=1)\n",
    "    .drop(columns = [coluna, 'Seco e limpo'])\n",
    ")"
   ]
  },
  {
   "cell_type": "code",
   "execution_count": 13,
   "metadata": {},
   "outputs": [],
   "source": [
    "coluna = 'Categoria Veículos'\n",
    "first_model_data = (\n",
    "    pd.concat([first_model_data, \n",
    "               pd.get_dummies(first_model_data[coluna])], axis=1)\n",
    "    .drop(columns = [coluna, 'Automóvel ligeiro'])\n",
    ")"
   ]
  },
  {
   "cell_type": "code",
   "execution_count": 14,
   "metadata": {},
   "outputs": [],
   "source": [
    "coluna = 'Sexo'\n",
    "first_model_data = (\n",
    "    pd.concat([first_model_data, \n",
    "               pd.get_dummies(first_model_data[coluna])], axis=1)\n",
    "    .drop(columns = [coluna, 'Feminino'])\n",
    ")"
   ]
  },
  {
   "cell_type": "code",
   "execution_count": 15,
   "metadata": {},
   "outputs": [],
   "source": [
    "coluna = 'Acessórios'\n",
    "first_model_data = (\n",
    "    pd.concat([first_model_data, \n",
    "               pd.get_dummies(first_model_data[coluna])], axis=1)\n",
    "    .drop(columns = [coluna, 'Seguro'])\n",
    ")"
   ]
  },
  {
   "cell_type": "code",
   "execution_count": 16,
   "metadata": {},
   "outputs": [],
   "source": [
    "coluna = 'Licença Condução'\n",
    "first_model_data = (\n",
    "    pd.concat([first_model_data, \n",
    "               pd.get_dummies(first_model_data[coluna])], axis=1)\n",
    "    .drop(columns = [coluna, 'Com carta'])\n",
    ")"
   ]
  },
  {
   "cell_type": "code",
   "execution_count": 17,
   "metadata": {},
   "outputs": [],
   "source": [
    "coluna = 'Localizações'\n",
    "first_model_data = (\n",
    "    pd.concat([first_model_data, \n",
    "               pd.get_dummies(first_model_data[coluna])], axis=1)\n",
    "    .drop(columns = [coluna, 'Dentro das localidades'])\n",
    ")"
   ]
  },
  {
   "cell_type": "code",
   "execution_count": 18,
   "metadata": {},
   "outputs": [],
   "source": [
    "coluna = 'Traçado 1'\n",
    "first_model_data = (\n",
    "    pd.concat([first_model_data, \n",
    "               pd.get_dummies(first_model_data[coluna])], axis=1)\n",
    "    .drop(columns = [coluna, 'Recta'])\n",
    ")"
   ]
  },
  {
   "cell_type": "code",
   "execution_count": 19,
   "metadata": {},
   "outputs": [],
   "source": [
    "coluna = 'Traçado 2'\n",
    "first_model_data = (\n",
    "    pd.concat([first_model_data, \n",
    "               pd.get_dummies(first_model_data[coluna])], axis=1)\n",
    "    .drop(columns = [coluna, 'Em patamar'])\n",
    ")"
   ]
  },
  {
   "cell_type": "code",
   "execution_count": 20,
   "metadata": {},
   "outputs": [],
   "source": [
    "coluna = 'Traçado 3'\n",
    "first_model_data = (\n",
    "    pd.concat([first_model_data, \n",
    "               pd.get_dummies(first_model_data[coluna])], axis=1)\n",
    "    .drop(columns = [coluna, 'Berma pavimentada'])\n",
    ")"
   ]
  },
  {
   "cell_type": "code",
   "execution_count": 21,
   "metadata": {},
   "outputs": [],
   "source": [
    "coluna = 'Traçado 4'\n",
    "first_model_data = (\n",
    "    pd.concat([first_model_data, \n",
    "               pd.get_dummies(first_model_data[coluna])], axis=1)\n",
    "    .drop(columns = [coluna, 'Em plena via'])\n",
    ")"
   ]
  },
  {
   "cell_type": "markdown",
   "metadata": {},
   "source": [
    "## 4. Model training and evaluation"
   ]
  },
  {
   "cell_type": "markdown",
   "metadata": {},
   "source": [
    "**`Divide data in dependent and independet features`**"
   ]
  },
  {
   "cell_type": "code",
   "execution_count": 22,
   "metadata": {},
   "outputs": [],
   "source": [
    "X = first_model_data.drop(columns = ['Lesões a 30 dias'])\n",
    "y = first_model_data.copy().pop('Lesões a 30 dias')"
   ]
  },
  {
   "cell_type": "markdown",
   "metadata": {},
   "source": [
    "**`Scale the data`**\n",
    "\n",
    "Most of the variables are binary, however, the age data needs to be scaled."
   ]
  },
  {
   "cell_type": "code",
   "execution_count": 23,
   "metadata": {},
   "outputs": [],
   "source": [
    "scaler = MinMaxScaler()\n",
    "X_scaled = pd.DataFrame(scaler.fit_transform(X), columns=X.columns, index=y.index)"
   ]
  },
  {
   "cell_type": "markdown",
   "metadata": {},
   "source": [
    "**`Train ordinary least squares model with regularization`**"
   ]
  },
  {
   "cell_type": "code",
   "execution_count": 24,
   "metadata": {},
   "outputs": [],
   "source": [
    "model = sm.OLS(y, X_scaled)\n",
    "results = model.fit_regularized(alpha = 0.003, refit=True)"
   ]
  },
  {
   "cell_type": "markdown",
   "metadata": {},
   "source": [
    "**`Evaluate model summary`**"
   ]
  },
  {
   "cell_type": "code",
   "execution_count": 25,
   "metadata": {},
   "outputs": [
    {
     "name": "stdout",
     "output_type": "stream",
     "text": [
      "                                 OLS Regression Results                                \n",
      "=======================================================================================\n",
      "Dep. Variable:       Lesões a 30 dias   R-squared (uncentered):                   0.640\n",
      "Model:                            OLS   Adj. R-squared (uncentered):              0.639\n",
      "Method:                 Least Squares   F-statistic:                              691.3\n",
      "Date:                Sun, 09 May 2021   Prob (F-statistic):                        0.00\n",
      "Time:                        18:46:40   Log-Likelihood:                         -2973.9\n",
      "No. Observations:                5465   AIC:                                      5976.\n",
      "Df Residuals:                    5451   BIC:                                      6068.\n",
      "Df Model:                          14                                                  \n",
      "Covariance Type:            nonrobust                                                  \n",
      "===============================================================================================\n",
      "                                  coef    std err          t      P>|t|      [0.025      0.975]\n",
      "-----------------------------------------------------------------------------------------------\n",
      "Idade                           0.5494      0.024     23.161      0.000       0.503       0.596\n",
      "Atropelamento                  -0.3224      0.017    -18.487      0.000      -0.357      -0.288\n",
      "Despiste                        0.1995      0.018     10.983      0.000       0.164       0.235\n",
      "Em mau estado                        0          0        nan        nan           0           0\n",
      "Dois sentidos                   0.0436      0.012      3.636      0.000       0.020       0.067\n",
      "Reversível                           0          0        nan        nan           0           0\n",
      "A funcionar normalmente         0.0671      0.013      5.027      0.000       0.041       0.093\n",
      "Intermitente                         0          0        nan        nan           0           0\n",
      "Em rotunda                           0          0        nan        nan           0           0\n",
      "Entrocamento/cruzamento         0.0659      0.013      4.980      0.000       0.040       0.092\n",
      "Outras vias                          0          0        nan        nan           0           0\n",
      "Chuva                                0          0        nan        nan           0           0\n",
      "Aurora ou crepúsculo            0.0932      0.027      3.501      0.000       0.041       0.145\n",
      "Noite, com iluminação           0.0782      0.013      6.208      0.000       0.054       0.103\n",
      "Noite, sem iluminação                0          0        nan        nan           0           0\n",
      "Sol escandeante                      0          0        nan        nan           0           0\n",
      "Molhado                         0.0926      0.016      5.963      0.000       0.062       0.123\n",
      "Outra aderência                      0          0        nan        nan           0           0\n",
      "Automóvel pesado                     0          0        nan        nan           0           0\n",
      "Outros veículos                      0          0        nan        nan           0           0\n",
      "Veículos de duas rodas          0.6434      0.014     46.877      0.000       0.616       0.670\n",
      "Masculino                      -0.0895      0.012     -7.435      0.000      -0.113      -0.066\n",
      "Inseguro                        0.2598      0.040      6.528      0.000       0.182       0.338\n",
      "Outra segurança                      0          0        nan        nan           0           0\n",
      "Outra carta                          0          0        nan        nan           0           0\n",
      "Sem carta                            0          0        nan        nan           0           0\n",
      "Fora das localidades            0.1068      0.021      4.970      0.000       0.065       0.149\n",
      "Curva                           0.0847      0.016      5.211      0.000       0.053       0.117\n",
      "Com inclinação                       0          0        nan        nan           0           0\n",
      "Em Lomba                             0          0        nan        nan           0           0\n",
      "Berma não pavimentada                0          0        nan        nan           0           0\n",
      "Sem berma ou impraticável            0          0        nan        nan           0           0\n",
      "Em parque de estacionamento          0          0        nan        nan           0           0\n",
      "Em via ou pista reservada            0          0        nan        nan           0           0\n",
      "Na berma                             0          0        nan        nan           0           0\n",
      "No passeio                           0          0        nan        nan           0           0\n",
      "==============================================================================\n",
      "Omnibus:                      366.480   Durbin-Watson:                   1.658\n",
      "Prob(Omnibus):                  0.000   Jarque-Bera (JB):              263.386\n",
      "Skew:                           0.434   Prob(JB):                     6.41e-58\n",
      "Kurtosis:                       2.366   Cond. No.                         32.7\n",
      "==============================================================================\n",
      "\n",
      "Notes:\n",
      "[1] R² is computed without centering (uncentered) since the model does not contain a constant.\n",
      "[2] Standard Errors assume that the covariance matrix of the errors is correctly specified.\n"
     ]
    }
   ],
   "source": [
    "print(results.summary())"
   ]
  },
  {
   "cell_type": "markdown",
   "metadata": {},
   "source": [
    "Main points:\n",
    "* We can see that only the most important variables are kept, and that all are significant (p value ower than 0.05);\n",
    "* We can also see that the trained model explains 0.64 variance of the accident data (R2 = 0.64)."
   ]
  },
  {
   "cell_type": "markdown",
   "metadata": {},
   "source": [
    "**`Evaluate model results graphically`**"
   ]
  },
  {
   "cell_type": "code",
   "execution_count": 47,
   "metadata": {},
   "outputs": [
    {
     "data": {
      "text/html": [
       "<div>\n",
       "<style scoped>\n",
       "    .dataframe tbody tr th:only-of-type {\n",
       "        vertical-align: middle;\n",
       "    }\n",
       "\n",
       "    .dataframe tbody tr th {\n",
       "        vertical-align: top;\n",
       "    }\n",
       "\n",
       "    .dataframe thead th {\n",
       "        text-align: right;\n",
       "    }\n",
       "</style>\n",
       "<table border=\"1\" class=\"dataframe\">\n",
       "  <thead>\n",
       "    <tr style=\"text-align: right;\">\n",
       "      <th></th>\n",
       "      <th>Lasso coefficient</th>\n",
       "      <th>p_value</th>\n",
       "    </tr>\n",
       "  </thead>\n",
       "  <tbody>\n",
       "    <tr>\n",
       "      <th>Two wheels vehicles</th>\n",
       "      <td>0.6434</td>\n",
       "      <td>0.0000</td>\n",
       "    </tr>\n",
       "    <tr>\n",
       "      <th>Age</th>\n",
       "      <td>0.5494</td>\n",
       "      <td>0.0000</td>\n",
       "    </tr>\n",
       "    <tr>\n",
       "      <th>Unsafe behavior</th>\n",
       "      <td>0.2598</td>\n",
       "      <td>0.0000</td>\n",
       "    </tr>\n",
       "    <tr>\n",
       "      <th>Accident type - Crash</th>\n",
       "      <td>0.1995</td>\n",
       "      <td>0.0000</td>\n",
       "    </tr>\n",
       "    <tr>\n",
       "      <th>Outside of the locality</th>\n",
       "      <td>0.1068</td>\n",
       "      <td>0.0000</td>\n",
       "    </tr>\n",
       "    <tr>\n",
       "      <th>End of the day</th>\n",
       "      <td>0.0932</td>\n",
       "      <td>0.0005</td>\n",
       "    </tr>\n",
       "    <tr>\n",
       "      <th>Wet street</th>\n",
       "      <td>0.0926</td>\n",
       "      <td>0.0000</td>\n",
       "    </tr>\n",
       "    <tr>\n",
       "      <th>Curve</th>\n",
       "      <td>0.0847</td>\n",
       "      <td>0.0000</td>\n",
       "    </tr>\n",
       "    <tr>\n",
       "      <th>Night</th>\n",
       "      <td>0.0782</td>\n",
       "      <td>0.0000</td>\n",
       "    </tr>\n",
       "    <tr>\n",
       "      <th>Traffic light working normally</th>\n",
       "      <td>0.0671</td>\n",
       "      <td>0.0000</td>\n",
       "    </tr>\n",
       "    <tr>\n",
       "      <th>Street crossing</th>\n",
       "      <td>0.0659</td>\n",
       "      <td>0.0000</td>\n",
       "    </tr>\n",
       "    <tr>\n",
       "      <th>Two way street</th>\n",
       "      <td>0.0436</td>\n",
       "      <td>0.0003</td>\n",
       "    </tr>\n",
       "    <tr>\n",
       "      <th>Gender - Man</th>\n",
       "      <td>-0.0895</td>\n",
       "      <td>0.0000</td>\n",
       "    </tr>\n",
       "    <tr>\n",
       "      <th>Accident type - Run over</th>\n",
       "      <td>-0.3224</td>\n",
       "      <td>0.0000</td>\n",
       "    </tr>\n",
       "  </tbody>\n",
       "</table>\n",
       "</div>"
      ],
      "text/plain": [
       "                                Lasso coefficient  p_value\n",
       "Two wheels vehicles                        0.6434   0.0000\n",
       "Age                                        0.5494   0.0000\n",
       "Unsafe behavior                            0.2598   0.0000\n",
       "Accident type - Crash                      0.1995   0.0000\n",
       "Outside of the locality                    0.1068   0.0000\n",
       "End of the day                             0.0932   0.0005\n",
       "Wet street                                 0.0926   0.0000\n",
       "Curve                                      0.0847   0.0000\n",
       "Night                                      0.0782   0.0000\n",
       "Traffic light working normally             0.0671   0.0000\n",
       "Street crossing                            0.0659   0.0000\n",
       "Two way street                             0.0436   0.0003\n",
       "Gender - Man                              -0.0895   0.0000\n",
       "Accident type - Run over                  -0.3224   0.0000"
      ]
     },
     "execution_count": 47,
     "metadata": {},
     "output_type": "execute_result"
    }
   ],
   "source": [
    "model_coef = (\n",
    "    pd.DataFrame([results.params, results.pvalues], index = ['Lasso coefficient', 'p_value'], columns = X.columns)\n",
    "    .T\n",
    "    .query('`Lasso coefficient` != 0 and p_value < 0.05')\n",
    "    .sort_values(by = 'Lasso coefficient', ascending = False)\n",
    "    .round(4)\n",
    "    .rename(index = {'Veículos de duas rodas': 'Two wheels vehicles',\n",
    "                     'Idade': 'Age',\n",
    "                     'Inseguro': 'Unsafe behavior',\n",
    "                     'Despiste': 'Accident type - Crash',\n",
    "                     'Fora das localidades': 'Outside of the locality',\n",
    "                     'Aurora ou crepúsculo': 'End of the day',\n",
    "                     'Molhado': 'Wet street',\n",
    "                     'Curva': 'Curve',\n",
    "                     'Noite, com iluminação': 'Night',\n",
    "                     'A funcionar normalmente': 'Traffic light working normally',\n",
    "                     'Entrocamento/cruzamento': 'Street crossing',\n",
    "                     'Dois sentidos': 'Two way street',\n",
    "                     'Masculino': 'Gender - Man',\n",
    "                     'Atropelamento': 'Accident type - Run over'})\n",
    ")\n",
    "model_coef"
   ]
  },
  {
   "cell_type": "code",
   "execution_count": 73,
   "metadata": {},
   "outputs": [
    {
     "data": {
      "image/png": "[encoded data removed]",
      "text/plain": [
       "<Figure size 1440x432 with 1 Axes>"
      ]
     },
     "metadata": {},
     "output_type": "display_data"
    }
   ],
   "source": [
    "sns.set(font_scale=1.5)\n",
    "plt.figure(figsize = (20, 6))\n",
    "sns.barplot(data = model_coef, y = model_coef.index, x = 'Lasso coefficient', palette=\"Blues_d\")\n",
    "plt.show()"
   ]
  },
  {
   "cell_type": "markdown",
   "metadata": {},
   "source": [
    "Main points:\n",
    "* The indicator that has a greater impact on a driver/passenger wounding is if he is on a two wheels vehicle;\n",
    "* On the other hand the one that has the larger negative impact is if the driver hits a pedestrian;"
   ]
  }
 ],
 "metadata": {
  "kernelspec": {
   "display_name": "Python 3",
   "language": "python",
   "name": "python3"
  },
  "language_info": {
   "codemirror_mode": {
    "name": "ipython",
    "version": 3
   },
   "file_extension": ".py",
   "mimetype": "text/x-python",
   "name": "python",
   "nbconvert_exporter": "python",
   "pygments_lexer": "ipython3",
   "version": "3.8.6"
  }
 },
 "nbformat": 4,
 "nbformat_minor": 4
}
